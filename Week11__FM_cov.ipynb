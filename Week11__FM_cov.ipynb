{
  "cells": [
    {
      "cell_type": "markdown",
      "metadata": {
        "id": "view-in-github",
        "colab_type": "text"
      },
      "source": [
        "<a href=\"https://colab.research.google.com/github/zhong338/MFM-FM5222/blob/main/Week11__FM_cov.ipynb\" target=\"_parent\"><img src=\"https://colab.research.google.com/assets/colab-badge.svg\" alt=\"Open In Colab\"/></a>"
      ]
    },
    {
      "cell_type": "markdown",
      "id": "80124045",
      "metadata": {
        "id": "80124045"
      },
      "source": [
        "# FM 5222\n",
        "# Factor Models and Cross Correlation\n",
        "\n",
        "\n",
        "In this video, I will describe the general setup of a factor model and how it can be fitted using the kind of linear regressions we have already seen.  \n",
        "\n",
        "I will then construct an example to explain why a factor model has advantages in term of understanding the correlation matrix of a set of assets as opposed to attempting to directly estimate the coefficients.\n",
        "\n"
      ]
    },
    {
      "cell_type": "markdown",
      "id": "ecbefc58",
      "metadata": {
        "id": "ecbefc58"
      },
      "source": [
        "## Factor Models\n",
        "\n",
        "Recall that in general, a Factor model of log-returns can be written as\n",
        "\n",
        "$$R_{j,t} = \\beta_{0,j} + \\beta_{1,j}F_{1,t} + \\beta_{2,j}F_{2,t} + \\cdots + \\beta_{j,n}F_{p,t} + \\epsilon_{j,t}$$\n",
        "\n",
        "\n",
        "where there are $n$ assets indexed by $j$, $p$ factors and $n\\times (p+1)$ factor loadings $\\beta_{k,j}$\n",
        "\n",
        "We assume that the noises are uncorrelated (hopefully independent) both temporally \n",
        "\n",
        "$$\\mathrm{Cov}(\\epsilon_{j,t},\\epsilon_{j,s}) = 0, t \\neq s$$\n",
        "\n",
        "and cross-sectionally\n",
        "\n",
        "$$\\mathrm{Cov}(\\epsilon_{j,t},\\epsilon_{i,t}) = 0, j \\neq i$$\n",
        "\n",
        "\n",
        "Furthermore, it is assumed that the factors are uncorrelated to the noise terms:\n",
        "\n",
        "\n",
        "$$\\mathrm{Cov}(F_{k,t}, \\epsilon_{j,s}) = 0, \\forall (k,j,t,s)$$\n",
        "\n",
        "\n",
        "\n",
        "\n",
        "\n",
        "\n",
        "\n"
      ]
    },
    {
      "cell_type": "markdown",
      "id": "94c058a5",
      "metadata": {
        "id": "94c058a5"
      },
      "source": [
        "### Matrix Formulation\n",
        "\n",
        "Let's formulate this using matrices.\n",
        "\n",
        "We let $F$ be the $p\\times N$ matrix of observations of the factors.   We can then construct the data matrix\n",
        "\n",
        "$$X = \\begin{bmatrix}\\mathbf{1}_c & F^T \\\\ \\end{bmatrix}$$\n",
        "\n",
        "where $\\mathbf{1}_c$ is an $N$ dimenstional column vector of of ones.\n",
        "\n",
        "Note that $X$ is $N \\times (p+1)$\n",
        "\n",
        "We let\n",
        "\n",
        "$$B_0 = [\\beta_{0,1}, \\beta_{0,2}, ..., \\beta_{0,n}]$$\n",
        "\n",
        "be the row vector representing the constanst term of each of the $n$ assets.\n",
        "\n",
        "And \n",
        "\n",
        "\n",
        "\n",
        "\n",
        "$$B = \\begin{bmatrix} \\mathbf{\\beta}_1^T & \\mathbf{\\beta}_2^T & \\cdots & \\mathbf{\\beta}_n^T \\\\ \\end{bmatrix}   $$\n",
        "\n",
        "where $\\mathbf{\\beta}_j^T$ is the column vector with elements $\\beta_{k,j}, k>0$\n",
        "\n",
        "Note that $B$ is $p \\times n$\n",
        "\n",
        "\n",
        "$R^T$ is the $N \\times n$ matrix whose $j^{th}$ column correspond to the observed returns of asset $j$.\n",
        "\n",
        "\n",
        "$E$ is the matrix valuess White Noise Random Variable where the $j^{th}$ column  associated with asset $j$ and each column is IID and uncorrelated with the other columns.   $E$ will be $N \\times n$\n",
        "\n",
        "\n",
        "\n",
        "\n"
      ]
    },
    {
      "cell_type": "markdown",
      "id": "21e204c1",
      "metadata": {
        "id": "21e204c1"
      },
      "source": [
        "Given the data, we can then write our model as\n",
        "\n",
        "\n",
        "$$X \\begin{bmatrix}B_0 \\\\ B\\\\ \\end{bmatrix} = R^T + E$$\n",
        "\n",
        "\n",
        "\n",
        "Fitting this is no different than the case where $p = 1$, we use the pseudo-inverse:\n",
        "\n",
        "$$\\begin{bmatrix}\\hat{B}_0 \\\\ \\hat{B}\\\\ \\end{bmatrix} = (X^TX)^{-1}X^T R^T$$\n",
        "\n",
        "\n",
        "In addtion to estimating the factor loadings, we will want to estimate\n",
        "\n",
        "1. The expected returns of the factors.  Call these $\\mu_1, \\mu_2 , ..., \\mu_p$  (sometimes we don't care about this)\n",
        "\n",
        "2. The $p\\times p$ covariance matrix of the factors $\\Sigma_F$\n",
        "\n",
        "3. The $n \\times n$ covariance matrix of the White noise $\\Sigma_{\\epsilon}$.  Note that $\\Sigma_{\\epsilon}$ is diagonal with elements $\\sigma^2_{j}$ corresponding to the $j^{th}$  asset.\n",
        "\n",
        "\n",
        "\n",
        "This means that the model will require to to estimate\n",
        "\n",
        "\n",
        "$$n + np + p + \\frac{p(p+1)}{2} + n = n(p+2) +p + \\frac{p(p+1)}{2}$$\n",
        "\n",
        "parameters.\n",
        "\n",
        "Note however that if we are tracking $n$ assets, then we will have \n",
        "\n",
        "$n \\times N$ data points, which should be suitable for $N >>p$\n",
        "\n",
        "\n"
      ]
    },
    {
      "cell_type": "markdown",
      "id": "3b2149bd",
      "metadata": {
        "id": "3b2149bd"
      },
      "source": [
        "### Estimating the Covariance of the Assets\n",
        "\n",
        "If we are interested in the cross-corrrelations the Assets, we are equivalently interested in the Covariance matrix of the asset returns.  \n",
        "\n",
        "Under the model, covariance matrix of the assets returns will be given by\n",
        "\n",
        "$$\\mathrm{Cov}(R) = B^T \\Sigma_{F} B + \\Sigma_{\\epsilon}$$\n",
        "\n",
        "\n",
        "\n",
        "So we now have two ways we could attempt to estimate  $\\mathrm{Cov}(R)$\n",
        "\n",
        "\n",
        "1. Directly estimate the $\\frac{n(n+1)}{2}$ elements of the matrix from the data via the sample covariance matrix.\n",
        "\n",
        "2. Fit the model and use the above equation.\n",
        "\n",
        "\n",
        "In the first case, we are estimating $\\frac{n(n+1)}{2}$ parameters with $N$ data points.\n",
        "\n",
        "In the second, we need $B, \\Sigma_{F}$, and $\\Sigma_{\\epsilon}$.  This means $np +\\frac{p(p+1)}{2} + n$ parameters.\n",
        "\n",
        "\n",
        "When using factor models, it not uncommon to have $100$ or more assets.  So let's suppose we had $p = 5$ factors and $n$ assets and compare how many parameters we need to estimate for $\\mathrm{Cov}(R)$ as a function of $n$."
      ]
    },
    {
      "cell_type": "code",
      "execution_count": null,
      "id": "2ec68e95",
      "metadata": {
        "id": "2ec68e95"
      },
      "outputs": [],
      "source": [
        "import numpy as np\n",
        "import matplotlib.pyplot as plt"
      ]
    },
    {
      "cell_type": "code",
      "execution_count": null,
      "id": "bf0fd35e",
      "metadata": {
        "colab": {
          "base_uri": "https://localhost:8080/",
          "height": 621
        },
        "id": "bf0fd35e",
        "outputId": "5536e9d8-3db1-4422-d4c1-5db51c53bf2b"
      },
      "outputs": [
        {
          "output_type": "display_data",
          "data": {
            "text/plain": [
              "<Figure size 1080x720 with 1 Axes>"
            ],
            "image/png": "[encoded data removed]"
          },
          "metadata": {
            "needs_background": "light"
          }
        }
      ],
      "source": [
        "p = 5\n",
        "\n",
        "direct = lambda n: n*(n+1)/2\n",
        "\n",
        "model = lambda n: n*p  +p*(p+1)/2 + n\n",
        "\n",
        "\n",
        "n  = np.arange(1,100)\n",
        "\n",
        "\n",
        "plt.figure(figsize = (15,10))\n",
        "\n",
        "plt.plot(n, direct(n), label= \"Covariance Parameters\")\n",
        "\n",
        "plt.plot(n, model(n), label = \"Model Parameters\")\n",
        "\n",
        "plt.legend()\n",
        "\n",
        "plt.ylabel(\"Number of Parameters to estimate\")\n",
        "\n",
        "plt.xlabel(\"Number of assets\")\n",
        "\n",
        "plt.title(\"Number of parameters to estimate, model vs direct\")\n",
        "plt.show()"
      ]
    },
    {
      "cell_type": "markdown",
      "id": "374a633b",
      "metadata": {
        "id": "374a633b"
      },
      "source": [
        "Estimating thousands of parameters is quite difficult and usually comes with high levels of uncertainty. For this reason, the factor model can be helpful\n",
        "\n",
        "**Caveat**   If the model is a poor match to reality, you may only be fooling yourself."
      ]
    },
    {
      "cell_type": "markdown",
      "id": "87ae5275",
      "metadata": {
        "id": "87ae5275"
      },
      "source": [
        "## Example\n",
        "\n",
        "To illustrate this further, we will create data for model with $p =3$ factors and $n = 100$ asssets.   We will then estimate parameters both ways.  We will repeat $200$ times to indicate how well each approach appear to work. \n",
        "\n",
        "\n",
        "To simplify things, we will set our model with $B_0 = \\mathbf{0}$\n",
        "\n",
        "\n",
        "First we set up the \"true parameters\".\n",
        "\n",
        "We will set \n",
        "\n",
        "\n",
        "$[\\mu_1, \\mu_2, \\mu_3]  = [0,0,0]$\n",
        "\n",
        "\n",
        "$\\Sigma_{F} = \\frac{1}{252}\\begin{pmatrix}.3^2 &0 & 0\\\\0 &.2^2 &0 \\\\0 &0 & .1^2\\\\ \\end{pmatrix} $ \n",
        "\n",
        "$\\Sigma_{\\epsilon} = .0001 I_{100}$\n",
        "\n",
        "\n",
        "We will create the rows of B by drawing from the uniform distibution.\n",
        "\n",
        "\n",
        "\n"
      ]
    },
    {
      "cell_type": "code",
      "execution_count": null,
      "id": "b373e388",
      "metadata": {
        "id": "b373e388"
      },
      "outputs": [],
      "source": [
        "p = 3\n",
        "n= 100\n",
        "\n",
        "N = 1000\n",
        "\n",
        "\n",
        "np.random.seed(765)\n",
        "\n",
        "B = np.random.uniform(size = [3,n])\n",
        "\n",
        "sigmaF = 1/252*np.array([[.09,0,0],[0,.04,0], [0,0,.01]])\n",
        "\n",
        "\n",
        "sigmaE = np.diag(.0002* np.ones(100))\n",
        "                   \n",
        "\n"
      ]
    },
    {
      "cell_type": "markdown",
      "id": "06822a82",
      "metadata": {
        "id": "06822a82"
      },
      "source": [
        "According to the model,\n",
        "\n",
        "$$\\mathrm{Cov}(R) = B^T \\Sigma_{F} B + \\Sigma_{\\epsilon}$$"
      ]
    },
    {
      "cell_type": "code",
      "execution_count": null,
      "id": "3eb200fe",
      "metadata": {
        "id": "3eb200fe"
      },
      "outputs": [],
      "source": [
        "covR = B.T@sigmaF@B + sigmaE\n",
        "\n"
      ]
    },
    {
      "cell_type": "code",
      "execution_count": null,
      "id": "b9ef281c",
      "metadata": {
        "id": "b9ef281c"
      },
      "outputs": [],
      "source": [
        "## Generating returns\n",
        "\n",
        "Freturns = np.random.multivariate_normal(np.zeros(3), sigmaF, size = N)\n",
        "\n",
        "WN =np.random.multivariate_normal(np.zeros(n), sigmaE, size = N)"
      ]
    },
    {
      "cell_type": "code",
      "execution_count": null,
      "id": "e4572721",
      "metadata": {
        "id": "e4572721"
      },
      "outputs": [],
      "source": [
        "Rmatrix = Freturns@B + WN"
      ]
    },
    {
      "cell_type": "code",
      "source": [
        "Rmatrix.shape"
      ],
      "metadata": {
        "colab": {
          "base_uri": "https://localhost:8080/"
        },
        "id": "6HQb7KE5eTp2",
        "outputId": "7aa2bace-5e4b-43d0-a730-fc342474007b"
      },
      "id": "6HQb7KE5eTp2",
      "execution_count": null,
      "outputs": [
        {
          "output_type": "execute_result",
          "data": {
            "text/plain": [
              "(1000, 100)"
            ]
          },
          "metadata": {},
          "execution_count": 7
        }
      ]
    },
    {
      "cell_type": "markdown",
      "id": "a1370b17",
      "metadata": {
        "id": "a1370b17"
      },
      "source": [
        "First we attempt to estimate covR directly from the data."
      ]
    },
    {
      "cell_type": "code",
      "execution_count": null,
      "id": "67745d75",
      "metadata": {
        "id": "67745d75"
      },
      "outputs": [],
      "source": [
        "hat_covR_1 = np.cov(Rmatrix.T)"
      ]
    },
    {
      "cell_type": "markdown",
      "id": "7e1670b1",
      "metadata": {
        "id": "7e1670b1"
      },
      "source": [
        "Next, we estimate the model and estimate the covariance from that. "
      ]
    },
    {
      "cell_type": "code",
      "execution_count": null,
      "id": "18b4dd59",
      "metadata": {
        "id": "18b4dd59"
      },
      "outputs": [],
      "source": [
        "hatB = np.linalg.pinv(Freturns)@Rmatrix\n",
        "\n",
        "\n",
        "hatsigmaF = np.cov(Freturns.T)\n",
        "\n",
        "residuals = Rmatrix - Freturns@hatB\n",
        "\n",
        "hatsigmaE = np.diag(np.var(residuals, axis =0))\n",
        "\n",
        "\n"
      ]
    },
    {
      "cell_type": "code",
      "execution_count": null,
      "id": "abff32f7",
      "metadata": {
        "id": "abff32f7"
      },
      "outputs": [],
      "source": [
        "hat_covR_2 = hatB.T@hatsigmaF@hatB + hatsigmaE\n",
        "\n"
      ]
    },
    {
      "cell_type": "markdown",
      "id": "368c1b4e",
      "metadata": {
        "id": "368c1b4e"
      },
      "source": [
        "We will compare the accuracy by take just taking the RMSE error of the entries of the matrices."
      ]
    },
    {
      "cell_type": "code",
      "execution_count": null,
      "id": "3a70b92f",
      "metadata": {
        "colab": {
          "base_uri": "https://localhost:8080/"
        },
        "id": "3a70b92f",
        "outputId": "49aff7a3-4a56-4c12-c4db-3e684337069f"
      },
      "outputs": [
        {
          "output_type": "execute_result",
          "data": {
            "text/plain": [
              "1.1277846810270133"
            ]
          },
          "metadata": {},
          "execution_count": 11
        }
      ],
      "source": [
        "RMSE1 = np.sqrt(np.mean((covR - hat_covR_1)**2))\n",
        "\n",
        "RMSE2 =  np.sqrt(np.mean((covR - hat_covR_2)**2))\n",
        "RMSE1/RMSE2"
      ]
    },
    {
      "cell_type": "markdown",
      "id": "6bfb5841",
      "metadata": {
        "id": "6bfb5841"
      },
      "source": [
        "Now we do this over and over again to see what happens tpyically."
      ]
    },
    {
      "cell_type": "code",
      "execution_count": null,
      "id": "47ebdf8b",
      "metadata": {
        "colab": {
          "base_uri": "https://localhost:8080/",
          "height": 607
        },
        "id": "47ebdf8b",
        "outputId": "60ea9b8e-f6d3-4b51-c474-8e1d56c5b4be"
      },
      "outputs": [
        {
          "output_type": "display_data",
          "data": {
            "text/plain": [
              "<Figure size 1080x720 with 1 Axes>"
            ],
            "image/png": "[encoded data removed]"
          },
          "metadata": {
            "needs_background": "light"
          }
        }
      ],
      "source": [
        "M  = 200\n",
        "\n",
        "rmse_ratio = np.ones(M)\n",
        "\n",
        "for k in range(M):\n",
        "    \n",
        "    Freturns = np.random.multivariate_normal(np.zeros(3), sigmaF, size = N)\n",
        "\n",
        "    WN =np.random.multivariate_normal(np.zeros(n), sigmaE, size = N)\n",
        "    Rmatrix = Freturns@B + WN\n",
        "    \n",
        "    hat_covR_1 = np.cov(Rmatrix.T)\n",
        "    hatB = np.linalg.pinv(Freturns)@Rmatrix\n",
        "\n",
        "\n",
        "    hatsigmaF = np.cov(Freturns.T)\n",
        "\n",
        "    residuals = Rmatrix - Freturns@hatB\n",
        "\n",
        "    hatsigmaE = np.diag(np.var(residuals, axis =0))\n",
        "    \n",
        "    hat_covR_2 = hatB.T@hatsigmaF@hatB + hatsigmaE\n",
        "    \n",
        "    RMSE1 = np.sqrt(np.mean((covR - hat_covR_1)**2))\n",
        "\n",
        "    RMSE2 =  np.sqrt(np.mean((covR - hat_covR_2)**2))\n",
        "    rmse_ratio[k] = RMSE1/RMSE2\n",
        "    \n",
        "  \n",
        "\n",
        "\n",
        "plt.figure(figsize = (15,10))\n",
        "plt.hist(rmse_ratio, bins = 50, alpha = .5, edgecolor=\"black\")    \n",
        "\n",
        "\n",
        "plt.title(\"RMSE ratio of direct/model estimes of covariance matrix\")\n",
        "\n",
        "plt.show()\n",
        "    \n",
        "    \n",
        "    \n",
        "    \n",
        "    \n",
        "    "
      ]
    },
    {
      "cell_type": "code",
      "execution_count": null,
      "id": "6b42fe47",
      "metadata": {
        "id": "6b42fe47"
      },
      "outputs": [],
      "source": [
        ""
      ]
    }
  ],
  "metadata": {
    "kernelspec": {
      "display_name": "Python 3 (ipykernel)",
      "language": "python",
      "name": "python3"
    },
    "language_info": {
      "codemirror_mode": {
        "name": "ipython",
        "version": 3
      },
      "file_extension": ".py",
      "mimetype": "text/x-python",
      "name": "python",
      "nbconvert_exporter": "python",
      "pygments_lexer": "ipython3",
      "version": "3.9.7"
    },
    "colab": {
      "name": "Week11_ FM_cov.ipynb",
      "provenance": [],
      "include_colab_link": true
    }
  },
  "nbformat": 4,
  "nbformat_minor": 5
}