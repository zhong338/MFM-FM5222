{
  "nbformat": 4,
  "nbformat_minor": 0,
  "metadata": {
    "colab": {
      "name": "Bayesintro.ipynb",
      "provenance": [],
      "include_colab_link": true
    },
    "kernelspec": {
      "name": "python3",
      "display_name": "Python 3"
    },
    "language_info": {
      "name": "python"
    }
  },
  "cells": [
    {
      "cell_type": "markdown",
      "metadata": {
        "id": "view-in-github",
        "colab_type": "text"
      },
      "source": [
        "<a href=\"https://colab.research.google.com/github/zhong338/MFM-FM5222/blob/main/Week12_BayesIntro.ipynb\" target=\"_parent\"><img src=\"https://colab.research.google.com/assets/colab-badge.svg\" alt=\"Open In Colab\"/></a>"
      ]
    },
    {
      "cell_type": "code",
      "execution_count": null,
      "metadata": {
        "id": "2fY8TDh7w2_S"
      },
      "outputs": [],
      "source": [
        ""
      ]
    },
    {
      "cell_type": "markdown",
      "source": [
        "# Introduction of Bayesian Posteriors\n",
        "\n",
        "\n",
        "Agenda\n",
        " \n",
        "\n",
        "* Bayes' Theorem\n",
        "* Posterior Distribution\n",
        "* Coin Flipping Example\n",
        "\n"
      ],
      "metadata": {
        "id": "KMHCku66w4Qx"
      }
    },
    {
      "cell_type": "markdown",
      "source": [
        "## Bayes' Theorem\n",
        "\n",
        "You may already be familiar with this theorem, most commonly written as\n",
        "\n",
        "$$\\mathrm{Pr}(A|B) = \\frac{\\mathrm{Pr}(A \\cap B)}{\\mathrm{Pr}(B)}\\\\\n",
        "=\\frac{\\mathrm{Pr}(B|A)\\cdot\\mathrm{Pr}(A)}{\\mathrm{Pr}(B|A)\\cdot\\mathrm{Pr}(A)+ \\mathrm{Pr}(B|A')\\cdot\\mathrm{Pr}(A')}$$\n",
        "\n",
        "\n",
        "It is important for many reasons, not the least of which is that it helps us understand probabilities that may not be intuitive to us as first glance.\n",
        "\n",
        "#### Example\n",
        "\n",
        "Suppose that a certain medical test is $99\\%$ sensitive (meaning that if the condition exists, it will return positive with $p =.99$ probability) and $95\\%$ specifity (meaning that if the condition does not exist, the tet will be negative with $p = .95$ probability).\n",
        "\n",
        "Suppose the condition affects 2 in one thousand people ($p = .002$).  \n",
        "\n",
        "1. If a person is tested at random and test positive, what is the probability that they have the condition?\n",
        "\n",
        "2. If the person tests negative, what is the probability they do not have the disease?\n",
        "\n",
        "\n",
        "**Solution**\n",
        "\n",
        "We let \n",
        "\n",
        "$A = \\text{Person has the disease}$ \n",
        "\n",
        "and \n",
        "\n",
        "$B = \\text{The person tests positive}$\n",
        "\n",
        "For 1, we want to know $\\mathrm{Pr}(A|B)$\n",
        "\n",
        "By Bayes' Theorem, \n",
        "\n",
        "\n",
        "\n",
        "$$\\mathrm{Pr}(A|B) =\\frac{\\mathrm{Pr}(B|A)\\cdot\\mathrm{Pr}(A)}{\\mathrm{Pr}(B|A)\\cdot\\mathrm{Pr}(A)+ \\mathrm{Pr}(B|A')\\cdot\\mathrm{Pr}(A')}\\\\\n",
        "=\\frac{.99\\cdot .002}{.99\\cdot .002 + .05\\cdot .998}\\\\\n",
        "=0.038$$\n",
        "\n",
        "or about $4\\%$. (Chances are, it's a false positive).\n",
        "\n",
        "\n",
        "\n",
        "2. We want \n",
        "\n",
        "$$\\mathrm{Pr}(A'|B') =\\frac{\\mathrm{Pr}(B'|A')\\cdot\\mathrm{Pr}(A')}{\\mathrm{Pr}(B'|A')\\cdot\\mathrm{Pr}(A')+ \\mathrm{Pr}(B'|A)\\cdot\\mathrm{Pr}(A)}\\\\\n",
        "=\\frac{.95\\cdot .998}{.95\\cdot .998 + .01\\cdot .002}\\\\\n",
        "=0.99998$$\n",
        "\n",
        "Or, the probability that they have the disease is now about $1$ in $47406$\n",
        "\n"
      ],
      "metadata": {
        "id": "Dndb4XUfxR46"
      }
    },
    {
      "cell_type": "markdown",
      "source": [
        "## Posterior Distributions\n",
        "\n",
        "We can also use Bayes' theorem to adjust our understanding of the parameters of a give distribution.  Suppose that we can observe a Random Variable $X$ with a distribution $f_X(x;\\theta)$ where $\\theta$ is an unkown parameter.  \n",
        "\n",
        "Although we don't know $\\theta$, we might have some prior information on what numbers are likely, we can quantify this with a \"prior\" PDF for $\\theta$ given by $g_{\\Theta}(\\theta)$\n",
        "\n",
        "Having obsrved a single instance of $X$, call it $x$, we can calculate liklihood function $L(\\theta|x)$ via Bayes' theorem.\n",
        "\n",
        "$$L(\\theta|x) = \\frac{f_X(x|\\theta)g_{\\Theta}(\\theta)} {f_X(x)}$$\n",
        "\n",
        "where the denominator $f_X(x)$ is the unconditional (or marginal) distribution for $X$.  It can be calculated via integration:\n",
        "\n",
        " $$f_X(x) = \\int f_X(x|\\theta) g_{\\Theta}(\\theta) d\\theta $$\n",
        "\n",
        "\n",
        "\n",
        " Typically, we don't have just one observation $X$, but many, call them $\\{x_i\\} = (x_1,x_2, ...,x_n)$.  The above expression changes accordingly:\n",
        "\n",
        "\n",
        "$$L(\\theta|\\{x_i\\}) = \\frac{f(x_1|\\theta)f(x_2|\\theta)\\cdots f(x_n|\\theta)g_{\\Theta}(\\theta)} {f_X(\\{x_i\\})}$$\n",
        "\n",
        "where\n",
        "\n",
        "\n",
        "$$f_X(\\{x_i\\}) = \\int f(x_1|\\theta)f(x_2|\\theta)\\cdots f(x_n|\\theta)g_{\\Theta}(\\theta) d\\theta$$\n",
        "\n",
        "\n",
        "Note that there is an \"f\" for every observation, but only one $g$.\n",
        "\n",
        "\n"
      ],
      "metadata": {
        "id": "PiFp4b0b5Fvc"
      }
    },
    {
      "cell_type": "markdown",
      "source": [
        "### Comments\n",
        "\n",
        "* The liklihood $L(\\theta|x)$ is *posterior* distribution of $\\theta$, which can denote  $g_{\\Theta}(\\theta|\\{x_i\\})$\n",
        "\n",
        "* The numerator does not depend on $\\theta$, so it's really just a constant that ensures that the posteior distibution integrates to $1$.  That is, the numerator alone determines the posterior."
      ],
      "metadata": {
        "id": "oen64FiK-Vrq"
      }
    },
    {
      "cell_type": "markdown",
      "source": [
        "## Coin Flipping Example\n",
        "\n",
        "In this example, we will assume that we have a coin that we can observe $n$ times (flip n times).  But we do not know the parameter $\\theta$ that determines the probability of heads.   Now, let's suppose we have no idea at all what $\\theta$ could be, but that it is between $0$ and $1$ (obviously).\n",
        "\n",
        "For this reason, we place the prior distribution as the uniform distribution.\n",
        "\n",
        "$$g_{\\Theta}(\\theta) = 1, 0\\leq \\theta \\leq 1$$\n",
        "\n",
        "\n",
        "### One Flip\n",
        "Now, let's say we observe a single toss and it is heads?  How can we update our PDF for $\\theta$?\n",
        "\n",
        "Using the above:\n",
        "\n",
        "\n",
        "$$g_{\\Theta}(\\theta|x=H) = L(\\theta|x) = \\frac{f_X(x|\\theta)g_{\\Theta}(\\theta)} {f_X(x)}$$\n",
        "\n",
        "In this instance, $f_X(x|\\theta)$ is actually a probility mass function because it is a discrete distribution, but that doesn't change things.\n",
        "\n",
        "$$f_X(x=H|\\theta) = \\theta$$\n",
        "\n",
        "\n",
        "and $$f_X(x=H)  = \\int_0^1f_X(x=H|\\theta)g_{\\Theta}(\\theta) d\\theta\\\\\n",
        "=\\int_0^1\\theta \\cdot 1 d\\theta\\\\\n",
        "=\\frac{1}{2}$$\n",
        "\n",
        "\n",
        "Hence,\n",
        "\n",
        "$$g_{\\Theta}(\\theta|x=H) = \\frac{\\theta}{\\frac{1}{2}} = 2\\theta$$\n",
        "\n",
        "\n",
        "Let's make a quick plot at what this looks like\n",
        "\n",
        "\n",
        "\n",
        "\n"
      ],
      "metadata": {
        "id": "I_OXGccFAN9b"
      }
    },
    {
      "cell_type": "code",
      "source": [
        "import numpy as np\n",
        "import matplotlib.pyplot as plt\n",
        "\n"
      ],
      "metadata": {
        "id": "zak1cbOTxRGV"
      },
      "execution_count": null,
      "outputs": []
    },
    {
      "cell_type": "code",
      "source": [
        "t = np.linspace(0,1)\n",
        "\n",
        "g = lambda t: np.ones(t.shape)\n",
        "\n",
        "g1 = lambda t: 2*t\n",
        "\n",
        "plt.figure(figsize = (15,10))\n",
        "\n",
        "plt.plot(t,g(t), label = \"Prior $g(\\\\theta)$\")\n",
        "\n",
        "plt.plot(t,g1(t), label = \"Posterior $g(\\\\theta|x =H)$\")\n",
        "\n",
        "plt.title(\"PDF for probability of heads given no information and given a single observed heads\")\n",
        "plt.legend()\n",
        "\n",
        "plt.show()"
      ],
      "metadata": {
        "id": "oiAHXpA52lkd",
        "colab": {
          "base_uri": "https://localhost:8080/",
          "height": 607
        },
        "outputId": "c52d7f8a-37da-4040-ecb6-b0a0c7c82a6c"
      },
      "execution_count": null,
      "outputs": [
        {
          "output_type": "display_data",
          "data": {
            "text/plain": [
              "<Figure size 1080x720 with 1 Axes>"
            ],
            "image/png": "[encoded data removed]"
          },
          "metadata": {
            "needs_background": "light"
          }
        }
      ]
    },
    {
      "cell_type": "markdown",
      "source": [
        "### Multiple Flips\n",
        "\n",
        "We don't really learn much from a single flip.  A more realistic example might be we observe $10$ flips and see $7$ heads.\n",
        "\n",
        "We can apply the same login however.  \n",
        "\n",
        "In this case, we are looking at the binomial distribution where $X$ is the number of observed heads on 10 tosses.\n",
        "\n",
        "\n",
        "\n",
        "$$f_X(x|\\theta) = C(10,x) \\theta^x (1-\\theta)^{10-x}$$\n",
        "\n",
        "and\n",
        "\n",
        "$$f_X(x) = \\int_0^1 f_X(x|\\theta) g_{\\Theta}(\\theta) d\\theta$$\n",
        "\n",
        "\n",
        "\n",
        "hence\n",
        "\n",
        "$$g_{\\Theta}(\\theta|x=7) = \\frac{C(10,7) \\theta^7(1-\\theta)^3}{\\int_0^1C(10,7) \\theta^7(1-\\theta)^3 d\\theta} $$\n",
        "\n",
        "\n",
        "Let's do the integration numerically and plot:\n",
        "\n",
        "\n",
        "\n"
      ],
      "metadata": {
        "id": "-Cv4EfDwgedk"
      }
    },
    {
      "cell_type": "code",
      "source": [
        "from scipy.integrate import quad\n",
        "from scipy.special import comb\n",
        "\n",
        "from scipy.stats import beta"
      ],
      "metadata": {
        "id": "SpEbH8NzgBh9"
      },
      "execution_count": null,
      "outputs": []
    },
    {
      "cell_type": "code",
      "source": [
        "t = np.linspace(0,1)\n",
        "\n",
        "g = lambda t: np.ones(t.shape)\n",
        "\n",
        "num = lambda t:  comb(10,7)*t**7*(1-t)**3\n",
        "\n",
        "den = quad(num, 0,1)[0] # note that the denominator is not a function of theta\n",
        "g2 = lambda t: num(t)/den\n",
        "\n",
        "plt.figure(figsize = (15,10))\n",
        "\n",
        "plt.plot(t,g(t), label = \"Prior $g(\\\\theta)$\")\n",
        "\n",
        "plt.plot(t,g2(t), label = \"Posterior $g(\\\\theta|x =7)$\")\n",
        "\n",
        "#plt.plot(t, beta.pdf(t,a=8, b = 4 ))\n",
        "\n",
        "plt.title(\"PDF for probability of heads given no information and given 7 out 100 observed heads\")\n",
        "plt.legend()\n",
        "\n",
        "plt.show()"
      ],
      "metadata": {
        "colab": {
          "base_uri": "https://localhost:8080/",
          "height": 607
        },
        "id": "6QXcJhYUjO3n",
        "outputId": "716cbe0d-d058-4823-e189-dbc729adf200"
      },
      "execution_count": null,
      "outputs": [
        {
          "output_type": "display_data",
          "data": {
            "text/plain": [
              "<Figure size 1080x720 with 1 Axes>"
            ],
            "image/png": "[encoded data removed]"
          },
          "metadata": {
            "needs_background": "light"
          }
        }
      ]
    },
    {
      "cell_type": "markdown",
      "source": [
        "If we were to point-estimate $\\theta$ based on this distribution, we might choose the mode (analogous to MLE) or the mean."
      ],
      "metadata": {
        "id": "zOZCX2VfkZJX"
      }
    },
    {
      "cell_type": "code",
      "source": [
        "#mode\n",
        "\n",
        "from scipy.optimize import fmin\n",
        "\n",
        "fmin(lambda t: -g2(t), .5)"
      ],
      "metadata": {
        "colab": {
          "base_uri": "https://localhost:8080/"
        },
        "id": "JXLR4Hbcj_GD",
        "outputId": "27fc265a-1e6c-4fe9-eafb-8052b4f812b7"
      },
      "execution_count": null,
      "outputs": [
        {
          "output_type": "stream",
          "name": "stdout",
          "text": [
            "Optimization terminated successfully.\n",
            "         Current function value: -2.935107\n",
            "         Iterations: 13\n",
            "         Function evaluations: 26\n"
          ]
        },
        {
          "output_type": "execute_result",
          "data": {
            "text/plain": [
              "array([0.7])"
            ]
          },
          "metadata": {},
          "execution_count": 5
        }
      ]
    },
    {
      "cell_type": "code",
      "source": [
        "#mean\n",
        "\n",
        "quad(lambda t: t*g2(t), 0,1)"
      ],
      "metadata": {
        "colab": {
          "base_uri": "https://localhost:8080/"
        },
        "id": "Mj0IxTqKljrA",
        "outputId": "e5508db0-41ec-4ea1-994b-5c92d19f2646"
      },
      "execution_count": null,
      "outputs": [
        {
          "output_type": "execute_result",
          "data": {
            "text/plain": [
              "(0.6666666666666665, 7.401486830834376e-15)"
            ]
          },
          "metadata": {},
          "execution_count": 6
        }
      ]
    },
    {
      "cell_type": "markdown",
      "source": [
        "## Beta Distribution\n",
        "\n",
        "It turns out that, if our prior was the uniform and we perform $N$ flips,  the posterior will will be of the form:\n",
        "\n",
        "$$g_{\\Theta}(\\theta |x) \\propto \\theta^x (1-\\theta)^{N-x}$$\n",
        "\n",
        "\n",
        "The constant that goes with this is determined by the fact that PDF's need too integrate to one.  There is family of distribution that correspondss to this.  The beta bistribution.\n",
        "\n",
        "For the beta distribution, the PDF is \n",
        "\n",
        "$$g_{\\Theta}(\\theta; \\alpha, \\beta) = \\frac{\\theta^{\\alpha -1} (1-\\theta)^{\\beta -1}}{B(\\alpha, \\beta)}$$\n",
        "\n",
        "where\n",
        "\n",
        "\n",
        "$$B(\\alpha, \\beta) = \\frac{\\Gamma(\\alpha)\\Gamma(\\beta)}{\\Gamma(\\alpha + \\beta)}$$\n",
        "\n",
        "But really you can think of the $B$ function as just the constant need to make things integrate to $1$.\n",
        "\n",
        "\n",
        "\n",
        "So the result here is that, in our coin flipping problem, if our initial prior is the uniform distribution, then the posterior will be a beta distribution with $\\alpha -1 = \\text{The number of heads}$ and $\\beta -1 =\\text{The number of tails}$\n",
        "\n",
        "\n",
        "### Something cool\n",
        "\n",
        "Suppose that one actually did this in two stages,  \n",
        "\n",
        "Stage 1:  Flip once and observe  single heads.  Obtaining the posterior $2\\theta$ as above.\n",
        "\n",
        "Stage 2: Flip $9$ more time and obtaining $6$ more heads. Using the posterior from stage 1 and the *new* prior, will the posterior also be the beta distribution?    \n",
        "\n",
        "The answer is **YES** (left as exercise).\n",
        "\n",
        "So one cool thing about the beta distribution with respect to the the binomial distribution is this:  If the prior is beta, so will the posterior (albeit with different parameters).   \n",
        "\n",
        "This type of prior is called a \"conjugate prior\".\n"
      ],
      "metadata": {
        "id": "K-sZRHYFpwKn"
      }
    },
    {
      "cell_type": "code",
      "source": [
        ""
      ],
      "metadata": {
        "id": "s1B0aVgolxuM"
      },
      "execution_count": null,
      "outputs": []
    }
  ]
}