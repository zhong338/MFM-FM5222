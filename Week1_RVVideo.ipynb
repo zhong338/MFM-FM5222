{
  "cells": [
    {
      "cell_type": "markdown",
      "metadata": {
        "id": "view-in-github",
        "colab_type": "text"
      },
      "source": [
        "<a href=\"https://colab.research.google.com/github/zhong338/MFM-FM5222/blob/main/Week1_RVVideo.ipynb\" target=\"_parent\"><img src=\"https://colab.research.google.com/assets/colab-badge.svg\" alt=\"Open In Colab\"/></a>"
      ]
    },
    {
      "cell_type": "markdown",
      "id": "10bced35",
      "metadata": {
        "id": "10bced35"
      },
      "source": [
        "# FM 5222\n",
        "\n",
        "# Random Variables Video Lecture\n",
        "\n",
        "\n",
        "## Random Variables and Distributions\n",
        "\n",
        "\n",
        "We say that $X$ is a random variable if it takes on a value depending on random event.  When $X$ is real valued, we can define the Cumulative Distribution Function (CDF) as follows:\n",
        "\n",
        "$$F_X(x) = \\mathrm{Pr}(X\\leq x)$$\n",
        "\n",
        "\n",
        "When $F_X(x)$ is differentiable, we can define the Probability Denisty Function (PDF) via\n",
        "\n",
        "$$f_X(x) = \\frac{dF_X(x)}{dx}$$\n",
        "\n",
        "\n",
        "Note that sometimes people refer to PDF as meaning \"Probability Distribution Function\". \n",
        "\n",
        "\n",
        "\n",
        "These kinds of distributions are called continuous distributions.\n",
        "\n",
        "\n",
        "\n",
        "\n",
        "Some things that are true:\n",
        "\n",
        "\n",
        "$F_X(x)$ is monotonically non-decreasing.\n",
        "\n",
        "If the range of values that $X$ is $[a,b]$ where possibly $b = \\infty$, then\n",
        "\n",
        "$F(b) = 1$   ( in the case that $b = \\infty$, we mean that $\\lim_{x \\to \\infty} F(x) = 1$)\n",
        "\n",
        "\n",
        "$f_X(x) \\geq 0, \\forall x$  Densities are always non-negative.\n",
        "\n",
        "\n",
        "By FTC, \n",
        "\n",
        "$F_X(x) = \\int_a^x f_X(s) ds$ \n",
        "\n",
        "And therefore \n",
        "\n",
        "\n",
        "$\\int_a^b f(x) dx  = 1$\n",
        "\n",
        "\n",
        "\n",
        "## Some Common Metrics\n",
        "\n",
        "Given a continuous distribution, there are some important metrics we can (usually) calculate.\n",
        "\n",
        "### Measures of Centrality\n",
        "\n",
        "\n",
        "**The mean**\n",
        "\n",
        "$\\mu_X = \\mathrm{E}[X] = \\int_a^b xf(x) dx$\n",
        "\n",
        "\n",
        "\n",
        "**The median**\n",
        "\n",
        "\n",
        "$median_X = X_{0.5} = F^{-1}_X(0.5)$\n",
        "\n",
        "\n",
        "**The mode**\n",
        "\n",
        "$mode_X = \\mathrm{argmax}(f(x))$\n",
        "\n",
        "\n",
        "### Measures of Dispersion\n",
        "\n",
        "**Variance**\n",
        "\n",
        "$\\mathrm{Var}(X) = \\sigma^2_X = \\mathrm{E}[(X-\\mu_X)^2] = \\mathrm{E}[X^2] - \\mu_X^2 = M_2(X) - M_1(X)^2$\n",
        "\n",
        "\n",
        "Here we use the notation $M_n(X) = \\mathrm{E}[X^n]$ which is called the *nth moment*.\n",
        "\n",
        "\n",
        "**Standard Deviation**\n",
        "\n",
        "$sd_X = \\sqrt{\\mathrm{Var}(X)} = \\sigma_X$\n",
        "\n",
        "\n",
        "\n",
        "\n",
        "**Inter Quartile Range (IQR)**\n",
        "\n",
        "If we define $X_q = F_X^{-1}(q)$ then \n",
        "\n",
        "$IQR = X_{.75} - X_{.25}$\n",
        "\n",
        "\n",
        "\n",
        "**Median Absolute Deviation**\n",
        "\n",
        "$MAD = median_{|X - X_{0.5}|}$\n",
        "\n",
        "\n",
        "\n",
        "\n",
        "\n"
      ]
    },
    {
      "cell_type": "markdown",
      "id": "ded19a99",
      "metadata": {
        "id": "ded19a99"
      },
      "source": [
        "### Meaures of shape\n",
        "\n",
        "**Skew**\n",
        "\n",
        "\n",
        "$$\\mathrm{Skew}(X) = \\mathrm{E}\\left[\\left(\\frac{X-\\mu_X}{\\sigma_X}\\right)^3   \\right]$$\n",
        "\n",
        "\n",
        "This can be shown to be\n",
        "\n",
        "$$\\mathrm{Skew}(X) = \\frac{1}{\\sigma_X^3}\\left(M_3(X) - 3\\sigma_X^2\\mu_X - \\mu_X^3\\right)\\\\\n",
        "  $$\n",
        "\n",
        "\n",
        "Loosely speaking, positive skew means there are more values \"far\" to the right of the mean than the left.\n",
        "\n",
        "Negative skew means the opposite.\n",
        "\n",
        "\n",
        "**Kurtosis**\n",
        "\n",
        "\n",
        "\n",
        "$$\\mathrm{Kurt}(X) = \\mathrm{E}\\left[\\left(\\frac{X-\\mu_X}{\\sigma_X}\\right)^4   \\right]$$\n",
        "\n",
        "And this can be shown to be\n",
        "\n",
        "\n",
        "$$\\mathrm{Kurt}(X)= \\frac{1}{\\sigma_X^4}\\left( M_4(X) - 4M_3(X)\\mu + 6\\sigma_X^2\\mu_X^2 + 3\\mu_X^4\\right)$$\n",
        "\n",
        "\n",
        "\n",
        "The Normal Distribution has a Kurtosis of $3$.  This motivates the definition of Excess Kurtosis:\n",
        "\n",
        "\n",
        "\n",
        "$$\\mathrm{EKurt}(X) = \\mathrm{Kurt}(X)  -3$$\n",
        "\n",
        "\n",
        "If $\\mathrm{EKurt}(X) >0$ we say that the disribution is *leptokurtic*.\n",
        "\n",
        "If $\\mathrm{EKurt}(X) < 0$ we say that the disribution is *platykurtic*.\n",
        "\n",
        "\n",
        "Leptokurtic distributions are said to have fatter tails.\n",
        "\n",
        "\n"
      ]
    },
    {
      "cell_type": "markdown",
      "id": "f6f4c3a4",
      "metadata": {
        "id": "f6f4c3a4"
      },
      "source": [
        "##  Functions of Random Variables\n",
        "\n",
        "\n",
        "If $X$ is a random variable, and $g(x)$ is some function, then $Y = g(X)$ is also a random variable.\n",
        "\n",
        "Furthermore, \n",
        "\n",
        "$\\mathrm{E}[Y] = \\int_a^b g(x) f_X(x) dx$\n",
        "\n",
        "and we can calculate all the above measures for $Y$.\n",
        "\n",
        "\n",
        "\n"
      ]
    },
    {
      "cell_type": "markdown",
      "id": "a403e1e7",
      "metadata": {
        "id": "a403e1e7"
      },
      "source": [
        "#### Example\n",
        "\n",
        "Let $F_X(x) = \\sqrt{x}$ for $x \\in [0,1]$\n",
        "\n",
        "Find $f_X(x)$.  Plot both $f_X(x)$ and $F_X(x)$ then \n",
        "\n",
        "calculate the above measures of centrality and dispersion. \n",
        "\n",
        "**Solution**\n",
        "\n",
        "\n",
        "$f_X(x) = \\frac{d}{dx}  \\sqrt{x} = \\frac{1}{2}x^{-\\frac{1}{2}}$\n"
      ]
    },
    {
      "cell_type": "code",
      "execution_count": null,
      "id": "3a8aae1b",
      "metadata": {
        "id": "3a8aae1b"
      },
      "outputs": [],
      "source": [
        "import numpy as np\n",
        "import matplotlib.pyplot as plt\n",
        "\n"
      ]
    },
    {
      "cell_type": "code",
      "execution_count": null,
      "id": "80406554",
      "metadata": {
        "colab": {
          "base_uri": "https://localhost:8080/",
          "height": 592
        },
        "id": "80406554",
        "outputId": "b9e05fd6-064d-48e5-90e4-5b1745abcc55"
      },
      "outputs": [
        {
          "output_type": "display_data",
          "data": {
            "image/png": "[encoded data removed]",
            "text/plain": [
              "<Figure size 1080x720 with 1 Axes>"
            ]
          },
          "metadata": {
            "needs_background": "light"
          }
        }
      ],
      "source": [
        "x = np.linspace(0.01,1,100)\n",
        "\n",
        "F = lambda x: np.sqrt(x)\n",
        "\n",
        "f = lambda x: 0.5* x**(-.5)\n",
        "\n",
        "\n",
        "plt.figure(figsize = (15,10))\n",
        "\n",
        "plt.plot(x,F(x), label = \"CDF $F_X(x)$\")\n",
        "plt.plot(x,f(x), label = \"PDF $f_X(x)$\")\n",
        "\n",
        "\n",
        "plt.legend()\n",
        "\n",
        "plt.show()"
      ]
    },
    {
      "cell_type": "markdown",
      "id": "9598a815",
      "metadata": {
        "id": "9598a815"
      },
      "source": [
        "For the expected value, we first do it \"by hand\".\n",
        "\n",
        "$$\\mu_X = \\int_0^1 x f_X(x) dx = \\int_0^1 \\frac{1}{2} x^{\\frac{1}{2}} dx\\\\\n",
        "= \\frac{1}{3} x^{\\frac{3}{2}}\\Big{|}_0^1 = \\frac{1}{3}$$\n",
        "\n",
        "\n",
        "But we can also do this numerically:\n",
        "\n"
      ]
    },
    {
      "cell_type": "code",
      "execution_count": null,
      "id": "91b83762",
      "metadata": {
        "colab": {
          "base_uri": "https://localhost:8080/"
        },
        "id": "91b83762",
        "outputId": "31c437c3-0b90-4ddf-9392-c72599c95d02"
      },
      "outputs": [
        {
          "output_type": "stream",
          "name": "stdout",
          "text": [
            "0.3333333333333334\n"
          ]
        }
      ],
      "source": [
        "from scipy.integrate import quad\n",
        "\n",
        "mu = quad(lambda x: x*f(x), 0,1)[0]\n",
        "\n",
        "print(mu)"
      ]
    },
    {
      "cell_type": "markdown",
      "id": "5b8c08ea",
      "metadata": {
        "id": "5b8c08ea"
      },
      "source": [
        "For the median, we solve\n",
        "\n",
        "$\\frac{1}{2} = F_X(X_{0.5}) = \\sqrt{X_{0.5}}$\n",
        "\n",
        "$\\Rightarrow X_{0.5} = \\frac{1}{4}$\n",
        "\n",
        "\n",
        "For the mode, we observe that $f_X(x) \\to +\\infty$ as $x \\to 0^+$.  So the mode is $0$."
      ]
    },
    {
      "cell_type": "markdown",
      "id": "a4586d3f",
      "metadata": {
        "id": "a4586d3f"
      },
      "source": [
        "To compute variance, we first compute $M_2(X)$\n",
        "\n",
        "$$M_2(X) = \\int_0^1 x^2 \\frac{1}{2}x^{-\\frac{1}{2}}dx\\\\\n",
        "= \\frac{1}{5} x^{\\frac{5}{2}}\\Big{|}_0^1  = \\frac{1}{5}$$\n",
        "\n",
        "So we conclude that\n",
        "\n",
        "$$\\mathrm{Var}(X) = M_2(X) - \\mu_X^2 = \\frac{1}{5} - \\left(\\frac{1}{3}\\right)^2 = \\frac{4}{45}$$\n",
        "\n",
        "Again, we can do this numerically.\n"
      ]
    },
    {
      "cell_type": "code",
      "execution_count": null,
      "id": "ac063f52",
      "metadata": {
        "colab": {
          "base_uri": "https://localhost:8080/"
        },
        "id": "ac063f52",
        "outputId": "c6cc6ba8-e8c7-46d6-f1ee-d1c7cfed773b"
      },
      "outputs": [
        {
          "output_type": "stream",
          "name": "stdout",
          "text": [
            "0.08888888888105272\n"
          ]
        }
      ],
      "source": [
        "M2 = quad(lambda x: x**2*f(x), 0,1)[0]\n",
        "\n",
        "v = M2 - mu**2\n",
        "\n",
        "print(v)"
      ]
    },
    {
      "cell_type": "code",
      "source": [
        "v*45"
      ],
      "metadata": {
        "colab": {
          "base_uri": "https://localhost:8080/"
        },
        "id": "uVEpK5VuMz_2",
        "outputId": "cd4b2768-31b7-4a9a-e5c2-becdd63a24b6"
      },
      "id": "uVEpK5VuMz_2",
      "execution_count": null,
      "outputs": [
        {
          "output_type": "execute_result",
          "data": {
            "text/plain": [
              "3.9999999996473723"
            ]
          },
          "metadata": {},
          "execution_count": 5
        }
      ]
    },
    {
      "cell_type": "markdown",
      "id": "88825a5f",
      "metadata": {
        "id": "88825a5f"
      },
      "source": [
        "And of course, $\\sigma = \\sqrt{\\frac{4}{45}} = \\frac{2}{3\\sqrt{5}} = \\frac{2\\sqrt{5}}{15}$"
      ]
    },
    {
      "cell_type": "code",
      "execution_count": null,
      "id": "b23a446a",
      "metadata": {
        "colab": {
          "base_uri": "https://localhost:8080/"
        },
        "id": "b23a446a",
        "outputId": "80f05b32-0364-4b85-c6a7-8c6a8002105d"
      },
      "outputs": [
        {
          "output_type": "stream",
          "name": "stdout",
          "text": [
            "The Standard Deviation is  0.29814239699997197\n"
          ]
        }
      ],
      "source": [
        "print(\"The Standard Deviation is \", (2*np.sqrt(5)/15))"
      ]
    },
    {
      "cell_type": "markdown",
      "id": "fc7a839c",
      "metadata": {
        "id": "fc7a839c"
      },
      "source": [
        "For IQR,\n",
        "\n",
        "$IQR = F^{-1}_X(.75) -  F^{-1}_X(.25) = (\\frac{3}{4})^2 - (\\frac{1}{4})^2 = \\frac{1}{2}$"
      ]
    },
    {
      "cell_type": "markdown",
      "id": "8ca12b2f",
      "metadata": {
        "id": "8ca12b2f"
      },
      "source": [
        "For MAD, want the median value of $|X - \\frac{1}{4}|$.  We solve,\n",
        "\n",
        "$\\mathrm{Pr}\\left(|X - \\frac{1}{4}| \\leq MAD\\right) = \\frac{1}{2}$\n",
        "\n",
        "for MAD.\n",
        "\n",
        "$$\\frac{1}{2} = \\mathrm{Pr}\\left(|X - \\frac{1}{4}| \\leq MAD\\right)\\\\\n",
        "=\\mathrm{Pr}\\left(X - \\frac{1}{4} \\leq MAD \\land X - \\frac{1}{4} \\geq -MAD \\right)\\\\\n",
        "= F_X\\left(MAD + \\frac{1}{4}\\right)  - F_X\\left(-MAD + \\frac{1}{4}\\right)\\\\\n",
        "\\sqrt{\\frac{1}{4}+MAD} - \\sqrt{\\frac{1}{4}-MAD } $$\n",
        "\n",
        "\n",
        "We multiply both sides by 2 and square it.\n",
        "\n",
        "\n",
        "\n",
        "\n"
      ]
    },
    {
      "cell_type": "markdown",
      "id": "b66fbb7f",
      "metadata": {
        "id": "b66fbb7f"
      },
      "source": [
        "$$1  = 1 + 4 MAD  - 2\\sqrt{1-16 MAD^2 }   +1 - 4 MAD  $$\n",
        "\n",
        "OR\n",
        "\n",
        "$$2\\sqrt{1- 16 MAD^2  } = 1$$\n",
        "\n",
        "$\\Rightarrow$\n",
        "\n",
        "$$1- 16 MAD^2  = \\frac{1}{4}$$\n",
        "\n",
        "$$\\Rightarrow MAD^2 = \\frac{3}{64}$$\n",
        "\n",
        "$$\\Rightarrow MAD = \\frac{\\sqrt{3}}{8}\\\\\n",
        "\\approx 0.2165$$\n"
      ]
    },
    {
      "cell_type": "markdown",
      "id": "c27cbd04",
      "metadata": {
        "id": "c27cbd04"
      },
      "source": [
        "Of course, this was kind of tedious, and we can't always do things by paper and pencil (or correctly).  Good thing we have computers!\n",
        "\n",
        "Define $Y = |X - 0.25|$  ,\n",
        "\n",
        "Then $F_Y(y) = F_X(\\frac{1}{4}+y) - F_X(\\frac{1}{4} -y)$.\n",
        "\n",
        "We use fsolve to find out where this will have a value of 0.5.\n",
        "\n"
      ]
    },
    {
      "cell_type": "code",
      "execution_count": null,
      "id": "41302220",
      "metadata": {
        "colab": {
          "base_uri": "https://localhost:8080/"
        },
        "id": "41302220",
        "outputId": "cee1223f-2df2-4119-e56d-f3b8bd9f65ab"
      },
      "outputs": [
        {
          "output_type": "execute_result",
          "data": {
            "text/plain": [
              "array([0.21650635])"
            ]
          },
          "metadata": {},
          "execution_count": 7
        }
      ],
      "source": [
        "FY = lambda y: F(.25+ y) - F(.25 - y)\n",
        "\n",
        "from scipy.optimize import fsolve\n",
        "\n",
        "fsolve(lambda y: FY(y) - .5, .1)"
      ]
    },
    {
      "cell_type": "markdown",
      "id": "7cfbba7f",
      "metadata": {
        "id": "7cfbba7f"
      },
      "source": [
        "### Key Point\n",
        "\n",
        "1. We can descrive Continous Random Variabless via their PDF or CDF\n",
        "2. Certain common metrics that tell things about the distributions\n",
        "3. We should get comfortable numerical methods\n",
        "\n",
        "\n"
      ]
    },
    {
      "cell_type": "code",
      "source": [
        ""
      ],
      "metadata": {
        "id": "8UBJndYdJG7f"
      },
      "id": "8UBJndYdJG7f",
      "execution_count": null,
      "outputs": []
    }
  ],
  "metadata": {
    "kernelspec": {
      "display_name": "Python 3 (ipykernel)",
      "language": "python",
      "name": "python3"
    },
    "language_info": {
      "codemirror_mode": {
        "name": "ipython",
        "version": 3
      },
      "file_extension": ".py",
      "mimetype": "text/x-python",
      "name": "python",
      "nbconvert_exporter": "python",
      "pygments_lexer": "ipython3",
      "version": "3.9.7"
    },
    "colab": {
      "name": "RVVideo.ipynb",
      "provenance": [],
      "include_colab_link": true
    }
  },
  "nbformat": 4,
  "nbformat_minor": 5
}