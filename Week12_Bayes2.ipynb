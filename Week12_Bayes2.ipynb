{
  "cells": [
    {
      "cell_type": "markdown",
      "metadata": {
        "id": "view-in-github",
        "colab_type": "text"
      },
      "source": [
        "<a href=\"https://colab.research.google.com/github/zhong338/MFM-FM5222/blob/main/Week12_Bayes2.ipynb\" target=\"_parent\"><img src=\"https://colab.research.google.com/assets/colab-badge.svg\" alt=\"Open In Colab\"/></a>"
      ]
    },
    {
      "cell_type": "markdown",
      "id": "4ae276ad",
      "metadata": {
        "id": "4ae276ad"
      },
      "source": [
        "# Bayesian Posteriors II\n",
        "\n",
        "In the last video, we introduced the concept of Bayes' theorem, posterior distributions for unkown parameters, and applied to the case of the Binomial Distribution (coin flipping).\n",
        "\n",
        "Here we will continue the discussion with some examples.  Along the way, we will explain two methods for coomputing posterior distributions.\n",
        "\n",
        "1. Conjguate Priors\n",
        "2. Numerical integration"
      ]
    },
    {
      "cell_type": "markdown",
      "id": "e6c79b73",
      "metadata": {
        "id": "e6c79b73"
      },
      "source": [
        "### Example:  Normal Distribution with known variance and unkown mean.\n",
        "\n",
        "\n",
        "\n",
        "We suppose that $X \\sim \\mathcal{N}(\\mu, \\sigma^2)$ but we don't know $\\mu$. We do however have a prior distribution for $\\mu$. We Will take $\\mu \\sim \\mathcal{N}(\\eta, \\xi^2)$\n",
        "\n",
        "If $\\xi$ is large, we are saying we don't really know much about $\\mu$, whereas if $\\xi$ is small, we are claiming strong prior knowledge of $\\mu$.\n",
        "\n",
        "\n",
        "\n",
        "To simplify things, let's take $\\sigma = 1$ and $\\eta = 0$ (for this example).\n",
        "\n",
        "\n",
        "We observe $X$ $N$ times.  Then\n",
        "\n",
        "$$L(x_1,x_2,...,x_N|\\mu) = \\phi(x_1 - \\mu)\\cdot \\phi(x_2 - \\mu)\\cdots \\phi(x_N-\\mu)$$\n",
        "\n",
        "and \n",
        "\n",
        "$$g_{\\mu}(\\mu) =  \\frac{1}{\\xi}\\phi\\left(\\frac{\\mu}{\\xi}   \\right)$$\n",
        "\n",
        "where \n",
        "\n",
        "$\\phi(x) = \\frac{1}{\\sqrt{2\\pi}}e^{-\\frac{x^2}{2}}$\n",
        "\n",
        "\n",
        "Hence the posterior is \n",
        "\n",
        "$$g_{\\mu}(\\mu|(x_1,x_2,...,x_N))=\\frac{\\phi(x_1 - \\mu)\\cdot \\phi(x_2 - \\mu)\\cdots \\phi(x_N-\\mu)\\frac{1}{\\xi}\\phi\\left(\\frac{\\mu}{\\xi}   \\right)}{\\int_{-\\infty}^{\\infty}\\phi(x_1 - \\mu)\\cdot \\phi(x_2 - \\mu)\\cdots \\phi(x_N-\\mu)\\frac{1}{\\xi}\\phi\\left(\\frac{\\mu}{\\xi}   \\right)d\\mu} $$\n"
      ]
    },
    {
      "cell_type": "markdown",
      "id": "a6bafe06",
      "metadata": {
        "id": "a6bafe06"
      },
      "source": [
        "We focus on the numerator (recalling that the denominator just makes things integrate to $1$ as it is not a function of $\\mu$.\n",
        "\n",
        "\n",
        "$$\\phi(x_1 - \\mu)\\cdot \\phi(x_2 - \\mu)\\cdots \\phi(x_N-\\mu)\\frac{1}{\\xi}\\phi\\left(\\frac{\\mu}{\\xi}   \\right)\\\\\n",
        "=\\left(\\frac{1}{\\sqrt{2\\pi}} \\right)^Ne^{-\\frac{1}{2}\\sum_{k=1}^N (x_k- \\mu)^2}\\frac{1}{\\xi\\sqrt{2\\pi}}e^{-\\frac{\\mu^2}{2\\xi^2}}\\\\\n",
        "\\propto e^{  -\\frac{1}{2}\\sum_{k=1}^N (x_k- \\mu)^2 - \\frac{\\mu^2}{2\\xi^2}        }$$\n",
        "\n",
        "\n",
        "\n",
        "We focus on the exonent since that is the only place the variable $\\mu$ appears.  It is:\n",
        "\n",
        "$$-\\frac{1}{2}\\sum_{k=1}^N (x_k- \\mu)^2 - \\frac{\\mu^2}{2\\xi^2}\\\\\n",
        "-\\frac{1}{2}\\left( \\mu^2 \\left(N + \\frac{1}{\\xi^2} \\right)  - 2\\mu\\left(\\sum_{k=1}^N x_k  \\right) + \\mathrm{nonmustuff}        \\right)  $$\n",
        "\n",
        "\n",
        "We let $$\\frac{1}{\\tilde{\\xi}^2} =N + \\frac{1}{\\xi^2} $$  \n",
        "\n",
        "\n",
        "which mean that we can write he exponent as\n",
        "\n",
        "$$-\\frac{1}{2} \\frac{(\\mu - \\tilde{\\eta})^2}{\\tilde{\\xi}^2}+ \\mathrm{nonmustuff}$$\n",
        "\n",
        "where\n",
        "\n",
        "$$\\tilde{\\eta} = \\tilde{\\xi}^2 N \\bar{x}$$\n",
        "\n",
        "\n",
        "The basic result is therefore that the posterior is Gaussian with mean $\\tilde{\\eta}$ and Standard Deviation $\\tilde{\\xi}$\n",
        "\n",
        "\n",
        "That is to say, this is another example of conjugate prior, where the posterior is the same kind of distribution as the the priot, but with updated parameters. "
      ]
    },
    {
      "cell_type": "markdown",
      "id": "f0a89b76",
      "metadata": {
        "id": "f0a89b76"
      },
      "source": [
        "\n",
        "\n",
        "Historically, using conjugate priors was a key part of Bayesian analysis since it removed the need to evaluate difficult integrals. You just needed to know the rule for updating the parameters of the prior.\n",
        "\n",
        "However, if the prior is not a conjugate prior, it is still often feasable to perform numerical integration to obtain the poterior function.\n",
        "\n",
        "\n",
        "### Example\n",
        "\n",
        "\n",
        "We will use the Gaussian example above with $\\xi = 3$.  We will then generate 10 data points from the \"true\" distribution which has $\\mu = 2$. "
      ]
    },
    {
      "cell_type": "code",
      "execution_count": null,
      "id": "e61415fb",
      "metadata": {
        "id": "e61415fb"
      },
      "outputs": [],
      "source": [
        "import numpy as np\n",
        "import matplotlib.pyplot as plt\n",
        "import scipy.stats as ss\n",
        "from scipy.integrate import quad\n",
        "\n"
      ]
    },
    {
      "cell_type": "code",
      "execution_count": null,
      "id": "ffc36cb5",
      "metadata": {
        "id": "ffc36cb5"
      },
      "outputs": [],
      "source": [
        "mu_true = 2\n",
        "N = 10\n",
        "\n",
        "xi = 3\n",
        "\n",
        "\n",
        "data = ss.norm.rvs(loc = mu_true, size = N)\n",
        "\n",
        "g0 = lambda m: ss.norm.pdf(m, scale = xi)\n"
      ]
    },
    {
      "cell_type": "markdown",
      "id": "6d038f7c",
      "metadata": {
        "id": "6d038f7c"
      },
      "source": [
        "Before we do anything Bayesian, let's just take a look at what we do know.\n",
        "\n",
        "### The prior for $\\mu$"
      ]
    },
    {
      "cell_type": "code",
      "execution_count": null,
      "id": "f54aa67e",
      "metadata": {
        "colab": {
          "base_uri": "https://localhost:8080/",
          "height": 609
        },
        "id": "f54aa67e",
        "outputId": "d74b67d4-e548-4e98-ed9a-d2f37f8081a7"
      },
      "outputs": [
        {
          "output_type": "display_data",
          "data": {
            "text/plain": [
              "<Figure size 1080x720 with 1 Axes>"
            ],
            "image/png": "[encoded data removed]"
          },
          "metadata": {
            "needs_background": "light"
          }
        }
      ],
      "source": [
        "m = np.linspace(-10,10)\n",
        "plt.figure(figsize= (15,10))\n",
        "\n",
        "plt.plot(m, g0(m), label=\"$g(\\\\mu)$\")\n",
        "\n",
        "plt.vlines(x=2, ymin = 0, ymax = .12, color ='r', label =\"True Value of $\\\\mu$\")\n",
        "\n",
        "plt.legend()\n",
        "\n",
        "plt.title(\"Prior Distribution for $\\mu$\")\n",
        "\n",
        "plt.show()"
      ]
    },
    {
      "cell_type": "markdown",
      "id": "67057c3c",
      "metadata": {
        "id": "67057c3c"
      },
      "source": [
        "### Histogram of Data"
      ]
    },
    {
      "cell_type": "code",
      "execution_count": null,
      "id": "f8adbc6f",
      "metadata": {
        "colab": {
          "base_uri": "https://localhost:8080/",
          "height": 607
        },
        "id": "f8adbc6f",
        "outputId": "6953dce9-3c6b-4ffc-e461-c84f6d47054c"
      },
      "outputs": [
        {
          "output_type": "display_data",
          "data": {
            "text/plain": [
              "<Figure size 1080x720 with 1 Axes>"
            ],
            "image/png": "[encoded data removed]"
          },
          "metadata": {
            "needs_background": "light"
          }
        }
      ],
      "source": [
        "plt.figure(figsize= (15,10))\n",
        "\n",
        "plt.hist(data,  edgecolor = 'Black', alpha =.7)\n",
        "\n",
        "plt.title(\"Histogram of X data\")\n",
        "\n",
        "plt.show()"
      ]
    },
    {
      "cell_type": "markdown",
      "id": "d58b35fd",
      "metadata": {
        "id": "d58b35fd"
      },
      "source": [
        "Note also the sample mean. "
      ]
    },
    {
      "cell_type": "code",
      "execution_count": null,
      "id": "420555aa",
      "metadata": {
        "colab": {
          "base_uri": "https://localhost:8080/"
        },
        "id": "420555aa",
        "outputId": "bb4b89ae-55aa-457b-ed38-dae926ad96a1"
      },
      "outputs": [
        {
          "output_type": "execute_result",
          "data": {
            "text/plain": [
              "2.1217469321368423"
            ]
          },
          "metadata": {},
          "execution_count": 5
        }
      ],
      "source": [
        "data.mean()"
      ]
    },
    {
      "cell_type": "code",
      "execution_count": null,
      "id": "323bb92d",
      "metadata": {
        "id": "323bb92d"
      },
      "outputs": [],
      "source": [
        ""
      ]
    },
    {
      "cell_type": "markdown",
      "id": "60e9cf6f",
      "metadata": {
        "id": "60e9cf6f"
      },
      "source": [
        "Now let's calculate the posterior.\n"
      ]
    },
    {
      "cell_type": "code",
      "execution_count": null,
      "id": "07b2542a",
      "metadata": {
        "id": "07b2542a"
      },
      "outputs": [],
      "source": [
        "\n",
        "def ll_num(m, data, g):\n",
        "    \n",
        "    f = lambda x,m: ss.norm.pdf(x, loc = m).prod()\n",
        "    return f(data, m)*g(m)\n",
        "  "
      ]
    },
    {
      "cell_type": "markdown",
      "id": "b85aaf42",
      "metadata": {
        "id": "b85aaf42"
      },
      "source": [
        "We make the numerator a function of the mean parameter."
      ]
    },
    {
      "cell_type": "code",
      "execution_count": null,
      "id": "c73b7284",
      "metadata": {
        "id": "c73b7284"
      },
      "outputs": [],
      "source": [
        "gp_num = lambda m: ll_num(m,data, g0)"
      ]
    },
    {
      "cell_type": "markdown",
      "id": "00e1b0af",
      "metadata": {
        "id": "00e1b0af"
      },
      "source": [
        "We vectorize it so that we can integrate."
      ]
    },
    {
      "cell_type": "code",
      "execution_count": null,
      "id": "d278af76",
      "metadata": {
        "id": "d278af76"
      },
      "outputs": [],
      "source": [
        "gp_num_v = np.vectorize(gp_num)"
      ]
    },
    {
      "cell_type": "markdown",
      "id": "5d7b9832",
      "metadata": {
        "id": "5d7b9832"
      },
      "source": [
        "Here we make the posterior integrate to 1."
      ]
    },
    {
      "cell_type": "code",
      "execution_count": null,
      "id": "b0af62ff",
      "metadata": {
        "id": "b0af62ff"
      },
      "outputs": [],
      "source": [
        "gp_den = quad(gp_num_v, -np.inf, np.inf)[0]\n",
        "\n",
        "\n",
        "gp = lambda m: gp_num_v(m)/gp_den\n",
        "  \n",
        "    "
      ]
    },
    {
      "cell_type": "code",
      "execution_count": null,
      "id": "e34382c9",
      "metadata": {
        "colab": {
          "base_uri": "https://localhost:8080/"
        },
        "id": "e34382c9",
        "outputId": "d9d9ffb2-a6c8-4f21-e8d9-f1486dac453f"
      },
      "outputs": [
        {
          "output_type": "execute_result",
          "data": {
            "text/plain": [
              "1.000000023077264"
            ]
          },
          "metadata": {},
          "execution_count": 12
        }
      ],
      "source": [
        "# Just checking\n",
        "\n",
        "quad(gp, -np.inf, np.inf)[0]"
      ]
    },
    {
      "cell_type": "markdown",
      "id": "14242021",
      "metadata": {
        "id": "14242021"
      },
      "source": [
        "Now let's plot our posterior."
      ]
    },
    {
      "cell_type": "code",
      "execution_count": null,
      "id": "3e405a71",
      "metadata": {
        "colab": {
          "base_uri": "https://localhost:8080/",
          "height": 609
        },
        "id": "3e405a71",
        "outputId": "0498516c-1c61-42be-d3b7-2d5c5a3d774d"
      },
      "outputs": [
        {
          "output_type": "display_data",
          "data": {
            "text/plain": [
              "<Figure size 1080x720 with 1 Axes>"
            ],
            "image/png": "[encoded data removed]"
          },
          "metadata": {
            "needs_background": "light"
          }
        }
      ],
      "source": [
        "m = np.linspace(-10,10,100)\n",
        "plt.figure(figsize= (15,10))\n",
        "\n",
        "plt.plot(m, g0(m), label=\"$g(\\\\mu)$\")\n",
        "\n",
        "plt.vlines(x=2, ymin = 0, ymax = 1, color ='r', label =\"True Value of $\\\\mu$\")\n",
        "\n",
        "plt.plot(m, gp(m), label=\"$g(\\\\mu|(x_1,x_2,...,x_{10}))$\")\n",
        "\n",
        "\n",
        "plt.legend()\n",
        "\n",
        "plt.title(\"Prior Distribution for $\\mu$\")\n",
        "\n",
        "plt.show()"
      ]
    },
    {
      "cell_type": "markdown",
      "id": "b355a887",
      "metadata": {
        "id": "b355a887"
      },
      "source": [
        "Let's compare this with our calculated posterior using the fact the we are working with a conjugate prior.\n",
        "\n",
        "Recall that \n",
        "$$\\frac{1}{\\tilde{\\xi}^2} =N + \\frac{1}{\\xi^2} $$ \n",
        "\n",
        "which is the same as\n",
        "\n",
        "\n",
        "$$\\tilde{\\xi} = \\sqrt{\\frac{1}{N + \\frac{1}{\\xi^2}}}$$\n",
        "\n"
      ]
    },
    {
      "cell_type": "code",
      "execution_count": null,
      "id": "64677a71",
      "metadata": {
        "colab": {
          "base_uri": "https://localhost:8080/"
        },
        "id": "64677a71",
        "outputId": "fd03922a-0bf7-4681-a23d-a0e6721b3839"
      },
      "outputs": [
        {
          "output_type": "execute_result",
          "data": {
            "text/plain": [
              "0.3144854510165755"
            ]
          },
          "metadata": {},
          "execution_count": 14
        }
      ],
      "source": [
        "xi_tilde = np.sqrt(1/(N + 1/xi**2) )\n",
        "\n",
        "\n",
        "xi_tilde"
      ]
    },
    {
      "cell_type": "markdown",
      "id": "a464e977",
      "metadata": {
        "id": "a464e977"
      },
      "source": [
        "And that \n",
        "\n",
        "$$\\tilde{\\eta} = \\tilde{\\xi} N \\bar{x}$$"
      ]
    },
    {
      "cell_type": "code",
      "execution_count": null,
      "id": "913da71e",
      "metadata": {
        "colab": {
          "base_uri": "https://localhost:8080/"
        },
        "id": "913da71e",
        "outputId": "75695c6f-8c56-454b-af5f-c5b23ce73994"
      },
      "outputs": [
        {
          "output_type": "execute_result",
          "data": {
            "text/plain": [
              "2.09843103178369"
            ]
          },
          "metadata": {},
          "execution_count": 15
        }
      ],
      "source": [
        "eta_tilde = xi_tilde**2*N*data.mean()\n",
        "eta_tilde"
      ]
    },
    {
      "cell_type": "markdown",
      "id": "8db22ece",
      "metadata": {
        "id": "8db22ece"
      },
      "source": [
        "Let's add this to our plot."
      ]
    },
    {
      "cell_type": "code",
      "execution_count": null,
      "id": "9008bdcd",
      "metadata": {
        "colab": {
          "base_uri": "https://localhost:8080/",
          "height": 627
        },
        "id": "9008bdcd",
        "outputId": "451fb719-5ac9-42d2-b83d-c7c2af200823"
      },
      "outputs": [
        {
          "output_type": "execute_result",
          "data": {
            "text/plain": [
              "Text(0.5, 1.0, 'Prior Distribution for $\\\\mu$')"
            ]
          },
          "metadata": {},
          "execution_count": 16
        },
        {
          "output_type": "display_data",
          "data": {
            "text/plain": [
              "<Figure size 1080x720 with 1 Axes>"
            ],
            "image/png": "[encoded data removed]"
          },
          "metadata": {
            "needs_background": "light"
          }
        }
      ],
      "source": [
        "m = np.linspace(-10,10,100)\n",
        "plt.figure(figsize= (15,10))\n",
        "\n",
        "plt.plot(m, g0(m), label=\"$g(\\\\mu)$\")\n",
        "\n",
        "plt.vlines(x=2, ymin = 0, ymax = 1, color ='r', label =\"True Value of $\\\\mu$\")\n",
        "\n",
        "plt.plot(m, gp(m), label=\"$g(\\\\mu|(x_1,x_2,...,x_{10}))$\")\n",
        "\n",
        "plt.scatter(m, ss.norm.pdf(m, loc = eta_tilde, scale = xi_tilde), label = \"posterior by algrebra\")\n",
        "\n",
        "\n",
        "plt.legend()\n",
        "\n",
        "plt.title(\"Prior Distribution for $\\mu$\")\n"
      ]
    },
    {
      "cell_type": "markdown",
      "id": "54227463",
      "metadata": {
        "id": "54227463"
      },
      "source": [
        "### Comments\n",
        "\n",
        "\n",
        "* The numerical integration (in theory) works even if we do not have a conjugate prior. However, it can numerically tricky for larger sample sizes (see below) because we end up multiplying a bunch of numbers less than one.\n",
        "\n",
        "* We aren't always blessed with a conjugate prior.\n",
        "\n",
        "\n",
        "The result of this is that, without another way to tackle this, the Baysian posterior is of limited usefullness.  Fortunately, there is another way:  Markov Chain Monte Carlo.\n",
        "\n",
        "\n",
        "\n"
      ]
    },
    {
      "cell_type": "markdown",
      "id": "512146ec",
      "metadata": {
        "id": "512146ec"
      },
      "source": [
        "To illustate the point about larger data sets, we repeat the above but increase the sample size to 1000."
      ]
    },
    {
      "cell_type": "code",
      "execution_count": null,
      "id": "cd105219",
      "metadata": {
        "colab": {
          "base_uri": "https://localhost:8080/"
        },
        "id": "cd105219",
        "outputId": "90bea298-3629-4850-bbb0-40aa5b4b8692"
      },
      "outputs": [
        {
          "output_type": "stream",
          "name": "stderr",
          "text": [
            "/usr/local/lib/python3.7/dist-packages/ipykernel_launcher.py:25: RuntimeWarning: invalid value encountered in true_divide\n",
            "/usr/local/lib/python3.7/dist-packages/ipykernel_launcher.py:28: IntegrationWarning: The occurrence of roundoff error is detected, which prevents \n",
            "  the requested tolerance from being achieved.  The error may be \n",
            "  underestimated.\n"
          ]
        },
        {
          "output_type": "execute_result",
          "data": {
            "text/plain": [
              "nan"
            ]
          },
          "metadata": {},
          "execution_count": 20
        }
      ],
      "source": [
        "mu_true = 2\n",
        "N = 1000\n",
        "\n",
        "xi = 3\n",
        "\n",
        "\n",
        "data = ss.norm.rvs(loc = mu_true, size = N)\n",
        "\n",
        "g0 = lambda m: ss.norm.pdf(m, scale = xi)\n",
        "\n",
        "\n",
        "def ll_num(m, data, g):\n",
        "    \n",
        "    f = lambda x,m: ss.norm.pdf(x, loc = m).prod()\n",
        "    return f(data, m)*g(m)\n",
        "\n",
        "gp_num = lambda m: ll_num(m,data, g0)\n",
        "\n",
        "gp_num_v = np.vectorize(gp_num)\n",
        "\n",
        "\n",
        "gp_den = quad(gp_num_v, -np.inf, np.inf)[0]\n",
        "\n",
        "\n",
        "gp = lambda m: gp_num_v(m)/gp_den\n",
        "\n",
        "\n",
        "quad(gp, -np.inf, np.inf)[0]\n"
      ]
    },
    {
      "cell_type": "code",
      "execution_count": null,
      "id": "391511d1",
      "metadata": {
        "colab": {
          "base_uri": "https://localhost:8080/"
        },
        "id": "391511d1",
        "outputId": "5a40fbf3-5144-486b-fdfb-01bb6d76579d"
      },
      "outputs": [
        {
          "output_type": "execute_result",
          "data": {
            "text/plain": [
              "0.0"
            ]
          },
          "metadata": {},
          "execution_count": 21
        }
      ],
      "source": [
        "gp_den"
      ]
    },
    {
      "cell_type": "code",
      "execution_count": null,
      "id": "b6b01065",
      "metadata": {
        "id": "b6b01065"
      },
      "outputs": [],
      "source": [
        ""
      ]
    },
    {
      "cell_type": "code",
      "execution_count": null,
      "id": "a75c40d5",
      "metadata": {
        "id": "a75c40d5"
      },
      "outputs": [],
      "source": [
        ""
      ]
    },
    {
      "cell_type": "code",
      "execution_count": null,
      "id": "d0332d3a",
      "metadata": {
        "id": "d0332d3a"
      },
      "outputs": [],
      "source": [
        ""
      ]
    }
  ],
  "metadata": {
    "kernelspec": {
      "display_name": "Python 3 (ipykernel)",
      "language": "python",
      "name": "python3"
    },
    "language_info": {
      "codemirror_mode": {
        "name": "ipython",
        "version": 3
      },
      "file_extension": ".py",
      "mimetype": "text/x-python",
      "name": "python",
      "nbconvert_exporter": "python",
      "pygments_lexer": "ipython3",
      "version": "3.9.7"
    },
    "colab": {
      "name": "Bayes2.ipynb",
      "provenance": [],
      "include_colab_link": true
    }
  },
  "nbformat": 4,
  "nbformat_minor": 5
}