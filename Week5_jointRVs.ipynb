{
  "nbformat": 4,
  "nbformat_minor": 0,
  "metadata": {
    "colab": {
      "name": "jointRVs.ipynb",
      "provenance": [],
      "include_colab_link": true
    },
    "kernelspec": {
      "name": "python3",
      "display_name": "Python 3"
    },
    "language_info": {
      "name": "python"
    }
  },
  "cells": [
    {
      "cell_type": "markdown",
      "metadata": {
        "id": "view-in-github",
        "colab_type": "text"
      },
      "source": [
        "<a href=\"https://colab.research.google.com/github/zhong338/MFM-FM5222/blob/main/Week5_jointRVs.ipynb\" target=\"_parent\"><img src=\"https://colab.research.google.com/assets/colab-badge.svg\" alt=\"Open In Colab\"/></a>"
      ]
    },
    {
      "cell_type": "markdown",
      "source": [
        "# Joint Random Variables\n",
        "#### A Quick Review\n",
        "\n",
        "## Bivariate Distributions\n",
        "\n",
        "So far, we have primarily been examing Univariate model.  In these models, there is a single random variable.\n",
        "\n",
        "We now wish to consider the case where we have two variables that are not necessarily indepdendent.  We may have several IID observations of them, *as pairs*. \n",
        "\n",
        "If $X$ and $Y$ are two Random Variables, joint distribution is described by the CDF \n",
        "\n",
        "$$F_{(X,Y)}(x,y) = \\mathrm{Pr}(X \\leq x \\land Y \\leq y)$$\n",
        "\n",
        "And from this, we can define the joint PDF via\n",
        "\n",
        "$$f_{(X,Y)}(x,y) = \\frac{\\partial^2 F_{(X,Y)}(x,y) }{\\partial x \\partial y}$$\n",
        "\n",
        "\n",
        "Alternatively, if we have the PDF, we can calculate the CDF via\n",
        "\n",
        "$$F_{(X,Y)}(x,y) = \\int_{-\\infty}^x \\int_{-\\infty}^y f_{(X,Y)}(s,t) dt ds $$\n",
        "\n",
        "\n",
        "Note that $X$ and $Y$ and independent if and only if\n",
        "\n",
        "$$f_{(X,Y)}(x,y) = f_X(x) f_Y(y)$$ for some functions $f_X$ and $f_Y$.\n",
        "\n",
        "This is equivalent to \n",
        "\n",
        "$$F_{(X,Y)}(x,y) = F_X(x) F_Y(y)$$ for some functions $F_X$ and $F_Y$.\n",
        "\n",
        "\n",
        "\n",
        "\n",
        "\n",
        "\n",
        "\n",
        "\n"
      ],
      "metadata": {
        "id": "cLTLdkS5zDM6"
      }
    },
    {
      "cell_type": "markdown",
      "source": [
        "### Marginal Distributions\n",
        "\n",
        "Given a joint distribution, we can define the marginal distributions of $X$ and $Y$ via\n",
        "\n",
        "$$f_X(x) = \\int_{-\\infty}^{\\infty} f_{(X,Y)}(x,s) ds $$\n",
        "\n",
        "and\n",
        "\n",
        "$$f_Y(y) = \\int_{-\\infty}^{\\infty} f_{(X,Y)}(s,y) ds $$\n",
        "\n",
        "\n",
        "We will sometimes call the marginal distributions the *unconditional* distributions (for $X$ and $Y$ respectively)."
      ],
      "metadata": {
        "id": "IBRstbao_ADK"
      }
    },
    {
      "cell_type": "markdown",
      "source": [
        "## Expected Values and Covariance\n",
        "\n",
        "For any function $U: \\mathbb{R}^2 \\to \\mathbb{R}$ we can define a new Random Variable $U(X,Y)$ and we cna calculate \n",
        "\n",
        "$$\\mathrm{E}(U) = \\int_{-\\infty}^{\\infty} \\int_{-\\infty}^{\\infty} U(x,y) f_{(X,Y)}(x,y) dx dy$$\n",
        "\n",
        "\n",
        "We define the *covariance* via\n",
        "\n",
        "\n",
        "$$\\mathrm{Cov}(X,Y) = \\mathrm{E}\\left[(X- \\mu_X) (Y- \\mu_Y)    \\right]$$\n",
        "\n",
        "Obviously, \n",
        "\n",
        "$$\\mathrm{Cov}(X,X) = \\mathrm{Var}(X)$$\n",
        "\n",
        "$$\\mathrm{Cov}(X,Y) = \\mathrm{Cov}(Y,X)$$\n",
        "\n",
        "Also, it's easy to see that \n",
        "\n",
        "$$\\mathrm{Cov}(X,Y) = \\mathrm{E}(XY) - \\mu_X \\mu_Y$$\n",
        "\n",
        "\n",
        "#### Covariance is bi-linear \n",
        "\n",
        "If $X,Y$ and $Z$ are random variables and $\\alpha$ is scalar, then,\n",
        "\n",
        "$$\\mathrm{Cov}(\\alpha X + Z,Y) = \\alpha \\mathrm{Cov}( X,Y) + \\mathrm{Cov}( Z,Y)$$\n",
        "\n",
        "\n",
        "\n",
        "\n",
        "\n"
      ],
      "metadata": {
        "id": "QCHf0VPgAVgp"
      }
    },
    {
      "cell_type": "markdown",
      "source": [
        "### Covariance Matrix\n",
        "\n",
        "It convenient to define the Covariance Matrix as\n",
        "\n",
        "$$\\begin{pmatrix} \\mathrm{Cov}(X,X) & \\mathrm{Cov}(X,Y)\\\\\n",
        "\\mathrm{Cov}(Y,X) & \\mathrm{Cov}(Y,Y) \\\\ \\end{pmatrix}$$\n",
        "\n",
        "Which is the same as\n",
        "\n",
        "$$\\begin{pmatrix} \\mathrm{Var}(X) & \\mathrm{Cov}(X,Y)\\\\\n",
        "\\mathrm{Cov}(Y,X) & \\mathrm{Var}(Y) \\\\ \\end{pmatrix}$$\n",
        "\n",
        "\n",
        "More generally, if $X_1, X_2, ..., X_n$ are joint random variables, the we define the covariance matrix\n",
        "\n",
        "$$COV_{i,j} = \\mathrm{Cov}(X_i,X_j)$$\n",
        "\n",
        "And from that the correlation matrix\n",
        "\n",
        "$$Corr_{i,j}  = \\frac{\\mathrm{Cov}(X_i,X_j)}{\\sqrt{\\mathrm{Var}(X_i)\\mathrm{Var}(X_j)}}$$\n",
        "\n",
        "\n"
      ],
      "metadata": {
        "id": "PN-Alo5pGdgX"
      }
    },
    {
      "cell_type": "markdown",
      "source": [
        "Note that if we change variables $Y_i = \\sum A_{i,j} X_j$, then the covariance matrix transforms $C \\to ACA^T$. (This is an exercise)  "
      ],
      "metadata": {
        "id": "5tzyZdpXRvJY"
      }
    },
    {
      "cell_type": "markdown",
      "source": [
        "### Example\n",
        "\n",
        "We let \n",
        "\n",
        "$$f_{(X,Y)}(x,y) = \\begin{cases} C (x+y^2) &, (x,y) \\in [0,1] \\times [0,1]\\\\0 &, \\text{otherwise} \\\\ \\end{cases}$$\n",
        "\n",
        "\n",
        "A. Find $C$ so that $f_{(X,Y)}(x,y)$ is a joint PDF.\n",
        "\n",
        "B. Find the marginal distributions $f_X$ and $f_Y$ \n",
        "\n",
        "C. Find $\\mu_X$ and $\\mu_Y$\n",
        "\n",
        "D. Construct the covariance matrix.\n",
        "\n",
        "\n",
        "\n"
      ],
      "metadata": {
        "id": "4UcKAXBDJ9ZQ"
      }
    },
    {
      "cell_type": "markdown",
      "source": [
        "A.  For this, like with the Univariate case, we need the PDF to integrate to 1. So,\n",
        "\n",
        "$$1 = \\int_0^1 \\int_0^1 C (x +y^2) dy dx\\\\\n",
        "=C\\int_0^1 \\left[xy +\\frac{1}{3}y^3   \\right]_{y=0}^{y=1}  dx\\\\\n",
        "=C \\int_0^1 \\left(x + \\frac{1}{3}\\right) dx\\\\\n",
        "=C \\left[\\frac{1}{2}x^2 + \\frac{1}{3}x\\right]_{x=0}^{x=1}  \\\\\n",
        "=C \\frac{5}{6}$$\n",
        "\n",
        "\n",
        "Hence,\n",
        "\n",
        "$$C = \\frac{6}{5}$$\n",
        "\n"
      ],
      "metadata": {
        "id": "JfFs0XHxc9_J"
      }
    },
    {
      "cell_type": "markdown",
      "source": [
        "B. $$f_X(x) = \\int_0^1 \\frac{6}{5}(x+y^2)dy\\\\\n",
        "=\\frac{6}{5}\\left[xy +\\frac{1}{3}y^3     \\right]_{y=0}^{y=1}\\\\\n",
        "=\\frac{6}{5}x + \\frac{2}{5}$$\n",
        "\n",
        "and\n",
        "\n",
        "$$f_Y(y) = \\int_0^1 \\frac{6}{5}(x+y^2)dx\\\\\n",
        "=\\frac{6}{5}\\left[\\frac{1}{2}x^2 + y^2x   \\right]_{x=0}^{x=1}\\\\\n",
        "\\frac{3}{5} + \\frac{6}{5}y^2$$"
      ],
      "metadata": {
        "id": "RJuY6QiDesaZ"
      }
    },
    {
      "cell_type": "markdown",
      "source": [
        "C. Since we have already found the marginal densities:\n",
        "\n",
        "$$\\mu_X = \\int_0^1 x f_X(x) dx \\\\\n",
        "= \\int_0^1\\left(\\frac{6}{5}x^2 + \\frac{2}{5}x \\right) dx\\\\\n",
        "= \\frac{2}{5} + \\frac{1}{5}\\\\\n",
        "=\\frac{3}{5}$$\n",
        "\n",
        "and\n",
        "\n",
        "$$\\mu_Y = \\int_0^1 y f_X(y) dy \\\\\n",
        "=\\int_0^1 \\left( \\frac{3}{5}y + \\frac{6}{5}y^3 \\right) dy\\\\\n",
        "= \\frac{3}{10} + \\frac{3}{10}\\\\\n",
        "= \\frac{3}{5}\n",
        "$$"
      ],
      "metadata": {
        "id": "sjHkLyhamy6s"
      }
    },
    {
      "cell_type": "markdown",
      "source": [
        "D.  We first compute the second moments (in order to get the variances)\n",
        "\n",
        "$$M_2(X) = \\int_0^1 x^2 \\left(\\frac{6}{5}x + \\frac{2}{5}\\right) dx \\\\\n",
        "=\\frac{6}{20} + \\frac{2}{15}\\\\\n",
        "= \\frac{13}{30}$$\n",
        "\n",
        "hence\n",
        "\n",
        "$$\\mathrm{Var}(X) = \\frac{13}{30} - \\left(\\frac{3}{5}\\right)^2\\\\\n",
        "=\\frac{65 - 54}{150}\\\\\n",
        "=\\frac{11}{150}$$\n",
        "\n",
        "AND\n",
        "\n",
        "$$M_2(Y) = \\int_0^1 y^2\\left(\\frac{3}{5} + \\frac{6}{5}y^2   \\right) dy\\\\\n",
        "=\\frac{1}{5} + \\frac{6}{25}\\\\\n",
        "=\\frac{11}{25}$$\n",
        "\n",
        "hence\n",
        "\n",
        "$$\\mathrm{Var}(Y) = \\frac{11}{25} - \\left(\\frac{3}{5}\\right)^2\\\\\n",
        "=\\frac{2}{25}$$\n",
        "\n",
        "\n"
      ],
      "metadata": {
        "id": "TGdpoYRGoft-"
      }
    },
    {
      "cell_type": "markdown",
      "source": [
        "Next, we compute \n",
        "\n",
        "$$\\mathrm{E}(XY) = \\int_0^1 \\int_0^1 xy \\frac{6}{5}(x+ y^2) dy dx\\\\\n",
        " \\int_0^1 \\int_0^1 \\frac{6}{5}(x^2y+ xy^3) dy dx\\\\\n",
        " \\int_0^1 \\frac{6}{5}\\left(\\frac{x^2}{2} +\\frac{x}{4}      \\right) dx \\\\\n",
        " =\\frac{6}{5}\\left(\\frac{1}{6} + \\frac{1}{8}   \\right)\\\\\n",
        " \\frac{7}{20}$$\n",
        "\n",
        "\n",
        "\n",
        " Hence\n",
        "\n",
        " $$\\mathrm{Cov}(X,Y) = \\frac{7}{20} - \\left(\\frac{3}{5}\\right)\\left(\\frac{3}{5}\\right)\\\\\n",
        "\\frac{35 - 36}{100}\\\\\n",
        "=\\frac{-1}{100} $$\n",
        "\n",
        "\n"
      ],
      "metadata": {
        "id": "hGg3KBO_rnMw"
      }
    },
    {
      "cell_type": "markdown",
      "source": [
        "Finally, the covariance matrix is\n",
        "\n",
        "$$\\begin{pmatrix} \\frac{11}{150} & \\frac{-1}{100}\\\\\\frac{-1}{100}& \\frac{2}{25} \\\\ \\end{pmatrix}$$"
      ],
      "metadata": {
        "id": "nzUb0pqGvnIS"
      }
    },
    {
      "cell_type": "markdown",
      "source": [
        "## Checking my work\n",
        "\n",
        "Let's just do this numerically to see if we did all the calculations correct (by hand)"
      ],
      "metadata": {
        "id": "kV3NgRgiwmt2"
      }
    },
    {
      "cell_type": "code",
      "source": [
        "import numpy as np\n",
        "from scipy.integrate import quad, dblquad"
      ],
      "metadata": {
        "id": "t9HaBf3EzJtk"
      },
      "execution_count": null,
      "outputs": []
    },
    {
      "cell_type": "code",
      "source": [
        "C = 6/5\n",
        "f = lambda x,y: C*(x+y**2)"
      ],
      "metadata": {
        "id": "vqDqKuPPPUPZ"
      },
      "execution_count": null,
      "outputs": []
    },
    {
      "cell_type": "code",
      "source": [
        "# checking integration to 1\n",
        "\n",
        "dblquad(f, 0,1,0,1)"
      ],
      "metadata": {
        "colab": {
          "base_uri": "https://localhost:8080/"
        },
        "id": "h9eJW53iPi33",
        "outputId": "648876c7-28c5-4231-819e-c113a1dd1291"
      },
      "execution_count": null,
      "outputs": [
        {
          "output_type": "execute_result",
          "data": {
            "text/plain": [
              "(1.0, 1.9926219049236248e-14)"
            ]
          },
          "metadata": {},
          "execution_count": 3
        }
      ]
    },
    {
      "cell_type": "code",
      "source": [
        "# Expected value of X\n",
        "\n",
        "dblquad(lambda x,y : x*f(x,y), 0,1,0,1)"
      ],
      "metadata": {
        "colab": {
          "base_uri": "https://localhost:8080/"
        },
        "id": "Iwp_OOSiPjuu",
        "outputId": "c9744242-58e5-4448-f425-65ef8fe85222"
      },
      "execution_count": null,
      "outputs": [
        {
          "output_type": "execute_result",
          "data": {
            "text/plain": [
              "(0.6, 1.1073332549243279e-14)"
            ]
          },
          "metadata": {},
          "execution_count": 4
        }
      ]
    },
    {
      "cell_type": "code",
      "source": [
        "# Expected value of Y\n",
        "dblquad(lambda x,y : y*f(x,y), 0,1,0,1)\n"
      ],
      "metadata": {
        "colab": {
          "base_uri": "https://localhost:8080/"
        },
        "id": "qmTlY8b8P3GJ",
        "outputId": "4767715e-6338-44c1-c539-bf0b6c4be345"
      },
      "execution_count": null,
      "outputs": [
        {
          "output_type": "execute_result",
          "data": {
            "text/plain": [
              "(0.6, 1.988295088881481e-14)"
            ]
          },
          "metadata": {},
          "execution_count": 5
        }
      ]
    },
    {
      "cell_type": "code",
      "source": [
        "# Variance of X\n",
        "\n",
        "dblquad(lambda x,y : (x -.6)**2*f(x,y), 0,1,0,1)[0], 11/150"
      ],
      "metadata": {
        "colab": {
          "base_uri": "https://localhost:8080/"
        },
        "id": "OxcgD7mJxYAg",
        "outputId": "8ff2053d-27ed-4158-9b73-70ffc7679ccd"
      },
      "execution_count": null,
      "outputs": [
        {
          "output_type": "execute_result",
          "data": {
            "text/plain": [
              "(0.07333333333333333, 0.07333333333333333)"
            ]
          },
          "metadata": {},
          "execution_count": 6
        }
      ]
    },
    {
      "cell_type": "code",
      "source": [
        "# Variance of Y\n",
        "\n",
        "dblquad(lambda x,y : (y-.6)**2*f(x,y), 0,1,0,1)[0], 2/25"
      ],
      "metadata": {
        "colab": {
          "base_uri": "https://localhost:8080/"
        },
        "id": "s_Aeqh08xhnD",
        "outputId": "50048abc-72c4-4a23-a44d-e7e1c6f8f228"
      },
      "execution_count": null,
      "outputs": [
        {
          "output_type": "execute_result",
          "data": {
            "text/plain": [
              "(0.08, 0.08)"
            ]
          },
          "metadata": {},
          "execution_count": 7
        }
      ]
    },
    {
      "cell_type": "code",
      "source": [
        "## Cov(X,Y)\n",
        "dblquad(lambda x,y : (y-.6)*(x-.6)*f(x,y), 0,1,0,1)[0]\n"
      ],
      "metadata": {
        "colab": {
          "base_uri": "https://localhost:8080/"
        },
        "id": "WtYk_Q0Axy1E",
        "outputId": "cf99ceb6-a761-4531-b19c-dda61ff2eef5"
      },
      "execution_count": null,
      "outputs": [
        {
          "output_type": "execute_result",
          "data": {
            "text/plain": [
              "-0.01"
            ]
          },
          "metadata": {},
          "execution_count": 8
        }
      ]
    },
    {
      "cell_type": "code",
      "source": [
        ""
      ],
      "metadata": {
        "id": "oUbnOv6t0Y4t"
      },
      "execution_count": null,
      "outputs": []
    }
  ]
}