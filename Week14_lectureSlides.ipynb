{
  "cells": [
    {
      "cell_type": "markdown",
      "metadata": {
        "id": "view-in-github",
        "colab_type": "text"
      },
      "source": [
        "<a href=\"https://colab.research.google.com/github/zhong338/MFM-FM5222/blob/main/Week14_lectureSlides.ipynb\" target=\"_parent\"><img src=\"https://colab.research.google.com/assets/colab-badge.svg\" alt=\"Open In Colab\"/></a>"
      ]
    },
    {
      "cell_type": "markdown",
      "id": "e9c05309",
      "metadata": {
        "id": "e9c05309"
      },
      "source": [
        "# FM 5222\n",
        "\n",
        "# Overview\n",
        "\n",
        "## What you should know and/or be able to do"
      ]
    },
    {
      "cell_type": "markdown",
      "id": "d58a2505",
      "metadata": {
        "id": "d58a2505"
      },
      "source": [
        "##  Common Distributions\n",
        "\n",
        "You should have have familiarity and be able to work with many of the important and common distributions.\n",
        "\n",
        "\n",
        "* Normal/ Gaussian\n",
        "* Lognormal\n",
        "* Student T\n",
        "* Generalized Normal/Generalized Error Distribution (GED)\n",
        "* Skew-normal\n",
        "* Gamma\n",
        "* Uniform\n",
        "* Beta\n",
        "\n",
        "\n",
        "You should be able to access these in scipy.stats and appropriately use shape, location and scale to \n",
        "\n",
        "* evaluate the PDF\n",
        "* evaluate the CDF\n",
        "* generate random samples\n",
        "* MLE fit\n",
        "\n",
        "\n",
        "\n",
        "\n",
        "## Metrics Associated with distributions\n",
        "\n",
        "You should understand and be able to compute\n",
        "\n",
        "* mean\n",
        "* variance\n",
        "* standard deviation\n",
        "* median\n",
        "* IQR\n",
        "* skew\n",
        "* kurtosis\n",
        "\n",
        "\n",
        "\n",
        "You should also be able to interpret quantile based measures.\n",
        "\n",
        "For example, $$ \\frac{(x_{.9} - x_{.5}) - (x_{.5} - x_{.1}) }{x_{.75} - x_{.25}  }  $$\n",
        "\n",
        "\n",
        "Does this measure asymmetry or tail-heaviness?\n",
        "\n",
        "\n",
        "\n"
      ]
    },
    {
      "cell_type": "markdown",
      "id": "beb9cd69",
      "metadata": {
        "id": "beb9cd69"
      },
      "source": [
        "## Data\n",
        "\n",
        "You should be able to \n",
        "\n",
        "* Work with Pandas data frames\n",
        "* Use yfinance to pull data\n",
        "* Use pandas datareader to pull data\n",
        "\n"
      ]
    },
    {
      "cell_type": "markdown",
      "id": "e870b23a",
      "metadata": {
        "id": "e870b23a"
      },
      "source": [
        "## Exploratory Data Analysis\n",
        "\n",
        "You should be able to \n",
        "\n",
        "* Make a histgram\n",
        "* Plot a kernal density estimator (KDE)\n",
        "* Explain what a KDE is\n",
        "* Make Box-plots\n",
        "* Calculate the important metrics\n",
        "* Apply Box-Cox transform \n",
        "* Understand why to apply the Box-Cox transform and when it is appropriate\n"
      ]
    },
    {
      "cell_type": "markdown",
      "id": "3d882743",
      "metadata": {
        "id": "3d882743"
      },
      "source": [
        "## Distribution Fitting \n",
        "\n",
        "You should be able to explain and do\n",
        "\n",
        "\n",
        "* MLE fitting\n",
        "* Moment Matching\n",
        "* Select different models via AIC and BIC\n",
        "* Use the log-liklihood test when appropriate (and know when it is).\n",
        "\n",
        "\n",
        "\n",
        "\n",
        "\n",
        "\n",
        "\n",
        "\n",
        "\n"
      ]
    },
    {
      "cell_type": "markdown",
      "id": "c512af95",
      "metadata": {
        "id": "c512af95"
      },
      "source": [
        "## Bootstrapping\n",
        "\n",
        "You should be able to use bootstrapping to evaluate estimated values from data.\n",
        "\n",
        "* Bias\n",
        "* Skew\n",
        "* Variance\n",
        "* MSE\n",
        "* Basic Bootstrap Confidence Interval"
      ]
    },
    {
      "cell_type": "markdown",
      "id": "bd6dc69a",
      "metadata": {
        "id": "bd6dc69a"
      },
      "source": [
        "## Multivariate Distributions\n",
        "\n",
        "* Marginal or unconditional distributions and their relationships to the joint distribution\n",
        "* Multvariate Gaussian\n",
        "* Multivariate T distribution\n",
        "* Use python or R to fit either of the above two\n",
        "* Use python or R to generate random samples from either of the above\n",
        "\n",
        "\n",
        "\n",
        "\n",
        "\n",
        " "
      ]
    },
    {
      "cell_type": "markdown",
      "id": "d74cbb0b",
      "metadata": {
        "id": "d74cbb0b"
      },
      "source": [
        "## Regression Basics\n",
        "\n",
        "\n",
        "* Explain regression as a \"Least Square Fit\"\n",
        "* Understand and explain regression as an MLE\n",
        "* Understand and explain regression as a linear algebra problem\n",
        "* Use statsmodels OLS for regression, with and without a constant and interpret the output\n",
        "* Match the statsmodels estimates using matrix algrebra\n",
        "* Detect outlieres and high leverage points\n",
        "* Understand and explain the hat matrix\n",
        "\n",
        "\n",
        "## Regression and Multicolinearity\n",
        "\n",
        "* Assess colinearity via EDA\n",
        "* VIF\n",
        "* Use step regression (in R)\n",
        "* Standardize Variables\n",
        "* Apply PCA\n",
        "\n",
        "\n",
        "\n"
      ]
    },
    {
      "cell_type": "markdown",
      "id": "683d7bad",
      "metadata": {
        "id": "683d7bad"
      },
      "source": [
        "## Time Series\n",
        "\n",
        "* Strong Stationarity\n",
        "* Weak Stationarity\n",
        "* Auto Correlation function\n",
        "* Ljung-Box Test\n",
        "* Definition of White Noise\n",
        "* AR(p)\n",
        "* MA(q)\n",
        "* ARIMA(p,d,q)\n",
        "* Unit Root tests (Dickey-Fuller, KPSS)\n",
        "* Use autoARIMA\n",
        "* In sample prediction\n",
        "* Out of sample prediction\n"
      ]
    },
    {
      "cell_type": "markdown",
      "id": "cd28b2c7",
      "metadata": {
        "id": "cd28b2c7"
      },
      "source": [
        "## Factor Models\n",
        "\n",
        "\n",
        "* Basic definition of a factor model\n",
        "* Fama-French 3-Factor model\n",
        "* Fit and assess a Factor model\n",
        "\n",
        "\n"
      ]
    },
    {
      "cell_type": "markdown",
      "id": "f372510e",
      "metadata": {
        "id": "f372510e"
      },
      "source": [
        "## Bayesian Statistics\n",
        "\n",
        "* Bayes' Theorem\n",
        "* Prior and Posterior distributions\n",
        "* Conjugate Priors\n",
        "* Posteriors by numerical integration\n",
        "* MCMC  what is it?\n",
        "* Use pymc3\n",
        "* Interpret the output of pymc3\n",
        "\n",
        "\n"
      ]
    },
    {
      "cell_type": "code",
      "execution_count": null,
      "id": "5e9a8f64",
      "metadata": {
        "id": "5e9a8f64"
      },
      "outputs": [],
      "source": [
        ""
      ]
    }
  ],
  "metadata": {
    "kernelspec": {
      "display_name": "Python 3 (ipykernel)",
      "language": "python",
      "name": "python3"
    },
    "language_info": {
      "codemirror_mode": {
        "name": "ipython",
        "version": 3
      },
      "file_extension": ".py",
      "mimetype": "text/x-python",
      "name": "python",
      "nbconvert_exporter": "python",
      "pygments_lexer": "ipython3",
      "version": "3.9.7"
    },
    "colab": {
      "name": "Week14.ipynb",
      "provenance": [],
      "include_colab_link": true
    }
  },
  "nbformat": 4,
  "nbformat_minor": 5
}