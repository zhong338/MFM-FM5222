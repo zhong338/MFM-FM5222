{
  "cells": [
    {
      "cell_type": "markdown",
      "metadata": {
        "id": "view-in-github",
        "colab_type": "text"
      },
      "source": [
        "<a href=\"https://colab.research.google.com/github/zhong338/MFM-FM5222/blob/main/Week3_LectureSlide.ipynb\" target=\"_parent\"><img src=\"https://colab.research.google.com/assets/colab-badge.svg\" alt=\"Open In Colab\"/></a>"
      ]
    },
    {
      "cell_type": "markdown",
      "id": "e6d7e6f9",
      "metadata": {
        "id": "e6d7e6f9"
      },
      "source": [
        "# FM5222\n",
        "# Week 3\n",
        "\n",
        "## Topics\n",
        "\n",
        "* MLE fitting\n",
        "* AIC and BIC\n",
        "* Liklihood Ratio Test\n",
        "* Cross-Validation\n",
        "* Robust estimation\n",
        "\n",
        "\n",
        "\n",
        "\n",
        "\n"
      ]
    },
    {
      "cell_type": "markdown",
      "id": "74edc5d2",
      "metadata": {
        "id": "74edc5d2"
      },
      "source": [
        "## MLE fitting\n",
        "\n",
        "In the vidoes for this week, we discussedd MLE fitting either explicitly or via numerical methods.    Here we will touch on a couple of properties that make MLE's popular, and work another example using scipy.stats."
      ]
    },
    {
      "cell_type": "markdown",
      "id": "530d0909",
      "metadata": {
        "id": "530d0909"
      },
      "source": [
        "\n",
        "\n",
        "This is not an exhaustive list, but will highlight some of the the key features. Suppose that we are attempting to fit a PDF $f_X(x;\\mathbf{\\theta})$ where $\\mathbf{\\theta} = (\\theta_1, \\theta_2,..., \\theta_m)$.\n",
        "\n",
        "We have a set of IID data $x = (x_1,x_2, ..., x_N)$ which we will use to estimate the parameter vector $\\mathbf{\\theta}$ \n",
        "\n",
        "Let us use the notation \n",
        "\n",
        "$$\\mathrm{MLE}(x) = \\hat{\\mathbf{\\theta}} = (\\hat{\\theta}_1,\\hat{\\theta}_2 ,...,\\hat{\\theta }_m)$$ \n",
        "\n",
        "The MLE is a function $\\mathbb{R}^N \\to \\mathbb{R^m}$ \n",
        "\n",
        "We are interested in the properties of the vector valued random variable $\\mathrm{MLE}(\\mathbf(X))$\n",
        "\n",
        "\n",
        "More broadly, we let $t(X)$ be any estimator $t(X)$ is a vector valued random variable, not necessarily the MLE.\n",
        "\n",
        "\n",
        "### Bias\n",
        "\n",
        "\n",
        "\n",
        "An estimator's bias can defined as $\\mathrm{Bias}(t) \\triangleq \\mathrm{E}(t(X) - \\theta)$\n",
        "\n",
        "Ideally, the bias is the zero vector in which case we say the estimator is *unbiased*.  \n",
        "\n",
        "While this is ideal, in general, MLE's are not unbiased.\n",
        "\n",
        "Having said that, being unbiased is perhaps overrated.  Consider for example PDF with a single parameter $\\theta$.  Suppose also that some practitioners use the same distribution but identify the parameter as $\\gamma = g(\\theta)$ where $g$ is a non-linear, monotonic function (more specifically, not affine). \n",
        "\n",
        "If $t(X)$ is an unbiased estimator of $\\theta$, it generally will **not** be true that $g(t(X))$ is an unbiased etimator for $\\gamma$. That is because\n",
        "\n",
        "$$\\mathrm{E}(g(t(X) - \\gamma) = \\mathrm{E}(g(t(X)) -  g(\\theta)$$ but\n",
        "$$\\mathrm{E}(g(t(X)) \\neq g\\left( \\mathrm{E}(t(X))  \\right) = g(\\theta)$$ \n",
        "\n",
        "\n",
        "On the other hand, it *is* true that\n",
        "\n",
        "$$MLE(g(t(X)) = g(MLE(t(X))$$ \n",
        "\n",
        "so that the MLE will yield the same estimate for $\\theta$ and $\\gamma$ no matter how you prefer to define your PDF.\n",
        "\n",
        "\n",
        "### Asymptitically Unbiased\n",
        "\n",
        "On the other hand, suppose that $N$ is the sampel size, then an estimator $t(X)$ is said to be asymptotically unbiased if\n",
        "$$\\lim_{N\\to \\infty} \\Vert\\mathrm{E}(t(X) - \\theta\\Vert\\to 0$$\n",
        "\n",
        "\n",
        "MLE's are asymptotically unbiased.\n",
        "\n"
      ]
    },
    {
      "cell_type": "markdown",
      "id": "cf557f75",
      "metadata": {
        "id": "cf557f75"
      },
      "source": [
        "### Consistent\n",
        "\n",
        "And estimator is consistent if we probability that $t(X)$ is close to $\\theta$ gets aribitrarily close to 1 if $N$ is made large enough.  More formally, $t(X)$ is consistent if:\n",
        "\n",
        "Given any $\\epsilon >0, \\delta >0$, no matter how small, there is an $M$ so large that for any $N >M$, we have\n",
        "$$\\mathrm{Pr}(\\Vert t(X) - \\theta \\Vert < \\epsilon ) > 1- \\delta$$\n",
        "\n",
        "Another way to say this is that $t(X)$ converges in probability to $\\theta$ as $N \\to \\infty$.\n",
        "\n",
        "MLE's are consistent."
      ]
    },
    {
      "cell_type": "markdown",
      "id": "722f2e1d",
      "metadata": {
        "id": "722f2e1d"
      },
      "source": [
        "### Low Variance\n",
        "\n",
        "Without getting into techincal details, MLEs generally have lower variance than competing estimators.  We already saw this demonstrating the video when comparing MLE vs moment matching for the lognormal distribution."
      ]
    },
    {
      "cell_type": "markdown",
      "id": "352deeed",
      "metadata": {
        "id": "352deeed"
      },
      "source": [
        "### Example\n",
        "\n",
        "Fit the skew normal distribution to daily log changes in Silver over the period 1/1/2005 - 1/1/2015. The skew-normal distribution is a case of the Azzalini-Capitanio approach discusssed previously for fitting skewed data. \n",
        "\n",
        "\n",
        "The PDF is given by \n",
        "\n",
        "$$f_X(x;a, \\xi, \\eta) = \\frac{2}{\\eta} \\phi(y) \\Phi(ay)$$\n",
        "where $y = \\frac{x-\\xi}{\\eta}$\n",
        "\n",
        "\n",
        "We can use the scipy.stats module skewnorm.  The fit method performs MLE. "
      ]
    },
    {
      "cell_type": "code",
      "source": [
        "! pip install yfinance"
      ],
      "metadata": {
        "id": "XYLLEwafpo38",
        "colab": {
          "base_uri": "https://localhost:8080/"
        },
        "outputId": "9c232a98-de9f-44d9-d1fa-c39841a1b9a3"
      },
      "id": "XYLLEwafpo38",
      "execution_count": null,
      "outputs": [
        {
          "output_type": "stream",
          "name": "stdout",
          "text": [
            "Collecting yfinance\n",
            "  Downloading yfinance-0.1.70-py2.py3-none-any.whl (26 kB)\n",
            "Requirement already satisfied: pandas>=0.24.0 in /usr/local/lib/python3.7/dist-packages (from yfinance) (1.3.5)\n",
            "Requirement already satisfied: numpy>=1.15 in /usr/local/lib/python3.7/dist-packages (from yfinance) (1.19.5)\n",
            "Requirement already satisfied: multitasking>=0.0.7 in /usr/local/lib/python3.7/dist-packages (from yfinance) (0.0.10)\n",
            "Collecting lxml>=4.5.1\n",
            "  Downloading lxml-4.7.1-cp37-cp37m-manylinux_2_17_x86_64.manylinux2014_x86_64.manylinux_2_24_x86_64.whl (6.4 MB)\n",
            "\u001b[K     |████████████████████████████████| 6.4 MB 12.0 MB/s \n",
            "\u001b[?25hCollecting requests>=2.26\n",
            "  Downloading requests-2.27.1-py2.py3-none-any.whl (63 kB)\n",
            "\u001b[K     |████████████████████████████████| 63 kB 582 kB/s \n",
            "\u001b[?25hRequirement already satisfied: pytz>=2017.3 in /usr/local/lib/python3.7/dist-packages (from pandas>=0.24.0->yfinance) (2018.9)\n",
            "Requirement already satisfied: python-dateutil>=2.7.3 in /usr/local/lib/python3.7/dist-packages (from pandas>=0.24.0->yfinance) (2.8.2)\n",
            "Requirement already satisfied: six>=1.5 in /usr/local/lib/python3.7/dist-packages (from python-dateutil>=2.7.3->pandas>=0.24.0->yfinance) (1.15.0)\n",
            "Requirement already satisfied: urllib3<1.27,>=1.21.1 in /usr/local/lib/python3.7/dist-packages (from requests>=2.26->yfinance) (1.24.3)\n",
            "Requirement already satisfied: certifi>=2017.4.17 in /usr/local/lib/python3.7/dist-packages (from requests>=2.26->yfinance) (2021.10.8)\n",
            "Requirement already satisfied: charset-normalizer~=2.0.0 in /usr/local/lib/python3.7/dist-packages (from requests>=2.26->yfinance) (2.0.11)\n",
            "Requirement already satisfied: idna<4,>=2.5 in /usr/local/lib/python3.7/dist-packages (from requests>=2.26->yfinance) (2.10)\n",
            "Installing collected packages: requests, lxml, yfinance\n",
            "  Attempting uninstall: requests\n",
            "    Found existing installation: requests 2.23.0\n",
            "    Uninstalling requests-2.23.0:\n",
            "      Successfully uninstalled requests-2.23.0\n",
            "  Attempting uninstall: lxml\n",
            "    Found existing installation: lxml 4.2.6\n",
            "    Uninstalling lxml-4.2.6:\n",
            "      Successfully uninstalled lxml-4.2.6\n",
            "\u001b[31mERROR: pip's dependency resolver does not currently take into account all the packages that are installed. This behaviour is the source of the following dependency conflicts.\n",
            "google-colab 1.0.0 requires requests~=2.23.0, but you have requests 2.27.1 which is incompatible.\n",
            "datascience 0.10.6 requires folium==0.2.1, but you have folium 0.8.3 which is incompatible.\u001b[0m\n",
            "Successfully installed lxml-4.7.1 requests-2.27.1 yfinance-0.1.70\n"
          ]
        }
      ]
    },
    {
      "cell_type": "code",
      "execution_count": null,
      "id": "23fed43d",
      "metadata": {
        "id": "23fed43d",
        "colab": {
          "base_uri": "https://localhost:8080/",
          "height": 455
        },
        "outputId": "3a28eefa-2b03-40d1-f6b6-c3fdf5da0ce2"
      },
      "outputs": [
        {
          "output_type": "execute_result",
          "data": {
            "text/html": [
              "\n",
              "  <div id=\"df-9711ffea-135f-4c85-a70f-36873de1cf39\">\n",
              "    <div class=\"colab-df-container\">\n",
              "      <div>\n",
              "<style scoped>\n",
              "    .dataframe tbody tr th:only-of-type {\n",
              "        vertical-align: middle;\n",
              "    }\n",
              "\n",
              "    .dataframe tbody tr th {\n",
              "        vertical-align: top;\n",
              "    }\n",
              "\n",
              "    .dataframe thead th {\n",
              "        text-align: right;\n",
              "    }\n",
              "</style>\n",
              "<table border=\"1\" class=\"dataframe\">\n",
              "  <thead>\n",
              "    <tr style=\"text-align: right;\">\n",
              "      <th></th>\n",
              "      <th>Open</th>\n",
              "      <th>High</th>\n",
              "      <th>Low</th>\n",
              "      <th>Close</th>\n",
              "      <th>Volume</th>\n",
              "      <th>Dividends</th>\n",
              "      <th>Stock Splits</th>\n",
              "      <th>logClose</th>\n",
              "      <th>R_log</th>\n",
              "    </tr>\n",
              "    <tr>\n",
              "      <th>Date</th>\n",
              "      <th></th>\n",
              "      <th></th>\n",
              "      <th></th>\n",
              "      <th></th>\n",
              "      <th></th>\n",
              "      <th></th>\n",
              "      <th></th>\n",
              "      <th></th>\n",
              "      <th></th>\n",
              "    </tr>\n",
              "  </thead>\n",
              "  <tbody>\n",
              "    <tr>\n",
              "      <th>2005-01-04</th>\n",
              "      <td>6.450000</td>\n",
              "      <td>6.450000</td>\n",
              "      <td>6.427</td>\n",
              "      <td>6.427</td>\n",
              "      <td>1</td>\n",
              "      <td>0</td>\n",
              "      <td>0</td>\n",
              "      <td>1.860508</td>\n",
              "      <td>-0.007750</td>\n",
              "    </tr>\n",
              "    <tr>\n",
              "      <th>2005-01-05</th>\n",
              "      <td>6.512000</td>\n",
              "      <td>6.512000</td>\n",
              "      <td>6.512</td>\n",
              "      <td>6.512</td>\n",
              "      <td>51</td>\n",
              "      <td>0</td>\n",
              "      <td>0</td>\n",
              "      <td>1.873647</td>\n",
              "      <td>0.013139</td>\n",
              "    </tr>\n",
              "    <tr>\n",
              "      <th>2005-01-06</th>\n",
              "      <td>6.433000</td>\n",
              "      <td>6.433000</td>\n",
              "      <td>6.433</td>\n",
              "      <td>6.433</td>\n",
              "      <td>1</td>\n",
              "      <td>0</td>\n",
              "      <td>0</td>\n",
              "      <td>1.861441</td>\n",
              "      <td>-0.012206</td>\n",
              "    </tr>\n",
              "    <tr>\n",
              "      <th>2005-01-07</th>\n",
              "      <td>6.440000</td>\n",
              "      <td>6.440000</td>\n",
              "      <td>6.415</td>\n",
              "      <td>6.429</td>\n",
              "      <td>216</td>\n",
              "      <td>0</td>\n",
              "      <td>0</td>\n",
              "      <td>1.860819</td>\n",
              "      <td>-0.000622</td>\n",
              "    </tr>\n",
              "    <tr>\n",
              "      <th>2005-01-10</th>\n",
              "      <td>6.430000</td>\n",
              "      <td>6.431000</td>\n",
              "      <td>6.415</td>\n",
              "      <td>6.431</td>\n",
              "      <td>6</td>\n",
              "      <td>0</td>\n",
              "      <td>0</td>\n",
              "      <td>1.861130</td>\n",
              "      <td>0.000311</td>\n",
              "    </tr>\n",
              "    <tr>\n",
              "      <th>...</th>\n",
              "      <td>...</td>\n",
              "      <td>...</td>\n",
              "      <td>...</td>\n",
              "      <td>...</td>\n",
              "      <td>...</td>\n",
              "      <td>...</td>\n",
              "      <td>...</td>\n",
              "      <td>...</td>\n",
              "      <td>...</td>\n",
              "    </tr>\n",
              "    <tr>\n",
              "      <th>2014-12-24</th>\n",
              "      <td>15.680000</td>\n",
              "      <td>15.680000</td>\n",
              "      <td>15.673</td>\n",
              "      <td>15.673</td>\n",
              "      <td>1</td>\n",
              "      <td>0</td>\n",
              "      <td>0</td>\n",
              "      <td>2.751940</td>\n",
              "      <td>-0.003630</td>\n",
              "    </tr>\n",
              "    <tr>\n",
              "      <th>2014-12-26</th>\n",
              "      <td>15.940000</td>\n",
              "      <td>16.115000</td>\n",
              "      <td>15.940</td>\n",
              "      <td>16.112</td>\n",
              "      <td>4</td>\n",
              "      <td>0</td>\n",
              "      <td>0</td>\n",
              "      <td>2.779564</td>\n",
              "      <td>0.027625</td>\n",
              "    </tr>\n",
              "    <tr>\n",
              "      <th>2014-12-29</th>\n",
              "      <td>15.950000</td>\n",
              "      <td>15.950000</td>\n",
              "      <td>15.744</td>\n",
              "      <td>15.744</td>\n",
              "      <td>277</td>\n",
              "      <td>0</td>\n",
              "      <td>0</td>\n",
              "      <td>2.756459</td>\n",
              "      <td>-0.023105</td>\n",
              "    </tr>\n",
              "    <tr>\n",
              "      <th>2014-12-30</th>\n",
              "      <td>15.845000</td>\n",
              "      <td>16.355000</td>\n",
              "      <td>15.805</td>\n",
              "      <td>16.240</td>\n",
              "      <td>77</td>\n",
              "      <td>0</td>\n",
              "      <td>0</td>\n",
              "      <td>2.787477</td>\n",
              "      <td>0.031018</td>\n",
              "    </tr>\n",
              "    <tr>\n",
              "      <th>2014-12-31</th>\n",
              "      <td>16.245001</td>\n",
              "      <td>16.245001</td>\n",
              "      <td>15.565</td>\n",
              "      <td>15.565</td>\n",
              "      <td>24</td>\n",
              "      <td>0</td>\n",
              "      <td>0</td>\n",
              "      <td>2.745025</td>\n",
              "      <td>-0.042453</td>\n",
              "    </tr>\n",
              "  </tbody>\n",
              "</table>\n",
              "<p>2513 rows × 9 columns</p>\n",
              "</div>\n",
              "      <button class=\"colab-df-convert\" onclick=\"convertToInteractive('df-9711ffea-135f-4c85-a70f-36873de1cf39')\"\n",
              "              title=\"Convert this dataframe to an interactive table.\"\n",
              "              style=\"display:none;\">\n",
              "        \n",
              "  <svg xmlns=\"http://www.w3.org/2000/svg\" height=\"24px\"viewBox=\"0 0 24 24\"\n",
              "       width=\"24px\">\n",
              "    <path d=\"M0 0h24v24H0V0z\" fill=\"none\"/>\n",
              "    <path d=\"M18.56 5.44l.94 2.06.94-2.06 2.06-.94-2.06-.94-.94-2.06-.94 2.06-2.06.94zm-11 1L8.5 8.5l.94-2.06 2.06-.94-2.06-.94L8.5 2.5l-.94 2.06-2.06.94zm10 10l.94 2.06.94-2.06 2.06-.94-2.06-.94-.94-2.06-.94 2.06-2.06.94z\"/><path d=\"M17.41 7.96l-1.37-1.37c-.4-.4-.92-.59-1.43-.59-.52 0-1.04.2-1.43.59L10.3 9.45l-7.72 7.72c-.78.78-.78 2.05 0 2.83L4 21.41c.39.39.9.59 1.41.59.51 0 1.02-.2 1.41-.59l7.78-7.78 2.81-2.81c.8-.78.8-2.07 0-2.86zM5.41 20L4 18.59l7.72-7.72 1.47 1.35L5.41 20z\"/>\n",
              "  </svg>\n",
              "      </button>\n",
              "      \n",
              "  <style>\n",
              "    .colab-df-container {\n",
              "      display:flex;\n",
              "      flex-wrap:wrap;\n",
              "      gap: 12px;\n",
              "    }\n",
              "\n",
              "    .colab-df-convert {\n",
              "      background-color: #E8F0FE;\n",
              "      border: none;\n",
              "      border-radius: 50%;\n",
              "      cursor: pointer;\n",
              "      display: none;\n",
              "      fill: #1967D2;\n",
              "      height: 32px;\n",
              "      padding: 0 0 0 0;\n",
              "      width: 32px;\n",
              "    }\n",
              "\n",
              "    .colab-df-convert:hover {\n",
              "      background-color: #E2EBFA;\n",
              "      box-shadow: 0px 1px 2px rgba(60, 64, 67, 0.3), 0px 1px 3px 1px rgba(60, 64, 67, 0.15);\n",
              "      fill: #174EA6;\n",
              "    }\n",
              "\n",
              "    [theme=dark] .colab-df-convert {\n",
              "      background-color: #3B4455;\n",
              "      fill: #D2E3FC;\n",
              "    }\n",
              "\n",
              "    [theme=dark] .colab-df-convert:hover {\n",
              "      background-color: #434B5C;\n",
              "      box-shadow: 0px 1px 3px 1px rgba(0, 0, 0, 0.15);\n",
              "      filter: drop-shadow(0px 1px 2px rgba(0, 0, 0, 0.3));\n",
              "      fill: #FFFFFF;\n",
              "    }\n",
              "  </style>\n",
              "\n",
              "      <script>\n",
              "        const buttonEl =\n",
              "          document.querySelector('#df-9711ffea-135f-4c85-a70f-36873de1cf39 button.colab-df-convert');\n",
              "        buttonEl.style.display =\n",
              "          google.colab.kernel.accessAllowed ? 'block' : 'none';\n",
              "\n",
              "        async function convertToInteractive(key) {\n",
              "          const element = document.querySelector('#df-9711ffea-135f-4c85-a70f-36873de1cf39');\n",
              "          const dataTable =\n",
              "            await google.colab.kernel.invokeFunction('convertToInteractive',\n",
              "                                                     [key], {});\n",
              "          if (!dataTable) return;\n",
              "\n",
              "          const docLinkHtml = 'Like what you see? Visit the ' +\n",
              "            '<a target=\"_blank\" href=https://colab.research.google.com/notebooks/data_table.ipynb>data table notebook</a>'\n",
              "            + ' to learn more about interactive tables.';\n",
              "          element.innerHTML = '';\n",
              "          dataTable['output_type'] = 'display_data';\n",
              "          await google.colab.output.renderOutput(dataTable, element);\n",
              "          const docLink = document.createElement('div');\n",
              "          docLink.innerHTML = docLinkHtml;\n",
              "          element.appendChild(docLink);\n",
              "        }\n",
              "      </script>\n",
              "    </div>\n",
              "  </div>\n",
              "  "
            ],
            "text/plain": [
              "                 Open       High     Low  ...  Stock Splits  logClose     R_log\n",
              "Date                                      ...                                  \n",
              "2005-01-04   6.450000   6.450000   6.427  ...             0  1.860508 -0.007750\n",
              "2005-01-05   6.512000   6.512000   6.512  ...             0  1.873647  0.013139\n",
              "2005-01-06   6.433000   6.433000   6.433  ...             0  1.861441 -0.012206\n",
              "2005-01-07   6.440000   6.440000   6.415  ...             0  1.860819 -0.000622\n",
              "2005-01-10   6.430000   6.431000   6.415  ...             0  1.861130  0.000311\n",
              "...               ...        ...     ...  ...           ...       ...       ...\n",
              "2014-12-24  15.680000  15.680000  15.673  ...             0  2.751940 -0.003630\n",
              "2014-12-26  15.940000  16.115000  15.940  ...             0  2.779564  0.027625\n",
              "2014-12-29  15.950000  15.950000  15.744  ...             0  2.756459 -0.023105\n",
              "2014-12-30  15.845000  16.355000  15.805  ...             0  2.787477  0.031018\n",
              "2014-12-31  16.245001  16.245001  15.565  ...             0  2.745025 -0.042453\n",
              "\n",
              "[2513 rows x 9 columns]"
            ]
          },
          "metadata": {},
          "execution_count": 2
        }
      ],
      "source": [
        "# Get data\n",
        "\n",
        "import numpy as np\n",
        "import matplotlib.pyplot as plt\n",
        "import yfinance as yf\n",
        "import scipy.stats as ss\n",
        "\n",
        "\n",
        "Silver = yf.Ticker(\"SI=F\").history(start = \"2005-01-01\", end = \"2015-01-01\")\n",
        "\n",
        "Silver[\"logClose\"] = np.log(Silver.Close)\n",
        "\n",
        "Silver[\"R_log\"] = Silver.logClose.diff()\n",
        "\n",
        "Silver = Silver.dropna()\n",
        "\n",
        "Silver"
      ]
    },
    {
      "cell_type": "markdown",
      "id": "4c063a58",
      "metadata": {
        "id": "4c063a58"
      },
      "source": [
        "Now let's quick make a histogram along make a KDE plot."
      ]
    },
    {
      "cell_type": "code",
      "execution_count": null,
      "id": "152875f9",
      "metadata": {
        "id": "152875f9",
        "colab": {
          "base_uri": "https://localhost:8080/",
          "height": 607
        },
        "outputId": "27b9f85a-bc4a-4670-cc75-80bb6c723b8e"
      },
      "outputs": [
        {
          "output_type": "display_data",
          "data": {
            "image/png": "[encoded data removed]",
            "text/plain": [
              "<Figure size 1080x720 with 1 Axes>"
            ]
          },
          "metadata": {
            "needs_background": "light"
          }
        }
      ],
      "source": [
        "xvals = np.linspace(-.12, .12,100)\n",
        "\n",
        "plt.figure(figsize = (15,10))\n",
        "plt.hist(Silver.R_log, bins = 50, density = True ,edgecolor = \"black\", alpha = .5 , label=\"Silver Daily Log Return\")\n",
        "\n",
        "plt.plot(xvals, ss.gaussian_kde(Silver.R_log)(xvals), label = \"KDE\")\n",
        "\n",
        "plt.text(-.1,15 , \"Skew = \"+str(Silver.R_log.skew()))\n",
        "\n",
        "plt.title(\"Returns of Silver\")\n",
        "\n",
        "plt.legend()\n",
        "\n",
        "plt.show()"
      ]
    },
    {
      "cell_type": "markdown",
      "id": "69c74091",
      "metadata": {
        "id": "69c74091"
      },
      "source": [
        "Now we fit using skewnorm"
      ]
    },
    {
      "cell_type": "code",
      "execution_count": null,
      "id": "a9e9920f",
      "metadata": {
        "id": "a9e9920f",
        "colab": {
          "base_uri": "https://localhost:8080/"
        },
        "outputId": "5187824e-3128-4619-d2ef-222fe8447b51"
      },
      "outputs": [
        {
          "output_type": "execute_result",
          "data": {
            "text/plain": [
              "(-1.476522829604268, 0.019953100878584946, 0.030173954159760485)"
            ]
          },
          "metadata": {},
          "execution_count": 4
        }
      ],
      "source": [
        "parameters_fit = ss.skewnorm.fit(Silver.R_log)\n",
        "\n",
        "parameters_fit"
      ]
    },
    {
      "cell_type": "markdown",
      "id": "5e7aa349",
      "metadata": {
        "id": "5e7aa349"
      },
      "source": [
        "Note that the first value is the parameter a, the next two are location and scale.  Let's add this to our plot."
      ]
    },
    {
      "cell_type": "code",
      "execution_count": null,
      "id": "690e84f1",
      "metadata": {
        "id": "690e84f1",
        "colab": {
          "base_uri": "https://localhost:8080/",
          "height": 607
        },
        "outputId": "dcea2e44-9aad-48fc-e861-4df422ef4727"
      },
      "outputs": [
        {
          "output_type": "display_data",
          "data": {
            "image/png": "[encoded data removed]",
            "text/plain": [
              "<Figure size 1080x720 with 1 Axes>"
            ]
          },
          "metadata": {
            "needs_background": "light"
          }
        }
      ],
      "source": [
        "\n",
        "plt.figure(figsize = (15,10))\n",
        "plt.hist(Silver.R_log, bins = 50, density = True ,edgecolor = \"black\", alpha = .5 , label=\"Silver Daily Log Return\")\n",
        "\n",
        "plt.plot(xvals, ss.gaussian_kde(Silver.R_log)(xvals), label = \"KDE\")\n",
        "\n",
        "\n",
        "plt.plot(xvals, ss.skewnorm.pdf(xvals, a = parameters_fit[0], loc = parameters_fit[1], scale = parameters_fit[2]),\\\n",
        "        label = \"Skewnorm MLE fit\" )\n",
        "\n",
        "plt.text(-.1,15 , \"Skew = \"+str(Silver.R_log.skew()))\n",
        "\n",
        "\n",
        "plt.text(-.1,13 , \"Fit Skew = \"+str(ss.skewnorm.stats(a = parameters_fit[0],loc = parameters_fit[1],\\\n",
        "                                scale = parameters_fit[2], moments='s' )))\n",
        "\n",
        "plt.title(\"Returns of Silver\")\n",
        "\n",
        "plt.legend()\n",
        "\n",
        "plt.show()"
      ]
    },
    {
      "cell_type": "markdown",
      "id": "60f087d7",
      "metadata": {
        "id": "60f087d7"
      },
      "source": [
        "We see that we haven't fully matched the skew (not the goal in MLE), but have retained skew in the fitted distribution.   You might also note that perhaps kurtosis is not really accounted for well.  Indeed, here is quick comparison: "
      ]
    },
    {
      "cell_type": "code",
      "execution_count": null,
      "id": "ec2a464d",
      "metadata": {
        "id": "ec2a464d",
        "colab": {
          "base_uri": "https://localhost:8080/"
        },
        "outputId": "8da0baf6-8c36-45a3-992f-f3967dda71c9"
      },
      "outputs": [
        {
          "output_type": "execute_result",
          "data": {
            "text/plain": [
              "(array(0.16982932), 6.232998200639827)"
            ]
          },
          "metadata": {},
          "execution_count": 6
        }
      ],
      "source": [
        "ss.skewnorm.stats(a = parameters_fit[0],loc = parameters_fit[1],scale = parameters_fit[2], moments='k' ),\\\n",
        "Silver.R_log.kurt()"
      ]
    },
    {
      "cell_type": "markdown",
      "id": "07745f1e",
      "metadata": {
        "id": "07745f1e"
      },
      "source": [
        "## AIC and BIC\n",
        "\n",
        "In the example above, once we have through the effort of fitting to the skew norm distribution, we might well ask ourselves whether it is much of an improvement over just fitting to the normal distribution?  Or whether we wouldn't be better off fitting to a student t (or mixed normal or something else).    How can we judge beyond just making graphs?  \n",
        "\n",
        "\n",
        "One of the most widely use approaches for this question is the Aikaike Information Criterion (AIC). \n",
        "\n",
        "The idea behind it (I am not going to derive it) that log-liklihood is a measure of \"fit\", but when we use more parameters in our model, our \"fit\" will always improve. So it adjusts the measure to penalize more paramters.\n",
        "\n",
        "More precisiley,  we denote the log-liklihood evaluated at our MLE parameters as\n",
        "\n",
        "$$\\ell(\\mathbf{X};\\mathbf{\\hat{\\theta}}) = \\ln\\left(f_{\\mathbf{X}}(\\mathbf{X}; \\mathbf{\\hat{\\theta}}) \\right)$$\n",
        "\n",
        "\n",
        "For a given PDF $f_X(x;\\theta)$ with $p$ parameters (meaning that $\\theta = (\\theta_1, \\theta_2,...,\\theta_p)$ we define\n",
        "\n",
        "$$AIC= -2\\ell(\\mathbf{X};\\mathbf{\\hat{\\theta}}) + 2p$$ \n",
        "\n",
        "In this measure, the minus sign means that \"smaller is better\" and it is clear that each additional parameter is penalized explicitly.\n",
        "\n",
        "Now suppose we had two competing models, say the skew-normal above and just just good old normal.  We would prefer the model with the lower AIC.\n",
        "\n",
        "Let calculate these.\n",
        "\n",
        "We start with the skewnormal fit since we have already done the work.\n",
        "\n",
        "\n",
        "\n"
      ]
    },
    {
      "cell_type": "code",
      "execution_count": null,
      "id": "6cea5295",
      "metadata": {
        "id": "6cea5295",
        "colab": {
          "base_uri": "https://localhost:8080/"
        },
        "outputId": "ec6b4ed3-462b-4c15-f39d-8cd1fed2b0f7"
      },
      "outputs": [
        {
          "output_type": "execute_result",
          "data": {
            "text/plain": [
              "-11942.869242037585"
            ]
          },
          "metadata": {},
          "execution_count": 7
        }
      ],
      "source": [
        "AIC_sn = -2*ss.skewnorm.logpdf( Silver.R_log, a = parameters_fit[0],loc = parameters_fit[1],\\\n",
        "                    scale = parameters_fit[2]).sum() + 2*3\n",
        "AIC_sn"
      ]
    },
    {
      "cell_type": "markdown",
      "id": "1a6d71dc",
      "metadata": {
        "id": "1a6d71dc"
      },
      "source": [
        "We then fit the normal and perform the same calculation.  "
      ]
    },
    {
      "cell_type": "code",
      "execution_count": null,
      "id": "d683b93d",
      "metadata": {
        "id": "d683b93d"
      },
      "outputs": [],
      "source": [
        "nfit = ss.norm.fit(Silver.R_log)  # note, we could just calculate mean and standard deviation, but this was easy"
      ]
    },
    {
      "cell_type": "code",
      "execution_count": null,
      "id": "dac98186",
      "metadata": {
        "id": "dac98186",
        "colab": {
          "base_uri": "https://localhost:8080/"
        },
        "outputId": "a0938abd-fe79-4fdb-b2f8-28d61cfaa3d8"
      },
      "outputs": [
        {
          "output_type": "execute_result",
          "data": {
            "text/plain": [
              "-11837.461714997316"
            ]
          },
          "metadata": {},
          "execution_count": 9
        }
      ],
      "source": [
        "AIC_n = -2*ss.norm.logpdf(Silver.R_log, loc = nfit[0], scale=nfit[1]).sum() + 2*2\n",
        "\n",
        "AIC_n"
      ]
    },
    {
      "cell_type": "markdown",
      "id": "13b78530",
      "metadata": {
        "id": "13b78530"
      },
      "source": [
        "\"Smaller\" means (in this case) more negative.  The AIC suggests selecting the skew normal.\n",
        "\n",
        "We next compare to the student T."
      ]
    },
    {
      "cell_type": "code",
      "execution_count": null,
      "id": "00ba1f16",
      "metadata": {
        "id": "00ba1f16",
        "colab": {
          "base_uri": "https://localhost:8080/"
        },
        "outputId": "7d50c0f1-7b4a-4468-e36a-b2a35063a3e2"
      },
      "outputs": [
        {
          "output_type": "execute_result",
          "data": {
            "text/plain": [
              "-12297.029499401966"
            ]
          },
          "metadata": {},
          "execution_count": 10
        }
      ],
      "source": [
        "tfit =  ss.t.fit(Silver.R_log)\n",
        "AIC_t = -2*ss.t.logpdf(Silver.R_log, df = tfit[0], loc = tfit[1], scale = tfit[2]).sum() + 2*3\n",
        "AIC_t"
      ]
    },
    {
      "cell_type": "markdown",
      "id": "8d047723",
      "metadata": {
        "id": "8d047723"
      },
      "source": [
        "This suggests that the student T would have been a fit all along. \n",
        "\n",
        "### BIC\n",
        "\n",
        "BIC stands for \"Baysian Information Criterion\".  It is conceptually similar to AIC but is \"derived\" somewhat differentlly. BIC increases the penalty for more parameters when there is more data.  It is given by\n",
        "\n",
        "\n",
        "$$BIC= -2\\ell(\\mathbf{X};\\mathbf{\\hat{\\theta}}) + \\ln(N)p$$ \n",
        "\n",
        "\n",
        "Let's calculate this for our example.  We will need to know how many point we sampled.\n"
      ]
    },
    {
      "cell_type": "code",
      "execution_count": null,
      "id": "56c90ea0",
      "metadata": {
        "id": "56c90ea0",
        "colab": {
          "base_uri": "https://localhost:8080/"
        },
        "outputId": "8b68c3c8-e3b8-4962-f5a7-24b3fd78108c"
      },
      "outputs": [
        {
          "output_type": "execute_result",
          "data": {
            "text/plain": [
              "(-11925.381544424954, -11825.80324992223, -12279.541801789335)"
            ]
          },
          "metadata": {},
          "execution_count": 11
        }
      ],
      "source": [
        "N = len(Silver.R_log)\n",
        "\n",
        "BIC_sn = -2*ss.skewnorm.logpdf( Silver.R_log, a = parameters_fit[0],loc = parameters_fit[1],\\\n",
        "                    scale = parameters_fit[2]).sum() + np.log(N)*3\n",
        "\n",
        "\n",
        "BIC_n = -2*ss.norm.logpdf(Silver.R_log, loc = nfit[0], scale=nfit[1]).sum() + np.log(N)*2\n",
        "BIC_t = -2*ss.t.logpdf(Silver.R_log, df = tfit[0], loc = tfit[1], scale = tfit[2]).sum() +  np.log(N)*3\n",
        "\n",
        "\n",
        "BIC_sn, BIC_n, BIC_t"
      ]
    },
    {
      "cell_type": "markdown",
      "id": "f5de7a23",
      "metadata": {
        "id": "f5de7a23"
      },
      "source": [
        "We see in this case, BIC and AIC lead to the same conclusions.  This is often the case.\n",
        "\n",
        "\n",
        "#### Comment\n",
        "\n",
        "The first term in AIC and BIC is the same, it is called the *deviance*:\n",
        "\n",
        "$$\\mathrm{deviance} = -2\\ell(\\mathbf{X};\\mathbf{\\hat{\\theta}})$$\n",
        "\n",
        "Hence we can think of \n",
        "\n",
        "$AIC = \\mathrm{deviance} + 2p$\n",
        "\n",
        "and\n",
        "\n",
        "$BIC = \\mathrm{deviance} + \\ln(N)p$\n",
        "\n",
        "\n",
        "This also means that for two models with the same number of parameters, AIC and BIC will always select the same model."
      ]
    },
    {
      "cell_type": "markdown",
      "id": "5ae31279",
      "metadata": {
        "id": "5ae31279"
      },
      "source": [
        "## Liklihood Ratio Test\n",
        "\n",
        "Sometimes, models are \"nested\" in the sense the one model is just a special case of the other.  To be more precise, suppose we have a base model $f_X(x; \\theta)$ where $\\theta$ has $m$ parameters and the permitted parameters form an $m$-dimensional manifold (that is, you need all of the parmeters to specify the model).  Call the set of admissible paramaters $\\Theta$\n",
        "\n",
        "Now suppose that we have a more general model, $f^G_X(x;\\theta^G)$ where\n",
        "\n",
        "1. The set of admissible paramters $\\Theta^G$ is an $m^G$ dimensional manifold with $m^G > m$\n",
        "2. $ \\Theta \\subset\\Theta^G   $\n",
        "3. $f_X^G(x; \\theta) = f_X(x;\\theta)$ if $\\theta \\in \\Theta$\n",
        "\n",
        "We might sometimes call $f^G$ the parent model and $f$ the \"child\" model.    Some examples of this:\n",
        "\n",
        "1. Generalised error distribution.  Retricted to the subset $\\alpha = 2$, it is the normal distribution\n",
        "2. Generalised error distribution.  Retricted to the subset $\\alpha = 1$, it is the Laplace distribution\n",
        "3. Skew-normal. Restricted to the subset $a = 0$, it is the normal distribution.\n",
        "4. Gamma distribution.  Restriced to the subset $\\alpha = 1$, it is the exponential distribution.\n",
        "\n",
        "\n",
        "\n",
        "When we are selecting between a parent model and more resticted child model, we can evaluate the better model via a statisistical test called the Log Liklihood Test.\n",
        "\n",
        "The null hypothesis $H_0$ of this test is that the child model is true (in the sense that the \"true\" parameters fall in parameter space of the child model).\n",
        "\n",
        "The test statistic is the difference between the deviances (as defined above). \n",
        "\n",
        "$$llt =2\\left(\\ell^G(\\mathbf{X};\\mathbf{\\hat{\\theta}^G}) -\\ell(\\mathbf{X};\\mathbf{\\hat{\\theta}}\\right)  $$\n",
        "\n",
        "If the sample size is large and the $H_0$ is true, the distribution of the test statistic is approximately the $\\chi^2$ distribution with $m^G - m$ degrees freedom\n",
        "\n",
        "This means we can judge with a $p$-value whether to reject our simpler model in favor of a more general one. \n",
        "\n",
        "Let apply this for the Silver example since skew-normal is a parent model to the normal model.\n",
        "\n",
        "In this case, it's clear that the dimensionality difference is 1, so we are looking at 1 degree freedom in our $\\chi^2$ comparison."
      ]
    },
    {
      "cell_type": "code",
      "execution_count": null,
      "id": "fd13d570",
      "metadata": {
        "id": "fd13d570",
        "colab": {
          "base_uri": "https://localhost:8080/"
        },
        "outputId": "c728ae8c-4b60-43c5-870c-b94fc8220db1"
      },
      "outputs": [
        {
          "output_type": "stream",
          "name": "stdout",
          "text": [
            "107.40752704026818\n"
          ]
        }
      ],
      "source": [
        "dev_sn = -2*ss.skewnorm.logpdf( Silver.R_log, a = parameters_fit[0],loc = parameters_fit[1],\\\n",
        "                    scale = parameters_fit[2]).sum() \n",
        "\n",
        "dev_n = -2*ss.norm.logpdf(Silver.R_log, loc = nfit[0], scale=nfit[1]).sum()\n",
        "\n",
        "llt= dev_n - dev_sn\n",
        "\n",
        "print(llt)\n",
        "\n"
      ]
    },
    {
      "cell_type": "markdown",
      "id": "c536a70c",
      "metadata": {
        "id": "c536a70c"
      },
      "source": [
        "Now, to be honest, I don't need to look this up, because I know this will be rejected.  But anyway:"
      ]
    },
    {
      "cell_type": "code",
      "execution_count": null,
      "id": "20b3784b",
      "metadata": {
        "id": "20b3784b",
        "colab": {
          "base_uri": "https://localhost:8080/"
        },
        "outputId": "9051d072-3ba7-4a27-f286-533ad744fc73"
      },
      "outputs": [
        {
          "output_type": "execute_result",
          "data": {
            "text/plain": [
              "0.0"
            ]
          },
          "metadata": {},
          "execution_count": 13
        }
      ],
      "source": [
        "1 - ss.chi2.cdf(llt, df  =1)"
      ]
    },
    {
      "cell_type": "markdown",
      "id": "b0923a1f",
      "metadata": {
        "id": "b0923a1f"
      },
      "source": [
        "Of course, rejection of $H_0$ does not mean the parent model is true!"
      ]
    },
    {
      "cell_type": "markdown",
      "id": "04954544",
      "metadata": {
        "id": "04954544"
      },
      "source": [
        "## Out of Sample and Cross Validation\n",
        "\n",
        "It's often the case however that models are not \"nested\".  And while we can still compare them with AIC or BIC, there is another model selection approach that essentially challenges the model to perform better \"out of sampe\".\n",
        "\n",
        "The simplest way to think of this is to hold out (say) $30\\%$ of the data and fit both models (assuming we have jus two) to the remaining $70\\%$.   We then look too see which fitted model fits on the hold out set.  We don't get to use the data from the hold out to inform our parameter estimates, just the $70\\%$ (called the *training data*). \n",
        "\n",
        "How will we measure \"fit\"?  This can depending on the situation and our objectives, but for now, let's deviance.\n",
        "\n",
        "\n",
        "Let's do a quick example. \n",
        "\n",
        "We will generate fake data from the student t with 10 degrees freedom. We will then fit two models:  Student t and generalized normal. We then\n"
      ]
    },
    {
      "cell_type": "code",
      "execution_count": null,
      "id": "a8c15837",
      "metadata": {
        "id": "a8c15837"
      },
      "outputs": [],
      "source": [
        "#1 Generate Fake Data\n",
        "N = 200\n",
        "\n",
        "np.random.seed(222)\n",
        "data = ss.t.rvs(df = 10, size = N )\n",
        "\n",
        "\n"
      ]
    },
    {
      "cell_type": "code",
      "execution_count": null,
      "id": "cde44e10",
      "metadata": {
        "id": "cde44e10"
      },
      "outputs": [],
      "source": [
        "#2 Split data (randomly)\n",
        "\n",
        "#We first shuffle the data.  In this case, there is no point but often data come in with some kind of sort.\n",
        "\n",
        "np.random.shuffle(data)\n",
        "\n",
        "data_train = data[0:int(.7*N)]\n",
        "data_test = data[int(.7*N):]\n",
        "\n"
      ]
    },
    {
      "cell_type": "markdown",
      "id": "aff909b5",
      "metadata": {
        "id": "aff909b5"
      },
      "source": [
        "3. Fit both models."
      ]
    },
    {
      "cell_type": "code",
      "execution_count": null,
      "id": "f4cd3b53",
      "metadata": {
        "id": "f4cd3b53",
        "colab": {
          "base_uri": "https://localhost:8080/"
        },
        "outputId": "46107106-ce4c-4f7f-c83a-4c97e122673d"
      },
      "outputs": [
        {
          "output_type": "stream",
          "name": "stdout",
          "text": [
            "(1.1841607112039712, -0.012091600641615527, 1.1707826250819848)\n",
            "(5.354601125614771, 0.019405180841059147, 1.0299917183409089)\n"
          ]
        }
      ],
      "source": [
        "fit_gn = ss.gennorm.fit(data_train)\n",
        "print(fit_gn)\n",
        "\n",
        "fit_t = ss.t.fit(data_train)\n",
        "\n",
        "print(fit_t)"
      ]
    },
    {
      "cell_type": "markdown",
      "id": "c54dc3cb",
      "metadata": {
        "id": "c54dc3cb"
      },
      "source": [
        "4. Calculate the deviance out of sample."
      ]
    },
    {
      "cell_type": "code",
      "execution_count": null,
      "id": "4702fdf9",
      "metadata": {
        "id": "4702fdf9",
        "colab": {
          "base_uri": "https://localhost:8080/"
        },
        "outputId": "24d9d5cb-000a-48cc-a709-5feb91c83969"
      },
      "outputs": [
        {
          "output_type": "stream",
          "name": "stdout",
          "text": [
            "The out of sample deviance for the genarlized norm distribution is  211.6907181055798\n",
            "The out of sample deviance for the t distribution is  210.99225653163052\n"
          ]
        }
      ],
      "source": [
        "dev_gn = -2*ss.gennorm.logpdf(data_test, beta = fit_gn[0], loc = fit_gn[1], scale = fit_gn[2]).sum()\n",
        "print(\"The out of sample deviance for the genarlized norm distribution is \",dev_gn)\n",
        "\n",
        "dev_t = -2*ss.t.logpdf(data_test, df = fit_t[0], loc = fit_t[1], scale = fit_t[2]).sum()\n",
        "print(\"The out of sample deviance for the t distribution is \",dev_t)\n",
        "\n",
        "\n",
        "\n"
      ]
    },
    {
      "cell_type": "markdown",
      "id": "2cb6b97b",
      "metadata": {
        "id": "2cb6b97b"
      },
      "source": [
        "So we see that, perhaps not suprisingly, the t-distribution appears to be a (slightly) better fit.\n",
        "\n",
        "But how do we know that we didn't just get lucky?  That is, maybe the it's the split that mattered.  What if we split differently?  Let's see:"
      ]
    },
    {
      "cell_type": "code",
      "execution_count": null,
      "id": "6df155d7",
      "metadata": {
        "id": "6df155d7",
        "colab": {
          "base_uri": "https://localhost:8080/"
        },
        "outputId": "c3f1f0fb-fbfe-4b35-ce28-7a01bc0c5619"
      },
      "outputs": [
        {
          "output_type": "stream",
          "name": "stdout",
          "text": [
            "The Generalized Normal fits better\n",
            "The Generalized Normal fits better\n",
            "The Generalized Normal fits better\n",
            "The Generalized Normal fits better\n",
            "The Generalized Normal fits better\n",
            "The Generalized Normal fits better\n",
            "The student T fits better\n",
            "The Generalized Normal fits better\n",
            "The Generalized Normal fits better\n",
            "The student T fits better\n"
          ]
        }
      ],
      "source": [
        "for k in range(10):\n",
        "\n",
        "    np.random.shuffle(data)\n",
        "\n",
        "    data_train = data[0:int(.7*N)]\n",
        "    data_test = data[int(.7*N):]\n",
        "\n",
        "    fit_gn = ss.gennorm.fit(data_train)\n",
        "    fit_t = ss.t.fit(data_train)\n",
        "\n",
        "    dev_gn = -2*ss.gennorm.logpdf(data_test, beta = fit_gn[0], loc = fit_gn[1], scale = fit_gn[2]).sum()\n",
        "\n",
        "\n",
        "    dev_t = -2*ss.t.logpdf(data_test, df = fit_t[0], loc = fit_t[1], scale = fit_t[2]).sum()\n",
        "    \n",
        "    if dev_t < dev_gn:\n",
        "        print(\"The student T fits better\")\n",
        "    else:\n",
        "        print(\"The Generalized Normal fits better\")\n",
        "    \n",
        "\n",
        "\n",
        "\n"
      ]
    },
    {
      "cell_type": "markdown",
      "id": "aa7f4266",
      "metadata": {
        "id": "aa7f4266"
      },
      "source": [
        "Hmm, how can we make this more reliable?\n",
        "\n",
        "### Cross-Validation\n",
        "\n",
        "A popular techinique is called $K$-fold cross validation where typically $K = 3,5$, or $10$.  The idea is to split the data into $K$ disjoint subsets.  We then loop on K, for each, we use the $K$th subset as the hold out, train with the other data, and calculate the score (e.g. deviance).  We then average the score across all of the folds.  The model that has the best \"average\" score is the \"winner\".  \n",
        "\n",
        "We do this here rather manually.  But note that the package sklearn can simplify this process considerably."
      ]
    },
    {
      "cell_type": "code",
      "execution_count": null,
      "id": "3bf1d21d",
      "metadata": {
        "id": "3bf1d21d",
        "colab": {
          "base_uri": "https://localhost:8080/"
        },
        "outputId": "800cb39b-1159-45dd-d13f-699e8a7eff59"
      },
      "outputs": [
        {
          "output_type": "stream",
          "name": "stdout",
          "text": [
            "The average deviance for the gen norm model is  67.57431216202075\n",
            "The average deviance for the t model is  67.57210243847734\n"
          ]
        }
      ],
      "source": [
        "np.random.shuffle(data)\n",
        "\n",
        "K = 10\n",
        "\n",
        "scores_gn = np.zeros(K)\n",
        "\n",
        "scores_t = np.zeros(K)\n",
        "\n",
        "data = data.reshape([int(N/K), K])  # works here because K divides N. \n",
        "\n",
        "for k in range(K):\n",
        "    \n",
        "    test = data[:,k]\n",
        "    train = np.delete(data, k, axis = 1).flatten()\n",
        "\n",
        "    \n",
        "    fit_gn = ss.gennorm.fit(train)\n",
        "    fit_t = ss.t.fit(train)\n",
        "    \n",
        "    scores_gn[k] = -2*ss.gennorm.logpdf(test, beta = fit_gn[0], loc = fit_gn[1], scale = fit_gn[2]).sum()\n",
        "\n",
        "\n",
        "    scores_t[k] = -2*ss.t.logpdf(test, df = fit_t[0], loc = fit_t[1], scale = fit_t[2]).sum()\n",
        "    \n",
        " \n",
        "print(\"The average deviance for the gen norm model is \", scores_gn.mean())\n",
        "\n",
        "print(\"The average deviance for the t model is \", scores_t.mean())\n",
        "    \n",
        "\n",
        "\n"
      ]
    },
    {
      "cell_type": "markdown",
      "id": "446df9f9",
      "metadata": {
        "id": "446df9f9"
      },
      "source": [
        "Here we might conclude that the models are pretty darn close.\n"
      ]
    },
    {
      "cell_type": "markdown",
      "id": "1ba05655",
      "metadata": {
        "id": "1ba05655"
      },
      "source": [
        "## Robust estimation\n",
        "\n",
        "One of the reasons problems with moment matching can be that outliers have exaggerated impact on the calculated sample moments.  This can create a distortion in the estimated parameters when either the model is a near fit, but not exactly from the assumed distribution, or when there is noise in the data than can create outliers.  Robust estimation attempts to address this by using quantile metrics that are not overly influenced by outliers.\n",
        "\n",
        "\n",
        "\n",
        "\n",
        "\n",
        "### Robust  Esimation of the mean\n",
        "\n",
        "We assume here that we believe the underlying is from the normal distribution. A robust estimate might be something like restricing the data to the $q$ and $1-q$ quantiles of the data and calculating the mean of that set. As noted in the text, as $q \\to .5$, this is essentially just taking the median.   More typically, one wouldd take something  like $q=1$ or $q=.25$ (restricing to the IQR).  \n",
        "\n",
        "You may recall seeing things like this in the olympics where the top and bottom judge scores are tossed before averaging.\n",
        "\n",
        "\n",
        "### Robust Estimation of the Standard Deviation\n",
        "\n",
        "Again, assuming we believe that the underlying data is normal, then the median absolute deviation (MAD) is median value of $X- X_{.5})$.\n",
        "\n",
        "For the normal distribution, the the standard deviation will be approximately $1.4826 \\times MAD$.  Hence, given a data set, we calculate the MAD of the data and multiply by $1.4826$ to estimate the standard deviation.\n"
      ]
    },
    {
      "cell_type": "markdown",
      "id": "1b8e596a",
      "metadata": {
        "id": "1b8e596a"
      },
      "source": [
        "#### How did they get 1.4826?\n",
        "\n",
        "We can calculate this numerically as follows:\n",
        "\n",
        "Assume that $X$ follows the normal distribution with mean $\\mu$ and variance $\\sigma^2$.  \n",
        "\n",
        "The median is $\\mu$ and we seek to find the median $Y_{.5}$ of the random variable $Y = |X- \\mu|$\n",
        "\n",
        "That means we wish to solve  $F_Y(Y_{.5}) = 0.5$\n",
        "\n",
        "$$0.5 = F_Y(Y_{.5})\\\\\n",
        "=\\mathrm{Pr}(Y \\leq Y_{.5})\\\\\n",
        "\\mathrm{Pr}(|X- \\mu| \\leq Y_{.5})\\\\\n",
        "= \\mathrm{Pr}(X- \\mu \\leq Y_{.5} \\land X- \\mu \\geq - Y_{.5})\\\\\n",
        "= \\mathrm{Pr}(X \\leq \\mu + Y_{.5} ) - \\mathrm{Pr}(X \\leq \\mu - Y_{.5})\\\\\n",
        "\\int_{\\mu - Y_{.5}}^{\\mu + Y_{.5}} \\frac{1}{\\sigma}\\phi\\left( \\frac{x-\\mu}{\\sigma} \\right) dx$$"
      ]
    },
    {
      "cell_type": "markdown",
      "id": "2a8b5e8b",
      "metadata": {
        "id": "2a8b5e8b"
      },
      "source": [
        "Substituting $u = \\frac{x - \\mu}{\\sigma}$ we have $du = \\frac{1}{\\sigma} dx$ and therefore we want\n",
        "\n",
        "$$0.5 = \\int_{- \\frac{Y_{.5}}{\\sigma}}^{ \\frac{Y_{.5}}{\\sigma}} \\phi(u) du\\\\\n",
        "= \\Phi\\left( \\frac{Y_{.5}}{\\sigma}\\right) - \\Phi\\left(- \\frac{Y_{.5}}{\\sigma}\\right)\\\\\n",
        "2\\Phi\\left( \\frac{Y_{.5}}{\\sigma}\\right) -1$$\n",
        "\n",
        "Hence,\n",
        "\n",
        "$$ \\frac{Y_{.5}}{\\sigma}= \\Phi^{-1}(.75)$$\n",
        "\n",
        "or\n",
        "\n",
        "$$\\sigma =  \\frac{Y_{.5}}{\\Phi^{-1}(.75)}$$\n",
        "\n",
        "which we compute"
      ]
    },
    {
      "cell_type": "code",
      "execution_count": null,
      "id": "c4c67043",
      "metadata": {
        "id": "c4c67043",
        "colab": {
          "base_uri": "https://localhost:8080/"
        },
        "outputId": "e322156a-ed53-482c-f59f-70f6fa157071"
      },
      "outputs": [
        {
          "output_type": "execute_result",
          "data": {
            "text/plain": [
              "1.482602218505602"
            ]
          },
          "metadata": {},
          "execution_count": 25
        }
      ],
      "source": [
        "1/ss.norm.ppf(.75)"
      ]
    },
    {
      "cell_type": "markdown",
      "id": "7f948f13",
      "metadata": {
        "id": "7f948f13"
      },
      "source": [
        "#### Example\n",
        "\n",
        "As an example, we will generate a data set from the standard normal distribution.  However, we will also throw in a small amount of \"measurement errors\" that will create outliers.\n",
        "\n",
        "We will then compare fits to the normal distribuion with the standard approach (MLE and MM which will be the same) with the corresponding robust approach.  The robust approaches are not set in stone, and different practitioners may make different choices."
      ]
    },
    {
      "cell_type": "code",
      "execution_count": null,
      "id": "682ec0f0",
      "metadata": {
        "id": "682ec0f0",
        "colab": {
          "base_uri": "https://localhost:8080/"
        },
        "outputId": "b746739b-178d-42fd-c68f-5eb5a61de25a"
      },
      "outputs": [
        {
          "output_type": "stream",
          "name": "stdout",
          "text": [
            "data mean is  0.22476492113501437\n",
            "data standard deviation is  1.6847970893105881\n"
          ]
        }
      ],
      "source": [
        "N= 100\n",
        "\n",
        "data = np.random.normal(size = 100)\n",
        "data[97:] = np.array([5,7, 10])  # adding the noise\n",
        "\n",
        "print(\"data mean is \" ,data.mean())\n",
        "\n",
        "print(\"data standard deviation is \" ,data.std())\n"
      ]
    },
    {
      "cell_type": "markdown",
      "id": "046ae77d",
      "metadata": {
        "id": "046ae77d"
      },
      "source": [
        "Now the robust estimates"
      ]
    },
    {
      "cell_type": "code",
      "execution_count": null,
      "id": "5cafb781",
      "metadata": {
        "id": "5cafb781",
        "colab": {
          "base_uri": "https://localhost:8080/"
        },
        "outputId": "7aa73670-2b73-4368-a2b7-2d305d6529d3"
      },
      "outputs": [
        {
          "output_type": "stream",
          "name": "stdout",
          "text": [
            "robust estimate of mean is  0.13283747761961082\n",
            "robust estimate of std is  1.15132480966412\n"
          ]
        }
      ],
      "source": [
        "\n",
        "data = np.sort(data)\n",
        "\n",
        "robust_mean_est = data[25:75].mean()\n",
        "print(\"robust estimate of mean is \",robust_mean_est )\n",
        "\n",
        "MAD = np.median(abs(data - np.median(data)))\n",
        "                \n",
        "print(\"robust estimate of std is \",1.4826*MAD )\n",
        "                              \n"
      ]
    },
    {
      "cell_type": "markdown",
      "id": "9b7bbc9c",
      "metadata": {
        "id": "9b7bbc9c"
      },
      "source": [
        "### In class Exercise\n",
        "\n",
        "Develop a way to use quantiles estimate the degree freedom in a student T distribution. Do this by\n",
        "\n",
        "1. Defining your quantile measure of \"fat tails\" (last week's ex)\n",
        "2. Calculating this as function of the degree freedom. It should be monotonic.\n",
        "3. Your estimate can then be the inveres of this function.\n",
        "\n",
        "You will do this numerically and I encourage you to make plots.\n",
        "\n",
        "Finally, try it out for some data sets that you generate.  \n",
        "\n",
        "* Does it work when there isn't noise?\n",
        "* Add noise. Is it robust?  For this, compare the impact of the noise versus the impact of estimating via sample kurtosis.\n",
        "\n",
        "\n",
        "\n"
      ]
    },
    {
      "cell_type": "code",
      "execution_count": null,
      "id": "f47d7510",
      "metadata": {
        "id": "f47d7510"
      },
      "outputs": [],
      "source": [
        ""
      ]
    }
  ],
  "metadata": {
    "kernelspec": {
      "display_name": "Python 3 (ipykernel)",
      "language": "python",
      "name": "python3"
    },
    "language_info": {
      "codemirror_mode": {
        "name": "ipython",
        "version": 3
      },
      "file_extension": ".py",
      "mimetype": "text/x-python",
      "name": "python",
      "nbconvert_exporter": "python",
      "pygments_lexer": "ipython3",
      "version": "3.9.7"
    },
    "colab": {
      "name": "Week 3.ipynb",
      "provenance": [],
      "include_colab_link": true
    }
  },
  "nbformat": 4,
  "nbformat_minor": 5
}