{
  "cells": [
    {
      "cell_type": "markdown",
      "metadata": {
        "id": "view-in-github",
        "colab_type": "text"
      },
      "source": [
        "<a href=\"https://colab.research.google.com/github/zhong338/MFM-FM5222/blob/main/Week3_MLE_Fitting.ipynb\" target=\"_parent\"><img src=\"https://colab.research.google.com/assets/colab-badge.svg\" alt=\"Open In Colab\"/></a>"
      ]
    },
    {
      "cell_type": "markdown",
      "id": "f3691d41",
      "metadata": {
        "id": "f3691d41"
      },
      "source": [
        "# FM5222\n",
        "# Fitting MLEs \n",
        "\n",
        "\n",
        "\n",
        "## MLE\n",
        "\n",
        "We have previously discussed obtaining an MLE of a distribution's parameters via the following rough scheme:\n",
        "\n",
        "1. Start with set of observations $\\{x_k\\}, k = 1,..., N$ wich are IID.\n",
        "2. Assume the distribution of the random varianbes $X_k= X$ is $f_X(X; \\mathbf{\\theta})$ where $\\mathbf{\\theta} = (\\theta_1, \\theta_2,..., \\theta_m)$ is a set of (unknown) parameters.\n",
        "3. We seek to find the parameters that maximize the joint PDF evaluated at the obserevation vector $\\mathbf{x} = (x_1,x_2, ..., x_N)$  That is, we seek find  $$\\hat{\\mathbf{\\theta}} = \\underset{\\mathbf{\\theta}}{\\mathrm{argmax}}\\left(f_{\\mathbf{X}}(\\mathbf{X}; \\mathbf{\\theta})\\right)$$\n",
        "\n",
        "4. Observe that this is equivalalent to finding $$\\hat{\\mathbf{\\theta}} = \\underset{\\mathbf{\\theta}}{\\mathrm{argmax}}\\left(\\ell(\\mathbf{X};\\mathbf{\\theta})   \\right)$$  where $$\\ell(\\mathbf{X};\\mathbf{\\theta}) = \\ln\\left(f_{\\mathbf{X}}(\\mathbf{X}; \\mathbf{\\theta}) \\right)$$\n",
        "\n",
        "5. $\\ln\\left(f_{\\mathbf{X}}(\\mathbf{X}; \\mathbf{\\theta}) \\right) = \\sum_{k=1}^N \\ln(f_X(x_k;\\mathbf{\\theta})$ so in order to maximize, we find were the gradient (with repect to $\\mathbf{\\theta}$) is zero. That is, we want to solve the system:\n",
        "\n",
        "$$\\sum_{k=1}^N \\frac{\\partial}{\\partial \\theta_j}\\ln(f_X(x_k;\\mathbf{\\theta}) = 0$$ for $k = 1,..., m$\n",
        "\n",
        "\n",
        "\n",
        "In the example we gave, where $X$ was from the log-normal distribution, we were readily able to do this using just algrebra.  In other common cases, normal, exponential and some others, this is also the case.\n",
        "\n",
        "But the truth is that as distributions become more complicated, this is more reasonably done numerically. In, that is typically the *only* way. \n",
        "\n",
        "\n",
        "Fortunately, with the software available to us, this is not that bad. \n",
        "\n"
      ]
    },
    {
      "cell_type": "markdown",
      "id": "a7c7a178",
      "metadata": {
        "id": "a7c7a178"
      },
      "source": [
        "## Example\n",
        "\n",
        "We will take 10 years of S&P500 daily log-returns and fit them to the student t using MLE. \n",
        "\n",
        "In what follows, we will\n",
        "\n",
        "1. Get data\n",
        "2. Find the MLE for student t usiing scipy optimize\n",
        "3. Use the fit method from scipy.stats\n",
        "4. Compare with a moment match and KDE\n"
      ]
    },
    {
      "cell_type": "code",
      "execution_count": null,
      "id": "65519469",
      "metadata": {
        "id": "65519469"
      },
      "outputs": [],
      "source": [
        "## Get the data\n",
        "\n",
        "\n",
        "import numpy as np\n",
        "import matplotlib.pyplot as plt\n",
        "import yfinance as yf\n"
      ]
    },
    {
      "cell_type": "code",
      "execution_count": null,
      "id": "f4a107fb",
      "metadata": {
        "id": "f4a107fb"
      },
      "outputs": [],
      "source": [
        "SP500 = yf.Ticker(\"^GSPC\").history(start = \"2012-01-01\", end = \"2022-01-01\")"
      ]
    },
    {
      "cell_type": "code",
      "execution_count": null,
      "id": "9b36ea48",
      "metadata": {
        "id": "9b36ea48",
        "outputId": "049bbc80-f799-4c61-af4c-fefb573b7e2d"
      },
      "outputs": [
        {
          "data": {
            "text/html": [
              "<div>\n",
              "<style scoped>\n",
              "    .dataframe tbody tr th:only-of-type {\n",
              "        vertical-align: middle;\n",
              "    }\n",
              "\n",
              "    .dataframe tbody tr th {\n",
              "        vertical-align: top;\n",
              "    }\n",
              "\n",
              "    .dataframe thead th {\n",
              "        text-align: right;\n",
              "    }\n",
              "</style>\n",
              "<table border=\"1\" class=\"dataframe\">\n",
              "  <thead>\n",
              "    <tr style=\"text-align: right;\">\n",
              "      <th></th>\n",
              "      <th>Open</th>\n",
              "      <th>High</th>\n",
              "      <th>Low</th>\n",
              "      <th>Close</th>\n",
              "      <th>Volume</th>\n",
              "      <th>Dividends</th>\n",
              "      <th>Stock Splits</th>\n",
              "      <th>logClose</th>\n",
              "      <th>R_log</th>\n",
              "    </tr>\n",
              "    <tr>\n",
              "      <th>Date</th>\n",
              "      <th></th>\n",
              "      <th></th>\n",
              "      <th></th>\n",
              "      <th></th>\n",
              "      <th></th>\n",
              "      <th></th>\n",
              "      <th></th>\n",
              "      <th></th>\n",
              "      <th></th>\n",
              "    </tr>\n",
              "  </thead>\n",
              "  <tbody>\n",
              "    <tr>\n",
              "      <th>2012-01-04</th>\n",
              "      <td>1277.030029</td>\n",
              "      <td>1278.729980</td>\n",
              "      <td>1268.099976</td>\n",
              "      <td>1277.300049</td>\n",
              "      <td>3592580000</td>\n",
              "      <td>0</td>\n",
              "      <td>0</td>\n",
              "      <td>7.152504</td>\n",
              "      <td>0.000188</td>\n",
              "    </tr>\n",
              "    <tr>\n",
              "      <th>2012-01-05</th>\n",
              "      <td>1277.300049</td>\n",
              "      <td>1283.050049</td>\n",
              "      <td>1265.260010</td>\n",
              "      <td>1281.060059</td>\n",
              "      <td>4315950000</td>\n",
              "      <td>0</td>\n",
              "      <td>0</td>\n",
              "      <td>7.155443</td>\n",
              "      <td>0.002939</td>\n",
              "    </tr>\n",
              "    <tr>\n",
              "      <th>2012-01-06</th>\n",
              "      <td>1280.930054</td>\n",
              "      <td>1281.839966</td>\n",
              "      <td>1273.339966</td>\n",
              "      <td>1277.810059</td>\n",
              "      <td>3656830000</td>\n",
              "      <td>0</td>\n",
              "      <td>0</td>\n",
              "      <td>7.152903</td>\n",
              "      <td>-0.002540</td>\n",
              "    </tr>\n",
              "    <tr>\n",
              "      <th>2012-01-09</th>\n",
              "      <td>1277.829956</td>\n",
              "      <td>1281.989990</td>\n",
              "      <td>1274.550049</td>\n",
              "      <td>1280.699951</td>\n",
              "      <td>3371600000</td>\n",
              "      <td>0</td>\n",
              "      <td>0</td>\n",
              "      <td>7.155162</td>\n",
              "      <td>0.002259</td>\n",
              "    </tr>\n",
              "    <tr>\n",
              "      <th>2012-01-10</th>\n",
              "      <td>1280.770020</td>\n",
              "      <td>1296.459961</td>\n",
              "      <td>1280.770020</td>\n",
              "      <td>1292.079956</td>\n",
              "      <td>4221960000</td>\n",
              "      <td>0</td>\n",
              "      <td>0</td>\n",
              "      <td>7.164009</td>\n",
              "      <td>0.008847</td>\n",
              "    </tr>\n",
              "    <tr>\n",
              "      <th>...</th>\n",
              "      <td>...</td>\n",
              "      <td>...</td>\n",
              "      <td>...</td>\n",
              "      <td>...</td>\n",
              "      <td>...</td>\n",
              "      <td>...</td>\n",
              "      <td>...</td>\n",
              "      <td>...</td>\n",
              "      <td>...</td>\n",
              "    </tr>\n",
              "    <tr>\n",
              "      <th>2021-12-27</th>\n",
              "      <td>4733.990234</td>\n",
              "      <td>4791.490234</td>\n",
              "      <td>4733.990234</td>\n",
              "      <td>4791.189941</td>\n",
              "      <td>2264120000</td>\n",
              "      <td>0</td>\n",
              "      <td>0</td>\n",
              "      <td>8.474534</td>\n",
              "      <td>0.013744</td>\n",
              "    </tr>\n",
              "    <tr>\n",
              "      <th>2021-12-28</th>\n",
              "      <td>4795.490234</td>\n",
              "      <td>4807.020020</td>\n",
              "      <td>4780.040039</td>\n",
              "      <td>4786.350098</td>\n",
              "      <td>2217050000</td>\n",
              "      <td>0</td>\n",
              "      <td>0</td>\n",
              "      <td>8.473523</td>\n",
              "      <td>-0.001011</td>\n",
              "    </tr>\n",
              "    <tr>\n",
              "      <th>2021-12-29</th>\n",
              "      <td>4788.640137</td>\n",
              "      <td>4804.060059</td>\n",
              "      <td>4778.080078</td>\n",
              "      <td>4793.060059</td>\n",
              "      <td>2369370000</td>\n",
              "      <td>0</td>\n",
              "      <td>0</td>\n",
              "      <td>8.474924</td>\n",
              "      <td>0.001401</td>\n",
              "    </tr>\n",
              "    <tr>\n",
              "      <th>2021-12-30</th>\n",
              "      <td>4794.229980</td>\n",
              "      <td>4808.930176</td>\n",
              "      <td>4775.330078</td>\n",
              "      <td>4778.729980</td>\n",
              "      <td>2390990000</td>\n",
              "      <td>0</td>\n",
              "      <td>0</td>\n",
              "      <td>8.471930</td>\n",
              "      <td>-0.002994</td>\n",
              "    </tr>\n",
              "    <tr>\n",
              "      <th>2021-12-31</th>\n",
              "      <td>4775.209961</td>\n",
              "      <td>4786.830078</td>\n",
              "      <td>4765.750000</td>\n",
              "      <td>4766.180176</td>\n",
              "      <td>2446190000</td>\n",
              "      <td>0</td>\n",
              "      <td>0</td>\n",
              "      <td>8.469300</td>\n",
              "      <td>-0.002630</td>\n",
              "    </tr>\n",
              "  </tbody>\n",
              "</table>\n",
              "<p>2516 rows × 9 columns</p>\n",
              "</div>"
            ],
            "text/plain": [
              "                   Open         High          Low        Close      Volume  \\\n",
              "Date                                                                         \n",
              "2012-01-04  1277.030029  1278.729980  1268.099976  1277.300049  3592580000   \n",
              "2012-01-05  1277.300049  1283.050049  1265.260010  1281.060059  4315950000   \n",
              "2012-01-06  1280.930054  1281.839966  1273.339966  1277.810059  3656830000   \n",
              "2012-01-09  1277.829956  1281.989990  1274.550049  1280.699951  3371600000   \n",
              "2012-01-10  1280.770020  1296.459961  1280.770020  1292.079956  4221960000   \n",
              "...                 ...          ...          ...          ...         ...   \n",
              "2021-12-27  4733.990234  4791.490234  4733.990234  4791.189941  2264120000   \n",
              "2021-12-28  4795.490234  4807.020020  4780.040039  4786.350098  2217050000   \n",
              "2021-12-29  4788.640137  4804.060059  4778.080078  4793.060059  2369370000   \n",
              "2021-12-30  4794.229980  4808.930176  4775.330078  4778.729980  2390990000   \n",
              "2021-12-31  4775.209961  4786.830078  4765.750000  4766.180176  2446190000   \n",
              "\n",
              "            Dividends  Stock Splits  logClose     R_log  \n",
              "Date                                                     \n",
              "2012-01-04          0             0  7.152504  0.000188  \n",
              "2012-01-05          0             0  7.155443  0.002939  \n",
              "2012-01-06          0             0  7.152903 -0.002540  \n",
              "2012-01-09          0             0  7.155162  0.002259  \n",
              "2012-01-10          0             0  7.164009  0.008847  \n",
              "...               ...           ...       ...       ...  \n",
              "2021-12-27          0             0  8.474534  0.013744  \n",
              "2021-12-28          0             0  8.473523 -0.001011  \n",
              "2021-12-29          0             0  8.474924  0.001401  \n",
              "2021-12-30          0             0  8.471930 -0.002994  \n",
              "2021-12-31          0             0  8.469300 -0.002630  \n",
              "\n",
              "[2516 rows x 9 columns]"
            ]
          },
          "execution_count": 4,
          "metadata": {},
          "output_type": "execute_result"
        }
      ],
      "source": [
        "SP500[\"logClose\"] = np.log(SP500.Close)\n",
        "\n",
        "SP500[\"R_log\"] = SP500.logClose.diff()\n",
        "\n",
        "SP500 = SP500.dropna()\n",
        "\n",
        "SP500\n"
      ]
    },
    {
      "cell_type": "code",
      "execution_count": null,
      "id": "f4485bbc",
      "metadata": {
        "id": "f4485bbc"
      },
      "outputs": [],
      "source": [
        "from scipy.optimize import minimize\n",
        "import scipy.stats as ss"
      ]
    },
    {
      "cell_type": "markdown",
      "id": "d679dd00",
      "metadata": {
        "id": "d679dd00"
      },
      "source": [
        "2. Fit using scipy optimize"
      ]
    },
    {
      "cell_type": "code",
      "execution_count": null,
      "id": "29a711e3",
      "metadata": {
        "id": "29a711e3"
      },
      "outputs": [],
      "source": [
        ""
      ]
    },
    {
      "cell_type": "code",
      "execution_count": null,
      "id": "0b561b76",
      "metadata": {
        "id": "0b561b76",
        "outputId": "077bfc68-123c-4d7e-8ce8-67fccd6a90e1"
      },
      "outputs": [
        {
          "data": {
            "text/plain": [
              "      fun: nan\n",
              " hess_inv: array([[1, 0, 0],\n",
              "       [0, 1, 0],\n",
              "       [0, 0, 1]])\n",
              "      jac: array([nan, nan, nan])\n",
              "  message: 'Desired error not necessarily achieved due to precision loss.'\n",
              "     nfev: 448\n",
              "      nit: 1\n",
              "     njev: 112\n",
              "   status: 2\n",
              "  success: False\n",
              "        x: array([ 5.68540016e-01, -1.03323964e+03,  2.06458492e+01])"
            ]
          },
          "execution_count": 139,
          "metadata": {},
          "output_type": "execute_result"
        }
      ],
      "source": [
        "x = SP500.R_log\n",
        "\n",
        "\n",
        "llh = lambda theta: ss.t.logpdf(x,df=theta[2], loc= theta[0],scale= theta[1] ).sum()\n",
        "theta0 = np.array([0,1,20])  # inital guess for location, scale, and df.  Often, these are obtained via moments\n",
        "\n",
        "minimize(lambda theta: -llh(theta), theta0)  # We minimze the *negative* log-liklihood to maximize\n",
        "\n"
      ]
    },
    {
      "cell_type": "markdown",
      "id": "49a2e7de",
      "metadata": {
        "id": "49a2e7de"
      },
      "source": [
        "OK, well that didn't work.  After some fussing with some of the options to no avail, we switch to a more robust method that doesn't rely on calculating the gradient (such methods are slower generally speaking, but these are common tradeoffs)."
      ]
    },
    {
      "cell_type": "code",
      "execution_count": null,
      "id": "92376664",
      "metadata": {
        "id": "92376664",
        "outputId": "00d7e324-e3b6-427a-e72a-0c9e0adf61aa"
      },
      "outputs": [
        {
          "data": {
            "text/plain": [
              " final_simplex: (array([[8.92859376e-04, 5.60980415e-03, 2.59700318e+00],\n",
              "       [8.92872519e-04, 5.60986979e-03, 2.59708374e+00],\n",
              "       [8.92858884e-04, 5.60982794e-03, 2.59709799e+00],\n",
              "       [8.92943510e-04, 5.60981447e-03, 2.59702113e+00]]), array([-8434.100116  , -8434.10011599, -8434.10011589, -8434.10011585]))\n",
              "           fun: -8434.100115996618\n",
              "       message: 'Optimization terminated successfully.'\n",
              "          nfev: 391\n",
              "           nit: 217\n",
              "        status: 0\n",
              "       success: True\n",
              "             x: array([8.92859376e-04, 5.60980415e-03, 2.59700318e+00])"
            ]
          },
          "execution_count": 140,
          "metadata": {},
          "output_type": "execute_result"
        }
      ],
      "source": [
        "minimize(lambda theta: -llh(theta), theta0, method  ='Nelder-Mead')  # We minimze the *negative* log-liklihood to maximize"
      ]
    },
    {
      "cell_type": "code",
      "execution_count": null,
      "id": "e297bdd0",
      "metadata": {
        "id": "e297bdd0",
        "outputId": "ed9c7780-184b-470c-8de0-33433f3ba233"
      },
      "outputs": [
        {
          "name": "stdout",
          "output_type": "stream",
          "text": [
            "the MLE df is  2.5970031772019926\n",
            "the MLE location is  0.0008928593760875012\n",
            "the MLE scale is  0.005609804150923295\n"
          ]
        }
      ],
      "source": [
        "output = minimize(lambda theta: -llh(theta), theta0, method  ='Nelder-Mead')\n",
        "\n",
        "print(\"the MLE df is \",output.x[2] )\n",
        "print(\"the MLE location is \",output.x[0] )\n",
        "print(\"the MLE scale is \",output.x[1] )\n"
      ]
    },
    {
      "cell_type": "markdown",
      "id": "99b72dc0",
      "metadata": {
        "id": "99b72dc0"
      },
      "source": [
        "We now just use the fit method built in to scipy.stats"
      ]
    },
    {
      "cell_type": "code",
      "execution_count": null,
      "id": "84812185",
      "metadata": {
        "id": "84812185",
        "outputId": "03e2e9e4-f9dc-4929-8169-0bf8718e7dad"
      },
      "outputs": [
        {
          "data": {
            "text/plain": [
              "(2.597067171157577, 0.0008929027875559444, 0.005609827322984689)"
            ]
          },
          "execution_count": 102,
          "metadata": {},
          "output_type": "execute_result"
        }
      ],
      "source": [
        "params = ss.t.fit(x)\n",
        "params"
      ]
    },
    {
      "cell_type": "markdown",
      "id": "dba97919",
      "metadata": {
        "id": "dba97919"
      },
      "source": [
        "We can see that these agree with the previous optimization."
      ]
    },
    {
      "cell_type": "markdown",
      "id": "e23f745a",
      "metadata": {
        "id": "e23f745a"
      },
      "source": [
        " We next compute the Moment Match estimates.\n",
        " \n",
        " Recall that the excess kurtosis for the t -dist is $EK = \\frac{6}{4-\\nu}$. Location and scale don't chance the kurtosis, so we first solve\n",
        " \n",
        " "
      ]
    },
    {
      "cell_type": "code",
      "execution_count": null,
      "id": "daf54e65",
      "metadata": {
        "id": "daf54e65",
        "outputId": "1e361325-f6b0-44c2-ddc2-1ceb1c4e5947"
      },
      "outputs": [
        {
          "data": {
            "text/plain": [
              "4.273185445548164"
            ]
          },
          "execution_count": 104,
          "metadata": {},
          "output_type": "execute_result"
        }
      ],
      "source": [
        "dfMM = 4 + 6/x.kurt()\n",
        "dfMM"
      ]
    },
    {
      "cell_type": "markdown",
      "id": "bedf85d0",
      "metadata": {
        "id": "bedf85d0"
      },
      "source": [
        "We next note that if the scale is $\\eta$,  the variance satisfies $\\mathrm{Var}(X) = \\eta^2 \\frac{\\nu}{\\nu -2}$\n",
        "\n",
        "Hence, we estimate the scale $\\eta = \\sqrt{ \\mathrm{Var}(X) \\frac{\\nu-2}{\\nu}}$\n",
        "\n"
      ]
    },
    {
      "cell_type": "code",
      "execution_count": null,
      "id": "143b7e0c",
      "metadata": {
        "id": "143b7e0c",
        "outputId": "9c584652-01e4-4749-a023-72315a695155"
      },
      "outputs": [
        {
          "data": {
            "text/plain": [
              "0.007541434772582233"
            ]
          },
          "execution_count": 106,
          "metadata": {},
          "output_type": "execute_result"
        }
      ],
      "source": [
        "scaleMM = x.std()*np.sqrt((dfMM -2)/dfMM)\n",
        "\n",
        "scaleMM\n"
      ]
    },
    {
      "cell_type": "markdown",
      "id": "068dd816",
      "metadata": {
        "id": "068dd816"
      },
      "source": [
        "Finally, location is just the mean (in this case)"
      ]
    },
    {
      "cell_type": "code",
      "execution_count": null,
      "id": "a043749b",
      "metadata": {
        "id": "a043749b",
        "outputId": "cffbadc4-f57f-4b14-df81-a85f3a4d7ca3"
      },
      "outputs": [
        {
          "data": {
            "text/plain": [
              "0.0005234437899103714"
            ]
          },
          "execution_count": 107,
          "metadata": {},
          "output_type": "execute_result"
        }
      ],
      "source": [
        "locMM = x.mean()\n",
        "locMM"
      ]
    },
    {
      "cell_type": "markdown",
      "id": "8d087b53",
      "metadata": {
        "id": "8d087b53"
      },
      "source": [
        "Now we make some plots to compare with the data."
      ]
    },
    {
      "cell_type": "code",
      "execution_count": null,
      "id": "25c21728",
      "metadata": {
        "id": "25c21728",
        "outputId": "64e063c3-3808-4212-d23e-451818b85658"
      },
      "outputs": [
        {
          "data": {
            "image/png": "[encoded data removed]",
            "text/plain": [
              "<Figure size 1080x720 with 1 Axes>"
            ]
          },
          "metadata": {
            "needs_background": "light"
          },
          "output_type": "display_data"
        }
      ],
      "source": [
        "y = np.linspace(-.05, .05,100)\n",
        "plt.figure(figsize = (15,10))\n",
        "\n",
        "plt.hist(x, bins=60,alpha = .5, edgecolor = \"black\", density = True, label = \"data\")\n",
        "\n",
        "plt.plot(y, ss.t.pdf(y, df = params[0], loc = params[1], scale= params[2]), label=\"MLE estimated\" )\n",
        "\n",
        "\n",
        "plt.plot(y, ss.t.pdf(y, df = dfMM, loc = locMM, scale= scaleMM), label=\"MM estimated\" )\n",
        "\n",
        "plt.legend()\n",
        "\n",
        "plt.title(\"MLE and MM fit of Student T to S&P data\")\n",
        "\n",
        "plt.show()"
      ]
    },
    {
      "cell_type": "markdown",
      "id": "d53657d1",
      "metadata": {
        "id": "d53657d1"
      },
      "source": [
        "Recall that another visual way to compare is via the QQ plot"
      ]
    },
    {
      "cell_type": "code",
      "execution_count": null,
      "id": "eaf81695",
      "metadata": {
        "id": "eaf81695",
        "outputId": "f33f4285-fb9e-43b1-a421-2f1985d37f01"
      },
      "outputs": [
        {
          "data": {
            "image/png": "[encoded data removed]",
            "text/plain": [
              "<Figure size 1080x720 with 1 Axes>"
            ]
          },
          "metadata": {
            "needs_background": "light"
          },
          "output_type": "display_data"
        }
      ],
      "source": [
        "qs = np.linspace(0.001,.999, 1000)\n",
        "\n",
        "plt.figure(figsize = (15,10))\n",
        "\n",
        "plt.scatter( np.quantile(x, qs),ss.t.ppf(qs, df = params[0], loc = params[1], scale= params[2]), label=\"MLE QQ\", s =10)\n",
        "\n",
        "plt.scatter( np.quantile(x, qs),ss.t.ppf(qs, df = dfMM, loc = locMM, scale= scaleMM), label=\"MM QQ\", s= 10)\n",
        "\n",
        "plt.plot(np.quantile(x, qs),np.quantile(x, qs), c= 'r', label = \"$y=x\")\n",
        "\n",
        "plt.legend()\n",
        "plt.xlabel(\"Daily log-return - actual\")\n",
        "\n",
        "plt.ylabel(\"Daily log-return - theoretical\")\n",
        "plt.title(\"QQ plot of Student T fit to S&P data\")\n",
        "\n",
        "plt.show()"
      ]
    },
    {
      "cell_type": "markdown",
      "id": "065d5824",
      "metadata": {
        "id": "065d5824"
      },
      "source": [
        ""
      ]
    },
    {
      "cell_type": "code",
      "execution_count": null,
      "id": "21eef761",
      "metadata": {
        "id": "21eef761"
      },
      "outputs": [],
      "source": [
        "llh = lambda theta: ss.t.logpdf(x,df=theta[2], loc= theta[0],scale= theta[1] ).sum()"
      ]
    },
    {
      "cell_type": "code",
      "execution_count": null,
      "id": "e3d2eb1e",
      "metadata": {
        "id": "e3d2eb1e"
      },
      "outputs": [],
      "source": [
        "from scipy.special import digamma, gamma\n",
        "\n",
        "def gradlogpdf(x, df, loc, scale):\n",
        "    \n",
        "    #Gradient wrt to parameters.  x is a given.\n",
        "    \n",
        "    y = (x-loc)/scale\n",
        "    \n",
        "   \n",
        "    \n",
        "    v1 = -(df+1)/2 * (2*y/df)/(1+y**2/df)*(-1)/scale\n",
        "    \n",
        "    \n",
        "    v2 = -1/scale - (df+1)/2 * (2*y/df)/(1+y**2/df)* (-(x-loc)/scale**2)\n",
        "    \n",
        "    v3 = .5*digamma((df+1)/2) - 1/(2*df) -0.5*digamma(df/2) - 0.5*np.log(1+y**2/df) - \\\n",
        "         (df+1)/2*(-y**2)/(df**2 + df*y**2)\n",
        "    \n",
        "    \n",
        "    \n",
        "    \n",
        "    return np.array([v1,v2,v3])\n",
        "    \n",
        "    \n",
        "    "
      ]
    },
    {
      "cell_type": "code",
      "execution_count": null,
      "id": "7e91aeb9",
      "metadata": {
        "id": "7e91aeb9"
      },
      "outputs": [],
      "source": [
        "jacobian = lambda theta: -gradlogpdf(x, theta[2],theta[0],theta[1]).sum(axis = 1)"
      ]
    },
    {
      "cell_type": "code",
      "execution_count": null,
      "id": "ab28a4ca",
      "metadata": {
        "id": "ab28a4ca",
        "outputId": "a23e5179-2b86-42a8-b8b3-5b37d1111604"
      },
      "outputs": [
        {
          "data": {
            "text/plain": [
              "array([-0.04447376, -0.53629219,  0.84419787])"
            ]
          },
          "execution_count": 188,
          "metadata": {},
          "output_type": "execute_result"
        }
      ],
      "source": [
        "gradlogpdf(1.2, 5,7,2.5)"
      ]
    },
    {
      "cell_type": "code",
      "execution_count": null,
      "id": "260befc3",
      "metadata": {
        "id": "260befc3",
        "outputId": "04790ce1-dfa6-4b0d-a093-c699aed99815"
      },
      "outputs": [
        {
          "data": {
            "text/plain": [
              "-0.30509112734389277"
            ]
          },
          "execution_count": 168,
          "metadata": {},
          "output_type": "execute_result"
        }
      ],
      "source": [
        "h = .0001\n",
        "(ss.t.logpdf(1.2, df = 5+h, loc = 10, scale =2) - ss.t.logpdf(1.2, df = 5-h, loc = 10, scale =2))/(2*h)"
      ]
    },
    {
      "cell_type": "code",
      "execution_count": null,
      "id": "be827942",
      "metadata": {
        "id": "be827942",
        "outputId": "43f06aad-4606-44c2-b092-032eeaca0b8e"
      },
      "outputs": [
        {
          "data": {
            "text/plain": [
              "-0.5456702252315537"
            ]
          },
          "execution_count": 174,
          "metadata": {},
          "output_type": "execute_result"
        }
      ],
      "source": [
        "h = .0001\n",
        "(ss.t.logpdf(1.2, df = 5, loc = 3.5+h, scale =2) - ss.t.logpdf(1.2, df = 5, loc = 3.5-h, scale =2))/(2*h)"
      ]
    },
    {
      "cell_type": "code",
      "execution_count": null,
      "id": "f23ef916",
      "metadata": {
        "id": "f23ef916",
        "outputId": "a19fe733-2a58-4708-a5d8-372d0e129154"
      },
      "outputs": [
        {
          "data": {
            "text/plain": [
              "0.8441978747164569"
            ]
          },
          "execution_count": 187,
          "metadata": {},
          "output_type": "execute_result"
        }
      ],
      "source": [
        "h = .0001\n",
        "(ss.t.logpdf(1.2, df = 5, loc = 7, scale =2.5+h) - ss.t.logpdf(1.2, df = 5, loc = 7, scale =2.5-h))/(2*h)"
      ]
    },
    {
      "cell_type": "code",
      "execution_count": null,
      "id": "3b5d6bc9",
      "metadata": {
        "id": "3b5d6bc9",
        "outputId": "e2993843-6c23-47ce-ce2c-4f05f4617e96"
      },
      "outputs": [
        {
          "data": {
            "text/plain": [
              "array([ 1316.8058474 , -2680.37888117,   239.95264235])"
            ]
          },
          "execution_count": 203,
          "metadata": {},
          "output_type": "execute_result"
        }
      ],
      "source": [
        "-gradlogpdf(x, 5,7,2.5).sum(axis = 1)"
      ]
    },
    {
      "cell_type": "code",
      "execution_count": null,
      "id": "d955f0eb",
      "metadata": {
        "id": "d955f0eb",
        "outputId": "335c5e7e-b52d-47c4-bf2a-7005758d4010"
      },
      "outputs": [
        {
          "data": {
            "text/plain": [
              "      fun: -8434.100116024903\n",
              " hess_inv: array([[1.92464548e-08, 2.35858596e-10, 2.72330968e-07],\n",
              "       [2.35858596e-10, 2.46096744e-08, 1.73459540e-05],\n",
              "       [2.72330968e-07, 1.73459540e-05, 2.73546701e-02]])\n",
              "      jac: array([-1.12157068e-07, -1.22029996e-06,  6.31246166e-10])\n",
              "  message: 'Optimization terminated successfully.'\n",
              "     nfev: 24\n",
              "      nit: 13\n",
              "     njev: 24\n",
              "   status: 0\n",
              "  success: True\n",
              "        x: array([8.92864307e-04, 5.60983667e-03, 2.59703990e+00])"
            ]
          },
          "execution_count": 269,
          "metadata": {},
          "output_type": "execute_result"
        }
      ],
      "source": [
        "#guess = np.array([output.x[0] , output.x[1] ,output.x[2] ])\n",
        "\n",
        "guess = np.array([.00082, output.x[1] ,dfMM ])\n",
        "\n",
        "\n",
        "\n",
        "minimize(lambda theta: -llh(theta), guess, jac = jacobian ) "
      ]
    },
    {
      "cell_type": "code",
      "execution_count": null,
      "id": "c23fa287",
      "metadata": {
        "id": "c23fa287",
        "outputId": "071930db-692a-409b-ec63-5b60bbffefbb"
      },
      "outputs": [
        {
          "data": {
            "text/plain": [
              "      fun: -8434.10011602017\n",
              " hess_inv: array([[ 2.27868374e-08, -1.63662785e-10,  5.40893654e-07],\n",
              "       [-1.63662785e-10,  2.43089531e-08,  1.80738644e-05],\n",
              "       [ 5.40893654e-07,  1.80738644e-05,  2.95046473e-02]])\n",
              "      jac: array([ 0.140625  , -0.1953125 ,  0.00048828])\n",
              "  message: 'Desired error not necessarily achieved due to precision loss.'\n",
              "     nfev: 244\n",
              "      nit: 10\n",
              "     njev: 58\n",
              "   status: 2\n",
              "  success: False\n",
              "        x: array([8.92859451e-04, 5.60982355e-03, 2.59703524e+00])"
            ]
          },
          "execution_count": 270,
          "metadata": {},
          "output_type": "execute_result"
        }
      ],
      "source": [
        "minimize(lambda theta: -llh(theta), guess ) "
      ]
    },
    {
      "cell_type": "code",
      "execution_count": null,
      "id": "9b670061",
      "metadata": {
        "id": "9b670061",
        "outputId": "0702a463-1be6-49a2-af28-5b17702505d4"
      },
      "outputs": [
        {
          "data": {
            "text/plain": [
              "   direc: array([[1., 0., 0.],\n",
              "       [0., 1., 0.],\n",
              "       [0., 0., 1.]])\n",
              "     fun: 10971.65664787975\n",
              " message: 'Maximum number of function evaluations has been exceeded.'\n",
              "    nfev: 3010\n",
              "     nit: 74\n",
              "  status: 1\n",
              " success: False\n",
              "       x: array([2.58845179e+00, 9.84096712e-01, 6.07417771e+06])"
            ]
          },
          "execution_count": 262,
          "metadata": {},
          "output_type": "execute_result"
        }
      ],
      "source": [
        "minimize(lambda theta: -llh(theta), guess, method = \"Powell\") "
      ]
    },
    {
      "cell_type": "code",
      "execution_count": null,
      "id": "41366abd",
      "metadata": {
        "id": "41366abd",
        "outputId": "5c17acad-1770-4a4c-cfdd-a352653c15e6"
      },
      "outputs": [
        {
          "data": {
            "text/plain": [
              "0.0005234437899103714"
            ]
          },
          "execution_count": 227,
          "metadata": {},
          "output_type": "execute_result"
        }
      ],
      "source": [
        "locMM"
      ]
    },
    {
      "cell_type": "code",
      "execution_count": null,
      "id": "1a458547",
      "metadata": {
        "id": "1a458547",
        "outputId": "af93a6bf-3110-45df-8e3a-0b428e1df7d5"
      },
      "outputs": [
        {
          "data": {
            "text/plain": [
              "0.007541434772582233"
            ]
          },
          "execution_count": 232,
          "metadata": {},
          "output_type": "execute_result"
        }
      ],
      "source": [
        "scaleMM"
      ]
    },
    {
      "cell_type": "code",
      "execution_count": null,
      "id": "8f3e6964",
      "metadata": {
        "id": "8f3e6964"
      },
      "outputs": [],
      "source": [
        ""
      ]
    }
  ],
  "metadata": {
    "kernelspec": {
      "display_name": "Python 3 (ipykernel)",
      "language": "python",
      "name": "python3"
    },
    "language_info": {
      "codemirror_mode": {
        "name": "ipython",
        "version": 3
      },
      "file_extension": ".py",
      "mimetype": "text/x-python",
      "name": "python",
      "nbconvert_exporter": "python",
      "pygments_lexer": "ipython3",
      "version": "3.9.7"
    },
    "colab": {
      "name": "Copy of MLE Fitting.ipynb",
      "provenance": [],
      "include_colab_link": true
    }
  },
  "nbformat": 4,
  "nbformat_minor": 5
}