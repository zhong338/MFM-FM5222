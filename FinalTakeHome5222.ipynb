{
  "cells": [
    {
      "cell_type": "markdown",
      "metadata": {
        "id": "view-in-github",
        "colab_type": "text"
      },
      "source": [
        "<a href=\"https://colab.research.google.com/github/zhong338/MFM-FM5222/blob/main/FinalTakeHome5222.ipynb\" target=\"_parent\"><img src=\"https://colab.research.google.com/assets/colab-badge.svg\" alt=\"Open In Colab\"/></a>"
      ]
    },
    {
      "cell_type": "markdown",
      "id": "b8d6970e",
      "metadata": {
        "id": "b8d6970e"
      },
      "source": [
        "# FM 5222\n",
        "# Final Exam - Take Home Portion\n",
        "\n",
        "## Due:  Monday, May 2\n",
        "\n",
        "## Attestation\n",
        "\n",
        "I hereby declare:\n",
        "\n",
        "1. The work submitted is mine and mine alone\n",
        "2. I did not consult another person for answers or interpretations. \n",
        "3. I did not assist or share answers with another student.\n",
        "\n",
        "\n",
        "Name:\n",
        "\n",
        "\n",
        "\n",
        "\n",
        "Signature (Type your name):"
      ]
    },
    {
      "cell_type": "markdown",
      "id": "1623e65c",
      "metadata": {
        "id": "1623e65c"
      },
      "source": [
        "1.  Load the data set below.  You are going to fit a distribution to the data."
      ]
    },
    {
      "cell_type": "code",
      "execution_count": null,
      "id": "052a824e",
      "metadata": {
        "id": "052a824e"
      },
      "outputs": [],
      "source": [
        "import pandas as pd\n",
        "data1 = pd.read_csv('https://raw.githubusercontent.com/TheMadHatter666/MCFAM/main/data1.csv')"
      ]
    },
    {
      "cell_type": "markdown",
      "id": "b5558c1d",
      "metadata": {
        "id": "b5558c1d"
      },
      "source": [
        "A) Perform some EDA including (at least) \n",
        "\n",
        "* Descriptive Statistics\n",
        "* A Histogram\n",
        "* A Box Plot\n",
        "\n",
        "\n",
        "Comment on anything of note."
      ]
    },
    {
      "cell_type": "markdown",
      "id": "008009ba",
      "metadata": {
        "id": "008009ba"
      },
      "source": [
        "B) Fit the following distributions to the data set:\n",
        "\n",
        "\n",
        "* Normal\n",
        "* Lognormal (with and without location as a parameter)\n",
        "* Gamma (with and without location as a parameter)\n",
        "* Skew-normal\n",
        "* Student t\n",
        "\n",
        "\n",
        "\n",
        "\n"
      ]
    },
    {
      "cell_type": "markdown",
      "id": "565f0ed0",
      "metadata": {
        "id": "565f0ed0"
      },
      "source": [
        "C) Select the model you think best fits the data set. Say why."
      ]
    },
    {
      "cell_type": "markdown",
      "id": "d1e408fe",
      "metadata": {
        "id": "d1e408fe"
      },
      "source": [
        "D) For the model you selected, use bootstrapping to estimate \n",
        "\n",
        "* Bias in your parameter estimates\n",
        "* The standard deviation of your parameter estimates\n",
        "* A $90\\%$ basic bootstrap confidence interval."
      ]
    },
    {
      "cell_type": "code",
      "execution_count": null,
      "id": "62b8183f",
      "metadata": {
        "id": "62b8183f"
      },
      "outputs": [],
      "source": [
        ""
      ]
    },
    {
      "cell_type": "markdown",
      "id": "a2663bac",
      "metadata": {
        "id": "a2663bac"
      },
      "source": [
        "2.  This question is on regression.  Load the data set below."
      ]
    },
    {
      "cell_type": "code",
      "execution_count": null,
      "id": "b0095832",
      "metadata": {
        "id": "b0095832"
      },
      "outputs": [],
      "source": [
        "data2 = pd.read_csv('https://raw.githubusercontent.com/TheMadHatter666/MCFAM/main/data2.csv')"
      ]
    },
    {
      "cell_type": "markdown",
      "id": "e651fc12",
      "metadata": {
        "id": "e651fc12"
      },
      "source": [
        "A) Using numpy, find the least square estimates for the coefficients of the model\n",
        "\n",
        "$$Y = \\beta_0 + \\beta_1 X_1 + \\beta_2 X_2 + \\cdots \\beta_p X_p + \\epsilon$$\n",
        "\n",
        "both with and without an intercept.   "
      ]
    },
    {
      "cell_type": "markdown",
      "id": "3d01787b",
      "metadata": {
        "id": "3d01787b"
      },
      "source": [
        "B) Use statsmodels to verify your result from A.  Comment on the summary output.  Note any values that are noteworthy.    At this point, do you think you want to include an intercept (say why)?  Do you believe all variables are needed  (say why)? "
      ]
    },
    {
      "cell_type": "markdown",
      "id": "0bb77cf7",
      "metadata": {
        "id": "0bb77cf7"
      },
      "source": [
        "C) Push the data into R and perform step regression.  Determine the the best model choice (in your opinion)."
      ]
    },
    {
      "cell_type": "markdown",
      "id": "dc51c57e",
      "metadata": {
        "id": "dc51c57e"
      },
      "source": [
        "D) Identify (for your preferred model):\n",
        "\n",
        "* Any outliers among the residuals\n",
        "* Any high leverage points\n",
        "* Any points with a large Cook's distance"
      ]
    },
    {
      "cell_type": "markdown",
      "id": "86c95e80",
      "metadata": {
        "id": "86c95e80"
      },
      "source": [
        "E) Assess whether there is multicolinearity in the $X$ data."
      ]
    },
    {
      "cell_type": "markdown",
      "id": "aabbc472",
      "metadata": {
        "id": "aabbc472"
      },
      "source": [
        ""
      ]
    },
    {
      "cell_type": "code",
      "execution_count": null,
      "id": "6530c8f8",
      "metadata": {
        "id": "6530c8f8"
      },
      "outputs": [],
      "source": [
        ""
      ]
    },
    {
      "cell_type": "markdown",
      "id": "d54e993b",
      "metadata": {
        "id": "d54e993b"
      },
      "source": [
        "3. This question is a time-series question.\n",
        "\n",
        "\n",
        "A) Create a $1000$ element series of Gaussian White Noise with $\\sigma_{\\epsilon} = 2$.\n",
        "\n",
        "\n",
        "\n",
        "\n",
        "\n",
        "B) Using the White Noise from part A, create an ARIMA(1,1,2) time series $y_t$  Set $\\phi_1 = 0.4, \\theta_1 = 0.2,$ and $\\theta_2  = -0.5$. Set initial values as you prefer, but explicitly state what you are setting them to be. \n",
        "\n",
        "\n",
        "\n",
        "\n",
        "\n",
        "\n",
        "C) Make a plot of $y_t$ and show (using statistical test(s)) that it not stationary.\n",
        "\n",
        "\n",
        "\n",
        "\n",
        "\n",
        "\n",
        "D) Define the series $x_t = y_t - y_{t-1}$.  Show (using statistical test(s)) that $x_t$ is not White Noise.   Plot the auto-correlation function.\n",
        "\n",
        "\n",
        "\n",
        "\n",
        "\n",
        "\n",
        "E) Use pmdarima auto_arima from pmdarima to \"fit\" the $(p,d,q)$ for $y_t$.  Does it agree with how you actually generated the model?\n",
        "\n",
        "\n",
        "\n",
        "\n",
        "\n",
        "\n",
        "\n",
        "F) Fit the coefficients using ARIMA from statsmodels.tsa.arima.model.  If auto_arima produces the wrong model, fit both the auto_arima model and the \"true\" model.  Comment on how well the coefficients were estimated.\n",
        "\n",
        "\n",
        "\n",
        "\n",
        "\n",
        "\n",
        "\n",
        "\n",
        "\n",
        "\n",
        "\n",
        "\n",
        "\n",
        "\n"
      ]
    },
    {
      "cell_type": "code",
      "execution_count": null,
      "id": "ef07f9c6",
      "metadata": {
        "id": "ef07f9c6"
      },
      "outputs": [],
      "source": [
        ""
      ]
    },
    {
      "cell_type": "markdown",
      "id": "1d89d25c",
      "metadata": {
        "id": "1d89d25c"
      },
      "source": [
        "4.  This question regards Bayesian analysis\n",
        "\n",
        "\n",
        "Another way to parmetrize the normal distribution is to use \"precision\" $\\tau = \\frac{1}{\\sigma^2}$\n",
        "\n",
        "So for example, if $X \\sim \\mathcal{N}(\\mu, \\sigma^2 )$ , we know its PDF is \n",
        "\n",
        "$$f_X(x; \\mu, \\sigma) = \\frac{1}{\\sigma\\sqrt{2\\pi}}e^{-\\frac{(x-\\mu)^2}{2\\sigma^2}}$$\n",
        "\n",
        "\n",
        "But we can also write this\n",
        "\n",
        "\n",
        "$$f_X(x; \\mu, \\tau) = \\sqrt{\\frac{\\tau}{2\\pi}}e^{-\\frac{\\tau(x-\\mu)^2}{2}}$$\n",
        "\n",
        "\n",
        "Suppose we know that $\\mu = 0$, then this simplifies to \n",
        "\n",
        "\n",
        "$$f_X(x; \\tau) = \\sqrt{\\frac{\\tau}{2\\pi}}e^{-\\frac{\\tau x^2}{2}}$$\n",
        "\n",
        "\n",
        "A) Suppose that a data set $\\{x_1,x_2,...,x_N\\}$ is distributed as above (i.e. normal with mean zero) with unkown $\\tau$.  Show that the Gamma distribution is a conjugate prior for $\\tau$. What are the posterior (revised) parameters $\\alpha$ and $\\beta$ in terms of the intial pair $(\\alpha, \\beta)$ and the data?\n",
        "\n",
        "HINT: Recall that if the prior density $g(\\tau; \\alpha, \\beta)$ is Gamma, then  \n",
        "$$g(\\tau; \\alpha, \\beta) \\propto \\tau^{\\alpha -1} e^{-\\beta \\tau}$$ \n",
        "\n",
        "Remember, we don't care about the constants that just make the density integrate to 1; only the functional form determines the density. \n",
        "\n",
        "\n",
        " \n",
        "\n",
        "\n"
      ]
    },
    {
      "cell_type": "markdown",
      "id": "698d1eba",
      "metadata": {
        "id": "698d1eba"
      },
      "source": [
        "B) Generate a data set with $\\tau = 3$ and $N = 100$.  Determine the exact ( that is, state the new $\\alpha$ and $\\beta$) posterior given your data and assuming that for the initial prior, $\\alpha = 4$ and $\\beta = 1$.  "
      ]
    },
    {
      "cell_type": "markdown",
      "id": "10dca246",
      "metadata": {
        "id": "10dca246"
      },
      "source": [
        "C) Use pymc3 to create samples from the posterior distribution.  Note that in pymc3 you can use \"tau\" instead of \"sigma\" when specifying a normal distribution."
      ]
    },
    {
      "cell_type": "markdown",
      "id": "cb074515",
      "metadata": {
        "id": "cb074515"
      },
      "source": [
        "D) Compare the KDE from your samples in part C with the \"True\" posterior from part B.  Also compare mean and and standard deviations."
      ]
    },
    {
      "cell_type": "code",
      "execution_count": null,
      "id": "5cb2fde2",
      "metadata": {
        "id": "5cb2fde2"
      },
      "outputs": [],
      "source": [
        ""
      ]
    }
  ],
  "metadata": {
    "kernelspec": {
      "display_name": "Python 3 (ipykernel)",
      "language": "python",
      "name": "python3"
    },
    "language_info": {
      "codemirror_mode": {
        "name": "ipython",
        "version": 3
      },
      "file_extension": ".py",
      "mimetype": "text/x-python",
      "name": "python",
      "nbconvert_exporter": "python",
      "pygments_lexer": "ipython3",
      "version": "3.9.7"
    },
    "colab": {
      "name": "FinalTakeHome5222.ipynb",
      "provenance": [],
      "include_colab_link": true
    }
  },
  "nbformat": 4,
  "nbformat_minor": 5
}