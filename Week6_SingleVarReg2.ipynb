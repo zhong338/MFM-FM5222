{
  "cells": [
    {
      "cell_type": "markdown",
      "metadata": {
        "id": "view-in-github",
        "colab_type": "text"
      },
      "source": [
        "<a href=\"https://colab.research.google.com/github/zhong338/MFM-FM5222/blob/main/Week6_SingleVarReg2.ipynb\" target=\"_parent\"><img src=\"https://colab.research.google.com/assets/colab-badge.svg\" alt=\"Open In Colab\"/></a>"
      ]
    },
    {
      "cell_type": "markdown",
      "id": "229ad062",
      "metadata": {
        "id": "229ad062"
      },
      "source": [
        "# Single Variable Linear Regression II\n",
        "\n",
        "# MLE View\n",
        "\n",
        "\n",
        "We continue our discussion by looking at single variable linear regression.  Here we think of $Y$ as a Random Variable.  We can think of $X$ as a random variable as well, but we don't have to.  It can be just a variable.\n",
        "\n",
        "The model then treats the residual $\\epsilon = \\alpha + \\beta X - Y$ as a random variable.  The underlying assumption is that\n",
        "\n",
        "$$\\epsilon \\sim \\mathcal{N}(0, \\sigma^2)$$\n",
        "\n",
        "That is, the residuals are normally distributed with a mean of zero.  Futhermore, it is assumed that the residuals are IID (they are pure noise).\n",
        "\n",
        "In this formulation, the model will have $3$ parameters: $\\alpha, \\beta$, and $\\sigma$.\n",
        "\n",
        "Let us approach this just like we would an MLE probelm.\n",
        "\n",
        "Given the data and our parameters choices, we can obsserve the values \n",
        "\n",
        "\n",
        "$\\epsilon_i =  \\alpha + \\beta X_i - Y_i$\n",
        "\n",
        "\n",
        "The liklihood function is\n",
        "\n",
        "$L = \\Pi_{1=1}^N \\frac{1}{\\sigma}\\phi\\left(\\frac{\\epsilon_i}{\\sigma}   \\right)$\n",
        "\n",
        "where \n",
        "\n",
        "$\\phi(x) = \\frac{1}{\\sqrt{2\\pi}}e^{-\\frac{x^2}{2}}$\n",
        "\n",
        "The log-liklihood is\n",
        "\n",
        "$$\\ell(\\alpha, \\beta, \\sigma;\\{ x_i \\}) =  \\sum_{i=1}^N \\left(\\ln\\left( \\frac{1}{\\sigma}\\phi\\left(\\frac{\\epsilon_i}{\\sigma}   \\right)   \\right)                    \\right) \\\\\n",
        "= \\sum_{i=1}^N \\left(-\\ln(\\sigma) -\\frac{1}{2} \\ln(2\\pi) - \\frac{\\epsilon_i^2}{2\\sigma^2}                      \\right)$$\n",
        "\n",
        "\n",
        "We note first that $\\epsilon_i^2$ does not depend on $\\sigma$, so maximizing the log-liklihood requires minimizing \n",
        "\n",
        "$$ \\sum_{i=1}^N \\epsilon_i^2$$\n",
        "\n",
        "\n",
        "which means that the MLE values for $\\alpha$ and $\\beta$ are the same as before (they minimize the sum squared residuals).\n",
        "\n",
        "\n",
        "Turning to $\\sigma$, we calculate\n",
        "\n",
        "$$ \\frac{\\partial}{\\partial \\sigma} \\ell(\\alpha, \\beta, \\sigma;\\{ x_i \\})= \\sum_{i=1}^N\\left(-\\frac{1}{\\sigma}   +\\frac{\\epsilon_i^2}{\\sigma^3}\\right)$$\n",
        "\n",
        "Setting this to zero, we see that we have the estimate\n",
        "\n",
        "$$\\hat{\\sigma}^2 = \\frac{1}{N}\\sum_{i=1}^N \\hat{\\epsilon}_i^2$$\n",
        "\n",
        "where\n",
        "\n",
        "$$\\hat{\\epsilon}_i =  \\hat{\\alpha} + \\hat{\\beta} X_i - Y_i$$\n",
        "\n",
        "\n",
        "$$\\hat{\\alpha} =\\frac{\\left( \\sum_{i=1}^N x_i^2 \\right)\\left( \\sum_{i=1}^N y_i \\right) - \\left( \\sum_{i=1}^N x_i \\right)\\left( \\sum_{i=1}^N x_i y_i\\right)}{\\Delta} $$\n",
        "\n",
        "$$\\hat{\\beta} = \\frac{N\\left( \\sum_{i=1}^N x_iy_i \\right) - \\left( \\sum_{i=1}^N x_i \\right)\\left( \\sum_{i=1}^N  y_i\\right)}{\\Delta} $$\n",
        "\n",
        "and \n",
        "\n",
        "$$\\Delta = N\\left( \\sum_{i=1}^N x_i^2 \\right) - \\left( \\sum_{i=1}^N x_i \\right)^2$$\n",
        "\n",
        "\n",
        "Note that we are use the \"hat\" notation now to indicate that we are estimating the values of our parameters.\n",
        "\n",
        "\n",
        "\n",
        "\n",
        "\n",
        "\n",
        "\n",
        "\n"
      ]
    },
    {
      "cell_type": "markdown",
      "id": "e7e5ea45",
      "metadata": {
        "id": "e7e5ea45"
      },
      "source": [
        "### A little more on $\\hat{\\alpha}$ and $\\hat{\\beta}$\n",
        "\n",
        "\n",
        "\n",
        "Taking our expressions for $\\hat{\\alpha}$ and $\\hat{\\beta}$ above and  dividing both numerators  and denominators by $N^2$, we see that\n",
        "\n",
        "$$\\hat{\\alpha} = \\frac{m_2(x) \\bar{y} - \\bar{x} \\frac{1}{N}\\sum_{i=1}^N x_iy_i}{\\mathrm{Var}(x)}$$\n",
        "\n",
        "and\n",
        "\n",
        "$$\\hat{\\beta} = \\frac{\\frac{1}{N}\\sum_{i=1}^N x_iy_i -    \\bar{y}  \\bar{x} }{\\mathrm{Var}(x)} = \\frac{\\mathrm{Cov}(x,y)}{\\mathrm{Var}(x)}$$\n",
        "\n",
        "\n",
        "Now, digging deeper on $\\hat{\\alpha}$ observe that $\\frac{1}{N}\\sum_{i=1}^N x_iy_i =  \\mathrm{Cov}(x,y) - \\bar{x}\\bar{y}$\n",
        "\n",
        "\n",
        "\n",
        "$$\\hat{\\alpha} = \\frac{m_2(x) \\bar{y} - \\bar{x} \\left(\\mathrm{Cov}(x,y) - \\bar{x}\\bar{y}    \\right)}{\\mathrm{Var}(x)}\\\\\n",
        "=\\frac{\\left(m_2(x) - \\bar{x}^2\\right) \\bar{y} - \\bar{x}\\mathrm{Cov}(x,y)}{\\mathrm{Var}(x)}\\\\\n",
        "= \\bar{y} - \\hat{\\beta} \\bar{x}$$\n",
        "\n",
        "\n",
        "\n",
        "We see that $\\hat{\\beta}$ relates directly to how $x$ and $y$ move together and that $\\hat{\\alpha}$ intuitively is set to satisfy the model exactly *on average*\n",
        "\n",
        "\n",
        "NOTE: This last observation is just that  $\\sum_{i=1}^N \\hat{\\epsilon}_i = 0$\n",
        "\n"
      ]
    },
    {
      "cell_type": "markdown",
      "id": "e22d578e",
      "metadata": {
        "id": "e22d578e"
      },
      "source": [
        "Additionally, we can write $\\hat{\\beta}$ as a weighted average of $y_i$ where the weights are\n",
        "\n",
        "$$w_i = \\frac{x_i - \\bar{x}}{N\\mathrm{Var}(x)}$$\n",
        "\n",
        "\n",
        "This means, among other things, that that \"farther away\" $x_i$ is from the mean $\\bar{x}$, the more influence $y_i$ has on the regession coefficient.  This is well known deficiency in linear regression, since it can be overly sensitive to outliers."
      ]
    },
    {
      "cell_type": "markdown",
      "id": "f1707cdf",
      "metadata": {
        "id": "f1707cdf"
      },
      "source": [
        "### statsmodels\n",
        "\n",
        "\n",
        "Fortunately for us, we can readily do regessions using python.  The statsmodels package is nice in that it gives some informative output.  It can also set up to look similar to R.\n",
        "\n",
        "Let's do some examples with some generated data.\n",
        "\n"
      ]
    },
    {
      "cell_type": "code",
      "execution_count": null,
      "id": "6226fb3f",
      "metadata": {
        "colab": {
          "base_uri": "https://localhost:8080/"
        },
        "id": "6226fb3f",
        "outputId": "8b77fbbe-3969-4664-9568-de27c2e4ebd5"
      },
      "outputs": [
        {
          "output_type": "stream",
          "name": "stderr",
          "text": [
            "/usr/local/lib/python3.7/dist-packages/statsmodels/tools/_testing.py:19: FutureWarning: pandas.util.testing is deprecated. Use the functions in the public API at pandas.testing instead.\n",
            "  import pandas.util.testing as tm\n"
          ]
        }
      ],
      "source": [
        "import numpy as np\n",
        "import matplotlib.pyplot as plt\n",
        "import pandas as pd\n",
        "\n",
        "\n",
        "import statsmodels.api as sm\n",
        "\n"
      ]
    },
    {
      "cell_type": "code",
      "execution_count": null,
      "id": "e146825c",
      "metadata": {
        "id": "e146825c"
      },
      "outputs": [],
      "source": [
        "#make data\n",
        "\n",
        "N = 50\n",
        "\n",
        "alpha = 15\n",
        "beta = 2 \n",
        "\n",
        "sigma = 10\n",
        "\n",
        "\n",
        "#slope is 2, intercept is 15.\n",
        "\n",
        "# Noise sigma is 10\n",
        "\n",
        "xdata = np.random.uniform(low = 0, high = 100, size = N)\n",
        "ydata = alpha + beta*xdata + np.random.normal(scale =5, size = N )\n",
        "\n"
      ]
    },
    {
      "cell_type": "markdown",
      "id": "a37afd49",
      "metadata": {
        "id": "a37afd49"
      },
      "source": [
        "Let's make a plot"
      ]
    },
    {
      "cell_type": "code",
      "execution_count": null,
      "id": "e62aaef2",
      "metadata": {
        "colab": {
          "base_uri": "https://localhost:8080/",
          "height": 607
        },
        "id": "e62aaef2",
        "outputId": "0937c498-af09-482c-f52a-a7a38b6d4e76"
      },
      "outputs": [
        {
          "output_type": "display_data",
          "data": {
            "image/png": "[encoded data removed]",
            "text/plain": [
              "<Figure size 1080x720 with 1 Axes>"
            ]
          },
          "metadata": {
            "needs_background": "light"
          }
        }
      ],
      "source": [
        "plt.figure(figsize = (15,10))\n",
        "plt.scatter(xdata, ydata)\n",
        "\n",
        "plt.title(\"Scatter plot of data\")\n",
        "plt.show()"
      ]
    },
    {
      "cell_type": "markdown",
      "id": "a9925645",
      "metadata": {
        "id": "a9925645"
      },
      "source": [
        "Now we use statsmodels to get our hit. FYI,  OLS stands for \"Ordinary Least Squares\"\n",
        "\n",
        "We need to add a column of ones to xdata if we want to have an intercept."
      ]
    },
    {
      "cell_type": "code",
      "execution_count": null,
      "id": "b01ca72b",
      "metadata": {
        "colab": {
          "base_uri": "https://localhost:8080/"
        },
        "id": "b01ca72b",
        "outputId": "a41e1999-96b9-4145-b1ef-f0b0882094a6"
      },
      "outputs": [
        {
          "output_type": "execute_result",
          "data": {
            "text/plain": [
              "array([[ 1.        ,  2.29352665],\n",
              "       [ 1.        , 14.67245191],\n",
              "       [ 1.        , 13.17076509],\n",
              "       [ 1.        , 66.51185152],\n",
              "       [ 1.        , 91.05954199],\n",
              "       [ 1.        , 18.02406093],\n",
              "       [ 1.        , 18.57046921],\n",
              "       [ 1.        , 24.27468137],\n",
              "       [ 1.        , 95.02595436],\n",
              "       [ 1.        , 98.17123258],\n",
              "       [ 1.        , 88.32435556],\n",
              "       [ 1.        , 75.06829373],\n",
              "       [ 1.        , 16.12926009],\n",
              "       [ 1.        , 55.24799756],\n",
              "       [ 1.        , 12.29226981],\n",
              "       [ 1.        , 86.64537611],\n",
              "       [ 1.        , 76.34103748],\n",
              "       [ 1.        ,  4.15925538],\n",
              "       [ 1.        , 18.42368704],\n",
              "       [ 1.        , 57.25069506],\n",
              "       [ 1.        , 66.12436476],\n",
              "       [ 1.        ,  9.87816878],\n",
              "       [ 1.        , 71.73667629],\n",
              "       [ 1.        , 21.10553349],\n",
              "       [ 1.        , 75.21792589],\n",
              "       [ 1.        , 27.65314223],\n",
              "       [ 1.        , 85.6952715 ],\n",
              "       [ 1.        , 82.81073994],\n",
              "       [ 1.        ,  8.44005221],\n",
              "       [ 1.        , 39.73757227],\n",
              "       [ 1.        , 84.69447835],\n",
              "       [ 1.        , 25.86946033],\n",
              "       [ 1.        , 51.44919286],\n",
              "       [ 1.        , 47.6297176 ],\n",
              "       [ 1.        , 62.52879057],\n",
              "       [ 1.        , 60.4685604 ],\n",
              "       [ 1.        , 72.87892807],\n",
              "       [ 1.        , 75.01599569],\n",
              "       [ 1.        , 43.5230014 ],\n",
              "       [ 1.        , 97.25437579],\n",
              "       [ 1.        , 95.44223493],\n",
              "       [ 1.        , 94.71363196],\n",
              "       [ 1.        , 17.44652862],\n",
              "       [ 1.        , 48.90286762],\n",
              "       [ 1.        ,  8.15417133],\n",
              "       [ 1.        , 86.65513578],\n",
              "       [ 1.        , 60.35786375],\n",
              "       [ 1.        , 10.32463141],\n",
              "       [ 1.        , 71.71629674],\n",
              "       [ 1.        , 42.45630626]])"
            ]
          },
          "metadata": {},
          "execution_count": 4
        }
      ],
      "source": [
        "xdataC = sm.add_constant(xdata)\n",
        "xdataC"
      ]
    },
    {
      "cell_type": "code",
      "execution_count": null,
      "id": "8711b04b",
      "metadata": {
        "colab": {
          "base_uri": "https://localhost:8080/",
          "height": 447
        },
        "id": "8711b04b",
        "outputId": "58608130-5f06-4aa1-ad8a-649ac885d7ba"
      },
      "outputs": [
        {
          "output_type": "execute_result",
          "data": {
            "text/html": [
              "<table class=\"simpletable\">\n",
              "<caption>OLS Regression Results</caption>\n",
              "<tr>\n",
              "  <th>Dep. Variable:</th>            <td>y</td>        <th>  R-squared:         </th> <td>   0.994</td>\n",
              "</tr>\n",
              "<tr>\n",
              "  <th>Model:</th>                   <td>OLS</td>       <th>  Adj. R-squared:    </th> <td>   0.994</td>\n",
              "</tr>\n",
              "<tr>\n",
              "  <th>Method:</th>             <td>Least Squares</td>  <th>  F-statistic:       </th> <td>   8238.</td>\n",
              "</tr>\n",
              "<tr>\n",
              "  <th>Date:</th>             <td>Wed, 23 Feb 2022</td> <th>  Prob (F-statistic):</th> <td>2.35e-55</td>\n",
              "</tr>\n",
              "<tr>\n",
              "  <th>Time:</th>                 <td>22:09:19</td>     <th>  Log-Likelihood:    </th> <td> -148.52</td>\n",
              "</tr>\n",
              "<tr>\n",
              "  <th>No. Observations:</th>      <td>    50</td>      <th>  AIC:               </th> <td>   301.0</td>\n",
              "</tr>\n",
              "<tr>\n",
              "  <th>Df Residuals:</th>          <td>    48</td>      <th>  BIC:               </th> <td>   304.9</td>\n",
              "</tr>\n",
              "<tr>\n",
              "  <th>Df Model:</th>              <td>     1</td>      <th>                     </th>     <td> </td>   \n",
              "</tr>\n",
              "<tr>\n",
              "  <th>Covariance Type:</th>      <td>nonrobust</td>    <th>                     </th>     <td> </td>   \n",
              "</tr>\n",
              "</table>\n",
              "<table class=\"simpletable\">\n",
              "<tr>\n",
              "    <td></td>       <th>coef</th>     <th>std err</th>      <th>t</th>      <th>P>|t|</th>  <th>[0.025</th>    <th>0.975]</th>  \n",
              "</tr>\n",
              "<tr>\n",
              "  <th>const</th> <td>   14.8623</td> <td>    1.322</td> <td>   11.246</td> <td> 0.000</td> <td>   12.205</td> <td>   17.520</td>\n",
              "</tr>\n",
              "<tr>\n",
              "  <th>x1</th>    <td>    1.9942</td> <td>    0.022</td> <td>   90.762</td> <td> 0.000</td> <td>    1.950</td> <td>    2.038</td>\n",
              "</tr>\n",
              "</table>\n",
              "<table class=\"simpletable\">\n",
              "<tr>\n",
              "  <th>Omnibus:</th>       <td> 3.715</td> <th>  Durbin-Watson:     </th> <td>   2.393</td>\n",
              "</tr>\n",
              "<tr>\n",
              "  <th>Prob(Omnibus):</th> <td> 0.156</td> <th>  Jarque-Bera (JB):  </th> <td>   3.117</td>\n",
              "</tr>\n",
              "<tr>\n",
              "  <th>Skew:</th>          <td>-0.611</td> <th>  Prob(JB):          </th> <td>   0.210</td>\n",
              "</tr>\n",
              "<tr>\n",
              "  <th>Kurtosis:</th>      <td> 3.050</td> <th>  Cond. No.          </th> <td>    117.</td>\n",
              "</tr>\n",
              "</table><br/><br/>Warnings:<br/>[1] Standard Errors assume that the covariance matrix of the errors is correctly specified."
            ],
            "text/plain": [
              "<class 'statsmodels.iolib.summary.Summary'>\n",
              "\"\"\"\n",
              "                            OLS Regression Results                            \n",
              "==============================================================================\n",
              "Dep. Variable:                      y   R-squared:                       0.994\n",
              "Model:                            OLS   Adj. R-squared:                  0.994\n",
              "Method:                 Least Squares   F-statistic:                     8238.\n",
              "Date:                Wed, 23 Feb 2022   Prob (F-statistic):           2.35e-55\n",
              "Time:                        22:09:19   Log-Likelihood:                -148.52\n",
              "No. Observations:                  50   AIC:                             301.0\n",
              "Df Residuals:                      48   BIC:                             304.9\n",
              "Df Model:                           1                                         \n",
              "Covariance Type:            nonrobust                                         \n",
              "==============================================================================\n",
              "                 coef    std err          t      P>|t|      [0.025      0.975]\n",
              "------------------------------------------------------------------------------\n",
              "const         14.8623      1.322     11.246      0.000      12.205      17.520\n",
              "x1             1.9942      0.022     90.762      0.000       1.950       2.038\n",
              "==============================================================================\n",
              "Omnibus:                        3.715   Durbin-Watson:                   2.393\n",
              "Prob(Omnibus):                  0.156   Jarque-Bera (JB):                3.117\n",
              "Skew:                          -0.611   Prob(JB):                        0.210\n",
              "Kurtosis:                       3.050   Cond. No.                         117.\n",
              "==============================================================================\n",
              "\n",
              "Warnings:\n",
              "[1] Standard Errors assume that the covariance matrix of the errors is correctly specified.\n",
              "\"\"\""
            ]
          },
          "metadata": {},
          "execution_count": 5
        }
      ],
      "source": [
        "model = sm.OLS(ydata, xdataC)\n",
        "result = model.fit()\n",
        "\n",
        "result.summary()"
      ]
    },
    {
      "cell_type": "markdown",
      "id": "2031e7d6",
      "metadata": {
        "id": "2031e7d6"
      },
      "source": [
        "Eventually, we will be able to interpret most of this output.  But here is some things we can immediately say.\n",
        "\n",
        "\n",
        "The estimated intercept and slopes are both pretty accurate.\n",
        "\n",
        "The standard errors, t-value, etc, are asssuming that the model is correctly specified. "
      ]
    },
    {
      "cell_type": "markdown",
      "id": "2fe68be5",
      "metadata": {
        "id": "2fe68be5"
      },
      "source": [
        "### Plot of result\n",
        "\n",
        "Let's make a plot of our fit along with our data"
      ]
    },
    {
      "cell_type": "code",
      "execution_count": null,
      "id": "2ed6aa58",
      "metadata": {
        "colab": {
          "base_uri": "https://localhost:8080/",
          "height": 607
        },
        "id": "2ed6aa58",
        "outputId": "f7a0f0ee-8806-4220-ab59-17dae5859bf9"
      },
      "outputs": [
        {
          "output_type": "display_data",
          "data": {
            "image/png": "[encoded data removed]",
            "text/plain": [
              "<Figure size 1080x720 with 1 Axes>"
            ]
          },
          "metadata": {
            "needs_background": "light"
          }
        }
      ],
      "source": [
        "x= np.linspace(0,100)\n",
        "x1 = sm.add_constant(x)\n",
        "\n",
        "plt.figure(figsize = (15,10))\n",
        "plt.scatter(xdata, ydata, color= 'r', label = \"Data Points\")\n",
        "\n",
        "plt.title(\"Data with\")\n",
        "\n",
        "plt.plot(x, result.predict(x1), label = \"Linear Fit\")\n",
        "plt.show()\n",
        "\n",
        "\n"
      ]
    },
    {
      "cell_type": "markdown",
      "id": "222db190",
      "metadata": {
        "id": "222db190"
      },
      "source": [
        "### Example with outlier\n",
        "\n",
        "To show the exaggerated impact of outliers, we will toss in a single outlier point with $x_O= 200$. If true to model, then we wouldd have $y_O= 15 + 2(200) + \\epsilon_O = 415 + \\epsilon_O$. \n",
        "\n",
        "But suppose that this data point is due to some measurement error, so that $y_O = 215$.  Let's see what happens too our regression.\n"
      ]
    },
    {
      "cell_type": "code",
      "execution_count": null,
      "id": "ea2675a8",
      "metadata": {
        "colab": {
          "base_uri": "https://localhost:8080/",
          "height": 447
        },
        "id": "ea2675a8",
        "outputId": "ec0995d2-7bf9-40c5-a942-2b0397d4d4f0"
      },
      "outputs": [
        {
          "output_type": "execute_result",
          "data": {
            "text/html": [
              "<table class=\"simpletable\">\n",
              "<caption>OLS Regression Results</caption>\n",
              "<tr>\n",
              "  <th>Dep. Variable:</th>            <td>y</td>        <th>  R-squared:         </th> <td>   0.862</td>\n",
              "</tr>\n",
              "<tr>\n",
              "  <th>Model:</th>                   <td>OLS</td>       <th>  Adj. R-squared:    </th> <td>   0.859</td>\n",
              "</tr>\n",
              "<tr>\n",
              "  <th>Method:</th>             <td>Least Squares</td>  <th>  F-statistic:       </th> <td>   305.9</td>\n",
              "</tr>\n",
              "<tr>\n",
              "  <th>Date:</th>             <td>Wed, 23 Feb 2022</td> <th>  Prob (F-statistic):</th> <td>1.04e-22</td>\n",
              "</tr>\n",
              "<tr>\n",
              "  <th>Time:</th>                 <td>22:12:01</td>     <th>  Log-Likelihood:    </th> <td> -233.05</td>\n",
              "</tr>\n",
              "<tr>\n",
              "  <th>No. Observations:</th>      <td>    51</td>      <th>  AIC:               </th> <td>   470.1</td>\n",
              "</tr>\n",
              "<tr>\n",
              "  <th>Df Residuals:</th>          <td>    49</td>      <th>  BIC:               </th> <td>   474.0</td>\n",
              "</tr>\n",
              "<tr>\n",
              "  <th>Df Model:</th>              <td>     1</td>      <th>                     </th>     <td> </td>   \n",
              "</tr>\n",
              "<tr>\n",
              "  <th>Covariance Type:</th>      <td>nonrobust</td>    <th>                     </th>     <td> </td>   \n",
              "</tr>\n",
              "</table>\n",
              "<table class=\"simpletable\">\n",
              "<tr>\n",
              "    <td></td>       <th>coef</th>     <th>std err</th>      <th>t</th>      <th>P>|t|</th>  <th>[0.025</th>    <th>0.975]</th>  \n",
              "</tr>\n",
              "<tr>\n",
              "  <th>const</th> <td>   33.5833</td> <td>    5.942</td> <td>    5.652</td> <td> 0.000</td> <td>   21.643</td> <td>   45.524</td>\n",
              "</tr>\n",
              "<tr>\n",
              "  <th>x1</th>    <td>    1.5789</td> <td>    0.090</td> <td>   17.489</td> <td> 0.000</td> <td>    1.397</td> <td>    1.760</td>\n",
              "</tr>\n",
              "</table>\n",
              "<table class=\"simpletable\">\n",
              "<tr>\n",
              "  <th>Omnibus:</th>       <td>71.732</td> <th>  Durbin-Watson:     </th> <td>   1.219</td> \n",
              "</tr>\n",
              "<tr>\n",
              "  <th>Prob(Omnibus):</th> <td> 0.000</td> <th>  Jarque-Bera (JB):  </th> <td> 856.652</td> \n",
              "</tr>\n",
              "<tr>\n",
              "  <th>Skew:</th>          <td>-3.628</td> <th>  Prob(JB):          </th> <td>9.56e-187</td>\n",
              "</tr>\n",
              "<tr>\n",
              "  <th>Kurtosis:</th>      <td>21.721</td> <th>  Cond. No.          </th> <td>    117.</td> \n",
              "</tr>\n",
              "</table><br/><br/>Warnings:<br/>[1] Standard Errors assume that the covariance matrix of the errors is correctly specified."
            ],
            "text/plain": [
              "<class 'statsmodels.iolib.summary.Summary'>\n",
              "\"\"\"\n",
              "                            OLS Regression Results                            \n",
              "==============================================================================\n",
              "Dep. Variable:                      y   R-squared:                       0.862\n",
              "Model:                            OLS   Adj. R-squared:                  0.859\n",
              "Method:                 Least Squares   F-statistic:                     305.9\n",
              "Date:                Wed, 23 Feb 2022   Prob (F-statistic):           1.04e-22\n",
              "Time:                        22:12:01   Log-Likelihood:                -233.05\n",
              "No. Observations:                  51   AIC:                             470.1\n",
              "Df Residuals:                      49   BIC:                             474.0\n",
              "Df Model:                           1                                         \n",
              "Covariance Type:            nonrobust                                         \n",
              "==============================================================================\n",
              "                 coef    std err          t      P>|t|      [0.025      0.975]\n",
              "------------------------------------------------------------------------------\n",
              "const         33.5833      5.942      5.652      0.000      21.643      45.524\n",
              "x1             1.5789      0.090     17.489      0.000       1.397       1.760\n",
              "==============================================================================\n",
              "Omnibus:                       71.732   Durbin-Watson:                   1.219\n",
              "Prob(Omnibus):                  0.000   Jarque-Bera (JB):              856.652\n",
              "Skew:                          -3.628   Prob(JB):                    9.56e-187\n",
              "Kurtosis:                      21.721   Cond. No.                         117.\n",
              "==============================================================================\n",
              "\n",
              "Warnings:\n",
              "[1] Standard Errors assume that the covariance matrix of the errors is correctly specified.\n",
              "\"\"\""
            ]
          },
          "metadata": {},
          "execution_count": 7
        }
      ],
      "source": [
        "xO = 200\n",
        "yO = 15 +2*xO - 200\n",
        "\n",
        "xdataO = np.append(xdata,xO)\n",
        "ydataO = np.append(ydata, yO)\n",
        "\n",
        "xdataOC = sm.add_constant(xdataO)\n",
        "\n",
        "\n",
        "modelO = sm.OLS(ydataO, xdataOC)\n",
        "result = modelO.fit()\n",
        "\n",
        "result.summary()\n"
      ]
    },
    {
      "cell_type": "markdown",
      "id": "8c780e18",
      "metadata": {
        "id": "8c780e18"
      },
      "source": [
        "Here is a visualization of the one data point messed things up."
      ]
    },
    {
      "cell_type": "code",
      "execution_count": null,
      "id": "37cd2d50",
      "metadata": {
        "colab": {
          "base_uri": "https://localhost:8080/",
          "height": 607
        },
        "id": "37cd2d50",
        "outputId": "c14bdf5f-f2d9-414f-9cee-58caa8709a80"
      },
      "outputs": [
        {
          "output_type": "display_data",
          "data": {
            "image/png": "[encoded data removed]",
            "text/plain": [
              "<Figure size 1080x720 with 1 Axes>"
            ]
          },
          "metadata": {
            "needs_background": "light"
          }
        }
      ],
      "source": [
        "x= np.linspace(0,200)\n",
        "x1 = sm.add_constant(x)\n",
        "\n",
        "plt.figure(figsize = (15,10))\n",
        "plt.scatter(xdataO, ydataO, color= 'r', label = \"Data Points\")\n",
        "\n",
        "plt.title(\"Data with outlier\")\n",
        "\n",
        "plt.plot(x, result.predict(x1), label = \"Linear Fit\")\n",
        "plt.show()"
      ]
    },
    {
      "cell_type": "markdown",
      "id": "c6fa76b8",
      "metadata": {
        "id": "c6fa76b8"
      },
      "source": [
        "Note that had the one bad data point for $y$ not been associate with a large $x$ (relative to the mean of $x$), things would have been OK."
      ]
    },
    {
      "cell_type": "code",
      "execution_count": null,
      "id": "f35384d9",
      "metadata": {
        "colab": {
          "base_uri": "https://localhost:8080/",
          "height": 447
        },
        "id": "f35384d9",
        "outputId": "b752c3d0-c6d6-4cbb-8f65-5d9b1068c27f"
      },
      "outputs": [
        {
          "output_type": "execute_result",
          "data": {
            "text/html": [
              "<table class=\"simpletable\">\n",
              "<caption>OLS Regression Results</caption>\n",
              "<tr>\n",
              "  <th>Dep. Variable:</th>            <td>y</td>        <th>  R-squared:         </th> <td>   0.827</td>\n",
              "</tr>\n",
              "<tr>\n",
              "  <th>Model:</th>                   <td>OLS</td>       <th>  Adj. R-squared:    </th> <td>   0.824</td>\n",
              "</tr>\n",
              "<tr>\n",
              "  <th>Method:</th>             <td>Least Squares</td>  <th>  F-statistic:       </th> <td>   234.5</td>\n",
              "</tr>\n",
              "<tr>\n",
              "  <th>Date:</th>             <td>Wed, 23 Feb 2022</td> <th>  Prob (F-statistic):</th> <td>2.60e-20</td>\n",
              "</tr>\n",
              "<tr>\n",
              "  <th>Time:</th>                 <td>22:13:16</td>     <th>  Log-Likelihood:    </th> <td> -242.42</td>\n",
              "</tr>\n",
              "<tr>\n",
              "  <th>No. Observations:</th>      <td>    51</td>      <th>  AIC:               </th> <td>   488.8</td>\n",
              "</tr>\n",
              "<tr>\n",
              "  <th>Df Residuals:</th>          <td>    49</td>      <th>  BIC:               </th> <td>   492.7</td>\n",
              "</tr>\n",
              "<tr>\n",
              "  <th>Df Model:</th>              <td>     1</td>      <th>                     </th>     <td> </td>   \n",
              "</tr>\n",
              "<tr>\n",
              "  <th>Covariance Type:</th>      <td>nonrobust</td>    <th>                     </th>     <td> </td>   \n",
              "</tr>\n",
              "</table>\n",
              "<table class=\"simpletable\">\n",
              "<tr>\n",
              "    <td></td>       <th>coef</th>     <th>std err</th>      <th>t</th>      <th>P>|t|</th>  <th>[0.025</th>    <th>0.975]</th>  \n",
              "</tr>\n",
              "<tr>\n",
              "  <th>const</th> <td>   10.6237</td> <td>    7.833</td> <td>    1.356</td> <td> 0.181</td> <td>   -5.118</td> <td>   26.365</td>\n",
              "</tr>\n",
              "<tr>\n",
              "  <th>x1</th>    <td>    2.0005</td> <td>    0.131</td> <td>   15.315</td> <td> 0.000</td> <td>    1.738</td> <td>    2.263</td>\n",
              "</tr>\n",
              "</table>\n",
              "<table class=\"simpletable\">\n",
              "<tr>\n",
              "  <th>Omnibus:</th>       <td>111.144</td> <th>  Durbin-Watson:     </th> <td>   1.077</td>\n",
              "</tr>\n",
              "<tr>\n",
              "  <th>Prob(Omnibus):</th> <td> 0.000</td>  <th>  Jarque-Bera (JB):  </th> <td>4365.642</td>\n",
              "</tr>\n",
              "<tr>\n",
              "  <th>Skew:</th>          <td>-6.634</td>  <th>  Prob(JB):          </th> <td>    0.00</td>\n",
              "</tr>\n",
              "<tr>\n",
              "  <th>Kurtosis:</th>      <td>46.340</td>  <th>  Cond. No.          </th> <td>    117.</td>\n",
              "</tr>\n",
              "</table><br/><br/>Warnings:<br/>[1] Standard Errors assume that the covariance matrix of the errors is correctly specified."
            ],
            "text/plain": [
              "<class 'statsmodels.iolib.summary.Summary'>\n",
              "\"\"\"\n",
              "                            OLS Regression Results                            \n",
              "==============================================================================\n",
              "Dep. Variable:                      y   R-squared:                       0.827\n",
              "Model:                            OLS   Adj. R-squared:                  0.824\n",
              "Method:                 Least Squares   F-statistic:                     234.5\n",
              "Date:                Wed, 23 Feb 2022   Prob (F-statistic):           2.60e-20\n",
              "Time:                        22:13:16   Log-Likelihood:                -242.42\n",
              "No. Observations:                  51   AIC:                             488.8\n",
              "Df Residuals:                      49   BIC:                             492.7\n",
              "Df Model:                           1                                         \n",
              "Covariance Type:            nonrobust                                         \n",
              "==============================================================================\n",
              "                 coef    std err          t      P>|t|      [0.025      0.975]\n",
              "------------------------------------------------------------------------------\n",
              "const         10.6237      7.833      1.356      0.181      -5.118      26.365\n",
              "x1             2.0005      0.131     15.315      0.000       1.738       2.263\n",
              "==============================================================================\n",
              "Omnibus:                      111.144   Durbin-Watson:                   1.077\n",
              "Prob(Omnibus):                  0.000   Jarque-Bera (JB):             4365.642\n",
              "Skew:                          -6.634   Prob(JB):                         0.00\n",
              "Kurtosis:                      46.340   Cond. No.                         117.\n",
              "==============================================================================\n",
              "\n",
              "Warnings:\n",
              "[1] Standard Errors assume that the covariance matrix of the errors is correctly specified.\n",
              "\"\"\""
            ]
          },
          "metadata": {},
          "execution_count": 9
        }
      ],
      "source": [
        "xO = 50\n",
        "yO = 15 +2*xO - 200\n",
        "\n",
        "xdataO = np.append(xdata,xO)\n",
        "ydataO = np.append(ydata, yO)\n",
        "\n",
        "xdataOC = sm.add_constant(xdataO)\n",
        "\n",
        "\n",
        "modelO = sm.OLS(ydataO, xdataOC)\n",
        "result = modelO.fit()\n",
        "\n",
        "result.summary()"
      ]
    },
    {
      "cell_type": "markdown",
      "id": "6e69eaab",
      "metadata": {
        "id": "6e69eaab"
      },
      "source": [
        "Graph with outlier \"in the middle\" of x range"
      ]
    },
    {
      "cell_type": "code",
      "execution_count": null,
      "id": "c291c81c",
      "metadata": {
        "colab": {
          "base_uri": "https://localhost:8080/",
          "height": 607
        },
        "id": "c291c81c",
        "outputId": "f7dd53ff-54de-422c-d353-2a96af142ac5"
      },
      "outputs": [
        {
          "output_type": "display_data",
          "data": {
            "image/png": "[encoded data removed]",
            "text/plain": [
              "<Figure size 1080x720 with 1 Axes>"
            ]
          },
          "metadata": {
            "needs_background": "light"
          }
        }
      ],
      "source": [
        "x= np.linspace(0,100)\n",
        "x1 = sm.add_constant(x)\n",
        "\n",
        "plt.figure(figsize = (15,10))\n",
        "plt.scatter(xdataO, ydataO, color= 'r', label = \"Data Points\")\n",
        "\n",
        "plt.title(\"Data with outlier\")\n",
        "\n",
        "plt.plot(x, result.predict(x1), label = \"Linear Fit\")\n",
        "plt.show()"
      ]
    },
    {
      "cell_type": "code",
      "execution_count": null,
      "id": "32f1ad45",
      "metadata": {
        "id": "32f1ad45"
      },
      "outputs": [],
      "source": [
        ""
      ]
    }
  ],
  "metadata": {
    "kernelspec": {
      "display_name": "Python 3 (ipykernel)",
      "language": "python",
      "name": "python3"
    },
    "language_info": {
      "codemirror_mode": {
        "name": "ipython",
        "version": 3
      },
      "file_extension": ".py",
      "mimetype": "text/x-python",
      "name": "python",
      "nbconvert_exporter": "python",
      "pygments_lexer": "ipython3",
      "version": "3.9.7"
    },
    "colab": {
      "name": "SingleVarReg2.ipynb",
      "provenance": [],
      "include_colab_link": true
    }
  },
  "nbformat": 4,
  "nbformat_minor": 5
}