{
  "cells": [
    {
      "cell_type": "markdown",
      "metadata": {
        "id": "view-in-github",
        "colab_type": "text"
      },
      "source": [
        "<a href=\"https://colab.research.google.com/github/zhong338/MFM-FM5222/blob/main/Week3_MLElognormal.ipynb\" target=\"_parent\"><img src=\"https://colab.research.google.com/assets/colab-badge.svg\" alt=\"Open In Colab\"/></a>"
      ]
    },
    {
      "cell_type": "markdown",
      "id": "346ed7cf",
      "metadata": {
        "id": "346ed7cf"
      },
      "source": [
        "# FM 5222\n",
        "# Maximum Liklihood Estimation (MLE)\n",
        "\n",
        "\n",
        "\n",
        "## Lognormal Example\n",
        "\n",
        "Suppose we have a set of observed values $\\{x_i\\}, i = 1, ... ,N$ that are IID.  Call the random variables $X_i =X$. Furthermore, we specifically believe that they come from the lognormal distribution with unkown parameters $\\mu$ and $\\sigma$.\n",
        "\n",
        "We seek to estimate the parameters given the information in the data. \n",
        "\n",
        "We have already seen an approach called moment matching.  In this case, we calculate the first and second moments of the sample and set them equal to the theoretical values of the distribution.  We obtain our estimate by solving those equations.\n",
        "\n",
        "In the lognormal case, this would mean solving:\n",
        "\n",
        "$$\\bar{x} = \\mathrm{E}(X) = e^{\\mu + \\frac{1}{2}\\sigma^2}\\\\\n",
        "\\frac{1}{N}\\sum_{k=1}^N x_k^2 = \\mathrm{E}(X^2) =e^{2\\mu + 2\\sigma^2}$$\n",
        "\n",
        "for $\\mu$ and $\\sigma$.\n",
        "\n",
        "\n",
        "\n",
        "\n",
        "We would denote these solutions as $\\hat{\\mu}$ and $\\hat{\\sigma}$\n",
        "\n",
        "It should noted that these values, which are functions of the observed random variables $X_i$, are themselves random variables. "
      ]
    },
    {
      "cell_type": "markdown",
      "id": "abada4f8",
      "metadata": {
        "id": "abada4f8"
      },
      "source": [
        "The MLE approach is a bit different. \n",
        "\n",
        "Let $f_X(x;\\mu, \\theta)$ be the pdf of $X$.  Because the $X_=i$ are IID, the *joint pdf* for the vector valued random variable $\\mathbf{X}=(X_1, X_2,...,X_N)$ is given by\n",
        "$$f_{\\mathbf{X}}(x_1,x_2,...,x_n;\\mu, \\theta) = f_{X}(x_1;\\mu, \\theta)\\times f_{X}(x_2;\\mu, \\theta)\\times \\cdots \\times f_{X}(x_N;\\mu, \\theta) \\\\\n",
        "=\\Pi_{k=1}^N f_X(x_k;\\mu, \\theta)$$\n",
        "\n",
        "\n",
        "If we insert he observed values $\\{x_i\\}$ into the joint pdf, we call this the \"liklihood\" of what we have observed.  It's not a probability, it is just he evaluated pdf value.  However, more \"likely\" outcomes should have higher values than less \"likely\" outcomes.   \n",
        "\n",
        "The MLE estimate is to find he values of $\\mu$ and $\\sigma$ that maximize the value of the liklihood. Those are the estimates.  "
      ]
    },
    {
      "cell_type": "markdown",
      "id": "7bf29f5d",
      "metadata": {
        "id": "7bf29f5d"
      },
      "source": [
        "### Log-liklihood\n",
        "\n",
        "In practice, finding the maximum of a product is messy (think product rule).  But fortunately, the log function is monotonic, so the parameters choices that maximize the log-liklihood will also maximize tthe liklihood. And, \n",
        "the log of product is the sum of the logs.  Hence we have changed problem of maximizing a product to maximizing a sum.\n",
        "\n",
        "That is, we will seek to maximize\n",
        "\n",
        "$$\\ln\\left(f_{\\mathbf{X}}(x_1,x_2,...,x_n;\\mu, \\theta)\\right)\\\\\n",
        "= \\sum_{k=1}^N \\ln\\left(f_X(x_k;\\mu, \\theta)  \\right)$$\n",
        "\n",
        "\n",
        "In the case of the lognormal distribution, \n",
        "\n",
        "$$f_X(x;\\mu, \\sigma) = \\frac{1}{x\\sigma \\sqrt{2\\pi}}e^{-\\frac{(\\ln(x) - \\mu)^2}{2\\sigma^2}}$$\n",
        "\n",
        "and therefore\n",
        "\n",
        "$$\\ln\\left( f_X(x;\\mu, \\sigma)  \\right) = -\\frac{(\\ln(x) - \\mu)^2}{2\\sigma^2} - \\ln(x) -\\ln(\\sigma) - \\frac{1}{2}\\ln(2\\pi)$$\n",
        "\n",
        "\n",
        "To find the maximum, we take the partial derivatives with respect to $\\mu$ and respectively $\\sigma$ and set the resulting expressions to zero.\n",
        "\n",
        "\n",
        "\n",
        "Observe that\n",
        "\n",
        "\n",
        "$$\\frac{\\partial}{\\partial \\mu}\\ln\\left( f_X(x;\\mu, \\sigma)  \\right) =  \\frac{\\ln(x) - \\mu}{\\sigma^2} $$\n",
        "\n",
        "and\n",
        "\n",
        "\n",
        "$$\\frac{\\partial}{\\partial \\sigma}\\ln\\left( f_X(x;\\mu, \\sigma)  \\right)= \\frac{(\\ln(x) - \\mu)^2}{\\sigma^3} - \\frac{1}{\\sigma} $$"
      ]
    },
    {
      "cell_type": "markdown",
      "id": "ba8e38e1",
      "metadata": {
        "id": "ba8e38e1"
      },
      "source": [
        "We therefore wish to solve the system:\n",
        "\n",
        "$$\\sum_{k=1}^N \\frac{\\ln(x_k) - \\mu}{\\sigma^2} =0$$\n",
        "\n",
        "$$\\sum_{k=1}^N \\left( \\frac{(\\ln(x_k) - \\mu)^2}{\\sigma^3} - \\frac{1}{\\sigma} \\right) =0$$"
      ]
    },
    {
      "cell_type": "markdown",
      "id": "ddce29fe",
      "metadata": {
        "id": "ddce29fe"
      },
      "source": [
        "If we take the log of the observations $u_i = \\ln(x_i))$, we can see that we we just want to set \n",
        "\n",
        "$\\hat{\\mu}_{MLE} = \\frac{1}{N} \\sum_{k=1}^N u_k$ wich is the mean of the sample values of $u_k$\n",
        "\n",
        "and \n",
        "\n",
        "$\\hat{\\sigma}_{MLE}^2 = \\frac{1}{N} \\sum_{k=1}^N \\left(u_k - \\hat{\\mu}_{MLE})^2  \\right)$ wich is just the varince of the sample values of $u_k$\n",
        "\n",
        "This is perhaps not shocking, since the log of lognormal distribution is normal\n",
        "\n",
        "The point here is that the MLE estimates are not the same as the moment matching estimators. "
      ]
    },
    {
      "cell_type": "markdown",
      "id": "ed0acfd5",
      "metadata": {
        "id": "ed0acfd5"
      },
      "source": [
        "## Example\n",
        "\n",
        "Let's make this real, by generating a sample from the  lognormal distribution and then pretending that we don't actually know the \"true\" parameters.  We will attempt to estimate them via both methods. \n",
        "\n",
        "\n",
        "We first construct a function that solves for the moment match.  Then we construct the MLE estimator\n",
        "\n",
        "Recall that for the moment match, we need to solve\n",
        "\n",
        "$$\\bar{x} = \\mathrm{E}(X) = e^{\\mu + \\frac{1}{2}\\sigma^2}\\\\\n",
        "\\frac{1}{N}\\sum_{k=1}^N x_k^2 = \\mathrm{E}(X^2) =e^{2\\mu + 2\\sigma^2}$$\n",
        "\n",
        "\n",
        "Denote the sample moments as $m_1$ and $m_2$ and taking the log of both sides, we have:\n",
        "\n",
        "\n",
        "$$\\ln(m_1) = \\mu + \\frac{1}{2}\\sigma^2\\\\\n",
        "\\ln(m_2) = 2\\mu + 2\\sigma^2$$\n",
        "\n",
        "\n",
        "Which can be solved as\n",
        "\n",
        "$$\\hat{\\mu} = 2 \\ln(m_1) - \\frac{1}{2} \\ln(m_2) = \\ln\\left(\\frac{m_1^2}{\\sqrt{m_2}}\\right)$$\n",
        "$$\\hat{\\sigma}^2 = -2\\ln(m_1) +  \\ln(m_2)= \\ln\\left(\\frac{m_2}{m_1^2}\\right)$$\n",
        "\n",
        "So our function is:\n"
      ]
    },
    {
      "cell_type": "code",
      "execution_count": null,
      "id": "92a5374a",
      "metadata": {
        "id": "92a5374a"
      },
      "outputs": [],
      "source": [
        "import numpy as np\n",
        "import matplotlib.pyplot as plt"
      ]
    },
    {
      "cell_type": "code",
      "execution_count": null,
      "id": "55bac77f",
      "metadata": {
        "id": "55bac77f"
      },
      "outputs": [],
      "source": [
        "def MMln(x):\n",
        "    # Returns the moment matching estimators for mu and sigma assuming data is lognormal and IID\n",
        "    \n",
        "    m1 = np.mean(x)\n",
        "    m2 = np.mean(x**2)\n",
        "    \n",
        "    mu_est = np.log(m1**2 /np.sqrt(m2))\n",
        "    sigma_est = np.sqrt(  np.log(m2/m1**2))\n",
        "    \n",
        "    return mu_est, sigma_est\n",
        "\n",
        "  \n",
        "    "
      ]
    },
    {
      "cell_type": "markdown",
      "id": "22a6087d",
      "metadata": {
        "id": "22a6087d"
      },
      "source": [
        "For the MLE estimator, a very straightforward function."
      ]
    },
    {
      "cell_type": "code",
      "execution_count": null,
      "id": "352dc2b6",
      "metadata": {
        "id": "352dc2b6"
      },
      "outputs": [],
      "source": [
        "def MLEln(x):\n",
        "    # Returnss the MLE estimator assuming the data is lognormal\n",
        "    \n",
        "    u = np.log(x)\n",
        "    \n",
        "    mu_est = np.mean(u)\n",
        "    sigma_est = np.std(u)\n",
        "    \n",
        "    return mu_est, sigma_est"
      ]
    },
    {
      "cell_type": "markdown",
      "id": "b4c4c29b",
      "metadata": {
        "id": "b4c4c29b"
      },
      "source": [
        "#### Generating the fake data:\n",
        "\n",
        "We will take $\\mu = 0$ and $\\sigma = 1$\n"
      ]
    },
    {
      "cell_type": "code",
      "execution_count": null,
      "id": "158faf79",
      "metadata": {
        "colab": {
          "base_uri": "https://localhost:8080/"
        },
        "id": "158faf79",
        "outputId": "39791635-b07a-40ef-9b50-f61660d8c9e2"
      },
      "outputs": [
        {
          "output_type": "stream",
          "name": "stdout",
          "text": [
            "(0.0635067717351984, 1.0593988932468184)\n",
            "(0.0915906117941694, 0.9843700911642194)\n"
          ]
        }
      ],
      "source": [
        "N = 100\n",
        "x = np.random.lognormal(size = N)\n",
        "\n",
        "MMest = MMln(x)\n",
        "print(MMest)\n",
        "\n",
        "MLEest = MLEln(x)\n",
        "print(MLEest)\n",
        "\n"
      ]
    },
    {
      "cell_type": "markdown",
      "id": "913f8ca1",
      "metadata": {
        "id": "913f8ca1"
      },
      "source": [
        "Now of course, it's impossible with a single \"look\" to see if we like either one of these estimators.  But we can run the trial repeatedly and understand how the estimators themselves are distributed."
      ]
    },
    {
      "cell_type": "code",
      "execution_count": null,
      "id": "c4042387",
      "metadata": {
        "id": "c4042387"
      },
      "outputs": [],
      "source": [
        "N = 100\n",
        "M = 1000\n",
        "\n",
        "MMest = np.zeros([M,2])\n",
        "MLEest = np.zeros([M,2])\n",
        "\n",
        "for trial in range(M):\n",
        "    x = np.random.lognormal(size = N)\n",
        "    MMest[trial,:] = MMln(x)\n",
        "    MLEest[trial,:] = MLEln(x)\n",
        "    \n"
      ]
    },
    {
      "cell_type": "markdown",
      "id": "dcdd8649",
      "metadata": {
        "id": "dcdd8649"
      },
      "source": [
        "We first compare $\\hat{\\mu}$ estimates"
      ]
    },
    {
      "cell_type": "code",
      "execution_count": null,
      "id": "c336a705",
      "metadata": {
        "colab": {
          "base_uri": "https://localhost:8080/",
          "height": 607
        },
        "id": "c336a705",
        "outputId": "45d41a9b-6f7f-4ca9-a2ef-07914b690ba0"
      },
      "outputs": [
        {
          "output_type": "display_data",
          "data": {
            "image/png": "[encoded data removed]",
            "text/plain": [
              "<Figure size 1080x720 with 1 Axes>"
            ]
          },
          "metadata": {
            "needs_background": "light"
          }
        }
      ],
      "source": [
        "plt.figure(figsize= (15,10))\n",
        "\n",
        "binwidth = .02\n",
        "\n",
        "plt.hist(MMest[:,0], bins = np.arange(-.5, .5, binwidth), alpha = 1,edgecolor = \"black\", label= \"Moment Estimator of $\\\\mu$\")\n",
        "\n",
        "plt.hist(MLEest[:,0], bins =  np.arange(-.5, .5, binwidth), alpha = .5,edgecolor = \"black\", label= \"MLE Estimator of $\\\\mu$\")\n",
        "\n",
        "plt.legend()\n",
        "\n",
        "plt.title(\"Comparison of Moment and MLE estimators of mu\")\n",
        "\n",
        "plt.show()"
      ]
    },
    {
      "cell_type": "markdown",
      "id": "91d0524f",
      "metadata": {
        "id": "91d0524f"
      },
      "source": [
        "And for the $\\hat{\\sigma}$ estimates"
      ]
    },
    {
      "cell_type": "code",
      "execution_count": null,
      "id": "3c08f564",
      "metadata": {
        "colab": {
          "base_uri": "https://localhost:8080/",
          "height": 607
        },
        "id": "3c08f564",
        "outputId": "4fc8bdc6-1165-42b6-9a32-2d21112cc553"
      },
      "outputs": [
        {
          "output_type": "display_data",
          "data": {
            "image/png": "[encoded data removed]",
            "text/plain": [
              "<Figure size 1080x720 with 1 Axes>"
            ]
          },
          "metadata": {
            "needs_background": "light"
          }
        }
      ],
      "source": [
        "plt.figure(figsize= (15,10))\n",
        "\n",
        "binwidth = .01\n",
        "\n",
        "plt.hist(MMest[:,1], bins = np.arange(.5, 1.5, binwidth), alpha = 1,edgecolor = \"black\", label= \"Moment Estimator of $\\\\sigma$\")\n",
        "\n",
        "plt.hist(MLEest[:,1], bins =  np.arange(0.5, 1.5, binwidth), alpha = .5,edgecolor = \"black\", label= \"MLE Estimator of $\\\\sigma$\")\n",
        "\n",
        "plt.legend()\n",
        "\n",
        "plt.title(\"Comparison of Moment and MLE estimators of sigma\")\n",
        "\n",
        "plt.show()"
      ]
    },
    {
      "cell_type": "markdown",
      "id": "42aba417",
      "metadata": {
        "id": "42aba417"
      },
      "source": [
        "Notice that in both cases, the MLE seems to bemore centered on the true value and less spread. This is becaues MLE's have several nice properties (something we will talk about later) that moment estimators in general do not.  One of which is low variance.\n",
        "\n",
        "\n",
        "Let so the same experiment but with larger sample sizes."
      ]
    },
    {
      "cell_type": "code",
      "execution_count": null,
      "id": "449245b1",
      "metadata": {
        "colab": {
          "base_uri": "https://localhost:8080/",
          "height": 607
        },
        "id": "449245b1",
        "outputId": "b48cc473-4501-4b5f-d61a-c0448e0786a0"
      },
      "outputs": [
        {
          "output_type": "display_data",
          "data": {
            "image/png": "[encoded data removed]",
            "text/plain": [
              "<Figure size 1080x720 with 1 Axes>"
            ]
          },
          "metadata": {
            "needs_background": "light"
          }
        }
      ],
      "source": [
        "N = 10000\n",
        "M = 1000\n",
        "\n",
        "MMest = np.zeros([M,2])\n",
        "MLEest = np.zeros([M,2])\n",
        "\n",
        "for trial in range(M):\n",
        "    x = np.random.lognormal(size = N)\n",
        "    MMest[trial,:] = MMln(x)\n",
        "    MLEest[trial,:] = MLEln(x)\n",
        "\n",
        "    \n",
        "plt.figure(figsize= (15,10))\n",
        "\n",
        "binwidth = .02\n",
        "\n",
        "plt.hist(MMest[:,0], bins = np.arange(-.5, .5, binwidth), alpha = 1,edgecolor = \"black\", label= \"Moment Estimator of $\\\\mu$\")\n",
        "\n",
        "plt.hist(MLEest[:,0], bins =  np.arange(-.5, .5, binwidth), alpha = .5,edgecolor = \"black\", label= \"MLE Estimator of $\\\\mu$\")\n",
        "\n",
        "plt.legend()\n",
        "\n",
        "plt.title(\"Comparison of Moment and MLE estimators of mu\")\n",
        "\n",
        "plt.show()    \n",
        "    \n",
        "    "
      ]
    },
    {
      "cell_type": "code",
      "execution_count": null,
      "id": "51606e7a",
      "metadata": {
        "colab": {
          "base_uri": "https://localhost:8080/",
          "height": 607
        },
        "id": "51606e7a",
        "outputId": "9b70a36f-abd9-411d-976b-5a5c1dbdf626"
      },
      "outputs": [
        {
          "output_type": "display_data",
          "data": {
            "image/png": "[encoded data removed]",
            "text/plain": [
              "<Figure size 1080x720 with 1 Axes>"
            ]
          },
          "metadata": {
            "needs_background": "light"
          }
        }
      ],
      "source": [
        "plt.figure(figsize= (15,10))\n",
        "\n",
        "binwidth = .01\n",
        "\n",
        "plt.hist(MMest[:,1], bins = np.arange(.5, 1.5, binwidth), alpha = 1,edgecolor = \"black\", label= \"Moment Estimator of $\\\\sigma$\")\n",
        "\n",
        "plt.hist(MLEest[:,1], bins =  np.arange(0.5, 1.5, binwidth), alpha = .5,edgecolor = \"black\", label= \"MLE Estimator of $\\\\sigma$\")\n",
        "\n",
        "plt.legend()\n",
        "\n",
        "plt.title(\"Comparison of Moment and MLE estimators of sigma\")\n",
        "\n",
        "plt.show()"
      ]
    },
    {
      "cell_type": "markdown",
      "id": "08271d25",
      "metadata": {
        "id": "08271d25"
      },
      "source": [
        "We can see that both estimators appear to converge correctly, just at different speeds."
      ]
    },
    {
      "cell_type": "code",
      "execution_count": null,
      "id": "8663d526",
      "metadata": {
        "id": "8663d526"
      },
      "outputs": [],
      "source": [
        ""
      ]
    }
  ],
  "metadata": {
    "kernelspec": {
      "display_name": "Python 3 (ipykernel)",
      "language": "python",
      "name": "python3"
    },
    "language_info": {
      "codemirror_mode": {
        "name": "ipython",
        "version": 3
      },
      "file_extension": ".py",
      "mimetype": "text/x-python",
      "name": "python",
      "nbconvert_exporter": "python",
      "pygments_lexer": "ipython3",
      "version": "3.9.7"
    },
    "colab": {
      "name": "MLElognormal.ipynb",
      "provenance": [],
      "include_colab_link": true
    }
  },
  "nbformat": 4,
  "nbformat_minor": 5
}