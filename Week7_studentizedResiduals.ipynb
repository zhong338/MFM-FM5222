{
  "cells": [
    {
      "cell_type": "markdown",
      "metadata": {
        "id": "view-in-github",
        "colab_type": "text"
      },
      "source": [
        "<a href=\"https://colab.research.google.com/github/zhong338/MFM-FM5222/blob/main/Week7_studentizedResiduals.ipynb\" target=\"_parent\"><img src=\"https://colab.research.google.com/assets/colab-badge.svg\" alt=\"Open In Colab\"/></a>"
      ]
    },
    {
      "cell_type": "markdown",
      "id": "29bc0f4c",
      "metadata": {
        "id": "29bc0f4c"
      },
      "source": [
        "# Studentized Residuals, outlier detection, and Cook's Distance\n",
        "\n",
        "\n",
        "We are considering the resgression model\n",
        "\n",
        "$$Y = Xb + \\epsilon$$ \n",
        "\n",
        "Where $X$ is an $N \\times p$ data matrix of $N$ observed values of $p$ prediction variable (or features), \n",
        "$\\epsilon$ is a vector of IID draws from $\\mathcal{N}(0,\\sigma^2_{\\epsilon})$ and $Y$ is the vector of $N$ observed values of the respones or target variable.\n",
        "\n",
        "\n",
        "The estimated coefficients are given by \n",
        "\n",
        "$\\hat{b} = (X^TX)^{-1}X^TY$.\n",
        "\n",
        "The estimated values of $\\hat{Y} = X \\hat{b} = H Y$ where \n",
        "\n",
        "$H = X(X^TX)^{-1}X^T$ is called the hat matrix.\n",
        "\n",
        "\n",
        "We noted in the last video that the $\\mathrm{Var}(\\hat{Y}_i) = \\sigma^2_{\\epsilon}H_{i,i}$ and that $H_{i,i}$ is called the leverage of the $i$th observation.\n",
        "\n",
        "\n",
        "\n",
        "## Estimated Residuals\n",
        "\n",
        "We now take a look at the estimated residuals $\\hat{\\epsilon}_i = Y_i - \\hat{Y}_i$\n",
        "\n",
        "While the \"true\" residuals are IID, this is not the case for the estimated residuals.  We can see this as follows.  (Fixing $X$)\n",
        "\n",
        "\n",
        "$$\\mathrm{Cov}(\\hat{\\epsilon}) = \\mathrm{Cov}( Y - \\hat{Y})\\\\\n",
        "= \\mathrm{Cov}( I_NY - HY)\\\\\n",
        "=\\mathrm{Cov}\\left( (I_N - H)Y\\right) \\\\\n",
        "=(I_N - H) \\mathrm{Cov}(Y)(I_N - H)^T\\\\\n",
        "=\\sigma_{\\epsilon}^2(I_N - H) (I_N - H)^T \\\\\n",
        "=\\sigma_{\\epsilon}^2(I_N - 2H + HH^T)\\\\\n",
        "=\\sigma_{\\epsilon}^2(I_N - H) $$\n",
        "\n",
        "Specifically then, for a given observation $i$,\n",
        "\n",
        "$$\\mathrm{Var}(\\hat{\\epsilon}_i) = \\sigma_{\\epsilon}^2 (1- H_{i,i})$$\n",
        "\n",
        "\n",
        "This will vary with the leverage. High leverage pointss will have smaller variance in the residuals (which makes sense since the true value of $Y$ is a heavy influencer of the estimate).\n",
        "\n",
        "\n",
        "\n",
        "\n",
        "\n",
        "Now, we don't know the true value of $\\sigma_{\\epsilon}$, we have to use the estimated value $\\hat{\\sigma_{\\epsilon}}$\n",
        "\n",
        "\n",
        "How can we tell if one of our residuals is \"large\" in the sense that it too \"far\" away from zero (under the model)? We look at the ratio\n",
        "\n",
        "$$\\frac{\\hat{\\epsilon}_i}{\\hat{\\sigma_{\\epsilon}}\\sqrt{1-H_{i,i}}}$$\n",
        "\n",
        "This will distributed with a T distribution of $N - p -1$ degree freedom (or $N -p-2$ if there is an intercept).   Hence, we look for outliers wrt to that distribution.\n",
        "\n",
        "The valule $\\frac{\\hat{\\epsilon}_i}{\\hat{\\sigma_{\\epsilon}}\\sqrt{1-H_{i,i}}}$ is called the internally studentized residual.\n",
        "\n",
        "\n",
        "There is one issue however. An extreme outlier will exaggrate $\\hat{\\sigma_{\\epsilon}}$ and potentially make the internally studentized residual smaller than it should be.  A work-around for this is to use the *externally studentized residual*.  It it is given by\n",
        "\n",
        "$$\\frac{\\hat{\\epsilon}_i}{\\hat{\\sigma}_{\\epsilon,-i}\\sqrt{1-H_{i,i}}}$$\n",
        "\n",
        "\n",
        "Where  \n",
        "\n",
        "$$\\hat{\\sigma}^2_{\\epsilon,-i} = \\frac{1}{N-p - 1}\\sum_{k\\neq i} \\hat{\\epsilon}_k^2$$ \n",
        "\n",
        "(or dividing by $N -p -2$ if there is an intercept).\n",
        " \n",
        "\n"
      ]
    },
    {
      "cell_type": "markdown",
      "id": "f8778326",
      "metadata": {
        "id": "f8778326"
      },
      "source": [
        "### Example\n",
        "\n",
        "We construct example with $N = 30$ sample points $p =2$ features.  We will just take the $X$ values as being uniform on $[0,10]$"
      ]
    },
    {
      "cell_type": "code",
      "execution_count": null,
      "id": "11f209e7",
      "metadata": {
        "id": "11f209e7"
      },
      "outputs": [],
      "source": [
        "import numpy as np\n",
        "import matplotlib.pyplot as plt\n",
        "import scipy.stats as ss\n",
        "import statsmodels.api as sm\n"
      ]
    },
    {
      "cell_type": "code",
      "execution_count": null,
      "id": "f6f8d2a3",
      "metadata": {
        "id": "f6f8d2a3"
      },
      "outputs": [],
      "source": [
        "sigma_e = 4\n",
        "b = np.array([1,5])\n",
        "X = np.random.uniform(high =10, size = [30,2])\n",
        "Y = X@b + np.random.normal(scale = sigma_e, size = 30)"
      ]
    },
    {
      "cell_type": "markdown",
      "id": "ae7c6ac6",
      "metadata": {
        "id": "ae7c6ac6"
      },
      "source": [
        "Now we replace the last entry of $Y$ with an outlier."
      ]
    },
    {
      "cell_type": "code",
      "execution_count": null,
      "id": "d788a657",
      "metadata": {
        "id": "d788a657"
      },
      "outputs": [],
      "source": [
        " Y[-1] = (X@b)[-1] + 6* sigma_e"
      ]
    },
    {
      "cell_type": "markdown",
      "id": "b4631c04",
      "metadata": {
        "id": "b4631c04"
      },
      "source": [
        "Before proceeding, we not that just looking at the $Y$ data alone, nothing appears to be amiss."
      ]
    },
    {
      "cell_type": "code",
      "execution_count": null,
      "id": "eda1d96f",
      "metadata": {
        "colab": {
          "base_uri": "https://localhost:8080/",
          "height": 592
        },
        "id": "eda1d96f",
        "outputId": "427c1745-0cc6-49fb-d6d0-575cd717fd2e"
      },
      "outputs": [
        {
          "output_type": "display_data",
          "data": {
            "image/png": "[encoded data removed]",
            "text/plain": [
              "<Figure size 1080x720 with 1 Axes>"
            ]
          },
          "metadata": {
            "needs_background": "light"
          }
        }
      ],
      "source": [
        "plt.figure(figsize = (15,10))\n",
        "\n",
        "plt.boxplot(Y)\n",
        "\n",
        "plt.show()"
      ]
    },
    {
      "cell_type": "code",
      "execution_count": null,
      "id": "a1958d06",
      "metadata": {
        "colab": {
          "base_uri": "https://localhost:8080/",
          "height": 592
        },
        "id": "a1958d06",
        "outputId": "423b412c-d9ac-46e8-fe09-4af1f6a8064a"
      },
      "outputs": [
        {
          "output_type": "display_data",
          "data": {
            "image/png": "[encoded data removed]",
            "text/plain": [
              "<Figure size 1080x720 with 1 Axes>"
            ]
          },
          "metadata": {
            "needs_background": "light"
          }
        }
      ],
      "source": [
        "plt.figure(figsize = (15,10))\n",
        "\n",
        "plt.hist(Y, bins = 20)\n",
        "\n",
        "plt.show()"
      ]
    },
    {
      "cell_type": "markdown",
      "id": "e7c44868",
      "metadata": {
        "id": "e7c44868"
      },
      "source": [
        "We calculate $H, \\hat{Y}, \\hat{\\epsilon}$ and $\\hat{\\sigma}_{\\epsilon}^2$"
      ]
    },
    {
      "cell_type": "code",
      "execution_count": null,
      "id": "db5c15c0",
      "metadata": {
        "id": "db5c15c0"
      },
      "outputs": [],
      "source": [
        "H = X@np.linalg.pinv(X)\n",
        "\n",
        "Yhat = H@Y\n",
        "\n",
        "epsilonhat = Y - Yhat\n",
        "\n",
        "sigma_est = np.sqrt(np.sum(epsilonhat**2)/(30-2-1))"
      ]
    },
    {
      "cell_type": "code",
      "execution_count": null,
      "id": "ede6f916",
      "metadata": {
        "colab": {
          "base_uri": "https://localhost:8080/"
        },
        "id": "ede6f916",
        "outputId": "45abbecb-968f-4ac9-b816-453fd8757f62"
      },
      "outputs": [
        {
          "output_type": "execute_result",
          "data": {
            "text/plain": [
              "6.0872078303789126"
            ]
          },
          "metadata": {},
          "execution_count": 70
        }
      ],
      "source": [
        "# Note that it's the estimite of sigma is too big due to the outlier most likely\n",
        "sigma_est"
      ]
    },
    {
      "cell_type": "markdown",
      "id": "dad02e06",
      "metadata": {
        "id": "dad02e06"
      },
      "source": [
        "Now we internally studentize anyway"
      ]
    },
    {
      "cell_type": "code",
      "execution_count": null,
      "id": "636a04a1",
      "metadata": {
        "id": "636a04a1"
      },
      "outputs": [],
      "source": [
        "resid_st_int = epsilonhat/(sigma_est*np.sqrt(1-np.diag(H)))"
      ]
    },
    {
      "cell_type": "code",
      "execution_count": null,
      "id": "31e3e0a6",
      "metadata": {
        "colab": {
          "base_uri": "https://localhost:8080/"
        },
        "id": "31e3e0a6",
        "outputId": "b907ac76-aded-496e-f746-92f72f23003d"
      },
      "outputs": [
        {
          "output_type": "execute_result",
          "data": {
            "text/plain": [
              "array([-0.04413698, -0.25229464, -0.23430893, -0.84028411, -0.53753297,\n",
              "        0.11130722,  0.29783355, -0.84975184, -0.42262822, -0.17860705,\n",
              "        0.08797416, -0.67156878, -1.44688054,  0.0396709 , -1.00512525,\n",
              "        1.15932328, -1.14944721,  0.33616968,  1.51981246, -0.20479985,\n",
              "        1.06595817, -0.87228041,  0.01249016, -0.09489484,  0.13914424,\n",
              "        0.7936457 ,  0.47019546, -0.59784636,  0.42475535,  3.77815642])"
            ]
          },
          "metadata": {},
          "execution_count": 72
        }
      ],
      "source": [
        "resid_st_int"
      ]
    },
    {
      "cell_type": "markdown",
      "id": "39b69d62",
      "metadata": {
        "id": "39b69d62"
      },
      "source": [
        "We can then apply the t distribution to get individuala $p$ values. But we must be carefull in interpreting these."
      ]
    },
    {
      "cell_type": "code",
      "execution_count": null,
      "id": "8cba3b4e",
      "metadata": {
        "colab": {
          "base_uri": "https://localhost:8080/"
        },
        "id": "8cba3b4e",
        "outputId": "29ab016d-8321-4025-cf30-931c4ff373ee"
      },
      "outputs": [
        {
          "output_type": "execute_result",
          "data": {
            "text/plain": [
              "array([9.65120026e-01, 8.02724069e-01, 8.16512851e-01, 4.08128835e-01,\n",
              "       5.95302578e-01, 9.12196055e-01, 7.68109996e-01, 4.02935374e-01,\n",
              "       6.75913443e-01, 8.59579697e-01, 9.30546476e-01, 5.07564009e-01,\n",
              "       1.59441461e-01, 9.68647389e-01, 3.23760051e-01, 2.56474829e-01,\n",
              "       2.60452109e-01, 7.39341557e-01, 1.40183050e-01, 8.39264591e-01,\n",
              "       2.95882231e-01, 3.90746652e-01, 9.90126392e-01, 9.25099127e-01,\n",
              "       8.90368868e-01, 4.34321595e-01, 6.41991318e-01, 5.54924344e-01,\n",
              "       6.74380864e-01, 7.93543837e-04])"
            ]
          },
          "metadata": {},
          "execution_count": 73
        }
      ],
      "source": [
        "ss.t.sf(abs(resid_st_int), df = 27)*2"
      ]
    },
    {
      "cell_type": "markdown",
      "id": "cb220520",
      "metadata": {
        "id": "cb220520"
      },
      "source": [
        "We have observed $30$ points, so we make the Bonferroni adjustment by multiplying the p-values by $30$"
      ]
    },
    {
      "cell_type": "code",
      "execution_count": null,
      "id": "4b3080e6",
      "metadata": {
        "colab": {
          "base_uri": "https://localhost:8080/"
        },
        "id": "4b3080e6",
        "outputId": "5cdf5f84-3f41-4e74-846a-dfd9b55869f1"
      },
      "outputs": [
        {
          "output_type": "execute_result",
          "data": {
            "text/plain": [
              "array([2.89536008e+01, 2.40817221e+01, 2.44953855e+01, 1.22438650e+01,\n",
              "       1.78590773e+01, 2.73658817e+01, 2.30432999e+01, 1.20880612e+01,\n",
              "       2.02774033e+01, 2.57873909e+01, 2.79163943e+01, 1.52269203e+01,\n",
              "       4.78324384e+00, 2.90594217e+01, 9.71280154e+00, 7.69424488e+00,\n",
              "       7.81356327e+00, 2.21802467e+01, 4.20549150e+00, 2.51779377e+01,\n",
              "       8.87646692e+00, 1.17223996e+01, 2.97037918e+01, 2.77529738e+01,\n",
              "       2.67110660e+01, 1.30296478e+01, 1.92597395e+01, 1.66477303e+01,\n",
              "       2.02314259e+01, 2.38063151e-02])"
            ]
          },
          "metadata": {},
          "execution_count": 74
        }
      ],
      "source": [
        "30*ss.t.sf(abs(resid_st_int), df = 27)*2  #note that values larger than 1 are just 1"
      ]
    },
    {
      "cell_type": "markdown",
      "id": "f8d5b276",
      "metadata": {
        "id": "f8d5b276"
      },
      "source": [
        "And we see that we have successfully detected out outlier even though we used the interal studentized residuals.\n",
        "\n",
        "Fortunately, there is software that does this for and uses the external studentized residuals. Outlier_test() from statsmodels is an example."
      ]
    },
    {
      "cell_type": "code",
      "execution_count": null,
      "id": "fbd3862a",
      "metadata": {
        "colab": {
          "base_uri": "https://localhost:8080/"
        },
        "id": "fbd3862a",
        "outputId": "73ba7b0a-37ed-4a46-e95b-971f5130e994"
      },
      "outputs": [
        {
          "output_type": "execute_result",
          "data": {
            "text/plain": [
              "array([[-4.41385728e-02,  9.65118769e-01,  1.00000000e+00],\n",
              "       [-2.52592558e-01,  8.02496201e-01,  1.00000000e+00],\n",
              "       [-2.34547513e-01,  8.16329538e-01,  1.00000000e+00],\n",
              "       [-8.51491548e-01,  4.01985636e-01,  1.00000000e+00],\n",
              "       [-5.40432478e-01,  5.93329359e-01,  1.00000000e+00],\n",
              "       [ 1.11332770e-01,  9.12175989e-01,  1.00000000e+00],\n",
              "       [ 2.98324000e-01,  7.67739705e-01,  1.00000000e+00],\n",
              "       [-8.61347678e-01,  3.96631827e-01,  1.00000000e+00],\n",
              "       [-4.24033112e-01,  6.74901071e-01,  1.00000000e+00],\n",
              "       [-1.78712659e-01,  8.59497582e-01,  1.00000000e+00],\n",
              "       [ 8.79867732e-02,  9.30536547e-01,  1.00000000e+00],\n",
              "       [-6.77248940e-01,  5.04010063e-01,  1.00000000e+00],\n",
              "       [-1.50646098e+00,  1.43560286e-01,  1.00000000e+00],\n",
              "       [ 3.96720607e-02,  9.68646475e-01,  1.00000000e+00],\n",
              "       [-1.02447470e+00,  3.14702774e-01,  1.00000000e+00],\n",
              "       [ 1.18930220e+00,  2.44675037e-01,  1.00000000e+00],\n",
              "       [-1.17864711e+00,  2.48821994e-01,  1.00000000e+00],\n",
              "       [ 3.36875423e-01,  7.38815396e-01,  1.00000000e+00],\n",
              "       [ 1.58931448e+00,  1.23632094e-01,  1.00000000e+00],\n",
              "       [-2.04959107e-01,  8.39141401e-01,  1.00000000e+00],\n",
              "       [ 1.08912177e+00,  2.85726111e-01,  1.00000000e+00],\n",
              "       [-8.84837072e-01,  3.84056815e-01,  1.00000000e+00],\n",
              "       [ 1.24901923e-02,  9.90126363e-01,  1.00000000e+00],\n",
              "       [-9.49106703e-02,  9.25086672e-01,  1.00000000e+00],\n",
              "       [ 1.39194151e-01,  8.90329802e-01,  1.00000000e+00],\n",
              "       [ 8.03068230e-01,  4.28948501e-01,  1.00000000e+00],\n",
              "       [ 4.72132415e-01,  6.40625944e-01,  1.00000000e+00],\n",
              "       [-6.01843164e-01,  5.52299270e-01,  1.00000000e+00],\n",
              "       [ 4.26181634e-01,  6.73354037e-01,  1.00000000e+00],\n",
              "       [ 5.50330784e+00,  7.90396951e-06,  2.37119085e-04]])"
            ]
          },
          "metadata": {},
          "execution_count": 76
        }
      ],
      "source": [
        "model = sm.OLS(Y, X)\n",
        "result = model.fit()\n",
        "result.outlier_test()"
      ]
    },
    {
      "cell_type": "markdown",
      "id": "7464a4d6",
      "metadata": {
        "id": "7464a4d6"
      },
      "source": [
        "The first column is the statistic.  The second is the p-value not adjusted.  The last column is the Bonferroni adjussted p-value.  Not that they cap the latter at 1.   "
      ]
    },
    {
      "cell_type": "markdown",
      "id": "65527578",
      "metadata": {
        "id": "65527578"
      },
      "source": [
        "## Cook's Distance\n",
        "\n",
        "We have discussed regression diagnostics relating to the data.\n",
        "\n",
        "1. VIF, which measures how variable the coefficient estimate is comnpared to if the other features were not included.  It is a measure of colinearity.\n",
        "\n",
        "2. Leverage.  It measures the influence an individual obsevation of $Y_i$ has on it's own regressed value $\\hat{Y}_i$\n",
        "\n",
        "3. Studentized residuals.  These can help us detect outlier $Y$ values.\n",
        "\n",
        "\n",
        "What we seek now is a measure of how much an individual observation $i$ has on *all* of the predicted values $\\hat{Y}_j$.  This measure will be called Cook's distance. \n",
        "\n",
        "\n",
        "\n",
        "The definition of Cook's distance is simple an intuitive:\n",
        "\n",
        "We first define $\\hat{Y}_j(-i)$ to be the estimated value of $Y_j$ when the $i$th data point is removed from the data set. \n",
        "\n",
        "Then, for the $i$'th data point, we have\n",
        "\n",
        "$$cd_i = \\frac{1}{p\\hat{\\sigma}_{\\epsilon}^2} \\sum_{j=1}^N \\left(\\hat{Y}_j - \\hat{Y}_j(-i)\\right)^2$$\n",
        "\n",
        "\n",
        "When assesssing these values, one typically visually looks see if one stands out from the others.  If so, it suggests the the single data point may have unduo influnce on the result.  \n",
        "\n",
        "Unsurprisingly, statsmodels will calculatee this for us.  "
      ]
    },
    {
      "cell_type": "code",
      "execution_count": null,
      "id": "72fa0eb8",
      "metadata": {
        "colab": {
          "base_uri": "https://localhost:8080/"
        },
        "id": "72fa0eb8",
        "outputId": "99a20670-080b-446e-fe80-82cc2320aa24"
      },
      "outputs": [
        {
          "output_type": "stream",
          "name": "stdout",
          "text": [
            "[5.03861261e-05 6.55510294e-04 3.87820280e-03 7.71088061e-02\n",
            " 1.38119293e-03 1.04826342e-03 3.02504167e-03 3.18358531e-02\n",
            " 4.27332780e-03 2.45697993e-04 2.20979651e-04 2.25533791e-02\n",
            " 4.65093507e-02 2.14639804e-05 3.69487318e-02 5.88285628e-02\n",
            " 3.20556641e-02 4.65160206e-03 5.00368744e-02 7.90590188e-05\n",
            " 4.75556409e-02 4.84223125e-02 2.36381344e-06 5.14730160e-04\n",
            " 1.45342399e-03 3.14144859e-02 9.46095457e-03 9.99084805e-03\n",
            " 9.32509848e-03 2.63707581e-01]\n"
          ]
        }
      ],
      "source": [
        "influence_info = result.get_influence()\n",
        "\n",
        "cd = influence_info.cooks_distance[0]  # we ignore the second elemnt of the output.\n",
        "\n",
        "print(cd)"
      ]
    },
    {
      "cell_type": "markdown",
      "id": "b1590886",
      "metadata": {
        "id": "b1590886"
      },
      "source": [
        "Let's plot this to see if one stands out."
      ]
    },
    {
      "cell_type": "code",
      "execution_count": null,
      "id": "64394299",
      "metadata": {
        "colab": {
          "base_uri": "https://localhost:8080/",
          "height": 607
        },
        "id": "64394299",
        "outputId": "84e50b23-1303-4bb6-9e79-23d485682675"
      },
      "outputs": [
        {
          "output_type": "display_data",
          "data": {
            "image/png": "[encoded data removed]",
            "text/plain": [
              "<Figure size 1080x720 with 1 Axes>"
            ]
          },
          "metadata": {
            "needs_background": "light"
          }
        }
      ],
      "source": [
        "plt.figure(figsize = (15,10))\n",
        "plt.plot(cd, 'o')\n",
        "\n",
        "plt.title(\"Cook's distance\")\n",
        "plt.show()"
      ]
    },
    {
      "cell_type": "markdown",
      "id": "3e4ce31d",
      "metadata": {
        "id": "3e4ce31d"
      },
      "source": [
        "We see that the last data point is influencing the results more than any other point.  The point was out outlier.\n",
        "\n",
        "\n",
        "Incidentally, the influence_info object contains a lot of useful information."
      ]
    },
    {
      "cell_type": "code",
      "execution_count": null,
      "id": "f75d4322",
      "metadata": {
        "colab": {
          "base_uri": "https://localhost:8080/",
          "height": 696
        },
        "id": "f75d4322",
        "outputId": "96a3d2f3-5bc0-4162-cef6-ce11ea1c93fe"
      },
      "outputs": [
        {
          "output_type": "execute_result",
          "data": {
            "text/html": [
              "<table class=\"simpletable\">\n",
              "<tr>\n",
              "   <th>obs</th>        <th>endog</th>             <th>fitted</th>               <th>Cook's</th>               <th>student.</th>              <th>hat diag</th>              <th>dffits </th>              <th>ext.stud.</th>              <th>dffits</th>        \n",
              "</tr>\n",
              "<tr>\n",
              "    <th></th>            <th></th>                 <th>value</th>                  <th>d</th>                 <th>residual</th>                  <th></th>                 <th>internal</th>              <th>residual</th>                  <th></th>           \n",
              "</tr>\n",
              "<tr>\n",
              "   <td>0.0</td> <td>40.256832469454174</td>  <td>40.51904326034125</td> <td>5.0386126067739976e-05</td> <td>-0.044946900888006874</td>  <td>0.04751175623812486</td> <td>-0.010038538346566196</td> <td>-0.044138572826496796</td> <td>-0.009858004603821774</td>\n",
              "</tr>\n",
              "<tr>\n",
              "   <td>1.0</td> <td>20.246988531596468</td> <td>21.767731009406724</td>  <td>0.0006555102942246163</td> <td>-0.25692428372286535</td>  <td>0.019474138563369832</td>  <td>-0.0362080182894512</td>  <td>-0.25259255771235045</td>   <td>-0.0355975535550908</td> \n",
              "</tr>\n",
              "<tr>\n",
              "   <td>2.0</td> <td>21.968501287045182</td> <td>23.306553009607534</td>  <td>0.0038782028037176977</td>  <td>-0.2386085372177442</td>   <td>0.1199003384506944</td>  <td>-0.08807045819930424</td>   <td>-0.2345475130426596</td>  <td>-0.08657153337444867</td> \n",
              "</tr>\n",
              "<tr>\n",
              "   <td>3.0</td>  <td>46.96511351677228</td> <td>51.613919470229185</td>   <td>0.07710880613588221</td>   <td>-0.8557034507542417</td>   <td>0.1739729333728153</td>   <td>-0.3927055032359038</td>   <td>-0.8514915482488122</td>   <td>-0.3907725470330074</td> \n",
              "</tr>\n",
              "<tr>\n",
              "   <td>4.0</td>  <td>8.560798573380428</td> <td>11.817894466476808</td>  <td>0.0013811929287776982</td>  <td>-0.5473967817682297</td>  <td>0.009134704025283224</td> <td>-0.05255840425236859</td>   <td>-0.5404324779657074</td>  <td>-0.05188972532187342</td> \n",
              "</tr>\n",
              "<tr>\n",
              "   <td>5.0</td>  <td>24.81797160475708</td> <td>24.189741792154027</td>  <td>0.0010482634208866402</td>  <td>0.11334972866058354</td>   <td>0.14028575676748287</td>  <td>0.04578784600495289</td>   <td>0.11133277008143956</td>   <td>0.04497309161681708</td> \n",
              "</tr>\n",
              "<tr>\n",
              "   <td>6.0</td>  <td>40.85050452030201</td>  <td>39.09436004365119</td>  <td>0.0030250416709650995</td>  <td>0.3032988373366375</td>    <td>0.06171018767009517</td>  <td>0.0777822816708934</td>     <td>0.29832400036451</td>     <td>0.07650646349094006</td> \n",
              "</tr>\n",
              "<tr>\n",
              "   <td>7.0</td>  <td>29.02046313847581</td>  <td>33.98626667904547</td>   <td>0.03183585313774102</td>   <td>-0.8653449165343913</td>   <td>0.07836580090560878</td> <td>-0.25233253114785265</td>   <td>-0.8613476778177996</td>  <td>-0.25116694579143867</td> \n",
              "</tr>\n",
              "<tr>\n",
              "   <td>8.0</td>  <td>35.50101071892362</td> <td>38.016263022834536</td>  <td>0.004273327801227787</td>   <td>-0.4303835125250398</td>   <td>0.04410571022465456</td> <td>-0.09244812384497358</td>   <td>-0.4240331117450461</td>  <td>-0.09108403200435058</td> \n",
              "</tr>\n",
              "<tr>\n",
              "   <td>9.0</td>  <td>16.67631543935444</td> <td>17.755547841532355</td> <td>0.00024569799278617994</td> <td>-0.18188452049447904</td>  <td>0.014636478720908863</td> <td>-0.022167453294692198</td> <td>-0.17871265911817524</td>  <td>-0.021780877852618848</td>\n",
              "</tr>\n",
              "<tr>\n",
              "  <td>10.0</td>  <td>46.00559165425111</td> <td>45.484236580717685</td> <td>0.00022097965086609255</td>  <td>0.08958850116693387</td>   <td>0.05219133569128142</td>  <td>0.02102282810975215</td>   <td>0.08798677316348402</td>  <td>0.020646966787634943</td> \n",
              "</tr>\n",
              "<tr>\n",
              "  <td>11.0</td> <td>42.736143223069355</td> <td>46.640196985912404</td>  <td>0.022553379143808405</td>   <td>-0.6838921701162708</td>   <td>0.0879590798600114</td>  <td>-0.21238351698664568</td>   <td>-0.6772489401923409</td>  <td>-0.21032045412813208</td> \n",
              "</tr>\n",
              "<tr>\n",
              "  <td>12.0</td> <td>30.544665480202823</td> <td>39.169300142950796</td>   <td>0.04650935067470458</td>   <td>-1.4734310201795735</td>   <td>0.04108567811820057</td>  <td>-0.3049896741685022</td>   <td>-1.5064609763840078</td>   <td>-0.3118266386701472</td> \n",
              "</tr>\n",
              "<tr>\n",
              "  <td>13.0</td>  <td>7.086911461465094</td>  <td>6.848540977828945</td> <td>2.1463980363642888e-05</td>  <td>0.04039887169662922</td>  <td>0.025628682307437235</td> <td>0.006551943278698754</td>  <td>0.039672060695798886</td>  <td>0.006434068094274433</td> \n",
              "</tr>\n",
              "<tr>\n",
              "  <td>14.0</td> <td>42.196094627536105</td>  <td>48.10950744077115</td>  <td>0.036948731817219825</td>   <td>-1.0235694502836619</td>   <td>0.06588623254330757</td>  <td>-0.2718408792555668</td>   <td>-1.0244746970090697</td>  <td>-0.27208129583473484</td> \n",
              "</tr>\n",
              "<tr>\n",
              "  <td>15.0</td> <td>48.881704558028744</td>  <td>42.10489760320551</td>   <td>0.05882856275459445</td>   <td>1.1805970417371865</td>    <td>0.07784302561305534</td>  <td>0.34301184456107187</td>   <td>1.1893022036045018</td>    <td>0.3455410509911649</td>  \n",
              "</tr>\n",
              "<tr>\n",
              "  <td>16.0</td>  <td>27.97772224685486</td>  <td>34.81647917677401</td>  <td>0.032055664111711686</td>   <td>-1.1705397446898305</td>   <td>0.04469947891051227</td>  <td>-0.2532021489312904</td>   <td>-1.1786471076212612</td>   <td>-0.2549558712852017</td> \n",
              "</tr>\n",
              "<tr>\n",
              "  <td>17.0</td>  <td>55.26781060245993</td>  <td>53.29816036403386</td>  <td>0.004651602063410207</td>   <td>0.34233844367535293</td>   <td>0.07354380505231575</td>  <td>0.09645311880297296</td>   <td>0.3368754231502813</td>    <td>0.09491392454225618</td> \n",
              "</tr>\n",
              "<tr>\n",
              "  <td>18.0</td> <td>44.971451559561125</td>  <td>35.90743744635068</td>   <td>0.05003687437588332</td>   <td>1.5477012484283224</td>    <td>0.04010243937119029</td>  <td>0.3163443515407959</td>      <td>1.5893144807551</td>     <td>0.3248499407230098</td>  \n",
              "</tr>\n",
              "<tr>\n",
              "  <td>19.0</td> <td>10.705498362538496</td>  <td>11.94989783839203</td>  <td>7.905901875284287e-05</td> <td>-0.20855795749397124</td>  <td>0.003622029660495679</td> <td>-0.012574499493247663</td> <td>-0.20495910672618753</td>  <td>-0.012357515458212325</td>\n",
              "</tr>\n",
              "<tr>\n",
              "  <td>20.0</td>  <td>40.05578689018706</td> <td>33.814091298468774</td>   <td>0.04755564094546364</td>   <td>1.0855186688967544</td>    <td>0.07468717341340297</td>   <td>0.30840117037866</td>     <td>1.0891217718332118</td>    <td>0.3094248295698258</td>  \n",
              "</tr>\n",
              "<tr>\n",
              "  <td>21.0</td>  <td>43.30904791475269</td>  <td>48.32017693216592</td>  <td>0.048422312472052684</td>   <td>-0.8882868874328541</td>   <td>0.10931800384182966</td>  <td>-0.3111986904601389</td>   <td>-0.8848370717906054</td>  <td>-0.30999009656397175</td> \n",
              "</tr>\n",
              "<tr>\n",
              "  <td>22.0</td>  <td>33.34191667537622</td>  <td>33.2669736149614</td>  <td>2.3638134361967714e-06</td> <td>0.012719352534260453</td>  <td>0.028392525886725313</td> <td>0.0021743106660257966</td>  <td>0.01249019232212943</td>  <td>0.002135136856500264</td> \n",
              "</tr>\n",
              "<tr>\n",
              "  <td>23.0</td>  <td>46.98191471650767</td>  <td>47.53013203461771</td>  <td>0.000514730159640723</td>   <td>-0.0966361767004063</td>   <td>0.09929197823983843</td> <td>-0.03208520405547464</td>  <td>-0.09491067030758572</td>  <td>-0.031512300339671465</td>\n",
              "</tr>\n",
              "<tr>\n",
              "  <td>24.0</td>  <td>33.81419899366563</td>  <td>33.02256757131773</td>  <td>0.0014534239871655285</td>  <td>0.14169755354368507</td>   <td>0.12646692743099563</td> <td>0.053915192425985616</td>   <td>0.13919415084967954</td>   <td>0.05296266053964343</td> \n",
              "</tr>\n",
              "<tr>\n",
              "  <td>25.0</td> <td>44.675445247278965</td>  <td>40.06117897261886</td>   <td>0.03141448594650397</td>   <td>0.8082092250158273</td>    <td>0.08774614656971776</td>  <td>0.2506570802770349</td>    <td>0.8030682299110462</td>    <td>0.24906265796311283</td> \n",
              "</tr>\n",
              "<tr>\n",
              "  <td>26.0</td>  <td>46.8490666325848</td>  <td>44.098155762806456</td>   <td>0.00946095456954058</td>   <td>0.47882362330544453</td>   <td>0.0762383914254501</td>   <td>0.1375569305381636</td>    <td>0.47213241523703897</td>   <td>0.13563467357613623</td> \n",
              "</tr>\n",
              "<tr>\n",
              "  <td>27.0</td> <td>30.193371339541677</td>  <td>33.73828955968634</td>   <td>0.00999084805393931</td>   <td>-0.6088169296418074</td>  <td>0.051151210576101364</td> <td>-0.14135662739284147</td>   <td>-0.6018431639546381</td>  <td>-0.13973744114855263</td> \n",
              "</tr>\n",
              "<tr>\n",
              "  <td>28.0</td>  <td>18.44673440385326</td> <td>15.981128451210596</td>  <td>0.009325098478666161</td>   <td>0.43254967650772147</td>   <td>0.09064519838356595</td>  <td>0.13656572394760086</td>   <td>0.42618163424169286</td>   <td>0.1345551888589829</td>  \n",
              "</tr>\n",
              "<tr>\n",
              "  <td>29.0</td> <td>52.327095363406784</td> <td>29.727740021246166</td>   <td>0.2637075806458461</td>    <td>3.8474861712818247</td>    <td>0.03440285216552761</td>  <td>0.7262335445927104</td>     <td>5.503307840568878</td>     <td>1.038778719953049</td>  \n",
              "</tr>\n",
              "</table>"
            ],
            "text/plain": [
              "<class 'statsmodels.iolib.table.SimpleTable'>"
            ]
          },
          "metadata": {},
          "execution_count": 54
        }
      ],
      "source": [
        "influence_info.summary_table()"
      ]
    },
    {
      "cell_type": "markdown",
      "id": "68a829be",
      "metadata": {
        "id": "68a829be"
      },
      "source": [
        ""
      ]
    },
    {
      "cell_type": "code",
      "source": [
        ""
      ],
      "metadata": {
        "colab": {
          "base_uri": "https://localhost:8080/"
        },
        "id": "UqRKIYAQqhxw",
        "outputId": "7adc18c2-7cbc-42f8-e5ad-5c8391d840b2"
      },
      "id": "UqRKIYAQqhxw",
      "execution_count": null,
      "outputs": [
        {
          "output_type": "execute_result",
          "data": {
            "text/plain": [
              "31.237978878342915"
            ]
          },
          "metadata": {},
          "execution_count": 61
        }
      ]
    },
    {
      "cell_type": "code",
      "source": [
        ""
      ],
      "metadata": {
        "id": "ihluRY2kqkc-"
      },
      "id": "ihluRY2kqkc-",
      "execution_count": null,
      "outputs": []
    }
  ],
  "metadata": {
    "kernelspec": {
      "display_name": "Python 3 (ipykernel)",
      "language": "python",
      "name": "python3"
    },
    "language_info": {
      "codemirror_mode": {
        "name": "ipython",
        "version": 3
      },
      "file_extension": ".py",
      "mimetype": "text/x-python",
      "name": "python",
      "nbconvert_exporter": "python",
      "pygments_lexer": "ipython3",
      "version": "3.9.7"
    },
    "colab": {
      "name": "studentizedResiduals.ipynb",
      "provenance": [],
      "include_colab_link": true
    }
  },
  "nbformat": 4,
  "nbformat_minor": 5
}