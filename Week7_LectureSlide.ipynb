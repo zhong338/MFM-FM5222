{
  "cells": [
    {
      "cell_type": "markdown",
      "metadata": {
        "id": "view-in-github",
        "colab_type": "text"
      },
      "source": [
        "<a href=\"https://colab.research.google.com/github/zhong338/MFM-FM5222/blob/main/Week7_LectureSlide.ipynb\" target=\"_parent\"><img src=\"https://colab.research.google.com/assets/colab-badge.svg\" alt=\"Open In Colab\"/></a>"
      ]
    },
    {
      "cell_type": "markdown",
      "id": "8714e955",
      "metadata": {
        "id": "8714e955"
      },
      "source": [
        "# FM 5222\n",
        "# Week 7\n",
        "\n",
        "\n",
        "# Multi-Colinearity \n",
        "\n",
        "\n",
        "In this lecture, we will focus on the issue of colinearity, how to detect it and what to do about it.\n",
        "\n",
        "\n",
        "Multi-colinearity arises when the features $X$ are correlated to each other.  This makes the coefficient estimates highly variable since there is (possibly) \"redundant\" information in the data matrix $X$. It can also make the regressions themnselves highly sensitive to small changes in the data set.  Let us first think about this from a linear algrebra perspeticve\n",
        "\n",
        "Our model is\n",
        "\n",
        "$$Y = Xb + \\epsilon$$\n",
        "\n",
        "$X$ is our data matrix and it consists of $N$ rows and $p$ columns (assuming we do not have an intercept).\n",
        "\n",
        "Typically, $N >p$ and we have therefore just assumed that $X^TX$ was rank $p$ and therefore invertible.   But suppose that instead of just being correlated, we actually had *exactly* that the $j$th feature was a linear combination of the other columns.  This would  imply that the rank of $X$ was less than $p$ and consequently $X^TX$ would **not** be invertible. \n",
        "\n",
        "However, even a small amount of noise in the $X$ would probably leave the rank of $X$ at $p$.  It would be *almost* not invertible. This is really what multi-colinearity is about.  Because $X^TX$ is nearly not invertible, $(X^TX)^{-1}$ it is numerically unstable and this causes issues with the entire regression.\n",
        "\n",
        "In the end, multi-colinearity results from too many features being included in the model.\n",
        "\n",
        "\n",
        "For the remainder, we will construct a model with data with built in colinearity and use it to illustrate the concepts."
      ]
    },
    {
      "cell_type": "markdown",
      "id": "d833abf9",
      "metadata": {
        "id": "d833abf9"
      },
      "source": [
        "## Fake Data Set\n",
        "\n",
        "We start by building a data set with $3$ independent columns.  We then create a new data set with $5$ columns  that is just a linear combination of the first data set. This means that it will only have rank $3$.   Then we will add some noise which will make the data set have full rank, but not eliminate the colinearity.\n",
        "\n",
        "We will have $100$ observations.\n",
        "\n",
        "\n"
      ]
    },
    {
      "cell_type": "code",
      "execution_count": null,
      "id": "e07efcf3",
      "metadata": {
        "colab": {
          "base_uri": "https://localhost:8080/"
        },
        "id": "e07efcf3",
        "outputId": "621d72a5-8d3d-4d3f-936c-4430b2d02279"
      },
      "outputs": [
        {
          "output_type": "execute_result",
          "data": {
            "text/plain": [
              "((100, 5), 3)"
            ]
          },
          "metadata": {},
          "execution_count": 3
        }
      ],
      "source": [
        "import numpy as np\n",
        "import matplotlib.pyplot as plt\n",
        "import scipy.stats as ss\n",
        "import pandas as pd\n",
        "\n",
        "\n",
        "X0 = np.random.uniform(low = -10,high=10, size = [100,3])\n",
        "\n",
        "A = np.array([[1,1,0,-1,2], [0,0,1,1,1], [-1,0,0,0,1]])  \n",
        "\n",
        "X1 = X0@A\n",
        "\n",
        "X1.shape, np.linalg.matrix_rank(X1)\n",
        "\n",
        "\n"
      ]
    },
    {
      "cell_type": "code",
      "execution_count": null,
      "id": "012fe0c1",
      "metadata": {
        "colab": {
          "base_uri": "https://localhost:8080/"
        },
        "id": "012fe0c1",
        "outputId": "cc975a75-f856-407b-baac-dd16fe0155f9"
      },
      "outputs": [
        {
          "output_type": "execute_result",
          "data": {
            "text/plain": [
              "5"
            ]
          },
          "metadata": {},
          "execution_count": 4
        }
      ],
      "source": [
        "X = X1 + np.random.normal(size = X1.shape)\n",
        "\n",
        "np.linalg.matrix_rank(X)"
      ]
    },
    {
      "cell_type": "code",
      "execution_count": null,
      "id": "9bd57a0f",
      "metadata": {
        "id": "9bd57a0f"
      },
      "outputs": [],
      "source": [
        "sigma = 5\n",
        "\n",
        "b = np.array([1,1,2,2,4])\n",
        "\n",
        "Y = X@b + np.random.normal(scale = sigma, size = 100)"
      ]
    },
    {
      "cell_type": "markdown",
      "id": "68415a31",
      "metadata": {
        "id": "68415a31"
      },
      "source": [
        "## How to detect multi-colinearity?\n",
        "\n",
        "\n",
        "We have already discussed the Variance Inflation Factor of VIF.  We will calculate this shortly, but there are some other ways to check as well.\n",
        "\n",
        "\n",
        "### Make paired comparisons\n",
        "\n",
        "\n"
      ]
    },
    {
      "cell_type": "code",
      "execution_count": null,
      "id": "d4b921f0",
      "metadata": {
        "colab": {
          "base_uri": "https://localhost:8080/",
          "height": 612
        },
        "id": "d4b921f0",
        "outputId": "6b083f76-324b-4a2f-9c60-3c1c35d9b278"
      },
      "outputs": [
        {
          "output_type": "display_data",
          "data": {
            "image/png": "[encoded data removed]",
            "text/plain": [
              "<Figure size 1080x720 with 25 Axes>"
            ]
          },
          "metadata": {
            "needs_background": "light"
          }
        }
      ],
      "source": [
        "\n",
        "pd.plotting.scatter_matrix(pd.DataFrame(X), figsize = (15,10),diagonal='kde' ,alpha=0.5)\n",
        "\n",
        "plt.show()"
      ]
    },
    {
      "cell_type": "markdown",
      "id": "3cd0f64a",
      "metadata": {
        "id": "3cd0f64a"
      },
      "source": [
        "Looking at the lower half, we see at least 4 pairs of features that are correlated positively or negatively.\n",
        "\n",
        "\n",
        "Can also look at the correlation matrix directly."
      ]
    },
    {
      "cell_type": "code",
      "execution_count": null,
      "id": "17bbeddb",
      "metadata": {
        "colab": {
          "base_uri": "https://localhost:8080/",
          "height": 206
        },
        "id": "17bbeddb",
        "outputId": "2f3a5503-4c9a-4fff-a002-3105f303eecf"
      },
      "outputs": [
        {
          "output_type": "execute_result",
          "data": {
            "text/html": [
              "\n",
              "  <div id=\"df-0ed56288-ad3e-47d1-bc6f-4f4d9cb4f117\">\n",
              "    <div class=\"colab-df-container\">\n",
              "      <div>\n",
              "<style scoped>\n",
              "    .dataframe tbody tr th:only-of-type {\n",
              "        vertical-align: middle;\n",
              "    }\n",
              "\n",
              "    .dataframe tbody tr th {\n",
              "        vertical-align: top;\n",
              "    }\n",
              "\n",
              "    .dataframe thead th {\n",
              "        text-align: right;\n",
              "    }\n",
              "</style>\n",
              "<table border=\"1\" class=\"dataframe\">\n",
              "  <thead>\n",
              "    <tr style=\"text-align: right;\">\n",
              "      <th></th>\n",
              "      <th>0</th>\n",
              "      <th>1</th>\n",
              "      <th>2</th>\n",
              "      <th>3</th>\n",
              "      <th>4</th>\n",
              "    </tr>\n",
              "  </thead>\n",
              "  <tbody>\n",
              "    <tr>\n",
              "      <th>0</th>\n",
              "      <td>1.000000</td>\n",
              "      <td>0.694104</td>\n",
              "      <td>-0.162868</td>\n",
              "      <td>-0.571868</td>\n",
              "      <td>0.218980</td>\n",
              "    </tr>\n",
              "    <tr>\n",
              "      <th>1</th>\n",
              "      <td>0.694104</td>\n",
              "      <td>1.000000</td>\n",
              "      <td>-0.143255</td>\n",
              "      <td>-0.739041</td>\n",
              "      <td>0.751427</td>\n",
              "    </tr>\n",
              "    <tr>\n",
              "      <th>2</th>\n",
              "      <td>-0.162868</td>\n",
              "      <td>-0.143255</td>\n",
              "      <td>1.000000</td>\n",
              "      <td>0.745903</td>\n",
              "      <td>0.376919</td>\n",
              "    </tr>\n",
              "    <tr>\n",
              "      <th>3</th>\n",
              "      <td>-0.571868</td>\n",
              "      <td>-0.739041</td>\n",
              "      <td>0.745903</td>\n",
              "      <td>1.000000</td>\n",
              "      <td>-0.244336</td>\n",
              "    </tr>\n",
              "    <tr>\n",
              "      <th>4</th>\n",
              "      <td>0.218980</td>\n",
              "      <td>0.751427</td>\n",
              "      <td>0.376919</td>\n",
              "      <td>-0.244336</td>\n",
              "      <td>1.000000</td>\n",
              "    </tr>\n",
              "  </tbody>\n",
              "</table>\n",
              "</div>\n",
              "      <button class=\"colab-df-convert\" onclick=\"convertToInteractive('df-0ed56288-ad3e-47d1-bc6f-4f4d9cb4f117')\"\n",
              "              title=\"Convert this dataframe to an interactive table.\"\n",
              "              style=\"display:none;\">\n",
              "        \n",
              "  <svg xmlns=\"http://www.w3.org/2000/svg\" height=\"24px\"viewBox=\"0 0 24 24\"\n",
              "       width=\"24px\">\n",
              "    <path d=\"M0 0h24v24H0V0z\" fill=\"none\"/>\n",
              "    <path d=\"M18.56 5.44l.94 2.06.94-2.06 2.06-.94-2.06-.94-.94-2.06-.94 2.06-2.06.94zm-11 1L8.5 8.5l.94-2.06 2.06-.94-2.06-.94L8.5 2.5l-.94 2.06-2.06.94zm10 10l.94 2.06.94-2.06 2.06-.94-2.06-.94-.94-2.06-.94 2.06-2.06.94z\"/><path d=\"M17.41 7.96l-1.37-1.37c-.4-.4-.92-.59-1.43-.59-.52 0-1.04.2-1.43.59L10.3 9.45l-7.72 7.72c-.78.78-.78 2.05 0 2.83L4 21.41c.39.39.9.59 1.41.59.51 0 1.02-.2 1.41-.59l7.78-7.78 2.81-2.81c.8-.78.8-2.07 0-2.86zM5.41 20L4 18.59l7.72-7.72 1.47 1.35L5.41 20z\"/>\n",
              "  </svg>\n",
              "      </button>\n",
              "      \n",
              "  <style>\n",
              "    .colab-df-container {\n",
              "      display:flex;\n",
              "      flex-wrap:wrap;\n",
              "      gap: 12px;\n",
              "    }\n",
              "\n",
              "    .colab-df-convert {\n",
              "      background-color: #E8F0FE;\n",
              "      border: none;\n",
              "      border-radius: 50%;\n",
              "      cursor: pointer;\n",
              "      display: none;\n",
              "      fill: #1967D2;\n",
              "      height: 32px;\n",
              "      padding: 0 0 0 0;\n",
              "      width: 32px;\n",
              "    }\n",
              "\n",
              "    .colab-df-convert:hover {\n",
              "      background-color: #E2EBFA;\n",
              "      box-shadow: 0px 1px 2px rgba(60, 64, 67, 0.3), 0px 1px 3px 1px rgba(60, 64, 67, 0.15);\n",
              "      fill: #174EA6;\n",
              "    }\n",
              "\n",
              "    [theme=dark] .colab-df-convert {\n",
              "      background-color: #3B4455;\n",
              "      fill: #D2E3FC;\n",
              "    }\n",
              "\n",
              "    [theme=dark] .colab-df-convert:hover {\n",
              "      background-color: #434B5C;\n",
              "      box-shadow: 0px 1px 3px 1px rgba(0, 0, 0, 0.15);\n",
              "      filter: drop-shadow(0px 1px 2px rgba(0, 0, 0, 0.3));\n",
              "      fill: #FFFFFF;\n",
              "    }\n",
              "  </style>\n",
              "\n",
              "      <script>\n",
              "        const buttonEl =\n",
              "          document.querySelector('#df-0ed56288-ad3e-47d1-bc6f-4f4d9cb4f117 button.colab-df-convert');\n",
              "        buttonEl.style.display =\n",
              "          google.colab.kernel.accessAllowed ? 'block' : 'none';\n",
              "\n",
              "        async function convertToInteractive(key) {\n",
              "          const element = document.querySelector('#df-0ed56288-ad3e-47d1-bc6f-4f4d9cb4f117');\n",
              "          const dataTable =\n",
              "            await google.colab.kernel.invokeFunction('convertToInteractive',\n",
              "                                                     [key], {});\n",
              "          if (!dataTable) return;\n",
              "\n",
              "          const docLinkHtml = 'Like what you see? Visit the ' +\n",
              "            '<a target=\"_blank\" href=https://colab.research.google.com/notebooks/data_table.ipynb>data table notebook</a>'\n",
              "            + ' to learn more about interactive tables.';\n",
              "          element.innerHTML = '';\n",
              "          dataTable['output_type'] = 'display_data';\n",
              "          await google.colab.output.renderOutput(dataTable, element);\n",
              "          const docLink = document.createElement('div');\n",
              "          docLink.innerHTML = docLinkHtml;\n",
              "          element.appendChild(docLink);\n",
              "        }\n",
              "      </script>\n",
              "    </div>\n",
              "  </div>\n",
              "  "
            ],
            "text/plain": [
              "          0         1         2         3         4\n",
              "0  1.000000  0.694104 -0.162868 -0.571868  0.218980\n",
              "1  0.694104  1.000000 -0.143255 -0.739041  0.751427\n",
              "2 -0.162868 -0.143255  1.000000  0.745903  0.376919\n",
              "3 -0.571868 -0.739041  0.745903  1.000000 -0.244336\n",
              "4  0.218980  0.751427  0.376919 -0.244336  1.000000"
            ]
          },
          "metadata": {},
          "execution_count": 7
        }
      ],
      "source": [
        "pd.DataFrame(X).corr()"
      ]
    },
    {
      "cell_type": "markdown",
      "id": "9b817b31",
      "metadata": {
        "id": "9b817b31"
      },
      "source": [
        "Heat map:"
      ]
    },
    {
      "cell_type": "code",
      "execution_count": null,
      "id": "3082bd33",
      "metadata": {
        "colab": {
          "base_uri": "https://localhost:8080/",
          "height": 595
        },
        "id": "3082bd33",
        "outputId": "890ad677-919f-4c8d-c560-a8631118429f"
      },
      "outputs": [
        {
          "output_type": "display_data",
          "data": {
            "image/png": "[encoded data removed]",
            "text/plain": [
              "<Figure size 1080x720 with 2 Axes>"
            ]
          },
          "metadata": {
            "needs_background": "light"
          }
        }
      ],
      "source": [
        "import seaborn as sb\n",
        "\n",
        "plt.figure(figsize = (15,10))\n",
        "sb.heatmap(pd.DataFrame(X).corr())\n",
        "\n",
        "plt.show()"
      ]
    },
    {
      "cell_type": "markdown",
      "id": "0dbfae4b",
      "metadata": {
        "id": "0dbfae4b"
      },
      "source": [
        "### Calculate the VIFs"
      ]
    },
    {
      "cell_type": "code",
      "execution_count": null,
      "id": "e74a18af",
      "metadata": {
        "colab": {
          "base_uri": "https://localhost:8080/"
        },
        "id": "e74a18af",
        "outputId": "6045db06-9efe-45c6-a37d-9b7153adfb9a"
      },
      "outputs": [
        {
          "output_type": "stream",
          "name": "stderr",
          "text": [
            "/usr/local/lib/python3.7/dist-packages/statsmodels/tools/_testing.py:19: FutureWarning: pandas.util.testing is deprecated. Use the functions in the public API at pandas.testing instead.\n",
            "  import pandas.util.testing as tm\n"
          ]
        }
      ],
      "source": [
        "from statsmodels.stats.outliers_influence import variance_inflation_factor as VIF"
      ]
    },
    {
      "cell_type": "code",
      "execution_count": null,
      "id": "4a32b286",
      "metadata": {
        "colab": {
          "base_uri": "https://localhost:8080/"
        },
        "id": "4a32b286",
        "outputId": "5cecb6bf-3cc0-43d7-d309-8b7404a67bb9"
      },
      "outputs": [
        {
          "output_type": "stream",
          "name": "stdout",
          "text": [
            "8.34501872827224\n",
            "31.26580745876239\n",
            "24.869721699527904\n",
            "32.37543522571503\n",
            "21.613607603632758\n"
          ]
        }
      ],
      "source": [
        "for idx in range(5):\n",
        "    print(VIF(X,idx))"
      ]
    },
    {
      "cell_type": "markdown",
      "id": "6a9b4139",
      "metadata": {
        "id": "6a9b4139"
      },
      "source": [
        "Remembering that a VIF larger than 4 suggests that the variable can be predicted by the other variables, this screams multi-colinearity."
      ]
    },
    {
      "cell_type": "markdown",
      "id": "18ff5039",
      "metadata": {
        "id": "18ff5039"
      },
      "source": [
        "Look at the condition number of $X^TX$.  The condition number is oftern large when a matrix is close to not being invertible."
      ]
    },
    {
      "cell_type": "code",
      "execution_count": null,
      "id": "328d19b0",
      "metadata": {
        "colab": {
          "base_uri": "https://localhost:8080/"
        },
        "id": "328d19b0",
        "outputId": "263ea7e8-bd81-4005-c336-9bb49b64a1f2"
      },
      "outputs": [
        {
          "output_type": "execute_result",
          "data": {
            "text/plain": [
              "(275.47950330200285, 2.4400892912677117)"
            ]
          },
          "metadata": {},
          "execution_count": 11
        }
      ],
      "source": [
        "np.linalg.cond(X.T @X), np.log10(np.linalg.cond(X.T @X))"
      ]
    },
    {
      "cell_type": "markdown",
      "id": "252b7666",
      "metadata": {
        "id": "252b7666"
      },
      "source": [
        ""
      ]
    },
    {
      "cell_type": "markdown",
      "id": "07763e75",
      "metadata": {
        "id": "07763e75"
      },
      "source": [
        "This is not a bad condition number.  So this method didn't help (but always worth checking)."
      ]
    },
    {
      "cell_type": "markdown",
      "id": "5af3d0a6",
      "metadata": {
        "id": "5af3d0a6"
      },
      "source": [
        "## What to do about it\n",
        "\n",
        "There are 3 methods I will describe here.  \n",
        "\n",
        "\n",
        "1. Variable Selection using AIC (or BIC, etc)\n",
        "2. PCA\n",
        "3. LASSO regression"
      ]
    },
    {
      "cell_type": "markdown",
      "id": "85a17360",
      "metadata": {
        "id": "85a17360"
      },
      "source": [
        "### Variable Selection using AIC.\n",
        "\n",
        "The idea here is to select the best sub-model according to which one has the lowest AIC.  In this case, since there are $5$ variables, there are a total of $2^5$ possible models.  It is possible with a computer to span all of thees modelss and pick the one with the lowest AIC. But that can become infeasible quite quickly when the number of features becomes larger.  \n",
        "\n",
        "A heuristic for finding a good model is called step regression. Step regression works as follows:\n",
        "\n",
        "1. Calculate the base model's AIC. The base model here is $Y = 0 + \\epsilon$\n",
        "\n",
        "2. Calculcate the AIC of obstained by adding just one of each of the $5$ variables.  Select the model that does the best. If none improve the AIC, you are done.\n",
        "\n",
        "3. Take the current winning model and add the one variable that improves the AIC the most.  Repeat until the model not longer improves.\n",
        "\n",
        "This method is not guaranteed to find the best AIC.  But it is intuitive and less computationally expensive that a complete survey of all combinations of features.  \n",
        "\n",
        "Python, to my knowledge, does not have a good step regressor.  However, R does. We uss that now to illustrate.\n"
      ]
    },
    {
      "cell_type": "code",
      "execution_count": null,
      "id": "851ffa1d",
      "metadata": {
        "id": "851ffa1d"
      },
      "outputs": [],
      "source": [
        "# Create data frame to send over\n",
        "data = pd.DataFrame(X, columns = [\"X1\",\"X2\",\"X3\",\"X4\", \"X5\"])\n",
        "data[\"Y\"] = Y\n",
        "\n"
      ]
    },
    {
      "cell_type": "code",
      "execution_count": null,
      "id": "67039e53",
      "metadata": {
        "id": "67039e53"
      },
      "outputs": [],
      "source": [
        "import rpy2.rinterface\n",
        "\n",
        "\n",
        "%load_ext rpy2.ipython"
      ]
    },
    {
      "cell_type": "code",
      "execution_count": null,
      "id": "c4756fd2",
      "metadata": {
        "colab": {
          "base_uri": "https://localhost:8080/"
        },
        "id": "c4756fd2",
        "outputId": "89808839-7b16-4cb1-d4e3-0e99a4a39d9c"
      },
      "outputs": [
        {
          "output_type": "stream",
          "name": "stdout",
          "text": [
            "            X1         X2        X3          X4         X5          Y\n",
            "0 -18.37591215 -11.052145  9.248591  18.8775074   2.689855  40.706451\n",
            "1   0.42470647   4.078494 -5.543704  -8.9306057   3.484154 -14.514747\n",
            "2 -16.35064669  -6.146294 -7.937663  -0.5329858 -10.330736 -81.757564\n",
            "3  -4.92284996  -8.016461  3.703596  12.5041737 -18.626940 -56.447356\n",
            "4  -0.10980969  -2.798872  2.482672   6.2918001  -3.701780  -2.939786\n",
            "5  -0.05489973   4.039267 -7.628447 -10.7949694   4.106534 -12.591244\n"
          ]
        }
      ],
      "source": [
        "%%R -i data\n",
        "\n",
        "\n",
        "head(data)\n",
        "\n",
        "\n"
      ]
    },
    {
      "cell_type": "code",
      "execution_count": null,
      "id": "fed593e1",
      "metadata": {
        "colab": {
          "base_uri": "https://localhost:8080/"
        },
        "id": "fed593e1",
        "outputId": "41b11426-dd01-4f8b-87cb-208a0c888869"
      },
      "outputs": [
        {
          "output_type": "stream",
          "name": "stdout",
          "text": [
            "Start:  AIC=324.68\n",
            "Y ~ 0 + (X1 + X2 + X3 + X4 + X5)\n",
            "\n",
            "       Df Sum of Sq     RSS    AIC\n",
            "- X2    1      15.8  2341.8 323.35\n",
            "<none>               2326.0 324.68\n",
            "- X4    1     408.2  2734.2 338.84\n",
            "- X1    1     743.3  3069.3 350.40\n",
            "- X3    1     887.2  3213.2 354.99\n",
            "- X5    1   12240.8 14566.8 506.13\n",
            "\n",
            "Step:  AIC=323.35\n",
            "Y ~ X1 + X3 + X4 + X5 - 1\n",
            "\n",
            "       Df Sum of Sq   RSS    AIC\n",
            "<none>               2342 323.35\n",
            "+ X2    1      15.8  2326 324.68\n",
            "- X4    1     396.5  2738 336.99\n",
            "- X3    1     871.7  3214 353.00\n",
            "- X1    1    1852.3  4194 379.63\n",
            "- X5    1   31126.6 33468 587.32\n",
            "\n",
            "Call:\n",
            "lm(formula = Y ~ X1 + X3 + X4 + X5 - 1, data = data)\n",
            "\n",
            "Coefficients:\n",
            "   X1     X3     X4     X5  \n",
            "1.146  2.566  1.300  4.077  \n",
            "\n"
          ]
        }
      ],
      "source": [
        "%%R\n",
        "NullModel <-  lm(formula = Y ~ 0 ,data = data )\n",
        "FullModel <-  lm(formula =Y ~ 0+. ,data = data )\n",
        "\n",
        "step(FullModel, scope= list(lower=NullModel, upper=FullModel), direction = 'both')"
      ]
    },
    {
      "cell_type": "code",
      "execution_count": null,
      "id": "92943232",
      "metadata": {
        "colab": {
          "base_uri": "https://localhost:8080/"
        },
        "id": "92943232",
        "outputId": "13d4593f-9673-43f6-9f0b-35ba63a58d5d"
      },
      "outputs": [
        {
          "output_type": "stream",
          "name": "stdout",
          "text": [
            "\n",
            "Call:\n",
            "lm(formula = Y ~ X5 + X3 + X1 + X4 - 1, data = data)\n",
            "\n",
            "Residuals:\n",
            "     Min       1Q   Median       3Q      Max \n",
            "-10.2256  -2.6743  -0.2405   2.7157  14.2762 \n",
            "\n",
            "Coefficients:\n",
            "   Estimate Std. Error t value Pr(>|t|)    \n",
            "X5   4.0775     0.1141  35.721  < 2e-16 ***\n",
            "X3   2.5658     0.4292   5.978 3.85e-08 ***\n",
            "X1   1.1463     0.1315   8.714 8.58e-14 ***\n",
            "X4   1.2999     0.3224   4.032 0.000111 ***\n",
            "---\n",
            "Signif. codes:  0 ‘***’ 0.001 ‘**’ 0.01 ‘*’ 0.05 ‘.’ 0.1 ‘ ’ 1\n",
            "\n",
            "Residual standard error: 4.939 on 96 degrees of freedom\n",
            "Multiple R-squared:  0.9939,\tAdjusted R-squared:  0.9936 \n",
            "F-statistic:  3884 on 4 and 96 DF,  p-value: < 2.2e-16\n",
            "\n"
          ]
        }
      ],
      "source": [
        "%%R\n",
        "\n",
        "test <- lm(formula = Y ~ X5 + X3 + X1 + X4 - 1, data = data)\n",
        "\n",
        "summary(test)"
      ]
    },
    {
      "cell_type": "markdown",
      "id": "aec05200",
      "metadata": {
        "id": "aec05200"
      },
      "source": [
        "We can compare with OLS output"
      ]
    },
    {
      "cell_type": "code",
      "execution_count": null,
      "id": "006d3897",
      "metadata": {
        "colab": {
          "base_uri": "https://localhost:8080/",
          "height": 494
        },
        "id": "006d3897",
        "outputId": "1a9aa36e-418e-46db-9dbb-265df0077834"
      },
      "outputs": [
        {
          "output_type": "execute_result",
          "data": {
            "text/html": [
              "<table class=\"simpletable\">\n",
              "<caption>OLS Regression Results</caption>\n",
              "<tr>\n",
              "  <th>Dep. Variable:</th>            <td>y</td>        <th>  R-squared (uncentered):</th>      <td>   0.994</td> \n",
              "</tr>\n",
              "<tr>\n",
              "  <th>Model:</th>                   <td>OLS</td>       <th>  Adj. R-squared (uncentered):</th> <td>   0.994</td> \n",
              "</tr>\n",
              "<tr>\n",
              "  <th>Method:</th>             <td>Least Squares</td>  <th>  F-statistic:       </th>          <td>   3884.</td> \n",
              "</tr>\n",
              "<tr>\n",
              "  <th>Date:</th>             <td>Fri, 04 Mar 2022</td> <th>  Prob (F-statistic):</th>          <td>3.32e-105</td>\n",
              "</tr>\n",
              "<tr>\n",
              "  <th>Time:</th>                 <td>00:21:40</td>     <th>  Log-Likelihood:    </th>          <td> -299.57</td> \n",
              "</tr>\n",
              "<tr>\n",
              "  <th>No. Observations:</th>      <td>   100</td>      <th>  AIC:               </th>          <td>   607.1</td> \n",
              "</tr>\n",
              "<tr>\n",
              "  <th>Df Residuals:</th>          <td>    96</td>      <th>  BIC:               </th>          <td>   617.6</td> \n",
              "</tr>\n",
              "<tr>\n",
              "  <th>Df Model:</th>              <td>     4</td>      <th>                     </th>              <td> </td>    \n",
              "</tr>\n",
              "<tr>\n",
              "  <th>Covariance Type:</th>      <td>nonrobust</td>    <th>                     </th>              <td> </td>    \n",
              "</tr>\n",
              "</table>\n",
              "<table class=\"simpletable\">\n",
              "<tr>\n",
              "   <td></td>     <th>coef</th>     <th>std err</th>      <th>t</th>      <th>P>|t|</th>  <th>[0.025</th>    <th>0.975]</th>  \n",
              "</tr>\n",
              "<tr>\n",
              "  <th>x1</th> <td>    1.1463</td> <td>    0.132</td> <td>    8.714</td> <td> 0.000</td> <td>    0.885</td> <td>    1.407</td>\n",
              "</tr>\n",
              "<tr>\n",
              "  <th>x2</th> <td>    2.5658</td> <td>    0.429</td> <td>    5.978</td> <td> 0.000</td> <td>    1.714</td> <td>    3.418</td>\n",
              "</tr>\n",
              "<tr>\n",
              "  <th>x3</th> <td>    1.2999</td> <td>    0.322</td> <td>    4.032</td> <td> 0.000</td> <td>    0.660</td> <td>    1.940</td>\n",
              "</tr>\n",
              "<tr>\n",
              "  <th>x4</th> <td>    4.0775</td> <td>    0.114</td> <td>   35.721</td> <td> 0.000</td> <td>    3.851</td> <td>    4.304</td>\n",
              "</tr>\n",
              "</table>\n",
              "<table class=\"simpletable\">\n",
              "<tr>\n",
              "  <th>Omnibus:</th>       <td> 3.191</td> <th>  Durbin-Watson:     </th> <td>   1.715</td>\n",
              "</tr>\n",
              "<tr>\n",
              "  <th>Prob(Omnibus):</th> <td> 0.203</td> <th>  Jarque-Bera (JB):  </th> <td>   2.844</td>\n",
              "</tr>\n",
              "<tr>\n",
              "  <th>Skew:</th>          <td> 0.412</td> <th>  Prob(JB):          </th> <td>   0.241</td>\n",
              "</tr>\n",
              "<tr>\n",
              "  <th>Kurtosis:</th>      <td> 3.047</td> <th>  Cond. No.          </th> <td>    15.2</td>\n",
              "</tr>\n",
              "</table><br/><br/>Warnings:<br/>[1] Standard Errors assume that the covariance matrix of the errors is correctly specified."
            ],
            "text/plain": [
              "<class 'statsmodels.iolib.summary.Summary'>\n",
              "\"\"\"\n",
              "                                 OLS Regression Results                                \n",
              "=======================================================================================\n",
              "Dep. Variable:                      y   R-squared (uncentered):                   0.994\n",
              "Model:                            OLS   Adj. R-squared (uncentered):              0.994\n",
              "Method:                 Least Squares   F-statistic:                              3884.\n",
              "Date:                Fri, 04 Mar 2022   Prob (F-statistic):                   3.32e-105\n",
              "Time:                        00:21:40   Log-Likelihood:                         -299.57\n",
              "No. Observations:                 100   AIC:                                      607.1\n",
              "Df Residuals:                      96   BIC:                                      617.6\n",
              "Df Model:                           4                                                  \n",
              "Covariance Type:            nonrobust                                                  \n",
              "==============================================================================\n",
              "                 coef    std err          t      P>|t|      [0.025      0.975]\n",
              "------------------------------------------------------------------------------\n",
              "x1             1.1463      0.132      8.714      0.000       0.885       1.407\n",
              "x2             2.5658      0.429      5.978      0.000       1.714       3.418\n",
              "x3             1.2999      0.322      4.032      0.000       0.660       1.940\n",
              "x4             4.0775      0.114     35.721      0.000       3.851       4.304\n",
              "==============================================================================\n",
              "Omnibus:                        3.191   Durbin-Watson:                   1.715\n",
              "Prob(Omnibus):                  0.203   Jarque-Bera (JB):                2.844\n",
              "Skew:                           0.412   Prob(JB):                        0.241\n",
              "Kurtosis:                       3.047   Cond. No.                         15.2\n",
              "==============================================================================\n",
              "\n",
              "Warnings:\n",
              "[1] Standard Errors assume that the covariance matrix of the errors is correctly specified.\n",
              "\"\"\""
            ]
          },
          "metadata": {},
          "execution_count": 18
        }
      ],
      "source": [
        "import statsmodels.api as sm\n",
        "\n",
        "model = sm.OLS(Y, np.delete(X,1,axis = 1))\n",
        "result = model.fit()\n",
        "\n",
        "result.summary()"
      ]
    },
    {
      "cell_type": "markdown",
      "id": "a4bc1f3a",
      "metadata": {
        "id": "a4bc1f3a"
      },
      "source": [
        "### Standardizing\n",
        "\n",
        "For the next two approaches, it is important to standardize the data before proceeding.  When standardizing, it's important to remember the transform so that you can translate back once you have built your model.\n",
        "\n",
        "We will make the following transforms:\n",
        "\n",
        "$U = \\frac{X- \\bar{X}}{s_X}$\n",
        "\n",
        "and\n",
        "\n",
        "$V = \\frac{Y- \\bar{Y}}{s_Y}$\n",
        "\n",
        "\n",
        "\n"
      ]
    },
    {
      "cell_type": "code",
      "execution_count": null,
      "id": "77cea959",
      "metadata": {
        "colab": {
          "base_uri": "https://localhost:8080/"
        },
        "id": "77cea959",
        "outputId": "9b50d9f1-9115-4679-bd19-180c72eb07e9"
      },
      "outputs": [
        {
          "output_type": "execute_result",
          "data": {
            "text/plain": [
              "(array([ 5.55111512e-17,  6.88338275e-17, -3.10862447e-17, -1.26565425e-16,\n",
              "        -6.99440506e-17]), array([1., 1., 1., 1., 1.]))"
            ]
          },
          "metadata": {},
          "execution_count": 20
        }
      ],
      "source": [
        "U = (X - np.mean(X, axis = 0))/np.std(X, axis = 0)\n",
        "\n",
        "U.mean(axis = 0), U.var(axis = 0)"
      ]
    },
    {
      "cell_type": "code",
      "execution_count": null,
      "id": "5e671a04",
      "metadata": {
        "colab": {
          "base_uri": "https://localhost:8080/"
        },
        "id": "5e671a04",
        "outputId": "4a39f01b-5ed2-4dbc-8f4c-8e2204f9c790"
      },
      "outputs": [
        {
          "output_type": "execute_result",
          "data": {
            "text/plain": [
              "(5.551115123125783e-18, 1.0000000000000002)"
            ]
          },
          "metadata": {},
          "execution_count": 21
        }
      ],
      "source": [
        "V = (Y - np.mean(Y, axis = 0))/np.std(Y, axis = 0)\n",
        "\n",
        "V.mean(), V.var()"
      ]
    },
    {
      "cell_type": "markdown",
      "id": "630b6fb9",
      "metadata": {
        "id": "630b6fb9"
      },
      "source": [
        "### PCA\n",
        "\n",
        "Principal Component Analysis (PCA) is a well-known dimension reduction method used in many applications.  We give a brief description here and work for our example.\n",
        "\n",
        "The data matrix $U^TU$ is positive definite and symmetric so long as it is full rank.   Because $U$ was standardized, $\\frac{1}{N}U^TU$ is the correlation matrix of the data variables $U = [u_1, u_2, ..., u_5]$.\n",
        "\n",
        "Now suppose that we take a new set of data which is obtained via a linear transformation of the original variables $U$.  That is, we take\n",
        "\n",
        "$$Z = UA$$\n",
        "\n",
        "for some $5 \\times m$ matrix $A$ where $1 \\leq m \\leq 5$\n",
        "\n",
        "The covariance of $Z$ will be \n",
        "\n",
        "$$\\mathrm{Cov}(Z) =\\frac{1}{N} A^TU^TUA$$\n",
        "\n",
        "\n",
        "We know from linear algebra that becaues $\\frac{1}{N}U^TU$ is symmetric and positive definite, all of its eigenvalues $e_j$ are positive real numbers and its eigenvectors are orthogonal.\n",
        "\n",
        "Furthermore, if $A$ is the matrix whose columns are eigvectors, then \n",
        "\n",
        "\n",
        "$$\\frac{1}{N}A^TU^TUA = \\mathrm{diag}(e_1,e_2,...,e_5)$$\n",
        "\n",
        "\n",
        "The variance of each data vector $z_k$ is therefore the eigenvalue $e_k$.  Also, note that the correlations of the $z_k$ are all zero. This means we have no colinearity when we change variables from $U$ to $Z$. \n",
        "\n",
        "The variance of $z_1 + z_2 + \\cdots + z_5$ is the sum of the eigenvalues and can be thought of, in some sense, the the total variance of the features.    If we order the eigenvectors according to the eigenvalues - largest to smallest, then we are capturing the first the \"direction\" that captures the most of the variance, then the second most, and so forth.   Typically, for some $m < 5$(or $p$ more generally), we will have captured nearly all of the variance.  Hence, we just use the first $m$ eigenvectors perform our regression using them.\n",
        "\n",
        "Let's try this.\n",
        "\n",
        "\n",
        "\n"
      ]
    },
    {
      "cell_type": "code",
      "execution_count": null,
      "id": "5f8e8d76",
      "metadata": {
        "id": "5f8e8d76"
      },
      "outputs": [],
      "source": [
        "e, A = np.linalg.eig(U.T@U/100)"
      ]
    },
    {
      "cell_type": "code",
      "execution_count": null,
      "id": "51ddc1b4",
      "metadata": {
        "colab": {
          "base_uri": "https://localhost:8080/"
        },
        "id": "51ddc1b4",
        "outputId": "18fb1b88-6452-464f-ffef-8e2533231f82"
      },
      "outputs": [
        {
          "output_type": "execute_result",
          "data": {
            "text/plain": [
              "array([[ 1.,  0.,  0.,  0., -0.],\n",
              "       [ 0.,  1., -0.,  0.,  0.],\n",
              "       [ 0., -0.,  1., -0.,  0.],\n",
              "       [ 0.,  0., -0.,  1.,  0.],\n",
              "       [-0.,  0.,  0.,  0.,  1.]])"
            ]
          },
          "metadata": {},
          "execution_count": 23
        }
      ],
      "source": [
        "# Checking that A is orthogonal.  We find the numpy conveniently scaled it for us.\n",
        "np.round(A@A.T,6)"
      ]
    },
    {
      "cell_type": "code",
      "execution_count": null,
      "id": "1b39994e",
      "metadata": {
        "colab": {
          "base_uri": "https://localhost:8080/"
        },
        "id": "1b39994e",
        "outputId": "45b29a03-2099-4e8e-ea3e-dbf31395bded"
      },
      "outputs": [
        {
          "output_type": "execute_result",
          "data": {
            "text/plain": [
              "(array([[ 2.758, -0.   ,  0.   ,  0.   ,  0.   ],\n",
              "        [ 0.   ,  1.606,  0.   ,  0.   , -0.   ],\n",
              "        [ 0.   ,  0.   ,  0.601, -0.   , -0.   ],\n",
              "        [ 0.   ,  0.   , -0.   ,  0.015,  0.   ],\n",
              "        [ 0.   , -0.   , -0.   , -0.   ,  0.021]]),\n",
              " array([[2.758, 0.   , 0.   , 0.   , 0.   ],\n",
              "        [0.   , 1.606, 0.   , 0.   , 0.   ],\n",
              "        [0.   , 0.   , 0.601, 0.   , 0.   ],\n",
              "        [0.   , 0.   , 0.   , 0.015, 0.   ],\n",
              "        [0.   , 0.   , 0.   , 0.   , 0.021]]))"
            ]
          },
          "metadata": {},
          "execution_count": 24
        }
      ],
      "source": [
        "# Checking that things really diagonlalize\n",
        "\n",
        "np.round(A.T@U.T@U@A/100,3), np.round(np.diag(e),3)"
      ]
    },
    {
      "cell_type": "markdown",
      "id": "1ab55649",
      "metadata": {
        "id": "1ab55649"
      },
      "source": [
        "Now we can see how much of the variance we can capture "
      ]
    },
    {
      "cell_type": "code",
      "execution_count": null,
      "id": "d943997f",
      "metadata": {
        "colab": {
          "base_uri": "https://localhost:8080/"
        },
        "id": "d943997f",
        "outputId": "e5374f9a-f64b-40da-be55-020a18e07333"
      },
      "outputs": [
        {
          "output_type": "execute_result",
          "data": {
            "text/plain": [
              "array([0.55156016, 0.87269914, 0.99289651, 0.99585229, 1.        ])"
            ]
          },
          "metadata": {},
          "execution_count": 25
        }
      ],
      "source": [
        "e.cumsum()/e.sum()"
      ]
    },
    {
      "cell_type": "markdown",
      "id": "f11bc04e",
      "metadata": {
        "id": "f11bc04e"
      },
      "source": [
        "We can see here that PCA suggests that we only need the first three components. Let regress then."
      ]
    },
    {
      "cell_type": "code",
      "execution_count": null,
      "id": "65779c8b",
      "metadata": {
        "colab": {
          "base_uri": "https://localhost:8080/",
          "height": 494
        },
        "id": "65779c8b",
        "outputId": "aecf2d6d-2c8a-4eea-b011-c4b6bbe43147"
      },
      "outputs": [
        {
          "output_type": "execute_result",
          "data": {
            "text/html": [
              "<table class=\"simpletable\">\n",
              "<caption>OLS Regression Results</caption>\n",
              "<tr>\n",
              "  <th>Dep. Variable:</th>            <td>y</td>        <th>  R-squared (uncentered):</th>      <td>   0.993</td> \n",
              "</tr>\n",
              "<tr>\n",
              "  <th>Model:</th>                   <td>OLS</td>       <th>  Adj. R-squared (uncentered):</th> <td>   0.993</td> \n",
              "</tr>\n",
              "<tr>\n",
              "  <th>Method:</th>             <td>Least Squares</td>  <th>  F-statistic:       </th>          <td>   3441.</td> \n",
              "</tr>\n",
              "<tr>\n",
              "  <th>Date:</th>             <td>Fri, 04 Mar 2022</td> <th>  Prob (F-statistic):</th>          <td>1.08e-102</td>\n",
              "</tr>\n",
              "<tr>\n",
              "  <th>Time:</th>                 <td>00:46:40</td>     <th>  Log-Likelihood:    </th>          <td>  106.72</td> \n",
              "</tr>\n",
              "<tr>\n",
              "  <th>No. Observations:</th>      <td>   100</td>      <th>  AIC:               </th>          <td>  -205.4</td> \n",
              "</tr>\n",
              "<tr>\n",
              "  <th>Df Residuals:</th>          <td>    96</td>      <th>  BIC:               </th>          <td>  -195.0</td> \n",
              "</tr>\n",
              "<tr>\n",
              "  <th>Df Model:</th>              <td>     4</td>      <th>                     </th>              <td> </td>    \n",
              "</tr>\n",
              "<tr>\n",
              "  <th>Covariance Type:</th>      <td>nonrobust</td>    <th>                     </th>              <td> </td>    \n",
              "</tr>\n",
              "</table>\n",
              "<table class=\"simpletable\">\n",
              "<tr>\n",
              "   <td></td>     <th>coef</th>     <th>std err</th>      <th>t</th>      <th>P>|t|</th>  <th>[0.025</th>    <th>0.975]</th>  \n",
              "</tr>\n",
              "<tr>\n",
              "  <th>x1</th> <td>   -0.1877</td> <td>    0.005</td> <td>  -36.692</td> <td> 0.000</td> <td>   -0.198</td> <td>   -0.178</td>\n",
              "</tr>\n",
              "<tr>\n",
              "  <th>x2</th> <td>   -0.7404</td> <td>    0.007</td> <td> -110.449</td> <td> 0.000</td> <td>   -0.754</td> <td>   -0.727</td>\n",
              "</tr>\n",
              "<tr>\n",
              "  <th>x3</th> <td>   -0.1491</td> <td>    0.011</td> <td>  -13.607</td> <td> 0.000</td> <td>   -0.171</td> <td>   -0.127</td>\n",
              "</tr>\n",
              "<tr>\n",
              "  <th>x4</th> <td>    0.3965</td> <td>    0.070</td> <td>    5.675</td> <td> 0.000</td> <td>    0.258</td> <td>    0.535</td>\n",
              "</tr>\n",
              "</table>\n",
              "<table class=\"simpletable\">\n",
              "<tr>\n",
              "  <th>Omnibus:</th>       <td> 1.648</td> <th>  Durbin-Watson:     </th> <td>   1.749</td>\n",
              "</tr>\n",
              "<tr>\n",
              "  <th>Prob(Omnibus):</th> <td> 0.439</td> <th>  Jarque-Bera (JB):  </th> <td>   1.663</td>\n",
              "</tr>\n",
              "<tr>\n",
              "  <th>Skew:</th>          <td> 0.297</td> <th>  Prob(JB):          </th> <td>   0.435</td>\n",
              "</tr>\n",
              "<tr>\n",
              "  <th>Kurtosis:</th>      <td> 2.782</td> <th>  Cond. No.          </th> <td>    13.7</td>\n",
              "</tr>\n",
              "</table><br/><br/>Warnings:<br/>[1] Standard Errors assume that the covariance matrix of the errors is correctly specified."
            ],
            "text/plain": [
              "<class 'statsmodels.iolib.summary.Summary'>\n",
              "\"\"\"\n",
              "                                 OLS Regression Results                                \n",
              "=======================================================================================\n",
              "Dep. Variable:                      y   R-squared (uncentered):                   0.993\n",
              "Model:                            OLS   Adj. R-squared (uncentered):              0.993\n",
              "Method:                 Least Squares   F-statistic:                              3441.\n",
              "Date:                Fri, 04 Mar 2022   Prob (F-statistic):                   1.08e-102\n",
              "Time:                        00:46:40   Log-Likelihood:                          106.72\n",
              "No. Observations:                 100   AIC:                                     -205.4\n",
              "Df Residuals:                      96   BIC:                                     -195.0\n",
              "Df Model:                           4                                                  \n",
              "Covariance Type:            nonrobust                                                  \n",
              "==============================================================================\n",
              "                 coef    std err          t      P>|t|      [0.025      0.975]\n",
              "------------------------------------------------------------------------------\n",
              "x1            -0.1877      0.005    -36.692      0.000      -0.198      -0.178\n",
              "x2            -0.7404      0.007   -110.449      0.000      -0.754      -0.727\n",
              "x3            -0.1491      0.011    -13.607      0.000      -0.171      -0.127\n",
              "x4             0.3965      0.070      5.675      0.000       0.258       0.535\n",
              "==============================================================================\n",
              "Omnibus:                        1.648   Durbin-Watson:                   1.749\n",
              "Prob(Omnibus):                  0.439   Jarque-Bera (JB):                1.663\n",
              "Skew:                           0.297   Prob(JB):                        0.435\n",
              "Kurtosis:                       2.782   Cond. No.                         13.7\n",
              "==============================================================================\n",
              "\n",
              "Warnings:\n",
              "[1] Standard Errors assume that the covariance matrix of the errors is correctly specified.\n",
              "\"\"\""
            ]
          },
          "metadata": {},
          "execution_count": 28
        }
      ],
      "source": [
        "Z = U@A\n",
        "\n",
        "modelPCA = sm.OLS(V, Z[:,0:4])\n",
        "resultPCA = modelPCA.fit()\n",
        "\n",
        "resultPCA.summary()"
      ]
    },
    {
      "cell_type": "markdown",
      "id": "68c5d829",
      "metadata": {
        "id": "68c5d829"
      },
      "source": [
        "Which we can compare with"
      ]
    },
    {
      "cell_type": "code",
      "execution_count": null,
      "id": "18a74aea",
      "metadata": {
        "colab": {
          "base_uri": "https://localhost:8080/",
          "height": 516
        },
        "id": "18a74aea",
        "outputId": "00cc14b7-a1e1-437d-8401-20ed5fdbcf1d"
      },
      "outputs": [
        {
          "output_type": "execute_result",
          "data": {
            "text/html": [
              "<table class=\"simpletable\">\n",
              "<caption>OLS Regression Results</caption>\n",
              "<tr>\n",
              "  <th>Dep. Variable:</th>            <td>y</td>        <th>  R-squared (uncentered):</th>      <td>   0.994</td> \n",
              "</tr>\n",
              "<tr>\n",
              "  <th>Model:</th>                   <td>OLS</td>       <th>  Adj. R-squared (uncentered):</th> <td>   0.994</td> \n",
              "</tr>\n",
              "<tr>\n",
              "  <th>Method:</th>             <td>Least Squares</td>  <th>  F-statistic:       </th>          <td>   3102.</td> \n",
              "</tr>\n",
              "<tr>\n",
              "  <th>Date:</th>             <td>Fri, 04 Mar 2022</td> <th>  Prob (F-statistic):</th>          <td>1.47e-103</td>\n",
              "</tr>\n",
              "<tr>\n",
              "  <th>Time:</th>                 <td>00:46:45</td>     <th>  Log-Likelihood:    </th>          <td>  113.17</td> \n",
              "</tr>\n",
              "<tr>\n",
              "  <th>No. Observations:</th>      <td>   100</td>      <th>  AIC:               </th>          <td>  -216.3</td> \n",
              "</tr>\n",
              "<tr>\n",
              "  <th>Df Residuals:</th>          <td>    95</td>      <th>  BIC:               </th>          <td>  -203.3</td> \n",
              "</tr>\n",
              "<tr>\n",
              "  <th>Df Model:</th>              <td>     5</td>      <th>                     </th>              <td> </td>    \n",
              "</tr>\n",
              "<tr>\n",
              "  <th>Covariance Type:</th>      <td>nonrobust</td>    <th>                     </th>              <td> </td>    \n",
              "</tr>\n",
              "</table>\n",
              "<table class=\"simpletable\">\n",
              "<tr>\n",
              "   <td></td>     <th>coef</th>     <th>std err</th>      <th>t</th>      <th>P>|t|</th>  <th>[0.025</th>    <th>0.975]</th>  \n",
              "</tr>\n",
              "<tr>\n",
              "  <th>x1</th> <td>    0.1268</td> <td>    0.023</td> <td>    5.489</td> <td> 0.000</td> <td>    0.081</td> <td>    0.173</td>\n",
              "</tr>\n",
              "<tr>\n",
              "  <th>x2</th> <td>    0.0356</td> <td>    0.045</td> <td>    0.795</td> <td> 0.428</td> <td>   -0.053</td> <td>    0.124</td>\n",
              "</tr>\n",
              "<tr>\n",
              "  <th>x3</th> <td>    0.2410</td> <td>    0.040</td> <td>    6.036</td> <td> 0.000</td> <td>    0.162</td> <td>    0.320</td>\n",
              "</tr>\n",
              "<tr>\n",
              "  <th>x4</th> <td>    0.1851</td> <td>    0.046</td> <td>    4.058</td> <td> 0.000</td> <td>    0.095</td> <td>    0.276</td>\n",
              "</tr>\n",
              "<tr>\n",
              "  <th>x5</th> <td>    0.8329</td> <td>    0.037</td> <td>   22.380</td> <td> 0.000</td> <td>    0.759</td> <td>    0.907</td>\n",
              "</tr>\n",
              "</table>\n",
              "<table class=\"simpletable\">\n",
              "<tr>\n",
              "  <th>Omnibus:</th>       <td> 3.032</td> <th>  Durbin-Watson:     </th> <td>   1.707</td>\n",
              "</tr>\n",
              "<tr>\n",
              "  <th>Prob(Omnibus):</th> <td> 0.220</td> <th>  Jarque-Bera (JB):  </th> <td>   2.764</td>\n",
              "</tr>\n",
              "<tr>\n",
              "  <th>Skew:</th>          <td> 0.407</td> <th>  Prob(JB):          </th> <td>   0.251</td>\n",
              "</tr>\n",
              "<tr>\n",
              "  <th>Kurtosis:</th>      <td> 2.992</td> <th>  Cond. No.          </th> <td>    13.7</td>\n",
              "</tr>\n",
              "</table><br/><br/>Warnings:<br/>[1] Standard Errors assume that the covariance matrix of the errors is correctly specified."
            ],
            "text/plain": [
              "<class 'statsmodels.iolib.summary.Summary'>\n",
              "\"\"\"\n",
              "                                 OLS Regression Results                                \n",
              "=======================================================================================\n",
              "Dep. Variable:                      y   R-squared (uncentered):                   0.994\n",
              "Model:                            OLS   Adj. R-squared (uncentered):              0.994\n",
              "Method:                 Least Squares   F-statistic:                              3102.\n",
              "Date:                Fri, 04 Mar 2022   Prob (F-statistic):                   1.47e-103\n",
              "Time:                        00:46:45   Log-Likelihood:                          113.17\n",
              "No. Observations:                 100   AIC:                                     -216.3\n",
              "Df Residuals:                      95   BIC:                                     -203.3\n",
              "Df Model:                           5                                                  \n",
              "Covariance Type:            nonrobust                                                  \n",
              "==============================================================================\n",
              "                 coef    std err          t      P>|t|      [0.025      0.975]\n",
              "------------------------------------------------------------------------------\n",
              "x1             0.1268      0.023      5.489      0.000       0.081       0.173\n",
              "x2             0.0356      0.045      0.795      0.428      -0.053       0.124\n",
              "x3             0.2410      0.040      6.036      0.000       0.162       0.320\n",
              "x4             0.1851      0.046      4.058      0.000       0.095       0.276\n",
              "x5             0.8329      0.037     22.380      0.000       0.759       0.907\n",
              "==============================================================================\n",
              "Omnibus:                        3.032   Durbin-Watson:                   1.707\n",
              "Prob(Omnibus):                  0.220   Jarque-Bera (JB):                2.764\n",
              "Skew:                           0.407   Prob(JB):                        0.251\n",
              "Kurtosis:                       2.992   Cond. No.                         13.7\n",
              "==============================================================================\n",
              "\n",
              "Warnings:\n",
              "[1] Standard Errors assume that the covariance matrix of the errors is correctly specified.\n",
              "\"\"\""
            ]
          },
          "metadata": {},
          "execution_count": 29
        }
      ],
      "source": [
        "model = sm.OLS(V, U)\n",
        "result = model.fit()\n",
        "\n",
        "result.summary()"
      ]
    },
    {
      "cell_type": "markdown",
      "id": "1059a348",
      "metadata": {
        "id": "1059a348"
      },
      "source": [
        "## LASSO Regression\n",
        "\n",
        "\n",
        "The concept here comes from Machine Learning with a little bit of Occam's razor.\n",
        "\n",
        "We wish to use the prediction variables to predict our target.  But we prefer to not have \"large\" coefficients and perhaps to drop some of the features we don't really need.  Normally, we would minimize the sum squared resisudals\n",
        "\n",
        "$$J = \\sum_{i=1}^N \\hat{\\epsilon}_i^2$$\n",
        "\n",
        "We call the function $J(\\mathbf{b})$ the penality function. In the standard case, there is only a  penality for the regeression fit to the data.\n",
        "\n",
        "But in LASSO regression, we introduce an additional penalty for having using $b$ vector values that are too big. So we define the penality function\n",
        "\n",
        "$$J(\\mathbf{b};\\alpha) = \\sum_{i=1}^N \\hat{\\epsilon}_i^2 + \\alpha \\sum_{k=1}^p |b_p|$$\n",
        "\n",
        "where $\\mathbf{b} = [b_1,b_2,...,b_p]^T$\n",
        "\n",
        "We have to choose $\\alpha >0$.  If alpha is large, we end up selecting none of the variables.  And if $\\alpha$ is small, we end up keeping them all.   But there is typically  a range of $\\alpha$'s that will kick out some of the regressed coefficients $b_k$ (that is, set them to zero).\n",
        "\n",
        "\n",
        "The package SKLearn has this built in.  So we use it here to demonstrate.\n",
        "\n"
      ]
    },
    {
      "cell_type": "code",
      "execution_count": null,
      "id": "6058a287",
      "metadata": {
        "id": "6058a287"
      },
      "outputs": [],
      "source": [
        "from sklearn import linear_model\n",
        "\n"
      ]
    },
    {
      "cell_type": "markdown",
      "id": "5673298b",
      "metadata": {
        "id": "5673298b"
      },
      "source": [
        "We first just linearly regress U and V like we normally would,but in sklearn, we input $X$ then $Y$ (or $U$ then $V$."
      ]
    },
    {
      "cell_type": "code",
      "execution_count": null,
      "id": "b8c5923d",
      "metadata": {
        "colab": {
          "base_uri": "https://localhost:8080/"
        },
        "id": "b8c5923d",
        "outputId": "f2f94ab0-4f38-4ca5-b98c-9a3a47c331d6"
      },
      "outputs": [
        {
          "output_type": "execute_result",
          "data": {
            "text/plain": [
              "array([0.12677012, 0.03560498, 0.24097529, 0.18507956, 0.83286219])"
            ]
          },
          "metadata": {},
          "execution_count": 31
        }
      ],
      "source": [
        "reglin =  linear_model.LinearRegression()\n",
        "\n",
        "reglin.fit(U,V)\n",
        "\n",
        "reglin.coef_\n",
        "\n"
      ]
    },
    {
      "cell_type": "code",
      "execution_count": null,
      "id": "b0e8e48c",
      "metadata": {
        "id": "b0e8e48c"
      },
      "outputs": [],
      "source": [
        "regLASSO = linear_model.Lasso(alpha=0.5)\n",
        "regLASSO.fit(U,V)\n",
        "\n",
        "regLASSO.coef_\n"
      ]
    },
    {
      "cell_type": "markdown",
      "id": "d0372e84",
      "metadata": {
        "id": "d0372e84"
      },
      "source": [
        "We see here, the penalty is to harsh.  We weaken it.\n"
      ]
    },
    {
      "cell_type": "code",
      "execution_count": null,
      "id": "973bae64",
      "metadata": {
        "colab": {
          "base_uri": "https://localhost:8080/"
        },
        "id": "973bae64",
        "outputId": "519fc70e-1dc0-497c-c935-9c8b44944675"
      },
      "outputs": [
        {
          "output_type": "execute_result",
          "data": {
            "text/plain": [
              "array([0.12665138, 0.03545688, 0.24141346, 0.18452194, 0.83268808])"
            ]
          },
          "metadata": {},
          "execution_count": 35
        }
      ],
      "source": [
        "regLASSO = linear_model.Lasso(alpha=.00001)\n",
        "regLASSO.fit(U,V)\n",
        "\n",
        "regLASSO.coef_"
      ]
    },
    {
      "cell_type": "markdown",
      "id": "5a7e9124",
      "metadata": {
        "id": "5a7e9124"
      },
      "source": [
        "How to we pick the penalty strength?  There is no hard and fast rule. One common approach is to use Cross Validation to \"tune\" the parameter $\\alpha$."
      ]
    },
    {
      "cell_type": "markdown",
      "id": "bda06ed5",
      "metadata": {
        "id": "bda06ed5"
      },
      "source": [
        "## In Class Exercise and homework.\n",
        "\n",
        "Pull tickers for 15 stocks plus the S&P500.   Take the stocks to be\n",
        "\n",
        "\n",
        "3M, USbank, Target, Best Buy, Ford, GM, Microsoft, Intel, Apple, General Mills, Boeing, Disney, BP, C.H. Robinson, and Xcel.  \n",
        "\n",
        "Calculate the log-returns over the last $5$ years.  \n",
        "\n",
        "Consider the regression problem of predicting the S&P500 log-return given the log-returns of the 15 stocks. \n",
        "\n",
        "1. Identify any dates that have high leverage, a large Cook's distance or appear to be outliers.\n",
        "\n",
        "2. Show evidence of multi-colinearity.\n",
        "\n",
        "2. Do you need all 15 stocks for a good regression? Construct what you think is the \"best\" model for this.\n",
        "\n",
        "\n",
        "\n",
        "\n",
        "\n",
        "\n"
      ]
    },
    {
      "cell_type": "code",
      "execution_count": null,
      "id": "86fb9f9c",
      "metadata": {
        "id": "86fb9f9c"
      },
      "outputs": [],
      "source": [
        ""
      ]
    },
    {
      "cell_type": "code",
      "execution_count": null,
      "id": "558014f9",
      "metadata": {
        "id": "558014f9"
      },
      "outputs": [],
      "source": [
        "Disney"
      ]
    }
  ],
  "metadata": {
    "kernelspec": {
      "display_name": "Python 3 (ipykernel)",
      "language": "python",
      "name": "python3"
    },
    "language_info": {
      "codemirror_mode": {
        "name": "ipython",
        "version": 3
      },
      "file_extension": ".py",
      "mimetype": "text/x-python",
      "name": "python",
      "nbconvert_exporter": "python",
      "pygments_lexer": "ipython3",
      "version": "3.9.7"
    },
    "colab": {
      "name": "Week 7.ipynb",
      "provenance": [],
      "include_colab_link": true
    }
  },
  "nbformat": 4,
  "nbformat_minor": 5
}