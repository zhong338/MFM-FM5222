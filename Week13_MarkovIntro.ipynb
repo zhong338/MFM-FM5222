{
  "cells": [
    {
      "cell_type": "markdown",
      "metadata": {
        "id": "view-in-github",
        "colab_type": "text"
      },
      "source": [
        "<a href=\"https://colab.research.google.com/github/zhong338/MFM-FM5222/blob/main/Week13_MarkovIntro.ipynb\" target=\"_parent\"><img src=\"https://colab.research.google.com/assets/colab-badge.svg\" alt=\"Open In Colab\"/></a>"
      ]
    },
    {
      "cell_type": "markdown",
      "id": "4bca0feb",
      "metadata": {
        "id": "4bca0feb"
      },
      "source": [
        "# FM5222\n",
        "# Introduction to Markov Chain Monte Carlo\n",
        "\n",
        "\n",
        "## Agenda\n",
        "\n",
        "* Markov processes\n",
        "* Discrete Case: transition matrices\n",
        "* Equilibrium state and Perron-Frobrenius Theorem\n",
        "* Continuous Analogue\n"
      ]
    },
    {
      "cell_type": "markdown",
      "id": "7f480711",
      "metadata": {
        "id": "7f480711"
      },
      "source": [
        "We have already talked about Markov Chain Monte Carlo (MCMC) when we used Pymc3 to generate samples from the posterior distribution of the parameters.  But we didn't define MCMC nor did we explain (even in a hand-waving sense) what is going on and why it works.    In this short video, we will lay some of the foundation for that."
      ]
    },
    {
      "cell_type": "markdown",
      "id": "c6c94880",
      "metadata": {
        "id": "c6c94880"
      },
      "source": [
        "## Markov Process\n",
        "\n",
        "\n",
        "A Markov process is a time-dependant processs where the \"future state\" probabilities only depend on the current state - not previous states.  \n",
        "\n",
        "\n",
        "For example, consider the AR(1) process:\n",
        "\n",
        "\n",
        "\n",
        "$$X_{t} = (1-\\phi) \\mu + \\phi X_{t-1} +  \\epsilon_t$$\n",
        "\n",
        "\n",
        "Here, the outcome probabilities at time $t$ depend only on thee outcome at time $t-1$, so it is a Markov process.\n",
        "\n",
        "\n",
        "On the other hand, an AR(2) process:\n",
        "\n",
        "$$X_{t} = (1-\\phi) \\mu + \\phi_1 X_{t-1} + \\phi_2 x_{t-2} +  \\epsilon_t$$\n",
        "\n",
        "is not Markovian because the outcome probabilities depend on both the previous state *and* the one before that.\n",
        "\n",
        "\n",
        "\n",
        "Markov processess are important in finance and many of the models we use are Markov models.   \n",
        "\n",
        "\n",
        "#### BSM\n",
        "\n",
        "$$S_{t+\\Delta t} = S_{t} e^{\\mu \\Delta t + \\sigma \\sqrt{\\Delta t} \\epsilon_t}$$\n",
        "\n",
        "Is this a Markov process?\n",
        "\n"
      ]
    },
    {
      "cell_type": "markdown",
      "id": "18928c71",
      "metadata": {
        "id": "18928c71"
      },
      "source": [
        "## Discrete Markov Processes\n",
        "\n",
        "\n",
        "Let's start with an example.    Suppose that a bee hive has only two states:  normal and excited.  In any given hour, the probability that it is \"excited\" depends on the whether it was excited the previous hour (or not).\n",
        "\n",
        "In particular, if it was excited, then the probability is it still excited is $.4$.  But if it was not excited, the probability that is now excited is $.1$.  \n",
        "\n",
        "If we call excited state 2 and not excited state 1, then we can express the transition probabilities as\n",
        "\n",
        "\n",
        "\n",
        "\n",
        "$$\\mathrm{Pr}( 2|1)= T_{2,1} = 0.1$$\n",
        "\n",
        "and\n",
        "\n",
        "\n",
        "$$\\mathrm{Pr}( 2|2)= T_{2,2} = 0.4$$\n",
        "\n",
        "\n",
        "\n",
        "\n",
        "But we can also infer that\n",
        "\n",
        "\n",
        "$$\\mathrm{Pr}(1|1)= T_{1,1} = 0.9$$\n",
        "\n",
        "and\n",
        "\n",
        "$$\\mathrm{Pr}(1|2)= T_{1,2} = 0.6$$\n",
        "\n",
        "\n",
        "We can define the transition matrix\n",
        "\n",
        "$$T_{i,j} = \\mathrm{Pr}(i|j)$$\n",
        "\n",
        "\n",
        "Then we can say that if at time $t$, the beehive is in state $\\Psi_t$ where $\\Psi_t = [1,0]^T$ means \"non-excited\" and $\\Psi_t =[0,1]^T$ means \"excited\", then the probabilites of each state at time $t+1$ are give by the vector\n",
        "\n",
        "$$\\Psi_{t+1} = T \\Psi_t$$\n",
        "\n",
        "In fact, we can think of the state at time $t$ and being a vector of probabilities (meaning that we aren't necessarily sure which state the beehive is in, but we have probabilities). The stepforward equation is still true.\n",
        "\n",
        "And in fact, we can see that\n",
        "\n",
        "\n",
        "\n",
        "$$\\Psi_{t+n} = T^n \\Psi_t$$\n",
        "\n",
        "\n",
        "### Transition Matrices\n",
        "\n",
        "We don't have to have just two  states.  Suppose instead we have $N$ discrete states.  We can define a transition matrix \n",
        "\n",
        "$$T_{i,j} = \\mathrm{Pr}(i| \\text{starting in state }j)$$\n",
        "\n",
        "\n",
        "What can we say about such a matrix?\n",
        "\n",
        "1) The sum of the any column is always $1$.   That is $\\sum_{i=1}^N T_{i,j} = 1, \\forall j$.  This is true because given any $j$, the probabilies of transitioning to *somewhere* have to add up to 1.\n",
        "\n",
        "\n",
        "2) All of the entries are non-negative.\n",
        "\n",
        "\n",
        "\n",
        "\n",
        "3) $\\lambda = 1$ is an eigenvalue.   To see this, consider the row vector $v_{one} =[1,1,...,1]$ and observe that\n",
        "\n",
        "$$v_{one} T = v_{one}$$\n",
        "\n",
        "But for a square matrix, a left eigen-value is also a right eigvalue, it follows that there is a column vector $\\Psi^*$ such that\n",
        "\n",
        "$$\\Psi^* = T \\Psi^*$$\n",
        "\n",
        "\n",
        "\n",
        "\n",
        "\n",
        "\n",
        "\n",
        "\n"
      ]
    },
    {
      "cell_type": "markdown",
      "id": "9926c0ab",
      "metadata": {
        "id": "9926c0ab"
      },
      "source": [
        "### Example\n",
        "\n",
        "Assume that we observe the bee-hive and see that it is not excited at time 0.  Calculate the state probability vectors for $t =1,2, ..., 100$\n",
        "\n",
        "Plot the vectors in the state-plane."
      ]
    },
    {
      "cell_type": "code",
      "execution_count": null,
      "id": "95143450",
      "metadata": {
        "id": "95143450"
      },
      "outputs": [],
      "source": [
        "import numpy as np\n",
        "import matplotlib.pyplot as plt\n",
        "\n"
      ]
    },
    {
      "cell_type": "code",
      "execution_count": null,
      "id": "f59200e5",
      "metadata": {
        "colab": {
          "base_uri": "https://localhost:8080/"
        },
        "id": "f59200e5",
        "outputId": "282b678f-4d06-4c05-9fa9-2e1a0c371fb4"
      },
      "outputs": [
        {
          "output_type": "stream",
          "name": "stdout",
          "text": [
            "[[0.9 0.6]\n",
            " [0.1 0.4]]\n"
          ]
        }
      ],
      "source": [
        "T = np.array([[0.9, .6 ], [.1,.4]])\n",
        "\n",
        "print( T)\n",
        "\n",
        "psi = np.zeros([2,101])\n",
        "\n",
        "psi[0,0]  = 1\n",
        "\n",
        "for k in range(100):\n",
        "    \n",
        "    psi[:,k+1] = T@psi[:,k]\n",
        "    \n",
        "        \n"
      ]
    },
    {
      "cell_type": "code",
      "execution_count": null,
      "id": "b97e76d8",
      "metadata": {
        "colab": {
          "base_uri": "https://localhost:8080/",
          "height": 621
        },
        "id": "b97e76d8",
        "outputId": "02b7798e-bfc1-42c3-822a-c95ff1a82935"
      },
      "outputs": [
        {
          "output_type": "display_data",
          "data": {
            "text/plain": [
              "<Figure size 1080x720 with 1 Axes>"
            ],
            "image/png": "[encoded data removed]"
          },
          "metadata": {
            "needs_background": "light"
          }
        }
      ],
      "source": [
        "plt.figure(figsize = (15,10))\n",
        "plt.scatter(psi[0,:], psi[1,:], marker = '+')\n",
        "\n",
        "plt.scatter(psi[0,0], psi[1,0], label = \"t = 0\")\n",
        "\n",
        "plt.scatter(psi[0,1], psi[1,1], label = \"t = 1\")\n",
        "\n",
        "plt.scatter(psi[0,100], psi[1,100], label = \"t = 100\")\n",
        "\n",
        "\n",
        "plt.title(\"State Vector progression in state-plane\")\n",
        "\n",
        "plt.xlabel(\"Probability of non-excited\")\n",
        "\n",
        "plt.ylabel(\"Probability of excited\")\n",
        "\n",
        "plt.legend()\n",
        "\n",
        "plt.show()"
      ]
    },
    {
      "cell_type": "markdown",
      "id": "0bffe80c",
      "metadata": {
        "id": "0bffe80c"
      },
      "source": [
        "Let's fix the dimensions to get a fuller perspective"
      ]
    },
    {
      "cell_type": "code",
      "execution_count": null,
      "id": "a08b00c7",
      "metadata": {
        "colab": {
          "base_uri": "https://localhost:8080/",
          "height": 621
        },
        "id": "a08b00c7",
        "outputId": "29039fe3-1d85-4acb-e14e-7c233026eded"
      },
      "outputs": [
        {
          "output_type": "display_data",
          "data": {
            "text/plain": [
              "<Figure size 1080x720 with 1 Axes>"
            ],
            "image/png": "[encoded data removed]"
          },
          "metadata": {
            "needs_background": "light"
          }
        }
      ],
      "source": [
        "plt.figure(figsize = (15,10))\n",
        "plt.scatter(psi[0,:], psi[1,:], marker = '+')\n",
        "\n",
        "plt.scatter(psi[0,0], psi[1,0], label = \"t = 0\")\n",
        "\n",
        "plt.scatter(psi[0,1], psi[1,1], label = \"t = 1\")\n",
        "\n",
        "plt.scatter(psi[0,100], psi[1,100], label = \"t = 100\")\n",
        "\n",
        "plt.xlim(0,1)\n",
        "\n",
        "plt.ylim(0,1)\n",
        "\n",
        "\n",
        "plt.title(\"State Vector progression in state-plane\")\n",
        "\n",
        "plt.xlabel(\"Probability of non-excited\")\n",
        "\n",
        "plt.ylabel(\"Probability of excited\")\n",
        "\n",
        "plt.legend()\n",
        "\n",
        "plt.show()"
      ]
    },
    {
      "cell_type": "markdown",
      "id": "1c11b867",
      "metadata": {
        "id": "1c11b867"
      },
      "source": [
        "We see that things quickly converge to a fixed \"steady state\".  Let change the starting vector to  excited and see what happens."
      ]
    },
    {
      "cell_type": "code",
      "execution_count": null,
      "id": "d341072a",
      "metadata": {
        "colab": {
          "base_uri": "https://localhost:8080/",
          "height": 621
        },
        "id": "d341072a",
        "outputId": "0d05af6d-2a0d-446e-87af-8396d6acea8d"
      },
      "outputs": [
        {
          "output_type": "display_data",
          "data": {
            "text/plain": [
              "<Figure size 1080x720 with 1 Axes>"
            ],
            "image/png": "[encoded data removed]"
          },
          "metadata": {
            "needs_background": "light"
          }
        }
      ],
      "source": [
        "psi = np.zeros([2,101])\n",
        "\n",
        "psi[1,0]  = 1\n",
        "\n",
        "for k in range(100):\n",
        "    \n",
        "    psi[:,k+1] = T@psi[:,k]\n",
        "    \n",
        "plt.figure(figsize = (15,10))\n",
        "plt.scatter(psi[0,:], psi[1,:], marker = '+')\n",
        "\n",
        "plt.scatter(psi[0,0], psi[1,0], label = \"t = 0\")\n",
        "\n",
        "plt.scatter(psi[0,1], psi[1,1], label = \"t = 1\")\n",
        "\n",
        "plt.scatter(psi[0,100], psi[1,100], label = \"t = 100\")\n",
        "\n",
        "plt.xlim(0,1)\n",
        "\n",
        "plt.ylim(0,1)\n",
        "\n",
        "\n",
        "plt.title(\"State Vector progression in state-plane\")\n",
        "\n",
        "plt.xlabel(\"Probability of non-excited\")\n",
        "\n",
        "plt.ylabel(\"Probability of excited\")\n",
        "\n",
        "plt.legend()\n",
        "\n",
        "plt.show()   \n",
        "    \n",
        "    "
      ]
    },
    {
      "cell_type": "markdown",
      "id": "718f4260",
      "metadata": {
        "id": "718f4260"
      },
      "source": [
        "Why is this steady state point?  It's the place where $T\\Psi^* = \\Psi^*$\n",
        "\n",
        "We can readily verify by calculating the eigenvectors."
      ]
    },
    {
      "cell_type": "code",
      "execution_count": null,
      "id": "82133c2b",
      "metadata": {
        "colab": {
          "base_uri": "https://localhost:8080/"
        },
        "id": "82133c2b",
        "outputId": "d3ca2809-413b-4486-8e6f-17d2e2c77239"
      },
      "outputs": [
        {
          "output_type": "execute_result",
          "data": {
            "text/plain": [
              "array([[ 0.98639392, -0.70710678],\n",
              "       [ 0.16439899,  0.70710678]])"
            ]
          },
          "metadata": {},
          "execution_count": 6
        }
      ],
      "source": [
        "eig, eigvects = np.linalg.eig(T)\n",
        "\n",
        "eigvects"
      ]
    },
    {
      "cell_type": "markdown",
      "id": "48fbe87f",
      "metadata": {
        "id": "48fbe87f"
      },
      "source": [
        "The first column must be it, but it doesn't add up to one.  But for that, we need only rescale.\n",
        "\n",
        "\n"
      ]
    },
    {
      "cell_type": "code",
      "execution_count": null,
      "id": "b3d4def8",
      "metadata": {
        "colab": {
          "base_uri": "https://localhost:8080/"
        },
        "id": "b3d4def8",
        "outputId": "fc14beea-aba1-4e7f-9cdd-58296b7182fd"
      },
      "outputs": [
        {
          "output_type": "execute_result",
          "data": {
            "text/plain": [
              "array([0.85714286, 0.14285714])"
            ]
          },
          "metadata": {},
          "execution_count": 7
        }
      ],
      "source": [
        "eigvects[:,0]/eigvects[:,0].sum()"
      ]
    },
    {
      "cell_type": "markdown",
      "id": "8acb9a4d",
      "metadata": {
        "id": "8acb9a4d"
      },
      "source": [
        "$86\\%$ non-exicted and $14\\%$ excited is the consistent with the steady-state as we saw from the above"
      ]
    },
    {
      "cell_type": "markdown",
      "id": "9fcdc631",
      "metadata": {
        "id": "9fcdc631"
      },
      "source": [
        "## Perron - Frobenius Theorem\n",
        "\n",
        "Will this always happen?  Will any starting state probability vector converge to a steady state?  Is the steady state unique?\n",
        "\n",
        "The answer is provided by the  Perron - Frobenius Theorem.  We just need one more condition on the transition matrix $T$.  We need that for some finite $k$,  $T^k$ has only strictly positive entries.\n",
        "\n",
        "Such a transition matrix is called \"regular\".  It simply means that starting from any state, any other state can be reached with positive probability.\n",
        "\n",
        "The PF theorem tells that, if the transition matrix is regular, then not only is there always and equilibrium state (that right eigenvector $\\Psi^*$ with eigen value $1$), but that\n",
        "\n",
        "1. The equilibrium state $\\Psi^*$is unique\n",
        "\n",
        "and \n",
        "\n",
        "2. $T^n \\Psi \\to \\Psi^*$ as $n \\to \\infty$"
      ]
    },
    {
      "cell_type": "markdown",
      "id": "39877d64",
      "metadata": {
        "id": "39877d64"
      },
      "source": [
        "## Analogue to continuous case\n",
        "\n",
        "We can think of the state probability vectors $\\Phi$ as probability distributions (they are).   But what about continous probability distributions.  Is there an analogous Markov process that takes a give probability distribution and transforms to an other one?   And does so in a way that converges to a \"steady state\" distribution?\n",
        "\n",
        "\n",
        "This is exactly what the MCMC algorithms do in the case of Baysian posteriors.  The stready state distribution is the target distribution.  But we don't get there right away.  That is why we have a burn-in period.\n",
        "\n",
        "\n",
        "\n",
        "The whole trick in MCMC (for Bayesian analysis) is to construct a Markov process that converges to the distribution we want. In the next video, we will explain how the Metropolis algorithim achieves this.\n"
      ]
    },
    {
      "cell_type": "code",
      "execution_count": null,
      "id": "2df9a142",
      "metadata": {
        "id": "2df9a142"
      },
      "outputs": [],
      "source": [
        ""
      ]
    }
  ],
  "metadata": {
    "kernelspec": {
      "display_name": "Python 3 (ipykernel)",
      "language": "python",
      "name": "python3"
    },
    "language_info": {
      "codemirror_mode": {
        "name": "ipython",
        "version": 3
      },
      "file_extension": ".py",
      "mimetype": "text/x-python",
      "name": "python",
      "nbconvert_exporter": "python",
      "pygments_lexer": "ipython3",
      "version": "3.9.7"
    },
    "colab": {
      "name": "MarkovIntro.ipynb",
      "provenance": [],
      "include_colab_link": true
    }
  },
  "nbformat": 4,
  "nbformat_minor": 5
}