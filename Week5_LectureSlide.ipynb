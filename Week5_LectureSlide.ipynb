{
  "cells": [
    {
      "cell_type": "markdown",
      "metadata": {
        "id": "view-in-github",
        "colab_type": "text"
      },
      "source": [
        "<a href=\"https://colab.research.google.com/github/zhong338/MFM-FM5222/blob/main/Week5_LectureSlide.ipynb\" target=\"_parent\"><img src=\"https://colab.research.google.com/assets/colab-badge.svg\" alt=\"Open In Colab\"/></a>"
      ]
    },
    {
      "cell_type": "markdown",
      "id": "d76203ae",
      "metadata": {
        "id": "d76203ae"
      },
      "source": [
        "# FM 5222\n",
        "# Week 5\n",
        "\n"
      ]
    },
    {
      "cell_type": "markdown",
      "id": "de494cd4",
      "metadata": {
        "id": "de494cd4"
      },
      "source": [
        "## Mutivariate Distributions\n",
        "\n",
        "Up until now, we have focused on fitting data to univariate distributions. But often, we are interested in how certain variables move together.  For example, how the random changes in the S&P500 relate to random changes in the Dow Jones Industrial Average.  \n",
        "\n",
        "This week, we will look at\n",
        "\n",
        "* Ways to visulalize and explore multivariate data\n",
        "* The multivariate normal distribution\n",
        "* The multivariate student t distribution\n",
        "* Skew extensions of the previous.\n",
        "\n",
        "In general, multivariate distributions are more difficult to deal with. One of the more popular approaches (beyond the above) is to use copulas.  Unfortunatly, We are not going to cover that topic due to time.\n",
        "\n",
        "\n",
        "\n",
        "## Exploring Data\n",
        " \n",
        "#### Example \n",
        "Gather log-return info on the S&P500, DJIA, Rusell2000, and S&P400 (midcaps).  Explore them as a multivariate data set."
      ]
    },
    {
      "cell_type": "code",
      "execution_count": null,
      "id": "f72f171a",
      "metadata": {
        "id": "f72f171a"
      },
      "outputs": [],
      "source": [
        "import numpy as np\n",
        "import matplotlib.pyplot as plt\n",
        "import scipy.stats as ss\n",
        "import pandas as pd"
      ]
    },
    {
      "cell_type": "code",
      "source": [
        "!pip install yfinance \n",
        "\n",
        "!pip install scipy==1.7.1"
      ],
      "metadata": {
        "colab": {
          "base_uri": "https://localhost:8080/",
          "height": 851
        },
        "id": "OQnluYnsk3Pn",
        "outputId": "a46deaa3-8548-4afe-d1ed-040eea0189da"
      },
      "id": "OQnluYnsk3Pn",
      "execution_count": null,
      "outputs": [
        {
          "output_type": "stream",
          "name": "stdout",
          "text": [
            "Collecting yfinance\n",
            "  Downloading yfinance-0.1.70-py2.py3-none-any.whl (26 kB)\n",
            "Requirement already satisfied: pandas>=0.24.0 in /usr/local/lib/python3.7/dist-packages (from yfinance) (1.3.5)\n",
            "Requirement already satisfied: numpy>=1.15 in /usr/local/lib/python3.7/dist-packages (from yfinance) (1.21.5)\n",
            "Collecting lxml>=4.5.1\n",
            "  Downloading lxml-4.8.0-cp37-cp37m-manylinux_2_17_x86_64.manylinux2014_x86_64.manylinux_2_24_x86_64.whl (6.4 MB)\n",
            "\u001b[K     |████████████████████████████████| 6.4 MB 4.5 MB/s \n",
            "\u001b[?25hRequirement already satisfied: multitasking>=0.0.7 in /usr/local/lib/python3.7/dist-packages (from yfinance) (0.0.10)\n",
            "Collecting requests>=2.26\n",
            "  Downloading requests-2.27.1-py2.py3-none-any.whl (63 kB)\n",
            "\u001b[K     |████████████████████████████████| 63 kB 871 kB/s \n",
            "\u001b[?25hRequirement already satisfied: python-dateutil>=2.7.3 in /usr/local/lib/python3.7/dist-packages (from pandas>=0.24.0->yfinance) (2.8.2)\n",
            "Requirement already satisfied: pytz>=2017.3 in /usr/local/lib/python3.7/dist-packages (from pandas>=0.24.0->yfinance) (2018.9)\n",
            "Requirement already satisfied: six>=1.5 in /usr/local/lib/python3.7/dist-packages (from python-dateutil>=2.7.3->pandas>=0.24.0->yfinance) (1.15.0)\n",
            "Requirement already satisfied: charset-normalizer~=2.0.0 in /usr/local/lib/python3.7/dist-packages (from requests>=2.26->yfinance) (2.0.11)\n",
            "Requirement already satisfied: certifi>=2017.4.17 in /usr/local/lib/python3.7/dist-packages (from requests>=2.26->yfinance) (2021.10.8)\n",
            "Requirement already satisfied: idna<4,>=2.5 in /usr/local/lib/python3.7/dist-packages (from requests>=2.26->yfinance) (2.10)\n",
            "Requirement already satisfied: urllib3<1.27,>=1.21.1 in /usr/local/lib/python3.7/dist-packages (from requests>=2.26->yfinance) (1.24.3)\n",
            "Installing collected packages: requests, lxml, yfinance\n",
            "  Attempting uninstall: requests\n",
            "    Found existing installation: requests 2.23.0\n",
            "    Uninstalling requests-2.23.0:\n",
            "      Successfully uninstalled requests-2.23.0\n",
            "  Attempting uninstall: lxml\n",
            "    Found existing installation: lxml 4.2.6\n",
            "    Uninstalling lxml-4.2.6:\n",
            "      Successfully uninstalled lxml-4.2.6\n",
            "\u001b[31mERROR: pip's dependency resolver does not currently take into account all the packages that are installed. This behaviour is the source of the following dependency conflicts.\n",
            "google-colab 1.0.0 requires requests~=2.23.0, but you have requests 2.27.1 which is incompatible.\n",
            "datascience 0.10.6 requires folium==0.2.1, but you have folium 0.8.3 which is incompatible.\u001b[0m\n",
            "Successfully installed lxml-4.8.0 requests-2.27.1 yfinance-0.1.70\n",
            "Collecting scipy==1.7.1\n",
            "  Downloading scipy-1.7.1-cp37-cp37m-manylinux_2_5_x86_64.manylinux1_x86_64.whl (28.5 MB)\n",
            "\u001b[K     |████████████████████████████████| 28.5 MB 1.5 MB/s \n",
            "\u001b[?25hRequirement already satisfied: numpy<1.23.0,>=1.16.5 in /usr/local/lib/python3.7/dist-packages (from scipy==1.7.1) (1.21.5)\n",
            "Installing collected packages: scipy\n",
            "  Attempting uninstall: scipy\n",
            "    Found existing installation: scipy 1.4.1\n",
            "    Uninstalling scipy-1.4.1:\n",
            "      Successfully uninstalled scipy-1.4.1\n",
            "\u001b[31mERROR: pip's dependency resolver does not currently take into account all the packages that are installed. This behaviour is the source of the following dependency conflicts.\n",
            "albumentations 0.1.12 requires imgaug<0.2.7,>=0.2.5, but you have imgaug 0.2.9 which is incompatible.\u001b[0m\n",
            "Successfully installed scipy-1.7.1\n"
          ]
        },
        {
          "output_type": "display_data",
          "data": {
            "application/vnd.colab-display-data+json": {
              "pip_warning": {
                "packages": [
                  "scipy"
                ]
              }
            }
          },
          "metadata": {}
        }
      ]
    },
    {
      "cell_type": "code",
      "execution_count": null,
      "id": "9c99d35f",
      "metadata": {
        "id": "9c99d35f"
      },
      "outputs": [],
      "source": [
        "import yfinance as yf"
      ]
    },
    {
      "cell_type": "code",
      "execution_count": null,
      "id": "cf3f4c86",
      "metadata": {
        "colab": {
          "base_uri": "https://localhost:8080/"
        },
        "id": "cf3f4c86",
        "outputId": "dedf25d7-041c-498c-b399-4d0f0c5746d0"
      },
      "outputs": [
        {
          "output_type": "stream",
          "name": "stdout",
          "text": [
            "[*********************100%***********************]  4 of 4 completed\n"
          ]
        }
      ],
      "source": [
        "tickers = [\"^GSPC\", \"^DJI\", \"^RUT\", \"^MID\"]\n",
        "\n",
        "data = yf.download(tickers, start = \"2012-01-01\", end = \"2022-01-01\")"
      ]
    },
    {
      "cell_type": "code",
      "execution_count": null,
      "id": "2caec2d7",
      "metadata": {
        "colab": {
          "base_uri": "https://localhost:8080/",
          "height": 724
        },
        "id": "2caec2d7",
        "outputId": "6845c0be-d51e-4b58-d460-d60fedbb823d"
      },
      "outputs": [
        {
          "output_type": "execute_result",
          "data": {
            "text/html": [
              "\n",
              "  <div id=\"df-a5f2a54c-f346-41ee-8893-83da2a150835\">\n",
              "    <div class=\"colab-df-container\">\n",
              "      <div>\n",
              "<style scoped>\n",
              "    .dataframe tbody tr th:only-of-type {\n",
              "        vertical-align: middle;\n",
              "    }\n",
              "\n",
              "    .dataframe tbody tr th {\n",
              "        vertical-align: top;\n",
              "    }\n",
              "\n",
              "    .dataframe thead tr th {\n",
              "        text-align: left;\n",
              "    }\n",
              "\n",
              "    .dataframe thead tr:last-of-type th {\n",
              "        text-align: right;\n",
              "    }\n",
              "</style>\n",
              "<table border=\"1\" class=\"dataframe\">\n",
              "  <thead>\n",
              "    <tr>\n",
              "      <th></th>\n",
              "      <th colspan=\"4\" halign=\"left\">Adj Close</th>\n",
              "      <th colspan=\"4\" halign=\"left\">Close</th>\n",
              "      <th colspan=\"4\" halign=\"left\">High</th>\n",
              "      <th colspan=\"4\" halign=\"left\">Low</th>\n",
              "      <th colspan=\"4\" halign=\"left\">Open</th>\n",
              "      <th colspan=\"4\" halign=\"left\">Volume</th>\n",
              "    </tr>\n",
              "    <tr>\n",
              "      <th></th>\n",
              "      <th>^DJI</th>\n",
              "      <th>^GSPC</th>\n",
              "      <th>^MID</th>\n",
              "      <th>^RUT</th>\n",
              "      <th>^DJI</th>\n",
              "      <th>^GSPC</th>\n",
              "      <th>^MID</th>\n",
              "      <th>^RUT</th>\n",
              "      <th>^DJI</th>\n",
              "      <th>^GSPC</th>\n",
              "      <th>^MID</th>\n",
              "      <th>^RUT</th>\n",
              "      <th>^DJI</th>\n",
              "      <th>^GSPC</th>\n",
              "      <th>^MID</th>\n",
              "      <th>^RUT</th>\n",
              "      <th>^DJI</th>\n",
              "      <th>^GSPC</th>\n",
              "      <th>^MID</th>\n",
              "      <th>^RUT</th>\n",
              "      <th>^DJI</th>\n",
              "      <th>^GSPC</th>\n",
              "      <th>^MID</th>\n",
              "      <th>^RUT</th>\n",
              "    </tr>\n",
              "    <tr>\n",
              "      <th>Date</th>\n",
              "      <th></th>\n",
              "      <th></th>\n",
              "      <th></th>\n",
              "      <th></th>\n",
              "      <th></th>\n",
              "      <th></th>\n",
              "      <th></th>\n",
              "      <th></th>\n",
              "      <th></th>\n",
              "      <th></th>\n",
              "      <th></th>\n",
              "      <th></th>\n",
              "      <th></th>\n",
              "      <th></th>\n",
              "      <th></th>\n",
              "      <th></th>\n",
              "      <th></th>\n",
              "      <th></th>\n",
              "      <th></th>\n",
              "      <th></th>\n",
              "      <th></th>\n",
              "      <th></th>\n",
              "      <th></th>\n",
              "      <th></th>\n",
              "    </tr>\n",
              "  </thead>\n",
              "  <tbody>\n",
              "    <tr>\n",
              "      <th>2012-01-03</th>\n",
              "      <td>12397.379883</td>\n",
              "      <td>1277.060059</td>\n",
              "      <td>887.909973</td>\n",
              "      <td>752.280029</td>\n",
              "      <td>12397.379883</td>\n",
              "      <td>1277.060059</td>\n",
              "      <td>887.909973</td>\n",
              "      <td>752.280029</td>\n",
              "      <td>12479.650391</td>\n",
              "      <td>1284.619995</td>\n",
              "      <td>900.909973</td>\n",
              "      <td>759.369995</td>\n",
              "      <td>12221.190430</td>\n",
              "      <td>1258.859985</td>\n",
              "      <td>879.710022</td>\n",
              "      <td>749.500000</td>\n",
              "      <td>12221.190430</td>\n",
              "      <td>1258.859985</td>\n",
              "      <td>879.710022</td>\n",
              "      <td>750.700012</td>\n",
              "      <td>152560000</td>\n",
              "      <td>3943710000</td>\n",
              "      <td>0</td>\n",
              "      <td>3943710000</td>\n",
              "    </tr>\n",
              "    <tr>\n",
              "      <th>2012-01-04</th>\n",
              "      <td>12418.419922</td>\n",
              "      <td>1277.300049</td>\n",
              "      <td>885.520020</td>\n",
              "      <td>747.280029</td>\n",
              "      <td>12418.419922</td>\n",
              "      <td>1277.300049</td>\n",
              "      <td>885.520020</td>\n",
              "      <td>747.280029</td>\n",
              "      <td>12430.000000</td>\n",
              "      <td>1278.729980</td>\n",
              "      <td>888.530029</td>\n",
              "      <td>749.609985</td>\n",
              "      <td>12337.250000</td>\n",
              "      <td>1268.099976</td>\n",
              "      <td>879.460022</td>\n",
              "      <td>742.890015</td>\n",
              "      <td>12392.459961</td>\n",
              "      <td>1277.030029</td>\n",
              "      <td>887.700012</td>\n",
              "      <td>748.349976</td>\n",
              "      <td>145130000</td>\n",
              "      <td>3592580000</td>\n",
              "      <td>0</td>\n",
              "      <td>3592580000</td>\n",
              "    </tr>\n",
              "    <tr>\n",
              "      <th>2012-01-05</th>\n",
              "      <td>12415.700195</td>\n",
              "      <td>1281.060059</td>\n",
              "      <td>891.659973</td>\n",
              "      <td>752.289978</td>\n",
              "      <td>12415.700195</td>\n",
              "      <td>1281.060059</td>\n",
              "      <td>891.659973</td>\n",
              "      <td>752.289978</td>\n",
              "      <td>12435.980469</td>\n",
              "      <td>1283.050049</td>\n",
              "      <td>893.669983</td>\n",
              "      <td>754.390015</td>\n",
              "      <td>12283.900391</td>\n",
              "      <td>1265.260010</td>\n",
              "      <td>872.770020</td>\n",
              "      <td>736.780029</td>\n",
              "      <td>12418.419922</td>\n",
              "      <td>1277.300049</td>\n",
              "      <td>885.559998</td>\n",
              "      <td>743.729980</td>\n",
              "      <td>158440000</td>\n",
              "      <td>4315950000</td>\n",
              "      <td>0</td>\n",
              "      <td>4315950000</td>\n",
              "    </tr>\n",
              "    <tr>\n",
              "      <th>2012-01-06</th>\n",
              "      <td>12359.919922</td>\n",
              "      <td>1277.810059</td>\n",
              "      <td>891.489990</td>\n",
              "      <td>749.710022</td>\n",
              "      <td>12359.919922</td>\n",
              "      <td>1277.810059</td>\n",
              "      <td>891.489990</td>\n",
              "      <td>749.710022</td>\n",
              "      <td>12415.240234</td>\n",
              "      <td>1281.839966</td>\n",
              "      <td>896.710022</td>\n",
              "      <td>754.750000</td>\n",
              "      <td>12332.410156</td>\n",
              "      <td>1273.339966</td>\n",
              "      <td>885.419983</td>\n",
              "      <td>745.789978</td>\n",
              "      <td>12407.450195</td>\n",
              "      <td>1280.930054</td>\n",
              "      <td>891.619995</td>\n",
              "      <td>752.109985</td>\n",
              "      <td>131120000</td>\n",
              "      <td>3656830000</td>\n",
              "      <td>0</td>\n",
              "      <td>3656830000</td>\n",
              "    </tr>\n",
              "    <tr>\n",
              "      <th>2012-01-09</th>\n",
              "      <td>12392.690430</td>\n",
              "      <td>1280.699951</td>\n",
              "      <td>896.409973</td>\n",
              "      <td>753.510010</td>\n",
              "      <td>12392.690430</td>\n",
              "      <td>1280.699951</td>\n",
              "      <td>896.409973</td>\n",
              "      <td>753.510010</td>\n",
              "      <td>12409.080078</td>\n",
              "      <td>1281.989990</td>\n",
              "      <td>897.750000</td>\n",
              "      <td>754.440002</td>\n",
              "      <td>12333.849609</td>\n",
              "      <td>1274.550049</td>\n",
              "      <td>888.609985</td>\n",
              "      <td>747.260010</td>\n",
              "      <td>12359.309570</td>\n",
              "      <td>1277.829956</td>\n",
              "      <td>891.500000</td>\n",
              "      <td>753.070007</td>\n",
              "      <td>122200000</td>\n",
              "      <td>3371600000</td>\n",
              "      <td>0</td>\n",
              "      <td>3371600000</td>\n",
              "    </tr>\n",
              "    <tr>\n",
              "      <th>...</th>\n",
              "      <td>...</td>\n",
              "      <td>...</td>\n",
              "      <td>...</td>\n",
              "      <td>...</td>\n",
              "      <td>...</td>\n",
              "      <td>...</td>\n",
              "      <td>...</td>\n",
              "      <td>...</td>\n",
              "      <td>...</td>\n",
              "      <td>...</td>\n",
              "      <td>...</td>\n",
              "      <td>...</td>\n",
              "      <td>...</td>\n",
              "      <td>...</td>\n",
              "      <td>...</td>\n",
              "      <td>...</td>\n",
              "      <td>...</td>\n",
              "      <td>...</td>\n",
              "      <td>...</td>\n",
              "      <td>...</td>\n",
              "      <td>...</td>\n",
              "      <td>...</td>\n",
              "      <td>...</td>\n",
              "      <td>...</td>\n",
              "    </tr>\n",
              "    <tr>\n",
              "      <th>2021-12-27</th>\n",
              "      <td>36302.378906</td>\n",
              "      <td>4791.189941</td>\n",
              "      <td>2833.179932</td>\n",
              "      <td>2261.459961</td>\n",
              "      <td>36302.378906</td>\n",
              "      <td>4791.189941</td>\n",
              "      <td>2833.179932</td>\n",
              "      <td>2261.459961</td>\n",
              "      <td>36306.609375</td>\n",
              "      <td>4791.490234</td>\n",
              "      <td>2833.540039</td>\n",
              "      <td>2261.889893</td>\n",
              "      <td>35954.480469</td>\n",
              "      <td>4733.990234</td>\n",
              "      <td>2789.939941</td>\n",
              "      <td>2230.330078</td>\n",
              "      <td>35954.480469</td>\n",
              "      <td>4733.990234</td>\n",
              "      <td>2795.820068</td>\n",
              "      <td>2242.479980</td>\n",
              "      <td>244350000</td>\n",
              "      <td>2264120000</td>\n",
              "      <td>0</td>\n",
              "      <td>2264120000</td>\n",
              "    </tr>\n",
              "    <tr>\n",
              "      <th>2021-12-28</th>\n",
              "      <td>36398.210938</td>\n",
              "      <td>4786.350098</td>\n",
              "      <td>2832.239990</td>\n",
              "      <td>2246.510010</td>\n",
              "      <td>36398.210938</td>\n",
              "      <td>4786.350098</td>\n",
              "      <td>2832.239990</td>\n",
              "      <td>2246.510010</td>\n",
              "      <td>36527.261719</td>\n",
              "      <td>4807.020020</td>\n",
              "      <td>2852.449951</td>\n",
              "      <td>2274.540039</td>\n",
              "      <td>36302.988281</td>\n",
              "      <td>4780.040039</td>\n",
              "      <td>2827.219971</td>\n",
              "      <td>2245.570068</td>\n",
              "      <td>36302.988281</td>\n",
              "      <td>4795.490234</td>\n",
              "      <td>2833.179932</td>\n",
              "      <td>2261.040039</td>\n",
              "      <td>239090000</td>\n",
              "      <td>2217050000</td>\n",
              "      <td>0</td>\n",
              "      <td>2217050000</td>\n",
              "    </tr>\n",
              "    <tr>\n",
              "      <th>2021-12-29</th>\n",
              "      <td>36488.628906</td>\n",
              "      <td>4793.060059</td>\n",
              "      <td>2847.830078</td>\n",
              "      <td>2249.239990</td>\n",
              "      <td>36488.628906</td>\n",
              "      <td>4793.060059</td>\n",
              "      <td>2847.830078</td>\n",
              "      <td>2249.239990</td>\n",
              "      <td>36571.550781</td>\n",
              "      <td>4804.060059</td>\n",
              "      <td>2851.810059</td>\n",
              "      <td>2252.790039</td>\n",
              "      <td>36396.191406</td>\n",
              "      <td>4778.080078</td>\n",
              "      <td>2831.090088</td>\n",
              "      <td>2236.649902</td>\n",
              "      <td>36421.140625</td>\n",
              "      <td>4788.640137</td>\n",
              "      <td>2832.239990</td>\n",
              "      <td>2246.350098</td>\n",
              "      <td>213480000</td>\n",
              "      <td>2369370000</td>\n",
              "      <td>0</td>\n",
              "      <td>2369370000</td>\n",
              "    </tr>\n",
              "    <tr>\n",
              "      <th>2021-12-30</th>\n",
              "      <td>36398.078125</td>\n",
              "      <td>4778.729980</td>\n",
              "      <td>2839.330078</td>\n",
              "      <td>2248.790039</td>\n",
              "      <td>36398.078125</td>\n",
              "      <td>4778.729980</td>\n",
              "      <td>2839.330078</td>\n",
              "      <td>2248.790039</td>\n",
              "      <td>36679.441406</td>\n",
              "      <td>4808.930176</td>\n",
              "      <td>2864.709961</td>\n",
              "      <td>2271.820068</td>\n",
              "      <td>36372.128906</td>\n",
              "      <td>4775.330078</td>\n",
              "      <td>2838.040039</td>\n",
              "      <td>2247.469971</td>\n",
              "      <td>36522.480469</td>\n",
              "      <td>4794.229980</td>\n",
              "      <td>2847.830078</td>\n",
              "      <td>2249.350098</td>\n",
              "      <td>205620000</td>\n",
              "      <td>2390990000</td>\n",
              "      <td>0</td>\n",
              "      <td>2390990000</td>\n",
              "    </tr>\n",
              "    <tr>\n",
              "      <th>2021-12-31</th>\n",
              "      <td>36338.300781</td>\n",
              "      <td>4766.180176</td>\n",
              "      <td>2842.000000</td>\n",
              "      <td>2245.310059</td>\n",
              "      <td>36338.300781</td>\n",
              "      <td>4766.180176</td>\n",
              "      <td>2842.000000</td>\n",
              "      <td>2245.310059</td>\n",
              "      <td>36484.941406</td>\n",
              "      <td>4786.830078</td>\n",
              "      <td>2856.270020</td>\n",
              "      <td>2258.110107</td>\n",
              "      <td>36303.968750</td>\n",
              "      <td>4765.750000</td>\n",
              "      <td>2836.899902</td>\n",
              "      <td>2244.850098</td>\n",
              "      <td>36385.851562</td>\n",
              "      <td>4775.209961</td>\n",
              "      <td>2839.330078</td>\n",
              "      <td>2245.929932</td>\n",
              "      <td>213200000</td>\n",
              "      <td>2446190000</td>\n",
              "      <td>0</td>\n",
              "      <td>2446190000</td>\n",
              "    </tr>\n",
              "  </tbody>\n",
              "</table>\n",
              "<p>2517 rows × 24 columns</p>\n",
              "</div>\n",
              "      <button class=\"colab-df-convert\" onclick=\"convertToInteractive('df-a5f2a54c-f346-41ee-8893-83da2a150835')\"\n",
              "              title=\"Convert this dataframe to an interactive table.\"\n",
              "              style=\"display:none;\">\n",
              "        \n",
              "  <svg xmlns=\"http://www.w3.org/2000/svg\" height=\"24px\"viewBox=\"0 0 24 24\"\n",
              "       width=\"24px\">\n",
              "    <path d=\"M0 0h24v24H0V0z\" fill=\"none\"/>\n",
              "    <path d=\"M18.56 5.44l.94 2.06.94-2.06 2.06-.94-2.06-.94-.94-2.06-.94 2.06-2.06.94zm-11 1L8.5 8.5l.94-2.06 2.06-.94-2.06-.94L8.5 2.5l-.94 2.06-2.06.94zm10 10l.94 2.06.94-2.06 2.06-.94-2.06-.94-.94-2.06-.94 2.06-2.06.94z\"/><path d=\"M17.41 7.96l-1.37-1.37c-.4-.4-.92-.59-1.43-.59-.52 0-1.04.2-1.43.59L10.3 9.45l-7.72 7.72c-.78.78-.78 2.05 0 2.83L4 21.41c.39.39.9.59 1.41.59.51 0 1.02-.2 1.41-.59l7.78-7.78 2.81-2.81c.8-.78.8-2.07 0-2.86zM5.41 20L4 18.59l7.72-7.72 1.47 1.35L5.41 20z\"/>\n",
              "  </svg>\n",
              "      </button>\n",
              "      \n",
              "  <style>\n",
              "    .colab-df-container {\n",
              "      display:flex;\n",
              "      flex-wrap:wrap;\n",
              "      gap: 12px;\n",
              "    }\n",
              "\n",
              "    .colab-df-convert {\n",
              "      background-color: #E8F0FE;\n",
              "      border: none;\n",
              "      border-radius: 50%;\n",
              "      cursor: pointer;\n",
              "      display: none;\n",
              "      fill: #1967D2;\n",
              "      height: 32px;\n",
              "      padding: 0 0 0 0;\n",
              "      width: 32px;\n",
              "    }\n",
              "\n",
              "    .colab-df-convert:hover {\n",
              "      background-color: #E2EBFA;\n",
              "      box-shadow: 0px 1px 2px rgba(60, 64, 67, 0.3), 0px 1px 3px 1px rgba(60, 64, 67, 0.15);\n",
              "      fill: #174EA6;\n",
              "    }\n",
              "\n",
              "    [theme=dark] .colab-df-convert {\n",
              "      background-color: #3B4455;\n",
              "      fill: #D2E3FC;\n",
              "    }\n",
              "\n",
              "    [theme=dark] .colab-df-convert:hover {\n",
              "      background-color: #434B5C;\n",
              "      box-shadow: 0px 1px 3px 1px rgba(0, 0, 0, 0.15);\n",
              "      filter: drop-shadow(0px 1px 2px rgba(0, 0, 0, 0.3));\n",
              "      fill: #FFFFFF;\n",
              "    }\n",
              "  </style>\n",
              "\n",
              "      <script>\n",
              "        const buttonEl =\n",
              "          document.querySelector('#df-a5f2a54c-f346-41ee-8893-83da2a150835 button.colab-df-convert');\n",
              "        buttonEl.style.display =\n",
              "          google.colab.kernel.accessAllowed ? 'block' : 'none';\n",
              "\n",
              "        async function convertToInteractive(key) {\n",
              "          const element = document.querySelector('#df-a5f2a54c-f346-41ee-8893-83da2a150835');\n",
              "          const dataTable =\n",
              "            await google.colab.kernel.invokeFunction('convertToInteractive',\n",
              "                                                     [key], {});\n",
              "          if (!dataTable) return;\n",
              "\n",
              "          const docLinkHtml = 'Like what you see? Visit the ' +\n",
              "            '<a target=\"_blank\" href=https://colab.research.google.com/notebooks/data_table.ipynb>data table notebook</a>'\n",
              "            + ' to learn more about interactive tables.';\n",
              "          element.innerHTML = '';\n",
              "          dataTable['output_type'] = 'display_data';\n",
              "          await google.colab.output.renderOutput(dataTable, element);\n",
              "          const docLink = document.createElement('div');\n",
              "          docLink.innerHTML = docLinkHtml;\n",
              "          element.appendChild(docLink);\n",
              "        }\n",
              "      </script>\n",
              "    </div>\n",
              "  </div>\n",
              "  "
            ],
            "text/plain": [
              "               Adj Close                            ...      Volume                 \n",
              "                    ^DJI        ^GSPC         ^MID  ...       ^GSPC ^MID        ^RUT\n",
              "Date                                                ...                             \n",
              "2012-01-03  12397.379883  1277.060059   887.909973  ...  3943710000    0  3943710000\n",
              "2012-01-04  12418.419922  1277.300049   885.520020  ...  3592580000    0  3592580000\n",
              "2012-01-05  12415.700195  1281.060059   891.659973  ...  4315950000    0  4315950000\n",
              "2012-01-06  12359.919922  1277.810059   891.489990  ...  3656830000    0  3656830000\n",
              "2012-01-09  12392.690430  1280.699951   896.409973  ...  3371600000    0  3371600000\n",
              "...                  ...          ...          ...  ...         ...  ...         ...\n",
              "2021-12-27  36302.378906  4791.189941  2833.179932  ...  2264120000    0  2264120000\n",
              "2021-12-28  36398.210938  4786.350098  2832.239990  ...  2217050000    0  2217050000\n",
              "2021-12-29  36488.628906  4793.060059  2847.830078  ...  2369370000    0  2369370000\n",
              "2021-12-30  36398.078125  4778.729980  2839.330078  ...  2390990000    0  2390990000\n",
              "2021-12-31  36338.300781  4766.180176  2842.000000  ...  2446190000    0  2446190000\n",
              "\n",
              "[2517 rows x 24 columns]"
            ]
          },
          "metadata": {},
          "execution_count": 4
        }
      ],
      "source": [
        "data"
      ]
    },
    {
      "cell_type": "markdown",
      "id": "3263f775",
      "metadata": {
        "id": "3263f775"
      },
      "source": [
        "This in example aa data frame with multilevel indexing of the columnms."
      ]
    },
    {
      "cell_type": "code",
      "execution_count": null,
      "id": "08ef64ca",
      "metadata": {
        "colab": {
          "base_uri": "https://localhost:8080/"
        },
        "id": "08ef64ca",
        "outputId": "aaaca616-9605-4894-835c-d3313948cab7"
      },
      "outputs": [
        {
          "output_type": "execute_result",
          "data": {
            "text/plain": [
              "MultiIndex([('Adj Close',  '^DJI'),\n",
              "            ('Adj Close', '^GSPC'),\n",
              "            ('Adj Close',  '^MID'),\n",
              "            ('Adj Close',  '^RUT'),\n",
              "            (    'Close',  '^DJI'),\n",
              "            (    'Close', '^GSPC'),\n",
              "            (    'Close',  '^MID'),\n",
              "            (    'Close',  '^RUT'),\n",
              "            (     'High',  '^DJI'),\n",
              "            (     'High', '^GSPC'),\n",
              "            (     'High',  '^MID'),\n",
              "            (     'High',  '^RUT'),\n",
              "            (      'Low',  '^DJI'),\n",
              "            (      'Low', '^GSPC'),\n",
              "            (      'Low',  '^MID'),\n",
              "            (      'Low',  '^RUT'),\n",
              "            (     'Open',  '^DJI'),\n",
              "            (     'Open', '^GSPC'),\n",
              "            (     'Open',  '^MID'),\n",
              "            (     'Open',  '^RUT'),\n",
              "            (   'Volume',  '^DJI'),\n",
              "            (   'Volume', '^GSPC'),\n",
              "            (   'Volume',  '^MID'),\n",
              "            (   'Volume',  '^RUT')],\n",
              "           )"
            ]
          },
          "metadata": {},
          "execution_count": 5
        }
      ],
      "source": [
        "data.columns"
      ]
    },
    {
      "cell_type": "code",
      "execution_count": null,
      "id": "d63c4bc4",
      "metadata": {
        "id": "d63c4bc4"
      },
      "outputs": [],
      "source": [
        "Lrets =       np.log(data[\"Close\"]).diff()"
      ]
    },
    {
      "cell_type": "code",
      "execution_count": null,
      "id": "aa9f3665",
      "metadata": {
        "id": "aa9f3665"
      },
      "outputs": [],
      "source": [
        "Lrets = Lrets.dropna()"
      ]
    },
    {
      "cell_type": "code",
      "source": [
        "Lrets"
      ],
      "metadata": {
        "colab": {
          "base_uri": "https://localhost:8080/",
          "height": 455
        },
        "id": "-f10fzrNHnke",
        "outputId": "bd8a819c-b692-4b51-b29b-fa9f79bd7b76"
      },
      "id": "-f10fzrNHnke",
      "execution_count": null,
      "outputs": [
        {
          "output_type": "execute_result",
          "data": {
            "text/html": [
              "\n",
              "  <div id=\"df-2ee5cc43-ddb8-4eb0-bbcc-54c69e8b7ed5\">\n",
              "    <div class=\"colab-df-container\">\n",
              "      <div>\n",
              "<style scoped>\n",
              "    .dataframe tbody tr th:only-of-type {\n",
              "        vertical-align: middle;\n",
              "    }\n",
              "\n",
              "    .dataframe tbody tr th {\n",
              "        vertical-align: top;\n",
              "    }\n",
              "\n",
              "    .dataframe thead th {\n",
              "        text-align: right;\n",
              "    }\n",
              "</style>\n",
              "<table border=\"1\" class=\"dataframe\">\n",
              "  <thead>\n",
              "    <tr style=\"text-align: right;\">\n",
              "      <th></th>\n",
              "      <th>^DJI</th>\n",
              "      <th>^GSPC</th>\n",
              "      <th>^MID</th>\n",
              "      <th>^RUT</th>\n",
              "    </tr>\n",
              "    <tr>\n",
              "      <th>Date</th>\n",
              "      <th></th>\n",
              "      <th></th>\n",
              "      <th></th>\n",
              "      <th></th>\n",
              "    </tr>\n",
              "  </thead>\n",
              "  <tbody>\n",
              "    <tr>\n",
              "      <th>2012-01-04</th>\n",
              "      <td>0.001696</td>\n",
              "      <td>0.000188</td>\n",
              "      <td>-0.002695</td>\n",
              "      <td>-0.006669</td>\n",
              "    </tr>\n",
              "    <tr>\n",
              "      <th>2012-01-05</th>\n",
              "      <td>-0.000219</td>\n",
              "      <td>0.002939</td>\n",
              "      <td>0.006910</td>\n",
              "      <td>0.006682</td>\n",
              "    </tr>\n",
              "    <tr>\n",
              "      <th>2012-01-06</th>\n",
              "      <td>-0.004503</td>\n",
              "      <td>-0.002540</td>\n",
              "      <td>-0.000191</td>\n",
              "      <td>-0.003435</td>\n",
              "    </tr>\n",
              "    <tr>\n",
              "      <th>2012-01-09</th>\n",
              "      <td>0.002648</td>\n",
              "      <td>0.002259</td>\n",
              "      <td>0.005504</td>\n",
              "      <td>0.005056</td>\n",
              "    </tr>\n",
              "    <tr>\n",
              "      <th>2012-01-10</th>\n",
              "      <td>0.005615</td>\n",
              "      <td>0.008847</td>\n",
              "      <td>0.012747</td>\n",
              "      <td>0.014807</td>\n",
              "    </tr>\n",
              "    <tr>\n",
              "      <th>...</th>\n",
              "      <td>...</td>\n",
              "      <td>...</td>\n",
              "      <td>...</td>\n",
              "      <td>...</td>\n",
              "    </tr>\n",
              "    <tr>\n",
              "      <th>2021-12-27</th>\n",
              "      <td>0.009739</td>\n",
              "      <td>0.013744</td>\n",
              "      <td>0.013274</td>\n",
              "      <td>0.008830</td>\n",
              "    </tr>\n",
              "    <tr>\n",
              "      <th>2021-12-28</th>\n",
              "      <td>0.002636</td>\n",
              "      <td>-0.001011</td>\n",
              "      <td>-0.000332</td>\n",
              "      <td>-0.006633</td>\n",
              "    </tr>\n",
              "    <tr>\n",
              "      <th>2021-12-29</th>\n",
              "      <td>0.002481</td>\n",
              "      <td>0.001401</td>\n",
              "      <td>0.005489</td>\n",
              "      <td>0.001214</td>\n",
              "    </tr>\n",
              "    <tr>\n",
              "      <th>2021-12-30</th>\n",
              "      <td>-0.002485</td>\n",
              "      <td>-0.002994</td>\n",
              "      <td>-0.002989</td>\n",
              "      <td>-0.000200</td>\n",
              "    </tr>\n",
              "    <tr>\n",
              "      <th>2021-12-31</th>\n",
              "      <td>-0.001644</td>\n",
              "      <td>-0.002630</td>\n",
              "      <td>0.000940</td>\n",
              "      <td>-0.001549</td>\n",
              "    </tr>\n",
              "  </tbody>\n",
              "</table>\n",
              "<p>2516 rows × 4 columns</p>\n",
              "</div>\n",
              "      <button class=\"colab-df-convert\" onclick=\"convertToInteractive('df-2ee5cc43-ddb8-4eb0-bbcc-54c69e8b7ed5')\"\n",
              "              title=\"Convert this dataframe to an interactive table.\"\n",
              "              style=\"display:none;\">\n",
              "        \n",
              "  <svg xmlns=\"http://www.w3.org/2000/svg\" height=\"24px\"viewBox=\"0 0 24 24\"\n",
              "       width=\"24px\">\n",
              "    <path d=\"M0 0h24v24H0V0z\" fill=\"none\"/>\n",
              "    <path d=\"M18.56 5.44l.94 2.06.94-2.06 2.06-.94-2.06-.94-.94-2.06-.94 2.06-2.06.94zm-11 1L8.5 8.5l.94-2.06 2.06-.94-2.06-.94L8.5 2.5l-.94 2.06-2.06.94zm10 10l.94 2.06.94-2.06 2.06-.94-2.06-.94-.94-2.06-.94 2.06-2.06.94z\"/><path d=\"M17.41 7.96l-1.37-1.37c-.4-.4-.92-.59-1.43-.59-.52 0-1.04.2-1.43.59L10.3 9.45l-7.72 7.72c-.78.78-.78 2.05 0 2.83L4 21.41c.39.39.9.59 1.41.59.51 0 1.02-.2 1.41-.59l7.78-7.78 2.81-2.81c.8-.78.8-2.07 0-2.86zM5.41 20L4 18.59l7.72-7.72 1.47 1.35L5.41 20z\"/>\n",
              "  </svg>\n",
              "      </button>\n",
              "      \n",
              "  <style>\n",
              "    .colab-df-container {\n",
              "      display:flex;\n",
              "      flex-wrap:wrap;\n",
              "      gap: 12px;\n",
              "    }\n",
              "\n",
              "    .colab-df-convert {\n",
              "      background-color: #E8F0FE;\n",
              "      border: none;\n",
              "      border-radius: 50%;\n",
              "      cursor: pointer;\n",
              "      display: none;\n",
              "      fill: #1967D2;\n",
              "      height: 32px;\n",
              "      padding: 0 0 0 0;\n",
              "      width: 32px;\n",
              "    }\n",
              "\n",
              "    .colab-df-convert:hover {\n",
              "      background-color: #E2EBFA;\n",
              "      box-shadow: 0px 1px 2px rgba(60, 64, 67, 0.3), 0px 1px 3px 1px rgba(60, 64, 67, 0.15);\n",
              "      fill: #174EA6;\n",
              "    }\n",
              "\n",
              "    [theme=dark] .colab-df-convert {\n",
              "      background-color: #3B4455;\n",
              "      fill: #D2E3FC;\n",
              "    }\n",
              "\n",
              "    [theme=dark] .colab-df-convert:hover {\n",
              "      background-color: #434B5C;\n",
              "      box-shadow: 0px 1px 3px 1px rgba(0, 0, 0, 0.15);\n",
              "      filter: drop-shadow(0px 1px 2px rgba(0, 0, 0, 0.3));\n",
              "      fill: #FFFFFF;\n",
              "    }\n",
              "  </style>\n",
              "\n",
              "      <script>\n",
              "        const buttonEl =\n",
              "          document.querySelector('#df-2ee5cc43-ddb8-4eb0-bbcc-54c69e8b7ed5 button.colab-df-convert');\n",
              "        buttonEl.style.display =\n",
              "          google.colab.kernel.accessAllowed ? 'block' : 'none';\n",
              "\n",
              "        async function convertToInteractive(key) {\n",
              "          const element = document.querySelector('#df-2ee5cc43-ddb8-4eb0-bbcc-54c69e8b7ed5');\n",
              "          const dataTable =\n",
              "            await google.colab.kernel.invokeFunction('convertToInteractive',\n",
              "                                                     [key], {});\n",
              "          if (!dataTable) return;\n",
              "\n",
              "          const docLinkHtml = 'Like what you see? Visit the ' +\n",
              "            '<a target=\"_blank\" href=https://colab.research.google.com/notebooks/data_table.ipynb>data table notebook</a>'\n",
              "            + ' to learn more about interactive tables.';\n",
              "          element.innerHTML = '';\n",
              "          dataTable['output_type'] = 'display_data';\n",
              "          await google.colab.output.renderOutput(dataTable, element);\n",
              "          const docLink = document.createElement('div');\n",
              "          docLink.innerHTML = docLinkHtml;\n",
              "          element.appendChild(docLink);\n",
              "        }\n",
              "      </script>\n",
              "    </div>\n",
              "  </div>\n",
              "  "
            ],
            "text/plain": [
              "                ^DJI     ^GSPC      ^MID      ^RUT\n",
              "Date                                              \n",
              "2012-01-04  0.001696  0.000188 -0.002695 -0.006669\n",
              "2012-01-05 -0.000219  0.002939  0.006910  0.006682\n",
              "2012-01-06 -0.004503 -0.002540 -0.000191 -0.003435\n",
              "2012-01-09  0.002648  0.002259  0.005504  0.005056\n",
              "2012-01-10  0.005615  0.008847  0.012747  0.014807\n",
              "...              ...       ...       ...       ...\n",
              "2021-12-27  0.009739  0.013744  0.013274  0.008830\n",
              "2021-12-28  0.002636 -0.001011 -0.000332 -0.006633\n",
              "2021-12-29  0.002481  0.001401  0.005489  0.001214\n",
              "2021-12-30 -0.002485 -0.002994 -0.002989 -0.000200\n",
              "2021-12-31 -0.001644 -0.002630  0.000940 -0.001549\n",
              "\n",
              "[2516 rows x 4 columns]"
            ]
          },
          "metadata": {},
          "execution_count": 8
        }
      ]
    },
    {
      "cell_type": "markdown",
      "id": "511e4b0e",
      "metadata": {
        "id": "511e4b0e"
      },
      "source": [
        "In R, there is neat command call \"pairs\".  In pandas, we have scatter_matrix\n"
      ]
    },
    {
      "cell_type": "code",
      "execution_count": null,
      "id": "d624879f",
      "metadata": {
        "colab": {
          "base_uri": "https://localhost:8080/",
          "height": 620
        },
        "id": "d624879f",
        "outputId": "cff470b1-1d7d-4a8e-8f93-f0d73b568ab8"
      },
      "outputs": [
        {
          "output_type": "display_data",
          "data": {
            "image/png": "[encoded data removed]",
            "text/plain": [
              "<Figure size 1080x720 with 16 Axes>"
            ]
          },
          "metadata": {
            "needs_background": "light"
          }
        }
      ],
      "source": [
        "\n",
        "pd.plotting.scatter_matrix(Lrets, figsize = (15,10),diagonal='kde' ,alpha=0.2)\n",
        "\n",
        "plt.show()"
      ]
    },
    {
      "cell_type": "markdown",
      "id": "c31af073",
      "metadata": {
        "id": "c31af073"
      },
      "source": [
        "We visually see that all 4 indices move with each other.  But the S&P500 moves most tightly with Dow Jones. And also that mid caps move with small caps.  \n",
        "\n",
        "Let'ss calculate the correlations."
      ]
    },
    {
      "cell_type": "code",
      "execution_count": null,
      "id": "429bf805",
      "metadata": {
        "colab": {
          "base_uri": "https://localhost:8080/",
          "height": 175
        },
        "id": "429bf805",
        "outputId": "bf869949-5159-4a86-e1e1-1d96bb7b238f"
      },
      "outputs": [
        {
          "output_type": "execute_result",
          "data": {
            "text/html": [
              "\n",
              "  <div id=\"df-21f09078-19f6-4635-9fa1-5cd68a7d86ee\">\n",
              "    <div class=\"colab-df-container\">\n",
              "      <div>\n",
              "<style scoped>\n",
              "    .dataframe tbody tr th:only-of-type {\n",
              "        vertical-align: middle;\n",
              "    }\n",
              "\n",
              "    .dataframe tbody tr th {\n",
              "        vertical-align: top;\n",
              "    }\n",
              "\n",
              "    .dataframe thead th {\n",
              "        text-align: right;\n",
              "    }\n",
              "</style>\n",
              "<table border=\"1\" class=\"dataframe\">\n",
              "  <thead>\n",
              "    <tr style=\"text-align: right;\">\n",
              "      <th></th>\n",
              "      <th>^DJI</th>\n",
              "      <th>^GSPC</th>\n",
              "      <th>^MID</th>\n",
              "      <th>^RUT</th>\n",
              "    </tr>\n",
              "  </thead>\n",
              "  <tbody>\n",
              "    <tr>\n",
              "      <th>^DJI</th>\n",
              "      <td>1.000000</td>\n",
              "      <td>0.968595</td>\n",
              "      <td>0.906030</td>\n",
              "      <td>0.852442</td>\n",
              "    </tr>\n",
              "    <tr>\n",
              "      <th>^GSPC</th>\n",
              "      <td>0.968595</td>\n",
              "      <td>1.000000</td>\n",
              "      <td>0.919372</td>\n",
              "      <td>0.877452</td>\n",
              "    </tr>\n",
              "    <tr>\n",
              "      <th>^MID</th>\n",
              "      <td>0.906030</td>\n",
              "      <td>0.919372</td>\n",
              "      <td>1.000000</td>\n",
              "      <td>0.965654</td>\n",
              "    </tr>\n",
              "    <tr>\n",
              "      <th>^RUT</th>\n",
              "      <td>0.852442</td>\n",
              "      <td>0.877452</td>\n",
              "      <td>0.965654</td>\n",
              "      <td>1.000000</td>\n",
              "    </tr>\n",
              "  </tbody>\n",
              "</table>\n",
              "</div>\n",
              "      <button class=\"colab-df-convert\" onclick=\"convertToInteractive('df-21f09078-19f6-4635-9fa1-5cd68a7d86ee')\"\n",
              "              title=\"Convert this dataframe to an interactive table.\"\n",
              "              style=\"display:none;\">\n",
              "        \n",
              "  <svg xmlns=\"http://www.w3.org/2000/svg\" height=\"24px\"viewBox=\"0 0 24 24\"\n",
              "       width=\"24px\">\n",
              "    <path d=\"M0 0h24v24H0V0z\" fill=\"none\"/>\n",
              "    <path d=\"M18.56 5.44l.94 2.06.94-2.06 2.06-.94-2.06-.94-.94-2.06-.94 2.06-2.06.94zm-11 1L8.5 8.5l.94-2.06 2.06-.94-2.06-.94L8.5 2.5l-.94 2.06-2.06.94zm10 10l.94 2.06.94-2.06 2.06-.94-2.06-.94-.94-2.06-.94 2.06-2.06.94z\"/><path d=\"M17.41 7.96l-1.37-1.37c-.4-.4-.92-.59-1.43-.59-.52 0-1.04.2-1.43.59L10.3 9.45l-7.72 7.72c-.78.78-.78 2.05 0 2.83L4 21.41c.39.39.9.59 1.41.59.51 0 1.02-.2 1.41-.59l7.78-7.78 2.81-2.81c.8-.78.8-2.07 0-2.86zM5.41 20L4 18.59l7.72-7.72 1.47 1.35L5.41 20z\"/>\n",
              "  </svg>\n",
              "      </button>\n",
              "      \n",
              "  <style>\n",
              "    .colab-df-container {\n",
              "      display:flex;\n",
              "      flex-wrap:wrap;\n",
              "      gap: 12px;\n",
              "    }\n",
              "\n",
              "    .colab-df-convert {\n",
              "      background-color: #E8F0FE;\n",
              "      border: none;\n",
              "      border-radius: 50%;\n",
              "      cursor: pointer;\n",
              "      display: none;\n",
              "      fill: #1967D2;\n",
              "      height: 32px;\n",
              "      padding: 0 0 0 0;\n",
              "      width: 32px;\n",
              "    }\n",
              "\n",
              "    .colab-df-convert:hover {\n",
              "      background-color: #E2EBFA;\n",
              "      box-shadow: 0px 1px 2px rgba(60, 64, 67, 0.3), 0px 1px 3px 1px rgba(60, 64, 67, 0.15);\n",
              "      fill: #174EA6;\n",
              "    }\n",
              "\n",
              "    [theme=dark] .colab-df-convert {\n",
              "      background-color: #3B4455;\n",
              "      fill: #D2E3FC;\n",
              "    }\n",
              "\n",
              "    [theme=dark] .colab-df-convert:hover {\n",
              "      background-color: #434B5C;\n",
              "      box-shadow: 0px 1px 3px 1px rgba(0, 0, 0, 0.15);\n",
              "      filter: drop-shadow(0px 1px 2px rgba(0, 0, 0, 0.3));\n",
              "      fill: #FFFFFF;\n",
              "    }\n",
              "  </style>\n",
              "\n",
              "      <script>\n",
              "        const buttonEl =\n",
              "          document.querySelector('#df-21f09078-19f6-4635-9fa1-5cd68a7d86ee button.colab-df-convert');\n",
              "        buttonEl.style.display =\n",
              "          google.colab.kernel.accessAllowed ? 'block' : 'none';\n",
              "\n",
              "        async function convertToInteractive(key) {\n",
              "          const element = document.querySelector('#df-21f09078-19f6-4635-9fa1-5cd68a7d86ee');\n",
              "          const dataTable =\n",
              "            await google.colab.kernel.invokeFunction('convertToInteractive',\n",
              "                                                     [key], {});\n",
              "          if (!dataTable) return;\n",
              "\n",
              "          const docLinkHtml = 'Like what you see? Visit the ' +\n",
              "            '<a target=\"_blank\" href=https://colab.research.google.com/notebooks/data_table.ipynb>data table notebook</a>'\n",
              "            + ' to learn more about interactive tables.';\n",
              "          element.innerHTML = '';\n",
              "          dataTable['output_type'] = 'display_data';\n",
              "          await google.colab.output.renderOutput(dataTable, element);\n",
              "          const docLink = document.createElement('div');\n",
              "          docLink.innerHTML = docLinkHtml;\n",
              "          element.appendChild(docLink);\n",
              "        }\n",
              "      </script>\n",
              "    </div>\n",
              "  </div>\n",
              "  "
            ],
            "text/plain": [
              "           ^DJI     ^GSPC      ^MID      ^RUT\n",
              "^DJI   1.000000  0.968595  0.906030  0.852442\n",
              "^GSPC  0.968595  1.000000  0.919372  0.877452\n",
              "^MID   0.906030  0.919372  1.000000  0.965654\n",
              "^RUT   0.852442  0.877452  0.965654  1.000000"
            ]
          },
          "metadata": {},
          "execution_count": 10
        }
      ],
      "source": [
        "Lrets.corr()"
      ]
    },
    {
      "cell_type": "markdown",
      "id": "81567b7c",
      "metadata": {
        "id": "81567b7c"
      },
      "source": [
        "A nice way to visualize this is using the seaborn package (which does a lot of nice things we just haven't used since we mostly could to them with matplotlib.pyplot)."
      ]
    },
    {
      "cell_type": "code",
      "execution_count": null,
      "id": "b315adaa",
      "metadata": {
        "colab": {
          "base_uri": "https://localhost:8080/",
          "height": 595
        },
        "id": "b315adaa",
        "outputId": "2478dea4-a80c-4963-be82-46b2b874cddc"
      },
      "outputs": [
        {
          "output_type": "display_data",
          "data": {
            "image/png": "[encoded data removed]",
            "text/plain": [
              "<Figure size 1080x720 with 2 Axes>"
            ]
          },
          "metadata": {
            "needs_background": "light"
          }
        }
      ],
      "source": [
        "import seaborn as sb\n",
        "\n",
        "plt.figure(figsize = (15,10))\n",
        "sb.heatmap(Lrets.corr())\n",
        "\n",
        "plt.show()"
      ]
    },
    {
      "cell_type": "markdown",
      "id": "89ca6fb8",
      "metadata": {
        "id": "89ca6fb8"
      },
      "source": [
        "Now let's do another example. We compare Gold, Oil, USD/CD, and Coffee. Here will just look at their changes, not their relative changes."
      ]
    },
    {
      "cell_type": "code",
      "execution_count": null,
      "id": "90504f42",
      "metadata": {
        "colab": {
          "base_uri": "https://localhost:8080/"
        },
        "id": "90504f42",
        "outputId": "2b888334-2b77-4e5b-8238-a946b6b4bf3f"
      },
      "outputs": [
        {
          "output_type": "stream",
          "name": "stdout",
          "text": [
            "[*********************100%***********************]  4 of 4 completed\n"
          ]
        }
      ],
      "source": [
        "ctickers = [\"GC=F\", \"CL=F\", \"CAD=X\", \"KC=F\"]\n",
        "\n",
        "cdata = yf.download(ctickers, start = \"2012-01-01\", end = \"2022-01-01\")\n",
        "\n"
      ]
    },
    {
      "cell_type": "code",
      "execution_count": null,
      "id": "2a29726b",
      "metadata": {
        "colab": {
          "base_uri": "https://localhost:8080/",
          "height": 455
        },
        "id": "2a29726b",
        "outputId": "67c845bf-17fa-4861-abb4-a2a9f102cef7"
      },
      "outputs": [
        {
          "output_type": "execute_result",
          "data": {
            "text/html": [
              "\n",
              "  <div id=\"df-644c8cc7-4fc9-403c-880b-8568ba342cbb\">\n",
              "    <div class=\"colab-df-container\">\n",
              "      <div>\n",
              "<style scoped>\n",
              "    .dataframe tbody tr th:only-of-type {\n",
              "        vertical-align: middle;\n",
              "    }\n",
              "\n",
              "    .dataframe tbody tr th {\n",
              "        vertical-align: top;\n",
              "    }\n",
              "\n",
              "    .dataframe thead th {\n",
              "        text-align: right;\n",
              "    }\n",
              "</style>\n",
              "<table border=\"1\" class=\"dataframe\">\n",
              "  <thead>\n",
              "    <tr style=\"text-align: right;\">\n",
              "      <th></th>\n",
              "      <th>CAD=X</th>\n",
              "      <th>CL=F</th>\n",
              "      <th>GC=F</th>\n",
              "      <th>KC=F</th>\n",
              "    </tr>\n",
              "    <tr>\n",
              "      <th>Date</th>\n",
              "      <th></th>\n",
              "      <th></th>\n",
              "      <th></th>\n",
              "      <th></th>\n",
              "    </tr>\n",
              "  </thead>\n",
              "  <tbody>\n",
              "    <tr>\n",
              "      <th>2012-01-04</th>\n",
              "      <td>-0.00630</td>\n",
              "      <td>0.260002</td>\n",
              "      <td>12.200073</td>\n",
              "      <td>-0.500000</td>\n",
              "    </tr>\n",
              "    <tr>\n",
              "      <th>2012-01-05</th>\n",
              "      <td>0.00230</td>\n",
              "      <td>-1.410004</td>\n",
              "      <td>7.500000</td>\n",
              "      <td>-7.149994</td>\n",
              "    </tr>\n",
              "    <tr>\n",
              "      <th>2012-01-06</th>\n",
              "      <td>0.00620</td>\n",
              "      <td>-0.250000</td>\n",
              "      <td>-3.300049</td>\n",
              "      <td>2.199997</td>\n",
              "    </tr>\n",
              "    <tr>\n",
              "      <th>2012-01-09</th>\n",
              "      <td>0.00950</td>\n",
              "      <td>-0.250000</td>\n",
              "      <td>-8.599976</td>\n",
              "      <td>0.100006</td>\n",
              "    </tr>\n",
              "    <tr>\n",
              "      <th>2012-01-10</th>\n",
              "      <td>-0.00670</td>\n",
              "      <td>0.930000</td>\n",
              "      <td>23.500000</td>\n",
              "      <td>4.099991</td>\n",
              "    </tr>\n",
              "    <tr>\n",
              "      <th>...</th>\n",
              "      <td>...</td>\n",
              "      <td>...</td>\n",
              "      <td>...</td>\n",
              "      <td>...</td>\n",
              "    </tr>\n",
              "    <tr>\n",
              "      <th>2021-12-23</th>\n",
              "      <td>-0.00718</td>\n",
              "      <td>1.029999</td>\n",
              "      <td>9.599976</td>\n",
              "      <td>-2.350006</td>\n",
              "    </tr>\n",
              "    <tr>\n",
              "      <th>2021-12-28</th>\n",
              "      <td>-0.00270</td>\n",
              "      <td>0.410004</td>\n",
              "      <td>2.099976</td>\n",
              "      <td>-1.449997</td>\n",
              "    </tr>\n",
              "    <tr>\n",
              "      <th>2021-12-29</th>\n",
              "      <td>0.00260</td>\n",
              "      <td>0.579994</td>\n",
              "      <td>-5.099976</td>\n",
              "      <td>3.299988</td>\n",
              "    </tr>\n",
              "    <tr>\n",
              "      <th>2021-12-30</th>\n",
              "      <td>-0.00304</td>\n",
              "      <td>0.430000</td>\n",
              "      <td>7.599976</td>\n",
              "      <td>-0.049988</td>\n",
              "    </tr>\n",
              "    <tr>\n",
              "      <th>2021-12-31</th>\n",
              "      <td>-0.00382</td>\n",
              "      <td>-1.779999</td>\n",
              "      <td>14.800049</td>\n",
              "      <td>-2.750000</td>\n",
              "    </tr>\n",
              "  </tbody>\n",
              "</table>\n",
              "<p>2409 rows × 4 columns</p>\n",
              "</div>\n",
              "      <button class=\"colab-df-convert\" onclick=\"convertToInteractive('df-644c8cc7-4fc9-403c-880b-8568ba342cbb')\"\n",
              "              title=\"Convert this dataframe to an interactive table.\"\n",
              "              style=\"display:none;\">\n",
              "        \n",
              "  <svg xmlns=\"http://www.w3.org/2000/svg\" height=\"24px\"viewBox=\"0 0 24 24\"\n",
              "       width=\"24px\">\n",
              "    <path d=\"M0 0h24v24H0V0z\" fill=\"none\"/>\n",
              "    <path d=\"M18.56 5.44l.94 2.06.94-2.06 2.06-.94-2.06-.94-.94-2.06-.94 2.06-2.06.94zm-11 1L8.5 8.5l.94-2.06 2.06-.94-2.06-.94L8.5 2.5l-.94 2.06-2.06.94zm10 10l.94 2.06.94-2.06 2.06-.94-2.06-.94-.94-2.06-.94 2.06-2.06.94z\"/><path d=\"M17.41 7.96l-1.37-1.37c-.4-.4-.92-.59-1.43-.59-.52 0-1.04.2-1.43.59L10.3 9.45l-7.72 7.72c-.78.78-.78 2.05 0 2.83L4 21.41c.39.39.9.59 1.41.59.51 0 1.02-.2 1.41-.59l7.78-7.78 2.81-2.81c.8-.78.8-2.07 0-2.86zM5.41 20L4 18.59l7.72-7.72 1.47 1.35L5.41 20z\"/>\n",
              "  </svg>\n",
              "      </button>\n",
              "      \n",
              "  <style>\n",
              "    .colab-df-container {\n",
              "      display:flex;\n",
              "      flex-wrap:wrap;\n",
              "      gap: 12px;\n",
              "    }\n",
              "\n",
              "    .colab-df-convert {\n",
              "      background-color: #E8F0FE;\n",
              "      border: none;\n",
              "      border-radius: 50%;\n",
              "      cursor: pointer;\n",
              "      display: none;\n",
              "      fill: #1967D2;\n",
              "      height: 32px;\n",
              "      padding: 0 0 0 0;\n",
              "      width: 32px;\n",
              "    }\n",
              "\n",
              "    .colab-df-convert:hover {\n",
              "      background-color: #E2EBFA;\n",
              "      box-shadow: 0px 1px 2px rgba(60, 64, 67, 0.3), 0px 1px 3px 1px rgba(60, 64, 67, 0.15);\n",
              "      fill: #174EA6;\n",
              "    }\n",
              "\n",
              "    [theme=dark] .colab-df-convert {\n",
              "      background-color: #3B4455;\n",
              "      fill: #D2E3FC;\n",
              "    }\n",
              "\n",
              "    [theme=dark] .colab-df-convert:hover {\n",
              "      background-color: #434B5C;\n",
              "      box-shadow: 0px 1px 3px 1px rgba(0, 0, 0, 0.15);\n",
              "      filter: drop-shadow(0px 1px 2px rgba(0, 0, 0, 0.3));\n",
              "      fill: #FFFFFF;\n",
              "    }\n",
              "  </style>\n",
              "\n",
              "      <script>\n",
              "        const buttonEl =\n",
              "          document.querySelector('#df-644c8cc7-4fc9-403c-880b-8568ba342cbb button.colab-df-convert');\n",
              "        buttonEl.style.display =\n",
              "          google.colab.kernel.accessAllowed ? 'block' : 'none';\n",
              "\n",
              "        async function convertToInteractive(key) {\n",
              "          const element = document.querySelector('#df-644c8cc7-4fc9-403c-880b-8568ba342cbb');\n",
              "          const dataTable =\n",
              "            await google.colab.kernel.invokeFunction('convertToInteractive',\n",
              "                                                     [key], {});\n",
              "          if (!dataTable) return;\n",
              "\n",
              "          const docLinkHtml = 'Like what you see? Visit the ' +\n",
              "            '<a target=\"_blank\" href=https://colab.research.google.com/notebooks/data_table.ipynb>data table notebook</a>'\n",
              "            + ' to learn more about interactive tables.';\n",
              "          element.innerHTML = '';\n",
              "          dataTable['output_type'] = 'display_data';\n",
              "          await google.colab.output.renderOutput(dataTable, element);\n",
              "          const docLink = document.createElement('div');\n",
              "          docLink.innerHTML = docLinkHtml;\n",
              "          element.appendChild(docLink);\n",
              "        }\n",
              "      </script>\n",
              "    </div>\n",
              "  </div>\n",
              "  "
            ],
            "text/plain": [
              "              CAD=X      CL=F       GC=F      KC=F\n",
              "Date                                              \n",
              "2012-01-04 -0.00630  0.260002  12.200073 -0.500000\n",
              "2012-01-05  0.00230 -1.410004   7.500000 -7.149994\n",
              "2012-01-06  0.00620 -0.250000  -3.300049  2.199997\n",
              "2012-01-09  0.00950 -0.250000  -8.599976  0.100006\n",
              "2012-01-10 -0.00670  0.930000  23.500000  4.099991\n",
              "...             ...       ...        ...       ...\n",
              "2021-12-23 -0.00718  1.029999   9.599976 -2.350006\n",
              "2021-12-28 -0.00270  0.410004   2.099976 -1.449997\n",
              "2021-12-29  0.00260  0.579994  -5.099976  3.299988\n",
              "2021-12-30 -0.00304  0.430000   7.599976 -0.049988\n",
              "2021-12-31 -0.00382 -1.779999  14.800049 -2.750000\n",
              "\n",
              "[2409 rows x 4 columns]"
            ]
          },
          "metadata": {},
          "execution_count": 13
        }
      ],
      "source": [
        "c_changes = cdata.Close.diff()\n",
        "c_changes = c_changes.dropna()\n",
        "\n",
        "c_changes"
      ]
    },
    {
      "cell_type": "code",
      "execution_count": null,
      "id": "09dc77a7",
      "metadata": {
        "id": "09dc77a7"
      },
      "outputs": [],
      "source": [
        ""
      ]
    },
    {
      "cell_type": "code",
      "execution_count": null,
      "id": "e9dedb4a",
      "metadata": {
        "colab": {
          "base_uri": "https://localhost:8080/",
          "height": 620
        },
        "id": "e9dedb4a",
        "outputId": "75721501-1d46-4e65-e25d-eac4a620f1a7"
      },
      "outputs": [
        {
          "output_type": "display_data",
          "data": {
            "image/png": "[encoded data removed]",
            "text/plain": [
              "<Figure size 1080x720 with 16 Axes>"
            ]
          },
          "metadata": {
            "needs_background": "light"
          }
        }
      ],
      "source": [
        "pd.plotting.scatter_matrix(c_changes, figsize = (15,10),diagonal='kde' )\n",
        "\n",
        "plt.show()"
      ]
    },
    {
      "cell_type": "markdown",
      "id": "9a760883",
      "metadata": {
        "id": "9a760883"
      },
      "source": [
        "These appear to show not much relationship"
      ]
    },
    {
      "cell_type": "code",
      "execution_count": null,
      "id": "d71b58a5",
      "metadata": {
        "colab": {
          "base_uri": "https://localhost:8080/",
          "height": 175
        },
        "id": "d71b58a5",
        "outputId": "641bb0ab-1135-4e7b-8691-a8fb06416b90"
      },
      "outputs": [
        {
          "output_type": "execute_result",
          "data": {
            "text/html": [
              "\n",
              "  <div id=\"df-736bb80f-58cc-4b43-a3c0-7c18a94570f7\">\n",
              "    <div class=\"colab-df-container\">\n",
              "      <div>\n",
              "<style scoped>\n",
              "    .dataframe tbody tr th:only-of-type {\n",
              "        vertical-align: middle;\n",
              "    }\n",
              "\n",
              "    .dataframe tbody tr th {\n",
              "        vertical-align: top;\n",
              "    }\n",
              "\n",
              "    .dataframe thead th {\n",
              "        text-align: right;\n",
              "    }\n",
              "</style>\n",
              "<table border=\"1\" class=\"dataframe\">\n",
              "  <thead>\n",
              "    <tr style=\"text-align: right;\">\n",
              "      <th></th>\n",
              "      <th>CAD=X</th>\n",
              "      <th>CL=F</th>\n",
              "      <th>GC=F</th>\n",
              "      <th>KC=F</th>\n",
              "    </tr>\n",
              "  </thead>\n",
              "  <tbody>\n",
              "    <tr>\n",
              "      <th>CAD=X</th>\n",
              "      <td>1.000000</td>\n",
              "      <td>-0.008080</td>\n",
              "      <td>-0.031042</td>\n",
              "      <td>-0.018951</td>\n",
              "    </tr>\n",
              "    <tr>\n",
              "      <th>CL=F</th>\n",
              "      <td>-0.008080</td>\n",
              "      <td>1.000000</td>\n",
              "      <td>0.055472</td>\n",
              "      <td>0.075829</td>\n",
              "    </tr>\n",
              "    <tr>\n",
              "      <th>GC=F</th>\n",
              "      <td>-0.031042</td>\n",
              "      <td>0.055472</td>\n",
              "      <td>1.000000</td>\n",
              "      <td>0.107266</td>\n",
              "    </tr>\n",
              "    <tr>\n",
              "      <th>KC=F</th>\n",
              "      <td>-0.018951</td>\n",
              "      <td>0.075829</td>\n",
              "      <td>0.107266</td>\n",
              "      <td>1.000000</td>\n",
              "    </tr>\n",
              "  </tbody>\n",
              "</table>\n",
              "</div>\n",
              "      <button class=\"colab-df-convert\" onclick=\"convertToInteractive('df-736bb80f-58cc-4b43-a3c0-7c18a94570f7')\"\n",
              "              title=\"Convert this dataframe to an interactive table.\"\n",
              "              style=\"display:none;\">\n",
              "        \n",
              "  <svg xmlns=\"http://www.w3.org/2000/svg\" height=\"24px\"viewBox=\"0 0 24 24\"\n",
              "       width=\"24px\">\n",
              "    <path d=\"M0 0h24v24H0V0z\" fill=\"none\"/>\n",
              "    <path d=\"M18.56 5.44l.94 2.06.94-2.06 2.06-.94-2.06-.94-.94-2.06-.94 2.06-2.06.94zm-11 1L8.5 8.5l.94-2.06 2.06-.94-2.06-.94L8.5 2.5l-.94 2.06-2.06.94zm10 10l.94 2.06.94-2.06 2.06-.94-2.06-.94-.94-2.06-.94 2.06-2.06.94z\"/><path d=\"M17.41 7.96l-1.37-1.37c-.4-.4-.92-.59-1.43-.59-.52 0-1.04.2-1.43.59L10.3 9.45l-7.72 7.72c-.78.78-.78 2.05 0 2.83L4 21.41c.39.39.9.59 1.41.59.51 0 1.02-.2 1.41-.59l7.78-7.78 2.81-2.81c.8-.78.8-2.07 0-2.86zM5.41 20L4 18.59l7.72-7.72 1.47 1.35L5.41 20z\"/>\n",
              "  </svg>\n",
              "      </button>\n",
              "      \n",
              "  <style>\n",
              "    .colab-df-container {\n",
              "      display:flex;\n",
              "      flex-wrap:wrap;\n",
              "      gap: 12px;\n",
              "    }\n",
              "\n",
              "    .colab-df-convert {\n",
              "      background-color: #E8F0FE;\n",
              "      border: none;\n",
              "      border-radius: 50%;\n",
              "      cursor: pointer;\n",
              "      display: none;\n",
              "      fill: #1967D2;\n",
              "      height: 32px;\n",
              "      padding: 0 0 0 0;\n",
              "      width: 32px;\n",
              "    }\n",
              "\n",
              "    .colab-df-convert:hover {\n",
              "      background-color: #E2EBFA;\n",
              "      box-shadow: 0px 1px 2px rgba(60, 64, 67, 0.3), 0px 1px 3px 1px rgba(60, 64, 67, 0.15);\n",
              "      fill: #174EA6;\n",
              "    }\n",
              "\n",
              "    [theme=dark] .colab-df-convert {\n",
              "      background-color: #3B4455;\n",
              "      fill: #D2E3FC;\n",
              "    }\n",
              "\n",
              "    [theme=dark] .colab-df-convert:hover {\n",
              "      background-color: #434B5C;\n",
              "      box-shadow: 0px 1px 3px 1px rgba(0, 0, 0, 0.15);\n",
              "      filter: drop-shadow(0px 1px 2px rgba(0, 0, 0, 0.3));\n",
              "      fill: #FFFFFF;\n",
              "    }\n",
              "  </style>\n",
              "\n",
              "      <script>\n",
              "        const buttonEl =\n",
              "          document.querySelector('#df-736bb80f-58cc-4b43-a3c0-7c18a94570f7 button.colab-df-convert');\n",
              "        buttonEl.style.display =\n",
              "          google.colab.kernel.accessAllowed ? 'block' : 'none';\n",
              "\n",
              "        async function convertToInteractive(key) {\n",
              "          const element = document.querySelector('#df-736bb80f-58cc-4b43-a3c0-7c18a94570f7');\n",
              "          const dataTable =\n",
              "            await google.colab.kernel.invokeFunction('convertToInteractive',\n",
              "                                                     [key], {});\n",
              "          if (!dataTable) return;\n",
              "\n",
              "          const docLinkHtml = 'Like what you see? Visit the ' +\n",
              "            '<a target=\"_blank\" href=https://colab.research.google.com/notebooks/data_table.ipynb>data table notebook</a>'\n",
              "            + ' to learn more about interactive tables.';\n",
              "          element.innerHTML = '';\n",
              "          dataTable['output_type'] = 'display_data';\n",
              "          await google.colab.output.renderOutput(dataTable, element);\n",
              "          const docLink = document.createElement('div');\n",
              "          docLink.innerHTML = docLinkHtml;\n",
              "          element.appendChild(docLink);\n",
              "        }\n",
              "      </script>\n",
              "    </div>\n",
              "  </div>\n",
              "  "
            ],
            "text/plain": [
              "          CAD=X      CL=F      GC=F      KC=F\n",
              "CAD=X  1.000000 -0.008080 -0.031042 -0.018951\n",
              "CL=F  -0.008080  1.000000  0.055472  0.075829\n",
              "GC=F  -0.031042  0.055472  1.000000  0.107266\n",
              "KC=F  -0.018951  0.075829  0.107266  1.000000"
            ]
          },
          "metadata": {},
          "execution_count": 15
        }
      ],
      "source": [
        "c_changes.corr()"
      ]
    },
    {
      "cell_type": "markdown",
      "id": "4ad8e4f0",
      "metadata": {
        "id": "4ad8e4f0"
      },
      "source": [
        "## Mutivariate Normal\n",
        "\n",
        "In the recent videos, we dicussedd the Bi-variate normal distribution. But we pointed out at the end that we are not limited to 2 randome variables, we could have several.  \n",
        "\n",
        "The multivariate normaal distribution is specified by it's covariance matrix $\\Sigma$ and it's mean vector $\\mathbf{\\mu}$\n",
        "\n",
        "\n",
        "If $\\mathbf{X} = (X_1, X_2,...,X_n)^T$ is our vector values random variable, the MV normal PDF is\n",
        "\n",
        "$$F_{\\mathbf{X}}(\\mathbf{x}) = \\frac{1}{(2\\pi)^{\\frac{n}{2}} \\sqrt{\\det(\\Sigma)}}e^{-\\frac{1}{2}(\\mathbf{x-\\mu})^T\\Sigma^{-1}(\\mathbf{x-\\mu})}$$\n",
        "\n",
        "\n",
        "Not that if we define the volatitlity vector \n",
        "\n",
        "$\\mathbf{v} = [\\sigma_{X_1},\\sigma_{X_2}, ...,\\sigma_{X_n}]^T$ \n",
        "\n",
        "and the correlation matrix \n",
        "\n",
        "$C_{i,j} = \\frac{\\Sigma_{i,j}}{\\sigma_{X_i} \\sigma_{X_j}}$ \n",
        "\n",
        "then we can rewrite $\\Sigma$ as\n",
        "\n",
        "$\\Sigma = \\mathrm{diag}(\\mathbf{v}) C \\mathrm{diag}(\\mathbf{v})$\n",
        "\n",
        "\n",
        "This in turn means that if we set $Y_k = \\frac{X_k- \\mu_k}{\\sigma_{X_k}}$, the PDF is\n",
        "\n",
        "$$f_{\\mathbf{X}}(x) = \\frac{1}{(2\\pi)^{\\frac{n}{2}} \\sqrt{\\det(\\Sigma)}}e^{-\\frac{1}{2}\\mathbf{y}^TC^{-1}\\mathbf{y}}$$\n",
        "\n",
        "\n",
        "We see that shifting and scaling the components of $\\mathbf{X}$ impacts location and variance, but not correlation.\n",
        "\n",
        "\n",
        "\n"
      ]
    },
    {
      "cell_type": "markdown",
      "id": "956e7c56",
      "metadata": {
        "id": "956e7c56"
      },
      "source": [
        "### Fitting the Multivariate Normal\n",
        "\n",
        "One nice thing about the multvariate normal is that the MM and MLE approaches will lead to the same result.  That is, if you maximize the log-liklhood, the parameters will turn out to be \n",
        "\n",
        "1. The sample mean (vector)\n",
        "2. The covariance of the sample.\n",
        "\n",
        "It's worth noting that while the covariance matrix is $n \\times n$, it is symmetric.  So the number of parameters is $n + \\frac{n(n+1)}{2}$  \n",
        "\n",
        "\n",
        "Alternatively one could find the mean ($n$ parameters), the standard deviations ($n$ paramaters) and the correlation matrix ($\\frac{n(n -1)}{2}$ parameters).\n",
        "\n",
        "This is the same number of parameters since\n",
        "\n",
        "$$n + \\frac{n(n+1)}{2} = n + \\frac{n^2 + n}{2} = n + n + \\frac{n^2 - n}{2}$$\n",
        "\n",
        "\n",
        "\n",
        "Let's take our commondity changes data and fit them to a multivariate normal. \n",
        "\n",
        "\n"
      ]
    },
    {
      "cell_type": "code",
      "execution_count": null,
      "id": "726d272b",
      "metadata": {
        "id": "726d272b"
      },
      "outputs": [],
      "source": [
        "mean_vector = c_changes.mean()\n",
        "Sig_est = c_changes.cov()"
      ]
    },
    {
      "cell_type": "code",
      "execution_count": null,
      "id": "b8ade3e8",
      "metadata": {
        "colab": {
          "base_uri": "https://localhost:8080/",
          "height": 175
        },
        "id": "b8ade3e8",
        "outputId": "3061d7fd-91f8-4175-d88b-7b77fda69674"
      },
      "outputs": [
        {
          "output_type": "execute_result",
          "data": {
            "text/html": [
              "\n",
              "  <div id=\"df-28f09760-208c-44ee-b7d8-434c57a6413a\">\n",
              "    <div class=\"colab-df-container\">\n",
              "      <div>\n",
              "<style scoped>\n",
              "    .dataframe tbody tr th:only-of-type {\n",
              "        vertical-align: middle;\n",
              "    }\n",
              "\n",
              "    .dataframe tbody tr th {\n",
              "        vertical-align: top;\n",
              "    }\n",
              "\n",
              "    .dataframe thead th {\n",
              "        text-align: right;\n",
              "    }\n",
              "</style>\n",
              "<table border=\"1\" class=\"dataframe\">\n",
              "  <thead>\n",
              "    <tr style=\"text-align: right;\">\n",
              "      <th></th>\n",
              "      <th>CAD=X</th>\n",
              "      <th>CL=F</th>\n",
              "      <th>GC=F</th>\n",
              "      <th>KC=F</th>\n",
              "    </tr>\n",
              "  </thead>\n",
              "  <tbody>\n",
              "    <tr>\n",
              "      <th>CAD=X</th>\n",
              "      <td>0.000032</td>\n",
              "      <td>-0.000090</td>\n",
              "      <td>-0.002583</td>\n",
              "      <td>-0.000328</td>\n",
              "    </tr>\n",
              "    <tr>\n",
              "      <th>CL=F</th>\n",
              "      <td>-0.000090</td>\n",
              "      <td>3.845369</td>\n",
              "      <td>1.591412</td>\n",
              "      <td>0.453250</td>\n",
              "    </tr>\n",
              "    <tr>\n",
              "      <th>GC=F</th>\n",
              "      <td>-0.002583</td>\n",
              "      <td>1.591412</td>\n",
              "      <td>214.034396</td>\n",
              "      <td>4.783421</td>\n",
              "    </tr>\n",
              "    <tr>\n",
              "      <th>KC=F</th>\n",
              "      <td>-0.000328</td>\n",
              "      <td>0.453250</td>\n",
              "      <td>4.783421</td>\n",
              "      <td>9.291194</td>\n",
              "    </tr>\n",
              "  </tbody>\n",
              "</table>\n",
              "</div>\n",
              "      <button class=\"colab-df-convert\" onclick=\"convertToInteractive('df-28f09760-208c-44ee-b7d8-434c57a6413a')\"\n",
              "              title=\"Convert this dataframe to an interactive table.\"\n",
              "              style=\"display:none;\">\n",
              "        \n",
              "  <svg xmlns=\"http://www.w3.org/2000/svg\" height=\"24px\"viewBox=\"0 0 24 24\"\n",
              "       width=\"24px\">\n",
              "    <path d=\"M0 0h24v24H0V0z\" fill=\"none\"/>\n",
              "    <path d=\"M18.56 5.44l.94 2.06.94-2.06 2.06-.94-2.06-.94-.94-2.06-.94 2.06-2.06.94zm-11 1L8.5 8.5l.94-2.06 2.06-.94-2.06-.94L8.5 2.5l-.94 2.06-2.06.94zm10 10l.94 2.06.94-2.06 2.06-.94-2.06-.94-.94-2.06-.94 2.06-2.06.94z\"/><path d=\"M17.41 7.96l-1.37-1.37c-.4-.4-.92-.59-1.43-.59-.52 0-1.04.2-1.43.59L10.3 9.45l-7.72 7.72c-.78.78-.78 2.05 0 2.83L4 21.41c.39.39.9.59 1.41.59.51 0 1.02-.2 1.41-.59l7.78-7.78 2.81-2.81c.8-.78.8-2.07 0-2.86zM5.41 20L4 18.59l7.72-7.72 1.47 1.35L5.41 20z\"/>\n",
              "  </svg>\n",
              "      </button>\n",
              "      \n",
              "  <style>\n",
              "    .colab-df-container {\n",
              "      display:flex;\n",
              "      flex-wrap:wrap;\n",
              "      gap: 12px;\n",
              "    }\n",
              "\n",
              "    .colab-df-convert {\n",
              "      background-color: #E8F0FE;\n",
              "      border: none;\n",
              "      border-radius: 50%;\n",
              "      cursor: pointer;\n",
              "      display: none;\n",
              "      fill: #1967D2;\n",
              "      height: 32px;\n",
              "      padding: 0 0 0 0;\n",
              "      width: 32px;\n",
              "    }\n",
              "\n",
              "    .colab-df-convert:hover {\n",
              "      background-color: #E2EBFA;\n",
              "      box-shadow: 0px 1px 2px rgba(60, 64, 67, 0.3), 0px 1px 3px 1px rgba(60, 64, 67, 0.15);\n",
              "      fill: #174EA6;\n",
              "    }\n",
              "\n",
              "    [theme=dark] .colab-df-convert {\n",
              "      background-color: #3B4455;\n",
              "      fill: #D2E3FC;\n",
              "    }\n",
              "\n",
              "    [theme=dark] .colab-df-convert:hover {\n",
              "      background-color: #434B5C;\n",
              "      box-shadow: 0px 1px 3px 1px rgba(0, 0, 0, 0.15);\n",
              "      filter: drop-shadow(0px 1px 2px rgba(0, 0, 0, 0.3));\n",
              "      fill: #FFFFFF;\n",
              "    }\n",
              "  </style>\n",
              "\n",
              "      <script>\n",
              "        const buttonEl =\n",
              "          document.querySelector('#df-28f09760-208c-44ee-b7d8-434c57a6413a button.colab-df-convert');\n",
              "        buttonEl.style.display =\n",
              "          google.colab.kernel.accessAllowed ? 'block' : 'none';\n",
              "\n",
              "        async function convertToInteractive(key) {\n",
              "          const element = document.querySelector('#df-28f09760-208c-44ee-b7d8-434c57a6413a');\n",
              "          const dataTable =\n",
              "            await google.colab.kernel.invokeFunction('convertToInteractive',\n",
              "                                                     [key], {});\n",
              "          if (!dataTable) return;\n",
              "\n",
              "          const docLinkHtml = 'Like what you see? Visit the ' +\n",
              "            '<a target=\"_blank\" href=https://colab.research.google.com/notebooks/data_table.ipynb>data table notebook</a>'\n",
              "            + ' to learn more about interactive tables.';\n",
              "          element.innerHTML = '';\n",
              "          dataTable['output_type'] = 'display_data';\n",
              "          await google.colab.output.renderOutput(dataTable, element);\n",
              "          const docLink = document.createElement('div');\n",
              "          docLink.innerHTML = docLinkHtml;\n",
              "          element.appendChild(docLink);\n",
              "        }\n",
              "      </script>\n",
              "    </div>\n",
              "  </div>\n",
              "  "
            ],
            "text/plain": [
              "          CAD=X      CL=F        GC=F      KC=F\n",
              "CAD=X  0.000032 -0.000090   -0.002583 -0.000328\n",
              "CL=F  -0.000090  3.845369    1.591412  0.453250\n",
              "GC=F  -0.002583  1.591412  214.034396  4.783421\n",
              "KC=F  -0.000328  0.453250    4.783421  9.291194"
            ]
          },
          "metadata": {},
          "execution_count": 17
        }
      ],
      "source": [
        "Sig_est"
      ]
    },
    {
      "cell_type": "markdown",
      "id": "68ba4814",
      "metadata": {
        "id": "68ba4814"
      },
      "source": [
        "Note however that this matrix has large and small numbers along the diagonal. This makes it likely ill-conditioned.  Let's check.  Recall that if we take the base ten log of this, it's roughly how many decimal point of accuracy we lose when numerically computing with it."
      ]
    },
    {
      "cell_type": "code",
      "execution_count": null,
      "id": "892ec7e1",
      "metadata": {
        "colab": {
          "base_uri": "https://localhost:8080/"
        },
        "id": "892ec7e1",
        "outputId": "435be9c6-81ce-484b-a922-059c6686fe0b"
      },
      "outputs": [
        {
          "output_type": "execute_result",
          "data": {
            "text/plain": [
              "(6630885.648126278, 6.8215715384208355)"
            ]
          },
          "metadata": {},
          "execution_count": 18
        }
      ],
      "source": [
        "np.linalg.cond(Sig_est), np.log10(np.linalg.cond(Sig_est))"
      ]
    },
    {
      "cell_type": "markdown",
      "id": "4d86e73a",
      "metadata": {
        "id": "4d86e73a"
      },
      "source": [
        "What can we do different?  One approach would be to standardize the variables first, and then calculate the correlation matrix.   Let's try that."
      ]
    },
    {
      "cell_type": "code",
      "execution_count": null,
      "id": "b357d0cf",
      "metadata": {
        "id": "b357d0cf"
      },
      "outputs": [],
      "source": [
        "sigs = c_changes.std()\n",
        "\n",
        "c_changes_stand = (c_changes - mean_vector)/sigs"
      ]
    },
    {
      "cell_type": "markdown",
      "id": "162fb5a8",
      "metadata": {
        "id": "162fb5a8"
      },
      "source": [
        "The covariance of this matrix and it's correlation matrix will be the same"
      ]
    },
    {
      "cell_type": "code",
      "execution_count": null,
      "id": "c8667069",
      "metadata": {
        "colab": {
          "base_uri": "https://localhost:8080/"
        },
        "id": "c8667069",
        "outputId": "e2cdde2c-03fc-4902-a761-f83a0669ec93"
      },
      "outputs": [
        {
          "output_type": "execute_result",
          "data": {
            "text/plain": [
              "(          CAD=X      CL=F      GC=F      KC=F\n",
              " CAD=X  1.000000 -0.008080 -0.031042 -0.018951\n",
              " CL=F  -0.008080  1.000000  0.055472  0.075829\n",
              " GC=F  -0.031042  0.055472  1.000000  0.107266\n",
              " KC=F  -0.018951  0.075829  0.107266  1.000000,\n",
              "           CAD=X      CL=F      GC=F      KC=F\n",
              " CAD=X  1.000000 -0.008080 -0.031042 -0.018951\n",
              " CL=F  -0.008080  1.000000  0.055472  0.075829\n",
              " GC=F  -0.031042  0.055472  1.000000  0.107266\n",
              " KC=F  -0.018951  0.075829  0.107266  1.000000)"
            ]
          },
          "metadata": {},
          "execution_count": 20
        }
      ],
      "source": [
        "corr_est = c_changes_stand.corr()\n",
        "\n",
        "c_changes_stand.cov() , corr_est"
      ]
    },
    {
      "cell_type": "markdown",
      "id": "4cc4fcf7",
      "metadata": {
        "id": "4cc4fcf7"
      },
      "source": [
        "Did we improve the condition number?\n"
      ]
    },
    {
      "cell_type": "code",
      "execution_count": null,
      "id": "fed3a9b9",
      "metadata": {
        "colab": {
          "base_uri": "https://localhost:8080/"
        },
        "id": "fed3a9b9",
        "outputId": "296b4be7-6790-475e-de27-a05ddee3ae9e"
      },
      "outputs": [
        {
          "output_type": "execute_result",
          "data": {
            "text/plain": [
              "(1.313482706804488, 0.11842435927753234)"
            ]
          },
          "metadata": {},
          "execution_count": 21
        }
      ],
      "source": [
        "np.linalg.cond(corr_est), np.log10(np.linalg.cond(corr_est))"
      ]
    },
    {
      "cell_type": "markdown",
      "id": "060cfc31",
      "metadata": {
        "id": "060cfc31"
      },
      "source": [
        "For this reason, it is sometimes preferable to standardize before estimating the correlation matrix.  Though, in theory, the result should be the same."
      ]
    },
    {
      "cell_type": "markdown",
      "id": "4d866bde",
      "metadata": {
        "id": "4d866bde"
      },
      "source": [
        "#### Example\n",
        "\n",
        "Let's simplify and just estimate the joint distribution of Gold and Coffee as a bivariate normal."
      ]
    },
    {
      "cell_type": "code",
      "execution_count": null,
      "id": "7436e30a",
      "metadata": {
        "colab": {
          "base_uri": "https://localhost:8080/",
          "height": 455
        },
        "id": "7436e30a",
        "outputId": "27b2c9a7-7a6d-4dc7-fa37-a48433056329"
      },
      "outputs": [
        {
          "output_type": "execute_result",
          "data": {
            "text/html": [
              "\n",
              "  <div id=\"df-5669f0c0-fc91-41e9-bda0-67e9fc83fc20\">\n",
              "    <div class=\"colab-df-container\">\n",
              "      <div>\n",
              "<style scoped>\n",
              "    .dataframe tbody tr th:only-of-type {\n",
              "        vertical-align: middle;\n",
              "    }\n",
              "\n",
              "    .dataframe tbody tr th {\n",
              "        vertical-align: top;\n",
              "    }\n",
              "\n",
              "    .dataframe thead th {\n",
              "        text-align: right;\n",
              "    }\n",
              "</style>\n",
              "<table border=\"1\" class=\"dataframe\">\n",
              "  <thead>\n",
              "    <tr style=\"text-align: right;\">\n",
              "      <th></th>\n",
              "      <th>GC=F</th>\n",
              "      <th>KC=F</th>\n",
              "    </tr>\n",
              "    <tr>\n",
              "      <th>Date</th>\n",
              "      <th></th>\n",
              "      <th></th>\n",
              "    </tr>\n",
              "  </thead>\n",
              "  <tbody>\n",
              "    <tr>\n",
              "      <th>2012-01-04</th>\n",
              "      <td>12.200073</td>\n",
              "      <td>-0.500000</td>\n",
              "    </tr>\n",
              "    <tr>\n",
              "      <th>2012-01-05</th>\n",
              "      <td>7.500000</td>\n",
              "      <td>-7.149994</td>\n",
              "    </tr>\n",
              "    <tr>\n",
              "      <th>2012-01-06</th>\n",
              "      <td>-3.300049</td>\n",
              "      <td>2.199997</td>\n",
              "    </tr>\n",
              "    <tr>\n",
              "      <th>2012-01-09</th>\n",
              "      <td>-8.599976</td>\n",
              "      <td>0.100006</td>\n",
              "    </tr>\n",
              "    <tr>\n",
              "      <th>2012-01-10</th>\n",
              "      <td>23.500000</td>\n",
              "      <td>4.099991</td>\n",
              "    </tr>\n",
              "    <tr>\n",
              "      <th>...</th>\n",
              "      <td>...</td>\n",
              "      <td>...</td>\n",
              "    </tr>\n",
              "    <tr>\n",
              "      <th>2021-12-23</th>\n",
              "      <td>9.599976</td>\n",
              "      <td>-2.350006</td>\n",
              "    </tr>\n",
              "    <tr>\n",
              "      <th>2021-12-28</th>\n",
              "      <td>2.099976</td>\n",
              "      <td>-1.449997</td>\n",
              "    </tr>\n",
              "    <tr>\n",
              "      <th>2021-12-29</th>\n",
              "      <td>-5.099976</td>\n",
              "      <td>3.299988</td>\n",
              "    </tr>\n",
              "    <tr>\n",
              "      <th>2021-12-30</th>\n",
              "      <td>7.599976</td>\n",
              "      <td>-0.049988</td>\n",
              "    </tr>\n",
              "    <tr>\n",
              "      <th>2021-12-31</th>\n",
              "      <td>14.800049</td>\n",
              "      <td>-2.750000</td>\n",
              "    </tr>\n",
              "  </tbody>\n",
              "</table>\n",
              "<p>2409 rows × 2 columns</p>\n",
              "</div>\n",
              "      <button class=\"colab-df-convert\" onclick=\"convertToInteractive('df-5669f0c0-fc91-41e9-bda0-67e9fc83fc20')\"\n",
              "              title=\"Convert this dataframe to an interactive table.\"\n",
              "              style=\"display:none;\">\n",
              "        \n",
              "  <svg xmlns=\"http://www.w3.org/2000/svg\" height=\"24px\"viewBox=\"0 0 24 24\"\n",
              "       width=\"24px\">\n",
              "    <path d=\"M0 0h24v24H0V0z\" fill=\"none\"/>\n",
              "    <path d=\"M18.56 5.44l.94 2.06.94-2.06 2.06-.94-2.06-.94-.94-2.06-.94 2.06-2.06.94zm-11 1L8.5 8.5l.94-2.06 2.06-.94-2.06-.94L8.5 2.5l-.94 2.06-2.06.94zm10 10l.94 2.06.94-2.06 2.06-.94-2.06-.94-.94-2.06-.94 2.06-2.06.94z\"/><path d=\"M17.41 7.96l-1.37-1.37c-.4-.4-.92-.59-1.43-.59-.52 0-1.04.2-1.43.59L10.3 9.45l-7.72 7.72c-.78.78-.78 2.05 0 2.83L4 21.41c.39.39.9.59 1.41.59.51 0 1.02-.2 1.41-.59l7.78-7.78 2.81-2.81c.8-.78.8-2.07 0-2.86zM5.41 20L4 18.59l7.72-7.72 1.47 1.35L5.41 20z\"/>\n",
              "  </svg>\n",
              "      </button>\n",
              "      \n",
              "  <style>\n",
              "    .colab-df-container {\n",
              "      display:flex;\n",
              "      flex-wrap:wrap;\n",
              "      gap: 12px;\n",
              "    }\n",
              "\n",
              "    .colab-df-convert {\n",
              "      background-color: #E8F0FE;\n",
              "      border: none;\n",
              "      border-radius: 50%;\n",
              "      cursor: pointer;\n",
              "      display: none;\n",
              "      fill: #1967D2;\n",
              "      height: 32px;\n",
              "      padding: 0 0 0 0;\n",
              "      width: 32px;\n",
              "    }\n",
              "\n",
              "    .colab-df-convert:hover {\n",
              "      background-color: #E2EBFA;\n",
              "      box-shadow: 0px 1px 2px rgba(60, 64, 67, 0.3), 0px 1px 3px 1px rgba(60, 64, 67, 0.15);\n",
              "      fill: #174EA6;\n",
              "    }\n",
              "\n",
              "    [theme=dark] .colab-df-convert {\n",
              "      background-color: #3B4455;\n",
              "      fill: #D2E3FC;\n",
              "    }\n",
              "\n",
              "    [theme=dark] .colab-df-convert:hover {\n",
              "      background-color: #434B5C;\n",
              "      box-shadow: 0px 1px 3px 1px rgba(0, 0, 0, 0.15);\n",
              "      filter: drop-shadow(0px 1px 2px rgba(0, 0, 0, 0.3));\n",
              "      fill: #FFFFFF;\n",
              "    }\n",
              "  </style>\n",
              "\n",
              "      <script>\n",
              "        const buttonEl =\n",
              "          document.querySelector('#df-5669f0c0-fc91-41e9-bda0-67e9fc83fc20 button.colab-df-convert');\n",
              "        buttonEl.style.display =\n",
              "          google.colab.kernel.accessAllowed ? 'block' : 'none';\n",
              "\n",
              "        async function convertToInteractive(key) {\n",
              "          const element = document.querySelector('#df-5669f0c0-fc91-41e9-bda0-67e9fc83fc20');\n",
              "          const dataTable =\n",
              "            await google.colab.kernel.invokeFunction('convertToInteractive',\n",
              "                                                     [key], {});\n",
              "          if (!dataTable) return;\n",
              "\n",
              "          const docLinkHtml = 'Like what you see? Visit the ' +\n",
              "            '<a target=\"_blank\" href=https://colab.research.google.com/notebooks/data_table.ipynb>data table notebook</a>'\n",
              "            + ' to learn more about interactive tables.';\n",
              "          element.innerHTML = '';\n",
              "          dataTable['output_type'] = 'display_data';\n",
              "          await google.colab.output.renderOutput(dataTable, element);\n",
              "          const docLink = document.createElement('div');\n",
              "          docLink.innerHTML = docLinkHtml;\n",
              "          element.appendChild(docLink);\n",
              "        }\n",
              "      </script>\n",
              "    </div>\n",
              "  </div>\n",
              "  "
            ],
            "text/plain": [
              "                 GC=F      KC=F\n",
              "Date                           \n",
              "2012-01-04  12.200073 -0.500000\n",
              "2012-01-05   7.500000 -7.149994\n",
              "2012-01-06  -3.300049  2.199997\n",
              "2012-01-09  -8.599976  0.100006\n",
              "2012-01-10  23.500000  4.099991\n",
              "...               ...       ...\n",
              "2021-12-23   9.599976 -2.350006\n",
              "2021-12-28   2.099976 -1.449997\n",
              "2021-12-29  -5.099976  3.299988\n",
              "2021-12-30   7.599976 -0.049988\n",
              "2021-12-31  14.800049 -2.750000\n",
              "\n",
              "[2409 rows x 2 columns]"
            ]
          },
          "metadata": {},
          "execution_count": 22
        }
      ],
      "source": [
        "GCdata = c_changes.iloc[:,2:4]\n",
        "GCdata"
      ]
    },
    {
      "cell_type": "markdown",
      "id": "3722c99d",
      "metadata": {
        "id": "3722c99d"
      },
      "source": [
        "For our parameters estimates, we will want to find\n",
        "\n",
        "1. The sample means\n",
        "2. The standard deviations\n",
        "3. The correlations.\n",
        "\n"
      ]
    },
    {
      "cell_type": "code",
      "execution_count": null,
      "id": "2176d680",
      "metadata": {
        "colab": {
          "base_uri": "https://localhost:8080/"
        },
        "id": "2176d680",
        "outputId": "11912ea9-796b-4ccd-bcc2-84cd2375516e"
      },
      "outputs": [
        {
          "output_type": "stream",
          "name": "stdout",
          "text": [
            "Estimated means are  GC=F    0.067497\n",
            "KC=F    0.019323\n",
            "dtype: float64\n",
            "Estimated sigmas are  GC=F    14.629914\n",
            "KC=F     3.048146\n",
            "dtype: float64\n",
            "Estimtated correlation is            GC=F      KC=F\n",
            "GC=F  1.000000  0.107266\n",
            "KC=F  0.107266  1.000000\n"
          ]
        }
      ],
      "source": [
        "means = GCdata.mean()\n",
        "stds = GCdata.std()\n",
        "corr = GCdata.corr()\n",
        "\n",
        "print(\"Estimated means are \", means )\n",
        "print(\"Estimated sigmas are \", stds)\n",
        "print(\"Estimtated correlation is \", corr)"
      ]
    },
    {
      "cell_type": "markdown",
      "id": "ced35203",
      "metadata": {
        "id": "ced35203"
      },
      "source": [
        "Now, let's bootstrap to understand the uncertianty around our estimates.   We can't use np.random.choice because that is for one-dimensional arrays. However, pandas has a sample method that will suit us just fine."
      ]
    },
    {
      "cell_type": "code",
      "execution_count": null,
      "id": "e9a882dc",
      "metadata": {
        "id": "e9a882dc"
      },
      "outputs": [],
      "source": [
        "M = 1000\n",
        "\n",
        "bs_means = np.zeros([M,2])\n",
        "\n",
        "bs_stds = np.zeros([M,2])\n",
        "\n",
        "bs_corrs = np.zeros(M)  # since there is only one correlation here\n",
        "\n",
        "for k in range(M):\n",
        "    \n",
        "    bsdata = GCdata.sample(n = len(GCdata),  replace = True)\n",
        "                           \n",
        "    bs_means[k,:] = bsdata.mean()\n",
        "    bs_stds[k,:]= bsdata.std()\n",
        "    bs_corrs[k] = bsdata.corr().iloc[1,0]                       \n",
        "                           \n",
        "\n",
        "\n",
        "\n"
      ]
    },
    {
      "cell_type": "markdown",
      "id": "6bad864d",
      "metadata": {
        "id": "6bad864d"
      },
      "source": [
        "Now let's take a look.  First at our mean estimates."
      ]
    },
    {
      "cell_type": "code",
      "execution_count": null,
      "id": "6b44fbe9",
      "metadata": {
        "colab": {
          "base_uri": "https://localhost:8080/",
          "height": 607
        },
        "id": "6b44fbe9",
        "outputId": "cc029b85-ede2-4872-89a0-50463292f7ad"
      },
      "outputs": [
        {
          "output_type": "display_data",
          "data": {
            "image/png": "[encoded data removed]",
            "text/plain": [
              "<Figure size 1080x720 with 1 Axes>"
            ]
          },
          "metadata": {
            "needs_background": "light"
          }
        }
      ],
      "source": [
        "plt.figure(figsize = (15,10))\n",
        "\n",
        "plt.boxplot(bs_means, labels = [\"Gold\", \"Coffee\"])\n",
        "\n",
        "\n",
        "plt.title(\"Box plot of bootstrapped mean estimates\")\n",
        "\n",
        "plt.show()"
      ]
    },
    {
      "cell_type": "markdown",
      "id": "06fefaa6",
      "metadata": {
        "id": "06fefaa6"
      },
      "source": [
        "And for our standard Deviations"
      ]
    },
    {
      "cell_type": "code",
      "execution_count": null,
      "id": "185deeb7",
      "metadata": {
        "colab": {
          "base_uri": "https://localhost:8080/",
          "height": 607
        },
        "id": "185deeb7",
        "outputId": "da5b80bb-8cf6-4756-e004-9b12cffa2fac"
      },
      "outputs": [
        {
          "output_type": "display_data",
          "data": {
            "image/png": "[encoded data removed]",
            "text/plain": [
              "<Figure size 1080x720 with 1 Axes>"
            ]
          },
          "metadata": {
            "needs_background": "light"
          }
        }
      ],
      "source": [
        "plt.figure(figsize = (15,10))\n",
        "\n",
        "plt.boxplot(bs_stds, labels = [\"Gold\", \"Coffee\"])\n",
        "\n",
        "\n",
        "plt.title(\"Box plot of bootstrapped standard deviation estimates\")\n",
        "\n",
        "plt.show()"
      ]
    },
    {
      "cell_type": "markdown",
      "id": "133f6651",
      "metadata": {
        "id": "133f6651"
      },
      "source": [
        "And now the correlations."
      ]
    },
    {
      "cell_type": "code",
      "execution_count": null,
      "id": "0cd56d1b",
      "metadata": {
        "colab": {
          "base_uri": "https://localhost:8080/",
          "height": 607
        },
        "id": "0cd56d1b",
        "outputId": "6742638b-5371-4a64-da09-809a95415356"
      },
      "outputs": [
        {
          "output_type": "display_data",
          "data": {
            "image/png": "[encoded data removed]",
            "text/plain": [
              "<Figure size 1080x720 with 1 Axes>"
            ]
          },
          "metadata": {
            "needs_background": "light"
          }
        }
      ],
      "source": [
        "plt.figure(figsize = (15,10))\n",
        "\n",
        "plt.boxplot(bs_corrs, labels = [\"Correlation\"] )\n",
        "\n",
        "\n",
        "plt.title(\"Box Plot of Bootstrapped correlations\")\n",
        "\n",
        "plt.show()"
      ]
    },
    {
      "cell_type": "markdown",
      "id": "0d87afce",
      "metadata": {
        "id": "0d87afce"
      },
      "source": [
        "Note that the ranges indicatedd in the box-plots are not confidence intervals. Instead, we would use the basic bootrap confidence interval.  However, the length of the intervals would be the same."
      ]
    },
    {
      "cell_type": "markdown",
      "id": "ea5e37ed",
      "metadata": {
        "id": "ea5e37ed"
      },
      "source": [
        "## Multivariate Student T\n",
        "\n",
        "The normal disribution is tractable, but suffers (as we have seen) from having tails that are generally much \"thinner\" than commonly seen in financial data.  Just like with univariate distributions, the student T provides us with a nice generalization of the multivariate normal.  \n",
        "\n",
        "Recall that the univariate student T is obtained as a continous mixture distribution of normal random variables. In the base case, if we have $\\nu$ degrees freedom, the standard T random variable is \n",
        "\n",
        "$$X = \\sqrt{\\frac{\\nu}{W_{\\nu}}}Z$$\n",
        "\n",
        "where $ Z \\sim \\mathcal{N}(0,1)$ and $W_{\\nu} \\sim \\chi^2_{\\nu}$ ($W_{\\nu}$ and $Z$ are indepdenant).\n",
        "\n",
        "By shifting and scaling $Z$, we obtain the 3 parameter family of univariate student t distributions.\n",
        "\n",
        "Recall the PDF for the standard case is\n",
        "\n",
        "$$f_X(x) = \\frac{\\Gamma\\left(\\frac{\\nu +1}{2}\\right)}{\\sqrt{\\nu \\pi} \\Gamma\\left(\\frac{\\nu}{2}\\right)}\\left(   1+ \\frac{x^2}{\\nu}\\right)^{-\\frac{\\nu +1}{2}}$$\n",
        "\n",
        "If we shift and scale, this becomes\n",
        "\n",
        "\n",
        "$$f_X(x) = \\frac{\\Gamma\\left(\\frac{\\nu +1}{2}\\right)}{\\sqrt{\\nu \\pi} \\Gamma\\left(\\frac{\\nu}{2}\\right) \\sigma}\\left(   1+ \\frac{y(x)^2}{\\nu}\\right)^{-\\frac{\\nu +1}{2}}$$\n",
        "\n",
        "where\n",
        "\n",
        "$$y(x) = \\frac{x - \\mu}{\\sigma}$$\n",
        "\n",
        "\n",
        "\n"
      ]
    },
    {
      "cell_type": "markdown",
      "id": "eed348c5",
      "metadata": {
        "id": "eed348c5"
      },
      "source": [
        "#### Multivarariate T distribution, Base case\n",
        "\n",
        "We define this as vector valued RV as\n",
        "\n",
        "$$\\mathbf{X} = \\sqrt{\\frac{\\nu}{W_{\\nu}}}\\mathbf{Z}$$\n",
        "\n",
        "where $Z$ is the n-dimensional standard multivariate normal distribution.\n",
        "\n",
        "The PDF here relates to the univariate PDF is a simlar manner as the normal does. We replace the $x^2$ with a quadratic form and making appropriate changes to the constant on the outside.    That is,\n",
        "\n",
        "$$f_{\\mathbf{X}}(\\mathbf{x}) = \\frac{\\Gamma\\left(\\frac{\\nu +n}{2}\\right)}{(\\nu \\pi)^{\\frac{n}{2}} \\Gamma\\left(\\frac{\\nu}{2}\\right)}\\left(   1+ \\frac{\\mathbf{x}^T\\mathbf{x}}{\\nu}\\right)^{-\\frac{\\nu +n}{2}}    $$\n",
        "\n",
        "Note here that $\\mathbf{x}^T\\mathbf{x} = \\mathbf{x}^TI_n\\mathbf{x}$ which makes sense this the covariance matrix for the multivariate standard normal is the idendity matrix.\n"
      ]
    },
    {
      "cell_type": "markdown",
      "id": "178b01b8",
      "metadata": {
        "id": "178b01b8"
      },
      "source": [
        "#### Multivarariate T distribution, General case\n",
        "\n",
        "\n",
        "So the translation of this if not just a matter if shifting and scaling, because we also need to pick the correlation structure.   We set the \"scales\" to $\\mathbf{v} = (v_1, v_2,...,v_n)^T$, the shifts to be $\\mathbf{\\mu}$, and the correlation matrix to be $C$.  Then taking $\\Sigma = \\mathrm{diag}{\\mathbf{v} }^TC\\mathrm{diag}{\\mathbf{v} }$ and PDF is\n",
        "\n",
        "\n",
        "$$f_{\\mathbf{X}}(\\mathbf{x}) = \\frac{\\Gamma\\left(\\frac{\\nu +n}{2}\\right)}{(\\nu \\pi \\det(\\Sigma))^{\\frac{n}{2}} \\Gamma\\left(\\frac{\\nu}{2}\\right  )}\\left(   1+ \\frac{(\\mathbf{x-\\mu})^T\\Sigma(\\mathbf{x-\\mu})}{\\nu}\\right)^{-\\frac{\\nu +n}{2}}    $$\n",
        "\n",
        "\n",
        "Again, fortunately for us, we don't need to code this, since scipy stats as a module multivariate_t.\n",
        "\n",
        "\n",
        "\n",
        "\n"
      ]
    },
    {
      "cell_type": "markdown",
      "id": "1dd27277",
      "metadata": {
        "id": "1dd27277"
      },
      "source": [
        "### Correlation and Tail Dependence\n",
        "\n",
        "The variance of a univarate T distribution is $\\frac{\\nu}{\\nu-2} s^2$ where $s^2$ is variance of the related normal distribution.\n",
        "\n",
        "Similarly, the covariance of the multivariate T is given by\n",
        "\n",
        "$$\\mathrm{Cov}(\\mathbf{X}) = \\frac{\\nu}{\\nu-2}\\Sigma$$\n",
        "\n",
        "This means in particular that the correlation matrix is the same as the correlation the corresponding normal distribution.  \n",
        "\n",
        "However, unlike the multivariate normal distribution, this does not mean that the variables are indepdendent.  In general they are not.   In particular, if the draw from the $\\chi_{\\nu}^2$ distribution is \"small\", then all of the components of $\\mathrm{X}$ will be large even if the corresponding draws from the normal distribution are independent.  In short, large values for $X_k$ tend happen when there are large values of $X_j ( j\\neq k)$.\n",
        "\n",
        "This is called tail dependence.\n",
        "\n",
        "\n",
        "One implication of this is that the components of a multi-variable T distribution can be uncorrelated, but they are nevertheless **not** independent.\n",
        "\n",
        "It is worth noting as well that tail-depdendence is commonly seen in financial data, and this gives further support for the suitability of using the multivariate T beyond simply wanting kurtosis in the marginals."
      ]
    },
    {
      "cell_type": "markdown",
      "id": "8c8cd059",
      "metadata": {
        "id": "8c8cd059"
      },
      "source": [
        "### Parameter Estimation\n",
        "\n",
        "Ideally, we would do an MLE estimation. But, as it turns out, this is not an immediately easy thing to do.  In the text, this is done in R two ways.\n",
        "\n",
        "1. The function cov.trob in the MASS package estimates the MLE for the $\\Sigma$ and $\\mathbf{\\mu}$ given a fixed value of $\\nu$.   For each value of $\\nu$, the log-liklihood can be directly computed. Then $\\nu$ is search to maximize this value.\n",
        "\n",
        "2. When estimating for the skewed t (see next section), the function mst.mple() from the sn package  does the optimization over all the parameters.  \n",
        "\n",
        "\n",
        "In python, I did not find such a package. Though, I may not have looked hard enough.  However, there are some potential work-arounds:\n",
        "\n",
        "1. Just us R.  There are many packages that appear to do this. However, the documentation is a bit lacking (IMO).\n",
        "2. Use scipy.stats.multivariate_t.logpdf to calculate the relvant liklihoods given the paramets, and optimize (this can be tricky, just attempting to use scipy.optimize won't likely work well).\n",
        "3. Implement the relatively robust EM approach in python (no doubt, someone has already done this).\n",
        "\n",
        "\n",
        "For now, due to time, I will simply state that an MLE (numerically) is possible, and I will follow up with video on this exact topic."
      ]
    },
    {
      "cell_type": "markdown",
      "id": "99e4df59",
      "metadata": {
        "id": "99e4df59"
      },
      "source": [
        "#### Example\n",
        "\n",
        "We will fit our previous example using work-around 1."
      ]
    },
    {
      "cell_type": "code",
      "execution_count": null,
      "id": "a1aa0bc2",
      "metadata": {
        "id": "a1aa0bc2"
      },
      "outputs": [],
      "source": [
        "import rpy2.rinterface\n",
        "\n",
        "\n",
        "%load_ext rpy2.ipython"
      ]
    },
    {
      "cell_type": "code",
      "execution_count": null,
      "id": "da5ec1d7",
      "metadata": {
        "colab": {
          "base_uri": "https://localhost:8080/"
        },
        "id": "da5ec1d7",
        "outputId": "e56a39f6-93d8-4098-dc5c-be55c162637d"
      },
      "outputs": [
        {
          "output_type": "stream",
          "name": "stderr",
          "text": [
            "R[write to console]: ── Attaching packages ─────────────────────────────────────── tidyverse 1.3.1 ──\n",
            "\n",
            "R[write to console]: ✔ ggplot2 3.3.5     ✔ purrr   0.3.4\n",
            "✔ tibble  3.1.6     ✔ dplyr   1.0.7\n",
            "✔ tidyr   1.1.4     ✔ stringr 1.4.0\n",
            "✔ readr   2.1.1     ✔ forcats 0.5.1\n",
            "\n",
            "R[write to console]: ── Conflicts ────────────────────────────────────────── tidyverse_conflicts() ──\n",
            "✖ dplyr::filter() masks stats::filter()\n",
            "✖ dplyr::lag()    masks stats::lag()\n",
            "\n"
          ]
        },
        {
          "output_type": "stream",
          "name": "stdout",
          "text": [
            "      GC=F                KC=F          \n",
            " Min.   :-140.4000   Min.   :-16.95000  \n",
            " 1st Qu.:  -6.2000   1st Qu.: -1.55000  \n",
            " Median :   0.1999   Median :  0.00000  \n",
            " Mean   :   0.0675   Mean   :  0.01932  \n",
            " 3rd Qu.:   7.1000   3rd Qu.:  1.55000  \n",
            " Max.   :  93.2000   Max.   : 19.10001  \n"
          ]
        }
      ],
      "source": [
        "%%R -i GCdata\n",
        "\n",
        "library(tidyverse)\n",
        "\n",
        "summary(GCdata)      \n",
        "    \n",
        "    \n"
      ]
    },
    {
      "cell_type": "markdown",
      "id": "cd1d502c",
      "metadata": {
        "id": "cd1d502c"
      },
      "source": [
        "We will use the package fitHeavyTail"
      ]
    },
    {
      "cell_type": "code",
      "execution_count": null,
      "id": "24c38a17",
      "metadata": {
        "id": "24c38a17"
      },
      "outputs": [],
      "source": [
        "%%R\n",
        "\n",
        "\n",
        "install.packages(\"fitHeavyTail\")\n",
        "\n",
        "\n"
      ]
    },
    {
      "cell_type": "code",
      "source": [
        "%%R\n",
        "\n",
        "library(fitHeavyTail)\n",
        "\n",
        "help(fit_mvt)"
      ],
      "metadata": {
        "colab": {
          "base_uri": "https://localhost:8080/"
        },
        "id": "va4QkeOhmGyU",
        "outputId": "039f36ec-dac0-4ab1-a4fc-649b7dc31eec"
      },
      "id": "va4QkeOhmGyU",
      "execution_count": null,
      "outputs": [
        {
          "output_type": "stream",
          "name": "stdout",
          "text": [
            "File: /tmp/Rtmpfn1sc0/Rtxtb017b8a2c\n",
            "fit_mvt              package:fitHeavyTail              R Documentation\n",
            "\n",
            "\n",
            "\n",
            "_\bE_\bs_\bt_\bi_\bm_\ba_\bt_\be _\bp_\ba_\br_\ba_\bm_\be_\bt_\be_\br_\bs _\bo_\bf _\ba _\bm_\bu_\bl_\bt_\bi_\bv_\ba_\br_\bi_\ba_\bt_\be _\bS_\bt_\bu_\bd_\be_\bn_\bt'_\bs _\bt _\bd_\bi_\bs_\bt_\br_\bi_\bb_\bu_\bt_\bi_\bo_\bn _\bt_\bo _\bf_\bi_\bt\n",
            "\n",
            "_\bd_\ba_\bt_\ba\n",
            "\n",
            "\n",
            "\n",
            "_\bD_\be_\bs_\bc_\br_\bi_\bp_\bt_\bi_\bo_\bn:\n",
            "\n",
            "\n",
            "\n",
            "     Estimate parameters of a multivariate Student's t distribution to\n",
            "\n",
            "     fit data, namely, the mean vector, the covariance matrix, the\n",
            "\n",
            "     scatter matrix, and the degrees of freedom. The data can contain\n",
            "\n",
            "     missing values denoted by NAs. It can also consider a factor model\n",
            "\n",
            "     structure on the covariance matrix. The estimation is based on the\n",
            "\n",
            "     maximum likelihood estimation (MLE) and the algorithm is obtained\n",
            "\n",
            "     from the expectation-maximization (EM) method.\n",
            "\n",
            "\n",
            "\n",
            "_\bU_\bs_\ba_\bg_\be:\n",
            "\n",
            "\n",
            "\n",
            "     fit_mvt(\n",
            "\n",
            "       X,\n",
            "\n",
            "       na_rm = TRUE,\n",
            "\n",
            "       nu = c(\"kurtosis\", \"MLE-diag\", \"MLE-diag-resampled\", \"iterative\"),\n",
            "\n",
            "       nu_iterative_method = c(\"ECME-diag\", \"ECME\", \"ECM\", \"ECME-cov\"),\n",
            "\n",
            "       initial = NULL,\n",
            "\n",
            "       factors = ncol(X),\n",
            "\n",
            "       max_iter = 100,\n",
            "\n",
            "       ptol = 0.001,\n",
            "\n",
            "       ftol = Inf,\n",
            "\n",
            "       return_iterates = FALSE,\n",
            "\n",
            "       verbose = FALSE\n",
            "\n",
            "     )\n",
            "\n",
            "     \n",
            "\n",
            "_\bA_\br_\bg_\bu_\bm_\be_\bn_\bt_\bs:\n",
            "\n",
            "\n",
            "\n",
            "       X: Data matrix containing the multivariate time series (each\n",
            "\n",
            "          column is one time series).\n",
            "\n",
            "\n",
            "\n",
            "   na_rm: Logical value indicating whether to remove observations with\n",
            "\n",
            "          some NAs (default) or not, in which case they will be imputed\n",
            "\n",
            "          at a higher computational cost.\n",
            "\n",
            "\n",
            "\n",
            "      nu: Degrees of freedom of the t distribution. Either a number\n",
            "\n",
            "          (‘>2’) or a string indicating the method to compute it:\n",
            "\n",
            "\n",
            "\n",
            "            • ‘\"kurtosis\"’: based on the kurtosis obtained from the\n",
            "\n",
            "              sampled moments;\n",
            "\n",
            "\n",
            "\n",
            "            • ‘\"MLE-diag\"’: based on the MLE assuming a diagonal sample\n",
            "\n",
            "              covariance;\n",
            "\n",
            "\n",
            "\n",
            "            • ‘\"MLE-diag-resampled\"’: method \"MLE-diag\" resampled for\n",
            "\n",
            "              better stability;\n",
            "\n",
            "\n",
            "\n",
            "            • ‘\"iterative\"’: iterative estimation with the rest of the\n",
            "\n",
            "              parameters via the EM algorithm.\n",
            "\n",
            "\n",
            "\n",
            "nu_iterative_method: String indicating the method for iteratively\n",
            "\n",
            "          estimating ‘nu’ (in case ‘nu = \"iterative\"’):\n",
            "\n",
            "\n",
            "\n",
            "            • ‘\"ECM\"’: maximization of the Q function;\n",
            "\n",
            "\n",
            "\n",
            "            • ‘\"ECME\"’: maximization of the log-likelihood function;\n",
            "\n",
            "\n",
            "\n",
            "            • ‘\"ECME-diag\"’: maximization of the log-likelihood\n",
            "\n",
            "              function assuming a digonal scatter matrix (default\n",
            "\n",
            "              method).\n",
            "\n",
            "\n",
            "\n",
            "          This argument is used only when there are no NAs in the data\n",
            "\n",
            "          and no factor model is chosen.\n",
            "\n",
            "\n",
            "\n",
            " initial: List of initial values of the parameters for the iterative EM\n",
            "\n",
            "          estimation method (in case ‘nu = \"iterative\"’). Possible\n",
            "\n",
            "          elements include:\n",
            "\n",
            "\n",
            "\n",
            "            • ‘mu’: default is the data sample mean,\n",
            "\n",
            "\n",
            "\n",
            "            • ‘cov’: default is the data sample covariance matrix,\n",
            "\n",
            "\n",
            "\n",
            "            • ‘scatter’: default follows from the scaled sample\n",
            "\n",
            "              covariance matrix,\n",
            "\n",
            "\n",
            "\n",
            "            • ‘nu’: can take the same values as argument ‘nu’, default\n",
            "\n",
            "              is ‘4’,\n",
            "\n",
            "\n",
            "\n",
            "            • ‘B’: default is the top eigenvectors of ‘initial$cov’\n",
            "\n",
            "              multiplied by the sqrt of the eigenvalues,\n",
            "\n",
            "\n",
            "\n",
            "            • ‘psi’: default is ‘diag(initial$cov - initial$B %*%\n",
            "\n",
            "              t(initial$B)).’\n",
            "\n",
            "\n",
            "\n",
            " factors: Integer indicating number of factors (default is ‘ncol(X)’,\n",
            "\n",
            "          so no factor model assumption).\n",
            "\n",
            "\n",
            "\n",
            "max_iter: Integer indicating the maximum number of iterations for the\n",
            "\n",
            "          iterative estimation method (default is ‘100’).\n",
            "\n",
            "\n",
            "\n",
            "    ptol: Positive number indicating the relative tolerance for the\n",
            "\n",
            "          change of the variables to determine convergence of the\n",
            "\n",
            "          iterative method (default is ‘1e-3’).\n",
            "\n",
            "\n",
            "\n",
            "    ftol: Positive number indicating the relative tolerance for the\n",
            "\n",
            "          change of the log-likelihood value to determine convergence\n",
            "\n",
            "          of the iterative method (default is ‘Inf’, so it is not\n",
            "\n",
            "          active). Note that using this argument might have a\n",
            "\n",
            "          computational cost as a convergence criterion due to the\n",
            "\n",
            "          computation of the log-likelihood (especially when ‘X’ is\n",
            "\n",
            "          high-dimensional).\n",
            "\n",
            "\n",
            "\n",
            "return_iterates: Logical value indicating whether to record the values\n",
            "\n",
            "          of the parameters (and possibly the log-likelihood if ‘ftol <\n",
            "\n",
            "          Inf’) at each iteration (default is ‘FALSE’).\n",
            "\n",
            "\n",
            "\n",
            " verbose: Logical value indicating whether to allow the function to\n",
            "\n",
            "          print messages (default is ‘FALSE’).\n",
            "\n",
            "\n",
            "\n",
            "_\bD_\be_\bt_\ba_\bi_\bl_\bs:\n",
            "\n",
            "\n",
            "\n",
            "     This function estimates the parameters of a multivariate Student's\n",
            "\n",
            "     t distribution (‘mu’, ‘cov’, ‘scatter’, and ‘nu’) to fit the data\n",
            "\n",
            "     via the expectation–maximization (EM) algorithm.  The data matrix\n",
            "\n",
            "     ‘X’ can contain missing values denoted by NAs.  The estimation of\n",
            "\n",
            "     ‘nu’ if very flexible: it can be directly passed as an argument\n",
            "\n",
            "     (without being estimated), it can be estimated with several\n",
            "\n",
            "     one-shot methods (namely, ‘\"kurtosis\"’, ‘\"MLE-diag\"’,\n",
            "\n",
            "     ‘\"MLE-diag-resampled\"’), and it can also be iteratively estimated\n",
            "\n",
            "     with the other parameters via the EM algorithm.\n",
            "\n",
            "\n",
            "\n",
            "_\bV_\ba_\bl_\bu_\be:\n",
            "\n",
            "\n",
            "\n",
            "     A list containing possibly the following elements:\n",
            "\n",
            "\n",
            "\n",
            "    ‘mu’: Mean vector estimate.\n",
            "\n",
            "\n",
            "\n",
            "   ‘cov’: Covariance matrix estimate.\n",
            "\n",
            "\n",
            "\n",
            "‘scatter’: Scatter matrix estimate.\n",
            "\n",
            "\n",
            "\n",
            "    ‘nu’: Degrees of freedom estimate.\n",
            "\n",
            "\n",
            "\n",
            "‘converged’: Boolean denoting whether the algorithm has converged\n",
            "\n",
            "          (‘TRUE’) or the maximum number of iterations ‘max_iter’ has\n",
            "\n",
            "          been reached (‘FALSE’).\n",
            "\n",
            "\n",
            "\n",
            "‘num_iterations’: Number of iterations executed.\n",
            "\n",
            "\n",
            "\n",
            "‘cpu_time’: Elapsed CPU time.\n",
            "\n",
            "\n",
            "\n",
            "     ‘B’: Factor model loading matrix estimate according to ‘cov = (B\n",
            "\n",
            "          %*% t(B) + diag(psi)’ (only if factor model requested).\n",
            "\n",
            "\n",
            "\n",
            "   ‘psi’: Factor model idiosynchratic variances estimates according to\n",
            "\n",
            "          ‘cov = (B %*% t(B) + diag(psi)’ (only if factor model\n",
            "\n",
            "          requested).\n",
            "\n",
            "\n",
            "\n",
            "‘log_likelihood’: Value of log-likelihood after converge of the\n",
            "\n",
            "          estimation algorithm (if ‘ftol < Inf’).\n",
            "\n",
            "\n",
            "\n",
            "‘iterates_record’: Iterates of the parameters (‘mu’, ‘scatter’, ‘nu’,\n",
            "\n",
            "          and possibly ‘log_likelihood’ (if ‘ftol < Inf’)) along the\n",
            "\n",
            "          iterations (if ‘return_iterates = TRUE’).\n",
            "\n",
            "\n",
            "\n",
            "_\bA_\bu_\bt_\bh_\bo_\br(_\bs):\n",
            "\n",
            "\n",
            "\n",
            "     Daniel P. Palomar and Rui Zhou\n",
            "\n",
            "\n",
            "\n",
            "_\bR_\be_\bf_\be_\br_\be_\bn_\bc_\be_\bs:\n",
            "\n",
            "\n",
            "\n",
            "     Chuanhai Liu and Donald B. Rubin, “ML estimation of the\n",
            "\n",
            "     t-distribution using EM and its extensions, ECM and ECME,”\n",
            "\n",
            "     Statistica Sinica (5), pp. 19-39, 1995.\n",
            "\n",
            "\n",
            "\n",
            "     Rui Zhou, Junyan Liu, Sandeep Kumar, and Daniel P. Palomar,\n",
            "\n",
            "     \"Robust factor analysis parameter estimation,\" Lecture Notes in\n",
            "\n",
            "     Computer Science (LNCS), 2019. <https://arxiv.org/abs/1909.12530>\n",
            "\n",
            "\n",
            "\n",
            "_\bS_\be_\be _\bA_\bl_\bs_\bo:\n",
            "\n",
            "\n",
            "\n",
            "     ‘fit_Tyler’ and ‘fit_Cauchy’\n",
            "\n",
            "\n",
            "\n",
            "_\bE_\bx_\ba_\bm_\bp_\bl_\be_\bs:\n",
            "\n",
            "\n",
            "\n",
            "     library(mvtnorm)       # to generate heavy-tailed data\n",
            "\n",
            "     library(fitHeavyTail)\n",
            "\n",
            "     \n",
            "\n",
            "     X <- rmvt(n = 1000, df = 6)  # generate Student's t data\n",
            "\n",
            "     fit_mvt(X)\n",
            "\n",
            "     \n",
            "\n",
            "---\n"
          ]
        }
      ]
    },
    {
      "cell_type": "code",
      "execution_count": null,
      "id": "27b09119",
      "metadata": {
        "colab": {
          "base_uri": "https://localhost:8080/"
        },
        "id": "27b09119",
        "outputId": "d69441b6-70f8-4800-eeec-6b383d045db8"
      },
      "outputs": [
        {
          "output_type": "stream",
          "name": "stdout",
          "text": [
            "$mu\n",
            "      GC=F       KC=F \n",
            " 0.2712875 -0.0341173 \n",
            "\n",
            "$cov\n",
            "           GC=F     KC=F\n",
            "GC=F 181.497423 4.116951\n",
            "KC=F   4.116951 8.872131\n",
            "\n",
            "$scatter\n",
            "           GC=F     KC=F\n",
            "GC=F 107.168896 2.430939\n",
            "KC=F   2.430939 5.238732\n",
            "\n",
            "$nu\n",
            "[1] 4.883654\n",
            "\n",
            "$converged\n",
            "[1] TRUE\n",
            "\n",
            "$num_iterations\n",
            "[1] 6\n",
            "\n",
            "$cpu_time\n",
            "elapsed \n",
            "  0.025 \n",
            "\n"
          ]
        }
      ],
      "source": [
        "%%R\n",
        "\n",
        "result1 = fit_mvt(GCdata, nu = \"kurtosis\")  # estimates nu via kurtosis and MLE for the rest.\n",
        "\n",
        "result1"
      ]
    },
    {
      "cell_type": "code",
      "execution_count": null,
      "id": "96f7067b",
      "metadata": {
        "colab": {
          "base_uri": "https://localhost:8080/"
        },
        "id": "96f7067b",
        "outputId": "3a6b26ac-18ff-46fe-f81c-afe59eefc545"
      },
      "outputs": [
        {
          "output_type": "stream",
          "name": "stdout",
          "text": [
            "$mu\n",
            "       GC=F        KC=F \n",
            " 0.26326165 -0.03872576 \n",
            "\n",
            "$cov\n",
            "           GC=F      KC=F\n",
            "GC=F 219.294797  4.980262\n",
            "KC=F   4.980262 10.823124\n",
            "\n",
            "$scatter\n",
            "          GC=F     KC=F\n",
            "GC=F 94.813010 2.153237\n",
            "KC=F  2.153237 4.679422\n",
            "\n",
            "$nu\n",
            "[1] 3.523323\n",
            "\n",
            "$converged\n",
            "[1] TRUE\n",
            "\n",
            "$num_iterations\n",
            "[1] 8\n",
            "\n",
            "$cpu_time\n",
            "elapsed \n",
            "  0.028 \n",
            "\n"
          ]
        }
      ],
      "source": [
        "%%R\n",
        "\n",
        "result2 = fit_mvt(GCdata, nu = \"iterative\")  # Uses an iterative approach to esstimate all parameters MLE.\n",
        "\n",
        "result2"
      ]
    },
    {
      "cell_type": "markdown",
      "id": "d1494b49",
      "metadata": {
        "id": "d1494b49"
      },
      "source": [
        "Getting the output back into Python in a useful way wasn't simple, but here is one way"
      ]
    },
    {
      "cell_type": "code",
      "execution_count": null,
      "id": "00a93ddc",
      "metadata": {
        "colab": {
          "base_uri": "https://localhost:8080/"
        },
        "id": "00a93ddc",
        "outputId": "32aa2dcd-cac4-4feb-da4c-bc8c69dc27b6"
      },
      "outputs": [
        {
          "output_type": "execute_result",
          "data": {
            "text/plain": [
              "{'converged': array([1], dtype=int32),\n",
              " 'cov': array([[219.29479668,   4.98026209],\n",
              "        [  4.98026209,  10.8231239 ]]),\n",
              " 'cpu_time': array([0.028]),\n",
              " 'mu': array([ 0.26326165, -0.03872576]),\n",
              " 'nu': array([3.52332341]),\n",
              " 'num_iterations': array([8], dtype=int32),\n",
              " 'scatter': array([[94.81301004,  2.15323686],\n",
              "        [ 2.15323686,  4.67942227]])}"
            ]
          },
          "metadata": {},
          "execution_count": 34
        }
      ],
      "source": [
        "rout = %Rget result2\n",
        "\n",
        "result = {}\n",
        "\n",
        "for k, j in enumerate(rout):\n",
        "    result[rout.names[k]] = np.array(j)\n",
        "\n",
        "\n",
        "result"
      ]
    },
    {
      "cell_type": "markdown",
      "id": "22e14c6d",
      "metadata": {
        "id": "22e14c6d"
      },
      "source": [
        "Notice the MLE means are not the same as the straight means.\n"
      ]
    },
    {
      "cell_type": "code",
      "execution_count": null,
      "id": "6e4f1620",
      "metadata": {
        "colab": {
          "base_uri": "https://localhost:8080/"
        },
        "id": "6e4f1620",
        "outputId": "88fe047d-8358-47d0-d234-bf6f10e7ef42"
      },
      "outputs": [
        {
          "output_type": "execute_result",
          "data": {
            "text/plain": [
              "(GC=F    0.067497\n",
              " KC=F    0.019323\n",
              " dtype: float64, array([ 0.26326165, -0.03872576]))"
            ]
          },
          "metadata": {},
          "execution_count": 35
        }
      ],
      "source": [
        "GCdata.mean(), result['mu']\n",
        "   "
      ]
    },
    {
      "cell_type": "markdown",
      "id": "618d0a61",
      "metadata": {
        "id": "618d0a61"
      },
      "source": [
        "What about the correlation?"
      ]
    },
    {
      "cell_type": "code",
      "execution_count": null,
      "id": "ce6be6de",
      "metadata": {
        "colab": {
          "base_uri": "https://localhost:8080/"
        },
        "id": "ce6be6de",
        "outputId": "4250198c-3bd5-42e2-f0d2-335bc9e287e8"
      },
      "outputs": [
        {
          "output_type": "execute_result",
          "data": {
            "text/plain": [
              "(0.10726573401606324, 0.10222608294706793)"
            ]
          },
          "metadata": {},
          "execution_count": 36
        }
      ],
      "source": [
        "GCdata.corr().iloc[0,1]  ,result['scatter'][0,1]/np.sqrt( result['scatter'][0,0]*result['scatter'][1,1]  )"
      ]
    },
    {
      "cell_type": "markdown",
      "id": "f031bbf0",
      "metadata": {
        "id": "f031bbf0"
      },
      "source": [
        "Those are pretty close.\n",
        "\n",
        "Let's compare the AIC of this fit with the previous multinormal fit."
      ]
    },
    {
      "cell_type": "code",
      "execution_count": null,
      "id": "99cbaf8f",
      "metadata": {
        "colab": {
          "base_uri": "https://localhost:8080/"
        },
        "id": "99cbaf8f",
        "outputId": "53432c97-042c-4a06-917a-4e8ba90f226d"
      },
      "outputs": [
        {
          "output_type": "stream",
          "name": "stdout",
          "text": [
            "31050.51016694517\n"
          ]
        }
      ],
      "source": [
        "p_t = 6\n",
        "AIC_T  = -2*ss.multivariate_t.logpdf(GCdata, loc = result['mu'],shape = result['scatter'], df =result[\"nu\"]).sum() - 2*p_t\n",
        "print(AIC_T)\n",
        "\n"
      ]
    },
    {
      "cell_type": "code",
      "source": [
        "import scipy\n",
        "\n",
        "scipy.__version__"
      ],
      "metadata": {
        "id": "FAENUZALn_Dg"
      },
      "id": "FAENUZALn_Dg",
      "execution_count": null,
      "outputs": []
    },
    {
      "cell_type": "code",
      "execution_count": null,
      "id": "88002156",
      "metadata": {
        "colab": {
          "base_uri": "https://localhost:8080/"
        },
        "id": "88002156",
        "outputId": "4b7c6bb6-cab1-4192-db68-2ac076393ff6"
      },
      "outputs": [
        {
          "output_type": "stream",
          "name": "stdout",
          "text": [
            "31929.85922417644\n"
          ]
        }
      ],
      "source": [
        "p_n = 5\n",
        "\n",
        "AIC_n = -2*ss.multivariate_normal.logpdf(GCdata, mean = GCdata.mean(),cov = GCdata.cov()).sum() - 2*p_n\n",
        "print(AIC_n)"
      ]
    },
    {
      "cell_type": "markdown",
      "id": "2cc449b2",
      "metadata": {
        "id": "2cc449b2"
      },
      "source": [
        "We see under AIC, the multivariate T is preferred (unsurprisingly).\n"
      ]
    },
    {
      "cell_type": "markdown",
      "id": "d777552e",
      "metadata": {
        "id": "d777552e"
      },
      "source": [
        "### Mulivariate Skew  Normal and T\n",
        "\n",
        "For any of the marginal distributions, neither the multivariable skew nor the multivariabe T will exhibit skew.  One can however create skew in the Azzalini and Capatinaio manner.  But here, instead of a single parameter $a$, we need a vector of values $\\mathbf{a} = (a_1,a_2,...a_n)$.  \n",
        "\n",
        "\n",
        "#### Mulivariate Skew  Normal \n",
        "\n",
        "Start with the multivariate standard normal *with correlation* whose PDF is\n",
        "\n",
        "$$f_\\mathbf{X}(\\mathbf{x};C) = \\frac{1}{(2\\pi)^{\\frac{n}{2}} \\sqrt{\\det(C)} }e^{-\\frac{1}{2}\\mathbf{x}^TC^{-1}\\mathbf{x}}$$\n",
        "\n",
        "where $C$ is the correlation matrix.\n",
        "\n",
        "\n",
        "We can add skew by defining the PDF\n",
        "\n",
        "$$g_{\\mathbf{X}}(\\mathbf{x}; C, \\mathbf{a}) =2f_{\\mathbf{X}}(\\mathbf{x};C)\\Phi(\\mathbf{a^Tx})$$\n",
        "\n",
        "\n",
        "We can then select the marginal standard deviation vector $\\mathbf{v} = (v_1,v_2, ..., v_n)$ and location vector $\\mathbf{\\mu} = (\\mu_1, \\mu_2,..., \\mu_n)$ and we now have\n",
        "\n",
        "\n",
        "$$g_{\\mathbf{X}}(\\mathbf{x}; C, \\mathbf{a}) =2f_{\\mathbf{X}}(\\mathbf{y};\\Sigma)\\Phi(\\mathbf{a^Ty})$$\n",
        "\n",
        "where \n",
        "\n",
        "$$y_k = \\frac{\\mathbf{x-\\mu_k}}{v_k}$$\n",
        "\n",
        "and\n",
        "\n",
        "$$\\Sigma = \\mathrm{diag}(\\mathbf{v}) \\Sigma\\mathrm{diag}(\\mathbf{v})$$\n"
      ]
    },
    {
      "cell_type": "markdown",
      "id": "db52511c",
      "metadata": {
        "id": "db52511c"
      },
      "source": [
        "Again, a widely distributed package in Python to handle this is unkown to me.  However, they do exist in R. \n"
      ]
    },
    {
      "cell_type": "markdown",
      "id": "0f29a5d0",
      "metadata": {
        "id": "0f29a5d0"
      },
      "source": [
        "## Exercise in class\n",
        "\n",
        "\n",
        "Consider the first data set involving stocks.  Fit it to the multivariate normal and (using R) fit it to the multivariate t distribution.  You will have $4$ columns (not $2$).\n",
        "\n",
        "\n",
        "\n",
        "Homework will be this along with a few exercises which I will publish tomorrow.\n"
      ]
    },
    {
      "cell_type": "code",
      "execution_count": null,
      "id": "5383d4f7",
      "metadata": {
        "id": "5383d4f7"
      },
      "outputs": [],
      "source": [
        ""
      ]
    }
  ],
  "metadata": {
    "kernelspec": {
      "display_name": "Python 3 (ipykernel)",
      "language": "python",
      "name": "python3"
    },
    "language_info": {
      "codemirror_mode": {
        "name": "ipython",
        "version": 3
      },
      "file_extension": ".py",
      "mimetype": "text/x-python",
      "name": "python",
      "nbconvert_exporter": "python",
      "pygments_lexer": "ipython3",
      "version": "3.9.7"
    },
    "colab": {
      "name": "Week 5.ipynb",
      "provenance": [],
      "include_colab_link": true
    }
  },
  "nbformat": 4,
  "nbformat_minor": 5
}