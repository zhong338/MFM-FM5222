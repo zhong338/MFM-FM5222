{
  "cells": [
    {
      "cell_type": "markdown",
      "metadata": {
        "id": "view-in-github",
        "colab_type": "text"
      },
      "source": [
        "<a href=\"https://colab.research.google.com/github/zhong338/MFM-FM5222/blob/main/Week4_LectureSlide.ipynb\" target=\"_parent\"><img src=\"https://colab.research.google.com/assets/colab-badge.svg\" alt=\"Open In Colab\"/></a>"
      ]
    },
    {
      "cell_type": "markdown",
      "id": "5a7d924e",
      "metadata": {
        "id": "5a7d924e"
      },
      "source": [
        "# FM5222\n",
        "# Week 4\n",
        "\n",
        "\n",
        "\n",
        "\n",
        "## Topics\n",
        "\n",
        "1. Bootstraping, MSE, Bias, and Variance\n",
        "2. Confidence Intervals: Basic Bootstrap CI\n",
        "3. Examples\n"
      ]
    },
    {
      "cell_type": "markdown",
      "id": "d7680077",
      "metadata": {
        "id": "d7680077"
      },
      "source": [
        "## Bootsrapping, MSE, Bias, and Variance\n",
        "\n",
        "\n",
        "Suppose we draw $N$ IID samples points from some underlying distribution.  Call this sample $\\mathbf{X} \\in \\mathbb{R}^N$.\n",
        "\n",
        "The underlying distribution may have certain properties that we wish to infer from the data   \n",
        "Let's call this item of interest $\\theta$.  It could be a parameter of distribution, but perhaps it's just something descriptive like median, IQR, or the second moment.   Typical items of interest are \n",
        "\n",
        "* Mean  (location)\n",
        "* Standard Deviation (scale)\n",
        "* Skew\n",
        "* Kurtosis\n",
        "* IQR\n",
        "* Shape Parameters\n",
        "\n",
        "\n",
        "\n",
        "An estimator is some function $t: \\mathbb{R}^N \\to \\mathbb{R}$ that hopefully givess an approximate value of our item of interest $\\theta$. \n",
        "\n",
        "We have already discussed several of these:\n",
        "\n",
        "* The sample average to estimate $\\mu_X$\n",
        "* The sample variance to estimate $\\sigma_X^2$\n",
        "* MLE's \n",
        "\n",
        "But a question we are now asking is, how reliable is the estimator?   We know that $t(\\mathbf{X})$ is itself a random variable, and we previously discussed the properties such as\n",
        "\n",
        "* Unbiased\n",
        "* Asymptotically unbiased\n",
        "* Consistency\n",
        "* Variance\n",
        "\n",
        "\n",
        "Let's focus on three measures of \"quality\" that can be used to assess an estimator and to better understand what it is telling us.\n",
        "\n",
        "### Mean Squared Error (MSE)\n",
        "\n",
        "MSE measures the expected squared error of the estimator relative to the \"true\" value of the parameter. That is,\n",
        "\n",
        "$$\\mathrm{MSE}(t) = \\mathrm{E}\\left[(t(\\mathbf{X}) - \\theta)^2   \\right]$$\n",
        "\n",
        "Clearly, smaller is better.\n",
        "\n",
        "\n",
        "### Bias\n",
        "\n",
        "Bias tells whether, in expectation,  our estimator is centered on the target. \n",
        "\n",
        "$$\\mathrm{Bias}(t) = \\mathrm{E}\\left[t(\\mathbf{X}) - \\theta   \\right]$$\n",
        "\n",
        "Positive bias means the estimator tends to over estimate while negative bias the opposite.\n",
        "\n",
        "\n",
        "### Variance\n",
        "\n",
        "The Variance is exactly what it sounds like:\n",
        "\n",
        "$$\\mathrm{Var}(t) = \\mathrm{Var}\\left(t(\\mathbf{X})\\right)$$\n",
        "\n",
        "We can think of the MSE as a measure of over-all accuracy, bias as a measure of directional error, and variance as a measure of the precision of the estimate.\n",
        "\n",
        "A common analogy is that of a target shooter.  If the shots are tightly located 2 units to the left of the bullseye, then the shooter's targeting is biased while simultaneously having high precision. On the other hand, if the shots are centered around the bullseye, but widely dispersed, we say the shooter in unbiased, but imprecise.\n",
        "\n",
        "A shooter who hopes to win will need to have low bias and high precision.\n",
        "\n",
        "\n",
        "It is not hard to show that these three measures have a simple relationship.\n",
        "\n",
        "$$\\mathrm{MSE}(t) = \\mathrm{Bias}(t)^2 + \\mathrm{Var}(t)$$\n",
        "\n",
        "\n",
        "In the video, we showed how bootstrapping can give us estimates of the Bias and Variance (or equivalently, standard deviation) of an estimator.  We can see therefore that it can also give us an estimate of the MSE."
      ]
    },
    {
      "cell_type": "markdown",
      "id": "a734b171",
      "metadata": {
        "id": "a734b171"
      },
      "source": [
        "#### Example\n",
        "\n",
        "We will generate a sample of $150$ draws from the lognormal distribution with $\\sigma = 5$. From that, we will estimate the IQR simply by computing the IQR of the sample.\n",
        "\n",
        "We will then generate estimates for the MSE, Bias, and Variance by bootstrapping.\n",
        "\n",
        "Finally, we will compare these estimate with more \"true\" values that will generate by sampling from the actual distribution repeatedly (not limiting ourselves to our small sample."
      ]
    },
    {
      "cell_type": "code",
      "execution_count": null,
      "id": "2fcc78fa",
      "metadata": {
        "id": "2fcc78fa"
      },
      "outputs": [],
      "source": [
        "import numpy as np\n",
        "import matplotlib.pyplot as plt\n",
        "import scipy.stats as ss"
      ]
    },
    {
      "cell_type": "code",
      "execution_count": null,
      "id": "021822de",
      "metadata": {
        "id": "021822de",
        "colab": {
          "base_uri": "https://localhost:8080/"
        },
        "outputId": "8cec92ed-4424-40d1-a154-d5bf717ac883"
      },
      "outputs": [
        {
          "output_type": "stream",
          "name": "stdout",
          "text": [
            "The initial IRQ estimate is  34.569485272491185\n"
          ]
        }
      ],
      "source": [
        "N = 150\n",
        "dataset = ss.lognorm.rvs(size = N,s = 5, random_state = 1978)\n",
        "\n",
        "IQR_est = np.quantile(dataset, .75) - np.quantile(dataset, .25)\n",
        "\n",
        "print(\"The initial IRQ estimate is \", IQR_est)\n"
      ]
    },
    {
      "cell_type": "markdown",
      "id": "0361f8f6",
      "metadata": {
        "id": "0361f8f6"
      },
      "source": [
        "Now we create the bootstrap routine."
      ]
    },
    {
      "cell_type": "code",
      "execution_count": null,
      "id": "b5153aa7",
      "metadata": {
        "id": "b5153aa7",
        "colab": {
          "base_uri": "https://localhost:8080/"
        },
        "outputId": "33270140-3427-4fba-dc3d-f7af7d83b5d8"
      },
      "outputs": [
        {
          "output_type": "stream",
          "name": "stdout",
          "text": [
            "The bias estimate from bootstrap is  1.3979302225065524\n",
            "The standard deviation estimate from bootstrap is  17.78149566451862\n",
            "The MSE estimate from boootstrap is  318.1357969742917\n",
            "And just checking the formula for MSE  318.1357969742917\n"
          ]
        }
      ],
      "source": [
        "B = 1000\n",
        "\n",
        "IQRs = np.zeros(B)\n",
        "\n",
        "for s in range(B):\n",
        "    sample = np.random.choice(dataset, size= N)  # note that replace =True is default\n",
        "    IQRs[s] =  np.quantile(sample, .75) - np.quantile(sample, .25)\n",
        "    \n",
        "    \n",
        "bias_est = IQRs.mean() - IQR_est\n",
        "\n",
        "Var_est = IQRs.var()\n",
        "\n",
        "MSE_est = np.mean((IQRs - IQR_est)**2)\n",
        "\n",
        "print(\"The bias estimate from bootstrap is \", bias_est)\n",
        "\n",
        "print(\"The standard deviation estimate from bootstrap is \", np.sqrt(Var_est))\n",
        "\n",
        "print(\"The MSE estimate from boootstrap is \", MSE_est)\n",
        "\n",
        "print(\"And just checking the formula for MSE \", bias_est**2 + Var_est)"
      ]
    },
    {
      "cell_type": "markdown",
      "id": "73ca21dc",
      "metadata": {
        "id": "73ca21dc"
      },
      "source": [
        "Like in the video, we will now getter better estimates for these by repeatedly drawing $150$ from the lognormal( not limiting to our sample dateset).  In real life, we don't get to do this.\n",
        "\n",
        "We also calcuate the \"true\" IQR using scipy."
      ]
    },
    {
      "cell_type": "code",
      "execution_count": null,
      "id": "01c6cff0",
      "metadata": {
        "id": "01c6cff0",
        "colab": {
          "base_uri": "https://localhost:8080/"
        },
        "outputId": "23e3ef06-2ccb-4c48-9b4e-240eaedb4bad"
      },
      "outputs": [
        {
          "output_type": "stream",
          "name": "stdout",
          "text": [
            "The actual IQR is  29.11551485490638\n",
            "The actual bias is about  4.20826095548734\n",
            "The actual standard deviation is about  20.3699077004525\n",
            "The MSE is about  432.64259999443334\n"
          ]
        }
      ],
      "source": [
        "M = 1000 \n",
        "\n",
        "Iqr = np.zeros(M)\n",
        "\n",
        "for s in range(M):\n",
        "    \n",
        "    sample = ss.lognorm.rvs(size = N,s = 5)\n",
        "    Iqr[s] =  np.quantile(sample, .75) - np.quantile(sample, .25)\n",
        "    \n",
        "IQR = ss.lognorm.ppf(.75, s =5) -   ss.lognorm.ppf(.25, s =5)\n",
        "\n",
        "print(\"The actual IQR is \", IQR)\n",
        "\n",
        "Bias = Iqr.mean() - IQR\n",
        "\n",
        "print(\"The actual bias is about \", Bias)\n",
        "\n",
        "Variance = Iqr.var()\n",
        "\n",
        "print(\"The actual standard deviation is about \", np.sqrt(Variance))\n",
        "\n",
        "print(\"The MSE is about \", Bias**2 + Variance)\n",
        "    "
      ]
    },
    {
      "cell_type": "markdown",
      "id": "c356117c",
      "metadata": {
        "id": "c356117c"
      },
      "source": [
        "If you think about it, our bootstrap did really well.  We only had 150 data points to work with!\n",
        "\n",
        "\n",
        "Just for fun, let's compare the KDE's of the bootstrapped estimated IQRs with the KDE of the actual estimator distribution."
      ]
    },
    {
      "cell_type": "code",
      "execution_count": null,
      "id": "15329a41",
      "metadata": {
        "id": "15329a41",
        "colab": {
          "base_uri": "https://localhost:8080/",
          "height": 607
        },
        "outputId": "346889b7-b862-4b56-fe65-484f89908513"
      },
      "outputs": [
        {
          "output_type": "display_data",
          "data": {
            "image/png": "[encoded data removed]",
            "text/plain": [
              "<Figure size 1080x720 with 1 Axes>"
            ]
          },
          "metadata": {
            "needs_background": "light"
          }
        }
      ],
      "source": [
        "x = np.linspace(0,100)\n",
        "plt.figure(figsize = (15,10))\n",
        "\n",
        "plt.plot(x, ss.gaussian_kde(IQRs)(x), label =\"Bootstrap KDE\")\n",
        "\n",
        "plt.plot(x, ss.gaussian_kde(Iqr)(x), label =\" 'Actual' KDE\")\n",
        "\n",
        "plt.legend()\n",
        "\n",
        "plt.title(\"Bootstrapped Distribution vs 'actual' distribution of IQR estimator\")\n",
        "\n",
        "plt.show()\n"
      ]
    },
    {
      "cell_type": "markdown",
      "id": "2c83f0f8",
      "metadata": {
        "id": "2c83f0f8"
      },
      "source": [
        "## Confidence Intervals\n",
        "\n",
        "Suppose we have gone ahead and estimated our item of interest. Let's call it $\\theta$ and our estimate $\\hat{\\theta}$  \n",
        "\n",
        "We seek now a confidence interval for where we think the \"true\" value might lie.\n",
        "\n",
        "One idea that may immediately come to mind would be to estimate the standard deviation of the estimator via bootstrap, call this $\\sigma_{\\hat{\\theta}}$.  Then we construct the CI in a rather standard way:\n",
        "\n",
        "$$CI = \\left(\\hat{\\theta} - z_{\\alpha/2}\\sigma_{\\hat{\\theta}}, \\hat{\\theta} + z_{\\alpha/2}\\sigma_{\\hat{\\theta}}\\right)$$\n",
        "\n",
        "where $z_{\\alpha/2} = \\Phi^{-1}(1-\\alpha/2)$\n",
        "\n",
        "Or, perhaps if the sample size is not large, replace $z_{\\alpha/2}$ with $t_{\\alpha/2;\\nu}$ using the appropriate $T$ distribution instead of the normal.  \n",
        "\n",
        "However, as we have seen, this can be problematic as often, the estimators don't really follow the normal or the student T distribution.  Consider the example we just did!\n",
        "\n",
        "### Basic Bootstrap Confidence Interval\n",
        "\n",
        "What we are interested in is understaning how the estimator can vary both above and below the \"true mean\".  What we can infer from the bootstrap is how the estimator will very above or below the estimate from the sample population.  Let's say for example we are interested in a $90\\%$ CI.  We could observe $.05$ quantile of our bootstrapped estimates, call with $q_L$. Similarly, we observe the $.95$ quantile of our bootstrapped estimates.  Call this $q_U$.\n",
        "\n",
        "Our bootstrap is saying what the estimators will vary around the actual value in manner similar to how the bootstrapped estimator vary around $\\hat{\\theta}$.\n",
        "\n",
        "Now, if things are symmetric, the $q_U - \\hat{\\theta} \\approx \\hat{\\theta} - q_L$ and we might be tempted just to set the interval as $$\\hat{\\theta} \\pm \\frac{q_U -q_L}{2} $$\n",
        "\n",
        "But what if things are not symmetric?  That is, suppose that things are skewed to the right.  Then\n",
        "\n",
        "$$q_U - \\hat{\\theta} > \\hat{\\theta} - q_L$$\n",
        "\n",
        "First, this means that the estimator is more likely to aim high than to aim low. So if we wish to understand how $\\hat{\\theta}$ relates to $\\theta$, we would expect that it is more likely that $\\hat{\\theta}$ is too high than too low.  So our confidence interval will reverse the distances in question.  That is, the CI will be:\n",
        "\n",
        "$$\\left(\\hat{\\theta} - (q_U -  \\hat{\\theta}) ,\\hat{\\theta} + (\\hat{\\theta} - q_L)       \\right)$$\n",
        "\n",
        "As noted in the text, this is the same as\n",
        "\n",
        "$$\\left(2\\hat{\\theta} - q_U  ,2\\hat{\\theta}  - q_L)       \\right)$$\n",
        "\n",
        "This is the Basic Bootstrap Confidence Interval\n",
        "\n",
        "\n",
        "\n"
      ]
    },
    {
      "cell_type": "markdown",
      "id": "ff9d0552",
      "metadata": {
        "id": "ff9d0552"
      },
      "source": [
        "#### Example continued\n",
        "\n",
        "Using the bootstrap previously done, calculate the Basic Confidence Interval (at the $\\alpha = .1$ level) for the IQR.\n",
        "\n"
      ]
    },
    {
      "cell_type": "code",
      "execution_count": null,
      "id": "df03b645",
      "metadata": {
        "id": "df03b645",
        "colab": {
          "base_uri": "https://localhost:8080/"
        },
        "outputId": "8af6a75d-e409-4413-893e-0e839ec668f8"
      },
      "outputs": [
        {
          "output_type": "stream",
          "name": "stdout",
          "text": [
            "The basic bootrap confidence interval (90%) is ( 19.21671504185735 ,  55.520708878684005 )\n"
          ]
        }
      ],
      "source": [
        "\n",
        "qL = np.quantile(IQRs,.05 )\n",
        "qU = np.quantile(IQRs,.95 )\n",
        "\n",
        "print(\"The basic bootrap confidence interval (90%) is (\",2*IQR_est - qU,\", \",2*IQR_est - qL,\")\")"
      ]
    },
    {
      "cell_type": "markdown",
      "id": "b9d436f9",
      "metadata": {
        "id": "b9d436f9"
      },
      "source": [
        "## Examples\n",
        "\n",
        "### General Motors (GM)\n",
        "\n",
        "We will take 10 years of GM stock price log-returns and fit them to a student T distribution.  This will have three parameters, location, scale, and $\\nu$.    Fit using the fit method (which by default uses MLE) and use bootstrap to get estimates of (for each parameter):\n",
        "\n",
        "1. Bias\n",
        "2. Standard Deviation\n",
        "3. $90\\%$ confidence interval."
      ]
    },
    {
      "cell_type": "code",
      "source": [
        "!pip install yfinance"
      ],
      "metadata": {
        "id": "DTJZiGdVaX-Q",
        "colab": {
          "base_uri": "https://localhost:8080/"
        },
        "outputId": "9722ca45-61ce-44be-9558-c1351414a9e8"
      },
      "id": "DTJZiGdVaX-Q",
      "execution_count": null,
      "outputs": [
        {
          "output_type": "stream",
          "name": "stdout",
          "text": [
            "Collecting yfinance\n",
            "  Downloading yfinance-0.1.70-py2.py3-none-any.whl (26 kB)\n",
            "Collecting requests>=2.26\n",
            "  Downloading requests-2.27.1-py2.py3-none-any.whl (63 kB)\n",
            "\u001b[K     |████████████████████████████████| 63 kB 1.5 MB/s \n",
            "\u001b[?25hRequirement already satisfied: pandas>=0.24.0 in /usr/local/lib/python3.7/dist-packages (from yfinance) (1.3.5)\n",
            "Requirement already satisfied: multitasking>=0.0.7 in /usr/local/lib/python3.7/dist-packages (from yfinance) (0.0.10)\n",
            "Requirement already satisfied: numpy>=1.15 in /usr/local/lib/python3.7/dist-packages (from yfinance) (1.19.5)\n",
            "Collecting lxml>=4.5.1\n",
            "  Downloading lxml-4.7.1-cp37-cp37m-manylinux_2_17_x86_64.manylinux2014_x86_64.manylinux_2_24_x86_64.whl (6.4 MB)\n",
            "\u001b[K     |████████████████████████████████| 6.4 MB 38.1 MB/s \n",
            "\u001b[?25hRequirement already satisfied: python-dateutil>=2.7.3 in /usr/local/lib/python3.7/dist-packages (from pandas>=0.24.0->yfinance) (2.8.2)\n",
            "Requirement already satisfied: pytz>=2017.3 in /usr/local/lib/python3.7/dist-packages (from pandas>=0.24.0->yfinance) (2018.9)\n",
            "Requirement already satisfied: six>=1.5 in /usr/local/lib/python3.7/dist-packages (from python-dateutil>=2.7.3->pandas>=0.24.0->yfinance) (1.15.0)\n",
            "Requirement already satisfied: charset-normalizer~=2.0.0 in /usr/local/lib/python3.7/dist-packages (from requests>=2.26->yfinance) (2.0.11)\n",
            "Requirement already satisfied: idna<4,>=2.5 in /usr/local/lib/python3.7/dist-packages (from requests>=2.26->yfinance) (2.10)\n",
            "Requirement already satisfied: urllib3<1.27,>=1.21.1 in /usr/local/lib/python3.7/dist-packages (from requests>=2.26->yfinance) (1.24.3)\n",
            "Requirement already satisfied: certifi>=2017.4.17 in /usr/local/lib/python3.7/dist-packages (from requests>=2.26->yfinance) (2021.10.8)\n",
            "Installing collected packages: requests, lxml, yfinance\n",
            "  Attempting uninstall: requests\n",
            "    Found existing installation: requests 2.23.0\n",
            "    Uninstalling requests-2.23.0:\n",
            "      Successfully uninstalled requests-2.23.0\n",
            "  Attempting uninstall: lxml\n",
            "    Found existing installation: lxml 4.2.6\n",
            "    Uninstalling lxml-4.2.6:\n",
            "      Successfully uninstalled lxml-4.2.6\n",
            "\u001b[31mERROR: pip's dependency resolver does not currently take into account all the packages that are installed. This behaviour is the source of the following dependency conflicts.\n",
            "google-colab 1.0.0 requires requests~=2.23.0, but you have requests 2.27.1 which is incompatible.\n",
            "datascience 0.10.6 requires folium==0.2.1, but you have folium 0.8.3 which is incompatible.\u001b[0m\n",
            "Successfully installed lxml-4.7.1 requests-2.27.1 yfinance-0.1.70\n"
          ]
        }
      ]
    },
    {
      "cell_type": "code",
      "execution_count": null,
      "id": "28c65896",
      "metadata": {
        "id": "28c65896"
      },
      "outputs": [],
      "source": [
        "import yfinance as yf\n"
      ]
    },
    {
      "cell_type": "code",
      "execution_count": null,
      "id": "b979119d",
      "metadata": {
        "id": "b979119d"
      },
      "outputs": [],
      "source": [
        "GM = yf.Ticker(\"GM\").history(start = \"2012-01-01\", end=\"2022-01-01\")\n",
        "\n",
        "GM['Lret'] = np.log(GM.Close).diff()   # I should probably work dividends in here.  But that won't matter much \n",
        "GM = GM.dropna()"
      ]
    },
    {
      "cell_type": "markdown",
      "id": "9fee7b99",
      "metadata": {
        "id": "9fee7b99"
      },
      "source": [
        "Getting our initial MLE estimates:"
      ]
    },
    {
      "cell_type": "code",
      "execution_count": null,
      "id": "54e59e3f",
      "metadata": {
        "id": "54e59e3f",
        "colab": {
          "base_uri": "https://localhost:8080/"
        },
        "outputId": "dadba39d-050a-47d1-a5af-cc51ffc3f94c"
      },
      "outputs": [
        {
          "output_type": "execute_result",
          "data": {
            "text/plain": [
              "(3.1833301619763485, 0.00032220737851245844, 0.013195932617252167)"
            ]
          },
          "metadata": {},
          "execution_count": 10
        }
      ],
      "source": [
        "params_ests = ss.t.fit(GM.Lret)\n",
        "params_ests"
      ]
    },
    {
      "cell_type": "code",
      "execution_count": null,
      "id": "f2888cd4",
      "metadata": {
        "id": "f2888cd4",
        "colab": {
          "base_uri": "https://localhost:8080/"
        },
        "outputId": "08fc1d75-a75c-43a0-bfad-730994e13c30"
      },
      "outputs": [
        {
          "output_type": "execute_result",
          "data": {
            "text/plain": [
              "array([3.18333016e+00, 3.22207379e-04, 1.31959326e-02])"
            ]
          },
          "metadata": {},
          "execution_count": 11
        }
      ],
      "source": [
        "np.array(params_ests)"
      ]
    },
    {
      "cell_type": "markdown",
      "id": "2d40fc05",
      "metadata": {
        "id": "2d40fc05"
      },
      "source": [
        "Next, we set up our bootstrapping loops and MLE fit each time."
      ]
    },
    {
      "cell_type": "code",
      "execution_count": null,
      "id": "cc76a887",
      "metadata": {
        "id": "cc76a887"
      },
      "outputs": [],
      "source": [
        "B = 1000\n",
        "\n",
        "params_bs = np.zeros([B,3])\n",
        "\n",
        "for s in range(B):\n",
        "    sample = np.random.choice(GM.Lret, size = len(GM))\n",
        "    params_bs[s,:] = np.array(ss.t.fit(sample))\n",
        "    \n"
      ]
    },
    {
      "cell_type": "markdown",
      "id": "199a78d2",
      "metadata": {
        "id": "199a78d2"
      },
      "source": [
        "The biases"
      ]
    },
    {
      "cell_type": "code",
      "execution_count": null,
      "id": "859258e7",
      "metadata": {
        "id": "859258e7",
        "colab": {
          "base_uri": "https://localhost:8080/"
        },
        "outputId": "50177c88-6313-4062-d9b4-716f6979d657"
      },
      "outputs": [
        {
          "output_type": "execute_result",
          "data": {
            "text/plain": [
              "array([ 2.05264526e-02, -8.24400268e-07, -4.26797509e-06])"
            ]
          },
          "metadata": {},
          "execution_count": 13
        }
      ],
      "source": [
        "bias = params_bs.mean(axis=0) - params_ests\n",
        "bias"
      ]
    },
    {
      "cell_type": "code",
      "execution_count": null,
      "id": "d23ed457",
      "metadata": {
        "id": "d23ed457",
        "colab": {
          "base_uri": "https://localhost:8080/"
        },
        "outputId": "0a3dfc38-fa06-4f59-9cae-a646f48d58f0"
      },
      "outputs": [
        {
          "output_type": "execute_result",
          "data": {
            "text/plain": [
              "array([ 0.00644811, -0.0025586 , -0.00032343])"
            ]
          },
          "metadata": {},
          "execution_count": 14
        }
      ],
      "source": [
        " bias/params_ests"
      ]
    },
    {
      "cell_type": "markdown",
      "id": "938b0db6",
      "metadata": {
        "id": "938b0db6"
      },
      "source": [
        "We can see that they are all relatively small (remember, MLEs are asymptotically unbiased, so this is unsurpring)."
      ]
    },
    {
      "cell_type": "markdown",
      "id": "65d823f5",
      "metadata": {
        "id": "65d823f5"
      },
      "source": [
        "Standard Deviations"
      ]
    },
    {
      "cell_type": "code",
      "execution_count": null,
      "id": "69e14444",
      "metadata": {
        "id": "69e14444",
        "colab": {
          "base_uri": "https://localhost:8080/"
        },
        "outputId": "d1424834-c32c-433a-9eda-47d7bfbc5ff2"
      },
      "outputs": [
        {
          "output_type": "execute_result",
          "data": {
            "text/plain": [
              "array([0.23001755, 0.00033374, 0.00035619])"
            ]
          },
          "metadata": {},
          "execution_count": 15
        }
      ],
      "source": [
        "sds =  params_bs.std(axis=0)\n",
        "sds"
      ]
    },
    {
      "cell_type": "code",
      "execution_count": null,
      "id": "79d3b6df",
      "metadata": {
        "id": "79d3b6df",
        "colab": {
          "base_uri": "https://localhost:8080/"
        },
        "outputId": "0ba4e796-e300-431c-cb90-da89772d7e2b"
      },
      "outputs": [
        {
          "output_type": "execute_result",
          "data": {
            "text/plain": [
              "array([0.07225689, 1.0357848 , 0.02699206])"
            ]
          },
          "metadata": {},
          "execution_count": 16
        }
      ],
      "source": [
        " sds/params_ests"
      ]
    },
    {
      "cell_type": "markdown",
      "id": "82c671ed",
      "metadata": {
        "id": "82c671ed"
      },
      "source": [
        "We see that these are more significant.  The large relative location error is probably not *that* big of deal given that it is very small. But we will come back to that.\n",
        "\n",
        "\n",
        "Basic Bootstrap Confidence Interval\n"
      ]
    },
    {
      "cell_type": "code",
      "execution_count": null,
      "id": "8c479602",
      "metadata": {
        "id": "8c479602",
        "colab": {
          "base_uri": "https://localhost:8080/"
        },
        "outputId": "3e56eeb4-3382-400f-8cf9-c2c28f89cf03"
      },
      "outputs": [
        {
          "output_type": "stream",
          "name": "stdout",
          "text": [
            "The lower end point for nu is  2.7954142442232297\n",
            "The upper end point for nu is  3.50421642066819\n",
            "The lower end point for location is  -0.00020920315877522272\n",
            "The upper end point for location is  0.000841634998664804\n",
            "The lower end point for scale is  0.012618909254477367\n",
            "The upper end point for scale is  0.013770789596343203\n"
          ]
        }
      ],
      "source": [
        "qu = np.quantile(params_bs,.95, axis = 0 )\n",
        "ql = np.quantile(params_bs,.05, axis = 0 )\n",
        "\n",
        "print(\"The lower end point for nu is \", 2*params_ests[0] - qu[0])\n",
        "print(\"The upper end point for nu is \", 2*params_ests[0] - ql[0])\n",
        "\n",
        "print(\"The lower end point for location is \", 2*params_ests[1] - qu[1])\n",
        "print(\"The upper end point for location is \", 2*params_ests[1] - ql[1])\n",
        "\n",
        "print(\"The lower end point for scale is \", 2*params_ests[2] - qu[2])\n",
        "print(\"The upper end point for scale is \", 2*params_ests[2] - ql[2])\n"
      ]
    },
    {
      "cell_type": "markdown",
      "id": "c6c37981",
      "metadata": {
        "id": "c6c37981"
      },
      "source": [
        "As always, graphs can be helpful."
      ]
    },
    {
      "cell_type": "code",
      "execution_count": null,
      "id": "494d3314",
      "metadata": {
        "id": "494d3314",
        "colab": {
          "base_uri": "https://localhost:8080/",
          "height": 607
        },
        "outputId": "f11473b6-eaa0-46b8-af3c-8a9418415146"
      },
      "outputs": [
        {
          "output_type": "display_data",
          "data": {
            "image/png": "[encoded data removed]",
            "text/plain": [
              "<Figure size 1080x720 with 1 Axes>"
            ]
          },
          "metadata": {
            "needs_background": "light"
          }
        }
      ],
      "source": [
        "plt.figure(figsize = (15,10))\n",
        "\n",
        "plt.hist(params_bs[:,0], bins = 50, alpha = .5, edgecolor = \"black\", label = \"Bootstrapped $\\\\nu$ estimates\")\n",
        "\n",
        "plt.vlines(params_ests[0], 0, 70, color ='r', label=\"$\\\\hat{\\\\nu}$\")\n",
        "\n",
        "plt.hlines(30,2*params_ests[0] - qu[0], 2*params_ests[0] - ql[0], color = 'g', label = \"90% CI\" )\n",
        "\n",
        "plt.legend()\n",
        "\n",
        "plt.title(\"Bootstrapped Estimates of nu\")\n",
        "plt.show()"
      ]
    },
    {
      "cell_type": "markdown",
      "id": "9b4aefef",
      "metadata": {
        "id": "9b4aefef"
      },
      "source": [
        "For the location, I am going to rescale everything by 252, so that we can see what the uncertianty means on an annualized basis."
      ]
    },
    {
      "cell_type": "code",
      "execution_count": null,
      "id": "ba3f4e4e",
      "metadata": {
        "id": "ba3f4e4e",
        "colab": {
          "base_uri": "https://localhost:8080/",
          "height": 607
        },
        "outputId": "8e466a4d-5316-420c-a46e-a49d17fc21f1"
      },
      "outputs": [
        {
          "output_type": "display_data",
          "data": {
            "image/png": "[encoded data removed]",
            "text/plain": [
              "<Figure size 1080x720 with 1 Axes>"
            ]
          },
          "metadata": {
            "needs_background": "light"
          }
        }
      ],
      "source": [
        "plt.figure(figsize = (15,10))\n",
        "\n",
        "plt.hist(252*params_bs[:,1], bins = 50, alpha = .5, edgecolor = \"black\", label = \"Bootstrapped mean log-return estimates\")\n",
        "\n",
        "plt.vlines(252*params_ests[1], 0, 70, color ='r', label=\"Estimated location\")\n",
        "\n",
        "plt.hlines(30,252*(2*params_ests[1] - qu[1]), 252*(2*params_ests[1] - ql[1]), color = 'g', label = \"90% CI\" )\n",
        "\n",
        "plt.legend()\n",
        "\n",
        "plt.title(\"Bootstrapped Estimates of location\")\n",
        "plt.show()"
      ]
    },
    {
      "cell_type": "markdown",
      "id": "b7269a92",
      "metadata": {
        "id": "b7269a92"
      },
      "source": [
        "This suggests that we really cannot infer very easily from the data what the mean log-return of GM is (under this model).  Maybe is greater that $20\\%$ (annualized), maybe it's negative!\n",
        "\n",
        "This can have big implications is asset allocation models where, say, the expected return on this asset were an input into an optimization."
      ]
    },
    {
      "cell_type": "markdown",
      "id": "60610a5f",
      "metadata": {
        "id": "60610a5f"
      },
      "source": [
        "The scale parameter is maybe the most stable.\n",
        "\n"
      ]
    },
    {
      "cell_type": "code",
      "execution_count": null,
      "id": "da8f81de",
      "metadata": {
        "id": "da8f81de",
        "colab": {
          "base_uri": "https://localhost:8080/",
          "height": 607
        },
        "outputId": "fb710f5a-c825-4e3e-f324-4fb399d1e90b"
      },
      "outputs": [
        {
          "output_type": "display_data",
          "data": {
            "image/png": "[encoded data removed]",
            "text/plain": [
              "<Figure size 1080x720 with 1 Axes>"
            ]
          },
          "metadata": {
            "needs_background": "light"
          }
        }
      ],
      "source": [
        "plt.figure(figsize = (15,10))\n",
        "\n",
        "plt.hist(params_bs[:,2], bins = 50, alpha = .5, edgecolor = \"black\", label = \"Bootstrapped scale estimates\")\n",
        "\n",
        "plt.vlines(params_ests[2], 0, 70, color ='r', label=\"estimated scale parameter\")\n",
        "\n",
        "plt.hlines(30,2*params_ests[2] - qu[2], 2*params_ests[2] - ql[2], color = 'g', label = \"90% CI\" )\n",
        "\n",
        "plt.legend()\n",
        "\n",
        "plt.title(\"Bootstrapped Estimates of scale\")\n",
        "plt.show()"
      ]
    },
    {
      "cell_type": "markdown",
      "id": "fdbbd057",
      "metadata": {
        "id": "fdbbd057"
      },
      "source": [
        "There is of course some joint varation in these estimates.  We won't explore that here.  But, I will mention that if you really want to understand the joint distribution of the parameters given the data, we will want to use Bayesian methods and MCMC. "
      ]
    },
    {
      "cell_type": "markdown",
      "id": "5424959d",
      "metadata": {
        "id": "5424959d"
      },
      "source": [
        "###  VIX\n",
        "\n",
        "Let's take a look at the VIX over the last 10 years and see what we can infer."
      ]
    },
    {
      "cell_type": "code",
      "execution_count": null,
      "id": "2aea7cf2",
      "metadata": {
        "id": "2aea7cf2",
        "colab": {
          "base_uri": "https://localhost:8080/"
        },
        "outputId": "8570156c-129c-4c8c-8e43-c681e17738b4"
      },
      "outputs": [
        {
          "output_type": "execute_result",
          "data": {
            "text/plain": [
              "<bound method NDFrame.head of                  Open       High        Low  ...  Volume  Dividends  Stock Splits\n",
              "Date                                         ...                                 \n",
              "2012-01-03  22.950001  23.100000  22.540001  ...       0          0             0\n",
              "2012-01-04  23.440001  23.730000  22.219999  ...       0          0             0\n",
              "2012-01-05  22.750000  23.090000  21.340000  ...       0          0             0\n",
              "2012-01-06  21.240000  21.719999  20.580000  ...       0          0             0\n",
              "2012-01-09  21.670000  21.780001  21.000000  ...       0          0             0\n",
              "...               ...        ...        ...  ...     ...        ...           ...\n",
              "2021-12-27  19.370001  19.410000  17.549999  ...       0          0             0\n",
              "2021-12-28  17.780001  18.469999  17.510000  ...       0          0             0\n",
              "2021-12-29  17.629999  18.000000  16.709999  ...       0          0             0\n",
              "2021-12-30  17.299999  17.790001  16.620001  ...       0          0             0\n",
              "2021-12-31  17.629999  18.270000  16.990000  ...       0          0             0\n",
              "\n",
              "[2517 rows x 7 columns]>"
            ]
          },
          "metadata": {},
          "execution_count": 21
        }
      ],
      "source": [
        "VIX = yf.Ticker(\"^VIX\").history(start = \"2012-01-01\", end=\"2022-01-01\")\n",
        "\n",
        "VIX.head"
      ]
    },
    {
      "cell_type": "markdown",
      "id": "fcc1af72",
      "metadata": {
        "id": "fcc1af72"
      },
      "source": [
        "Let's first look at the close series to see if changes are stationary or trending."
      ]
    },
    {
      "cell_type": "code",
      "execution_count": null,
      "id": "2b5fccd3",
      "metadata": {
        "id": "2b5fccd3",
        "colab": {
          "base_uri": "https://localhost:8080/",
          "height": 592
        },
        "outputId": "24ec9408-b347-4018-a7d2-2e996f7170ac"
      },
      "outputs": [
        {
          "output_type": "display_data",
          "data": {
            "image/png": "[encoded data removed]",
            "text/plain": [
              "<Figure size 1080x720 with 1 Axes>"
            ]
          },
          "metadata": {
            "needs_background": "light"
          }
        }
      ],
      "source": [
        "plt.figure(figsize = (15,10))\n",
        "plt.plot(VIX.Close.diff())\n",
        "\n",
        "plt.show()"
      ]
    },
    {
      "cell_type": "markdown",
      "id": "72b7af96",
      "metadata": {
        "id": "72b7af96"
      },
      "source": [
        "Fair enough. We will a column for the changes on work with it."
      ]
    },
    {
      "cell_type": "code",
      "execution_count": null,
      "id": "837b6235",
      "metadata": {
        "id": "837b6235"
      },
      "outputs": [],
      "source": [
        "VIX[\"Change\"] = VIX.Close.diff()\n",
        "\n",
        "VIX = VIX.dropna()"
      ]
    },
    {
      "cell_type": "markdown",
      "id": "ed3e388d",
      "metadata": {
        "id": "ed3e388d"
      },
      "source": [
        "Let make a quick histogram (before we do anything else)."
      ]
    },
    {
      "cell_type": "code",
      "execution_count": null,
      "id": "7eb899e3",
      "metadata": {
        "id": "7eb899e3",
        "colab": {
          "base_uri": "https://localhost:8080/",
          "height": 607
        },
        "outputId": "cced32e2-c106-496e-8195-b968081c78c6"
      },
      "outputs": [
        {
          "output_type": "display_data",
          "data": {
            "image/png": "[encoded data removed]",
            "text/plain": [
              "<Figure size 1080x720 with 1 Axes>"
            ]
          },
          "metadata": {
            "needs_background": "light"
          }
        }
      ],
      "source": [
        "plt.figure(figsize = (15,10))\n",
        "plt.hist(VIX.Change, bins = 80, alpha = .5, edgecolor = \"black\")\n",
        "\n",
        "plt.title(\"Daily Changes in VIX\")\n",
        "\n",
        "plt.show()"
      ]
    },
    {
      "cell_type": "markdown",
      "id": "c5240467",
      "metadata": {
        "id": "c5240467"
      },
      "source": [
        "There definitely appears to be some signifigant right skew.  Let's measure the skew two ways:\n",
        "\n",
        "1. By calculating the sample skew\n",
        "2. By calculating a quantile based skew measure.\n",
        "\n",
        "We will then use bootrapping to assess these two measures."
      ]
    },
    {
      "cell_type": "markdown",
      "id": "ba6cb5b7",
      "metadata": {
        "id": "ba6cb5b7"
      },
      "source": [
        "### Sample Skew\n",
        "\n"
      ]
    },
    {
      "cell_type": "code",
      "execution_count": null,
      "id": "3393c689",
      "metadata": {
        "id": "3393c689",
        "colab": {
          "base_uri": "https://localhost:8080/"
        },
        "outputId": "cff5d1cc-4e32-4bcf-8f6f-734256e0fa7a"
      },
      "outputs": [
        {
          "output_type": "execute_result",
          "data": {
            "text/plain": [
              "2.7252956631816576"
            ]
          },
          "metadata": {},
          "execution_count": 25
        }
      ],
      "source": [
        "skew_est = ss.skew(VIX.Change)\n",
        "\n",
        "skew_est"
      ]
    },
    {
      "cell_type": "markdown",
      "id": "ab6f44af",
      "metadata": {
        "id": "ab6f44af"
      },
      "source": [
        "Setting up the bootstrap. We will estimate for this measure\n",
        "\n",
        "1. Bias\n",
        "2. Standard Deviation\n",
        "3. A $90\\%$ confidence interval."
      ]
    },
    {
      "cell_type": "code",
      "execution_count": null,
      "id": "32a4ec53",
      "metadata": {
        "id": "32a4ec53",
        "colab": {
          "base_uri": "https://localhost:8080/"
        },
        "outputId": "602a5ed5-fcb6-4a76-b197-c683054b17aa"
      },
      "outputs": [
        {
          "output_type": "stream",
          "name": "stdout",
          "text": [
            "The estimated bias of sample skew is  -0.14969820826864355\n",
            "The estimated standard devation aka standard error of the sample skew is  1.0116496199543503\n",
            "The basic bootstrap 90% CI for skew of the VIX is ( 1.2739210625072612 , 4.641088955845897 )\n"
          ]
        }
      ],
      "source": [
        "B = 1000\n",
        "\n",
        "skews = np.zeros(B)\n",
        "\n",
        "for s in range(B):\n",
        "    sample = np.random.choice(VIX.Change, size = len(VIX.Close))\n",
        "    skews[s] = ss.skew(sample)\n",
        "    \n",
        "    \n",
        "bias1 = skews.mean() - skew_est\n",
        "\n",
        "print(\"The estimated bias of sample skew is \", bias1)\n",
        "\n",
        "std1 = skews.std()\n",
        "\n",
        "print(\"The estimated standard devation aka standard error of the sample skew is \",std1 )\n",
        "\n",
        "qu1 = np.quantile(skews, .95)\n",
        "ql1 = np.quantile(skews,.05)\n",
        "\n",
        "print(\"The basic bootstrap 90% CI for skew of the VIX is (\",2*skew_est - qu1,\",\",2*skew_est - ql1, \")\" )\n",
        "\n"
      ]
    },
    {
      "cell_type": "markdown",
      "id": "fe9be4d1",
      "metadata": {
        "id": "fe9be4d1"
      },
      "source": [
        "Let's plot."
      ]
    },
    {
      "cell_type": "code",
      "execution_count": null,
      "id": "9b85cd61",
      "metadata": {
        "id": "9b85cd61",
        "colab": {
          "base_uri": "https://localhost:8080/",
          "height": 607
        },
        "outputId": "c646acbc-74c8-4554-996f-bfec6c4712b3"
      },
      "outputs": [
        {
          "output_type": "display_data",
          "data": {
            "image/png": "[encoded data removed]",
            "text/plain": [
              "<Figure size 1080x720 with 1 Axes>"
            ]
          },
          "metadata": {
            "needs_background": "light"
          }
        }
      ],
      "source": [
        "plt.figure(figsize = (15,10))\n",
        "\n",
        "plt.hist(skews, bins = 50, alpha = .5, edgecolor = \"black\", label = \"Bootstrapped skew estimates\")\n",
        "\n",
        "plt.vlines(skew_est, 0, 70, color ='r', label=\"sample skew\")\n",
        "\n",
        "plt.hlines(30,2*skew_est - qu1, 2*skew_est - ql1, color = 'g', label = \"90% CI\" )\n",
        "\n",
        "plt.legend()\n",
        "\n",
        "plt.title(\"Bootstrapped Estimates of skew\")\n",
        "plt.show()"
      ]
    },
    {
      "cell_type": "markdown",
      "id": "1910f191",
      "metadata": {
        "id": "1910f191"
      },
      "source": [
        "### Quantile Based Skew\n",
        "\n",
        "We will instead use a skew measure that (perhaps) is more robust.   We will define \n",
        "$$\\mathrm{qSkew}(x) =  \\frac{(q(x,.99) - q(x,.5))- (q(x,.5) - q(x,.01))}{q(x,.75) - q(x,.25)}\\\\\n",
        "= \\frac{q(x,.99) - 2 q(x,.5))+ q(x,.01)}{q(x,.75) - q(x,.25)}$$\n",
        "\n",
        "This compares the distance from the the median to the 99th percentile  versus the distance from 1st percentile to the median. The denominator normalizes to the IQR.\n",
        "\n",
        "We go through all the same steps once we define our function."
      ]
    },
    {
      "cell_type": "code",
      "execution_count": null,
      "id": "a5d3ea86",
      "metadata": {
        "id": "a5d3ea86"
      },
      "outputs": [],
      "source": [
        "qSkew = lambda x: (np.quantile(x,.99) - 2*np.quantile(x,.5) + np.quantile(x,.01))/\\\n",
        "(np.quantile(x,.75) - 2*np.quantile(x,.25))"
      ]
    },
    {
      "cell_type": "code",
      "execution_count": null,
      "id": "1c811bea",
      "metadata": {
        "id": "1c811bea",
        "colab": {
          "base_uri": "https://localhost:8080/"
        },
        "outputId": "0866272a-387b-4be4-a502-18f6e77cb6f4"
      },
      "outputs": [
        {
          "output_type": "execute_result",
          "data": {
            "text/plain": [
              "0.4594867254105215"
            ]
          },
          "metadata": {},
          "execution_count": 29
        }
      ],
      "source": [
        "qSkew_est = qSkew(VIX.Change)\n",
        "qSkew_est"
      ]
    },
    {
      "cell_type": "code",
      "execution_count": null,
      "id": "d9f0a9b7",
      "metadata": {
        "id": "d9f0a9b7",
        "colab": {
          "base_uri": "https://localhost:8080/"
        },
        "outputId": "cb5979ef-3184-40f6-b5b3-cff228aed4c4"
      },
      "outputs": [
        {
          "output_type": "stream",
          "name": "stdout",
          "text": [
            "The estimated bias of quantile skew is  0.047080795147833254\n",
            "The estimated standard devation aka standard error of the quantile skew is  0.3049830586196925\n",
            "The basic bootstrap 90% CI for quantile skew of the VIX is ( -0.1943523760173793 , 0.8000078749166156 )\n"
          ]
        }
      ],
      "source": [
        "B = 1000\n",
        "\n",
        "qskews = np.zeros(B)\n",
        "\n",
        "for s in range(B):\n",
        "    sample = np.random.choice(VIX.Change, size = len(VIX.Close))\n",
        "    qskews[s] = qSkew(sample)\n",
        "    \n",
        "    \n",
        "bias2 = qskews.mean() - qSkew_est\n",
        "\n",
        "print(\"The estimated bias of quantile skew is \", bias2)\n",
        "\n",
        "std2 = qskews.std()\n",
        "\n",
        "print(\"The estimated standard devation aka standard error of the quantile skew is \",std2 )\n",
        "\n",
        "qu2 = np.quantile(qskews, .95)\n",
        "ql2 = np.quantile(qskews,.05)\n",
        "\n",
        "print(\"The basic bootstrap 90% CI for quantile skew of the VIX is (\",2*qSkew_est - qu2,\",\",2*qSkew_est - ql2, \")\" )"
      ]
    },
    {
      "cell_type": "markdown",
      "id": "b714a022",
      "metadata": {
        "id": "b714a022"
      },
      "source": [
        "Plotting"
      ]
    },
    {
      "cell_type": "code",
      "execution_count": null,
      "id": "f0788802",
      "metadata": {
        "id": "f0788802",
        "colab": {
          "base_uri": "https://localhost:8080/",
          "height": 607
        },
        "outputId": "cd6616b0-c133-4f31-96d5-330773019ca1"
      },
      "outputs": [
        {
          "output_type": "display_data",
          "data": {
            "image/png": "[encoded data removed]",
            "text/plain": [
              "<Figure size 1080x720 with 1 Axes>"
            ]
          },
          "metadata": {
            "needs_background": "light"
          }
        }
      ],
      "source": [
        "plt.figure(figsize = (15,10))\n",
        "\n",
        "plt.hist(qskews, bins = 50, alpha = .5, edgecolor = \"black\", label = \"Bootstrapped qSkew estimates\")\n",
        "\n",
        "plt.vlines(qSkew_est, 0, 70, color ='r', label=\"q skew of data\")\n",
        "\n",
        "plt.hlines(30,2*qSkew_est - qu2, 2*qSkew_est - ql2, color = 'g', label = \"90% CI\" )\n",
        "\n",
        "plt.legend()\n",
        "\n",
        "plt.title(\"Bootstrapped Estimates of qskew\")\n",
        "plt.show()"
      ]
    },
    {
      "cell_type": "markdown",
      "id": "26520bef",
      "metadata": {
        "id": "26520bef"
      },
      "source": [
        ""
      ]
    }
  ],
  "metadata": {
    "kernelspec": {
      "display_name": "Python 3 (ipykernel)",
      "language": "python",
      "name": "python3"
    },
    "language_info": {
      "codemirror_mode": {
        "name": "ipython",
        "version": 3
      },
      "file_extension": ".py",
      "mimetype": "text/x-python",
      "name": "python",
      "nbconvert_exporter": "python",
      "pygments_lexer": "ipython3",
      "version": "3.9.7"
    },
    "colab": {
      "name": "Week 4.ipynb",
      "provenance": [],
      "include_colab_link": true
    }
  },
  "nbformat": 4,
  "nbformat_minor": 5
}