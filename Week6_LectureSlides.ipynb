{
  "cells": [
    {
      "cell_type": "markdown",
      "metadata": {
        "id": "view-in-github",
        "colab_type": "text"
      },
      "source": [
        "<a href=\"https://colab.research.google.com/github/zhong338/MFM-FM5222/blob/main/Week6_LectureSlides.ipynb\" target=\"_parent\"><img src=\"https://colab.research.google.com/assets/colab-badge.svg\" alt=\"Open In Colab\"/></a>"
      ]
    },
    {
      "cell_type": "markdown",
      "id": "7a336c18",
      "metadata": {
        "id": "7a336c18"
      },
      "source": [
        "# FM 5222\n",
        "# Week 6\n",
        "\n",
        "## Linear Regression\n",
        "\n",
        "\n",
        "## Topics\n",
        "\n",
        "* Multivariable Linear Regression\n",
        "\n",
        "\n",
        "\n",
        "\n",
        "\n",
        "In the last videos, we looked at single variable regression where our model was\n",
        "\n",
        "$Y = \\alpha + \\beta X + \\epsilon$\n",
        "\n",
        "\n",
        "We now extend to the case where we have several predictor variables, which we denote $X_j$.  In particular,\n",
        "\n",
        "$Y = \\beta_0 + \\beta_1 X_1 + \\beta_2 X_2 + \\cdot + \\beta_p X_p + \\epsilon$\n",
        "\n",
        "\n",
        "Note that we have replaced $\\alpha$ with $\\beta_0$.\n",
        "\n",
        "If have observe $N$ data points, it mean that we have a $N \\times (p+1)$ data matrix \n",
        "\n",
        "$$A = \\begin{bmatrix} \\mathbf{1_N} & \\mathbf{x}_1 & \\mathbf{x}_2 &  \\cdots & \\mathbf{x}_p \\\\ \\end{bmatrix} $$\n",
        "\n",
        "where the column vectors $\\mathbf{x}_j$ are data for variable $X_j$.\n",
        "\n",
        "We denote the column vectors  $Y$ and $\\mathbf{\\epsilon}$ as before \n",
        "\n",
        "and the column vector \n",
        "\n",
        "$$\\mathbf{b} = \\begin{bmatrix} \\beta_0 \\\\ \\beta_1 \\\\ \\vdots \\\\ \\beta_p \\\\ \\end{bmatrix} $$\n",
        "\n",
        "Then our regression problem can be specified as\n",
        "\n",
        "$$A \\mathbf{b} + \\mathbf{\\epsilon} = \\mathbf{y} $$\n",
        "\n",
        "\n",
        "All the math works like before, and the regression coefficients will be\n",
        "\n",
        "$$\\mathbf{b} = (A^TA)^{-1}A^T\\mathbf{y}$$\n",
        "\n",
        "\n",
        "\n",
        "\n"
      ]
    },
    {
      "cell_type": "markdown",
      "id": "80eadea4",
      "metadata": {
        "id": "80eadea4"
      },
      "source": [
        "#### Example\n",
        "\n",
        "Let's grab some financial data for S&P500, Russell2000, the 10 Year Treasury Rate, and Gold. \n",
        "\n",
        "We will perform a linear regression to predict the log-price change in gold with log price changes of the indices and the absolute rate changes in the 10 year treasury rate.   We will use five years of data.\n"
      ]
    },
    {
      "cell_type": "code",
      "source": [
        "!pip install yfinance"
      ],
      "metadata": {
        "id": "Y52dEP_8sD0l",
        "colab": {
          "base_uri": "https://localhost:8080/"
        },
        "outputId": "71b9d777-cb0f-4f90-83de-2e1e6041208a"
      },
      "id": "Y52dEP_8sD0l",
      "execution_count": null,
      "outputs": [
        {
          "output_type": "stream",
          "name": "stdout",
          "text": [
            "Collecting yfinance\n",
            "  Downloading yfinance-0.1.70-py2.py3-none-any.whl (26 kB)\n",
            "Collecting lxml>=4.5.1\n",
            "  Downloading lxml-4.8.0-cp37-cp37m-manylinux_2_17_x86_64.manylinux2014_x86_64.manylinux_2_24_x86_64.whl (6.4 MB)\n",
            "\u001b[K     |████████████████████████████████| 6.4 MB 8.1 MB/s \n",
            "\u001b[?25hRequirement already satisfied: multitasking>=0.0.7 in /usr/local/lib/python3.7/dist-packages (from yfinance) (0.0.10)\n",
            "Requirement already satisfied: numpy>=1.15 in /usr/local/lib/python3.7/dist-packages (from yfinance) (1.21.5)\n",
            "Collecting requests>=2.26\n",
            "  Downloading requests-2.27.1-py2.py3-none-any.whl (63 kB)\n",
            "\u001b[K     |████████████████████████████████| 63 kB 1.3 MB/s \n",
            "\u001b[?25hRequirement already satisfied: pandas>=0.24.0 in /usr/local/lib/python3.7/dist-packages (from yfinance) (1.3.5)\n",
            "Requirement already satisfied: python-dateutil>=2.7.3 in /usr/local/lib/python3.7/dist-packages (from pandas>=0.24.0->yfinance) (2.8.2)\n",
            "Requirement already satisfied: pytz>=2017.3 in /usr/local/lib/python3.7/dist-packages (from pandas>=0.24.0->yfinance) (2018.9)\n",
            "Requirement already satisfied: six>=1.5 in /usr/local/lib/python3.7/dist-packages (from python-dateutil>=2.7.3->pandas>=0.24.0->yfinance) (1.15.0)\n",
            "Requirement already satisfied: urllib3<1.27,>=1.21.1 in /usr/local/lib/python3.7/dist-packages (from requests>=2.26->yfinance) (1.24.3)\n",
            "Requirement already satisfied: certifi>=2017.4.17 in /usr/local/lib/python3.7/dist-packages (from requests>=2.26->yfinance) (2021.10.8)\n",
            "Requirement already satisfied: charset-normalizer~=2.0.0 in /usr/local/lib/python3.7/dist-packages (from requests>=2.26->yfinance) (2.0.12)\n",
            "Requirement already satisfied: idna<4,>=2.5 in /usr/local/lib/python3.7/dist-packages (from requests>=2.26->yfinance) (2.10)\n",
            "Installing collected packages: requests, lxml, yfinance\n",
            "  Attempting uninstall: requests\n",
            "    Found existing installation: requests 2.23.0\n",
            "    Uninstalling requests-2.23.0:\n",
            "      Successfully uninstalled requests-2.23.0\n",
            "  Attempting uninstall: lxml\n",
            "    Found existing installation: lxml 4.2.6\n",
            "    Uninstalling lxml-4.2.6:\n",
            "      Successfully uninstalled lxml-4.2.6\n",
            "\u001b[31mERROR: pip's dependency resolver does not currently take into account all the packages that are installed. This behaviour is the source of the following dependency conflicts.\n",
            "google-colab 1.0.0 requires requests~=2.23.0, but you have requests 2.27.1 which is incompatible.\n",
            "datascience 0.10.6 requires folium==0.2.1, but you have folium 0.8.3 which is incompatible.\u001b[0m\n",
            "Successfully installed lxml-4.8.0 requests-2.27.1 yfinance-0.1.70\n"
          ]
        }
      ]
    },
    {
      "cell_type": "code",
      "execution_count": null,
      "id": "62e12f3b",
      "metadata": {
        "id": "62e12f3b",
        "colab": {
          "base_uri": "https://localhost:8080/"
        },
        "outputId": "a706b8d9-8267-4abf-e3bf-d2942a9d36ea"
      },
      "outputs": [
        {
          "output_type": "stream",
          "name": "stderr",
          "text": [
            "/usr/local/lib/python3.7/dist-packages/statsmodels/tools/_testing.py:19: FutureWarning: pandas.util.testing is deprecated. Use the functions in the public API at pandas.testing instead.\n",
            "  import pandas.util.testing as tm\n"
          ]
        }
      ],
      "source": [
        "import numpy as np\n",
        "import matplotlib.pyplot as plt\n",
        "import scipy.stats as ss\n",
        "import yfinance as yf\n",
        "\n",
        "import pandas as pd\n",
        "\n",
        "import statsmodels.api as sm\n",
        "\n"
      ]
    },
    {
      "cell_type": "code",
      "execution_count": null,
      "id": "a38a48f9",
      "metadata": {
        "id": "a38a48f9",
        "colab": {
          "base_uri": "https://localhost:8080/"
        },
        "outputId": "3bf1c856-5091-48fd-cbc3-e1a5eebed3c6"
      },
      "outputs": [
        {
          "output_type": "stream",
          "name": "stdout",
          "text": [
            "[*********************100%***********************]  4 of 4 completed\n"
          ]
        }
      ],
      "source": [
        "tickers = [\"^GSPC\", \"^RUT\", \"^TNX\" ,\"GC=F\"]\n",
        "\n",
        "data = yf.download(tickers, start = \"2017-01-01\", end = \"2022-01-01\")"
      ]
    },
    {
      "cell_type": "code",
      "execution_count": null,
      "id": "cc976ebf",
      "metadata": {
        "id": "cc976ebf",
        "colab": {
          "base_uri": "https://localhost:8080/",
          "height": 235
        },
        "outputId": "25eec90a-b41d-4492-c92e-da77010957fe"
      },
      "outputs": [
        {
          "output_type": "execute_result",
          "data": {
            "text/html": [
              "\n",
              "  <div id=\"df-c95ceaae-9b36-4cb7-89b3-829d0050f7cb\">\n",
              "    <div class=\"colab-df-container\">\n",
              "      <div>\n",
              "<style scoped>\n",
              "    .dataframe tbody tr th:only-of-type {\n",
              "        vertical-align: middle;\n",
              "    }\n",
              "\n",
              "    .dataframe tbody tr th {\n",
              "        vertical-align: top;\n",
              "    }\n",
              "\n",
              "    .dataframe thead th {\n",
              "        text-align: right;\n",
              "    }\n",
              "</style>\n",
              "<table border=\"1\" class=\"dataframe\">\n",
              "  <thead>\n",
              "    <tr style=\"text-align: right;\">\n",
              "      <th></th>\n",
              "      <th>GC=F</th>\n",
              "      <th>^GSPC</th>\n",
              "      <th>^RUT</th>\n",
              "      <th>TNX</th>\n",
              "    </tr>\n",
              "    <tr>\n",
              "      <th>Date</th>\n",
              "      <th></th>\n",
              "      <th></th>\n",
              "      <th></th>\n",
              "      <th></th>\n",
              "    </tr>\n",
              "  </thead>\n",
              "  <tbody>\n",
              "    <tr>\n",
              "      <th>2017-01-04</th>\n",
              "      <td>0.002926</td>\n",
              "      <td>0.005706</td>\n",
              "      <td>0.016314</td>\n",
              "      <td>0.002</td>\n",
              "    </tr>\n",
              "    <tr>\n",
              "      <th>2017-01-05</th>\n",
              "      <td>0.013570</td>\n",
              "      <td>-0.000771</td>\n",
              "      <td>-0.011602</td>\n",
              "      <td>-0.084</td>\n",
              "    </tr>\n",
              "    <tr>\n",
              "      <th>2017-01-06</th>\n",
              "      <td>-0.006634</td>\n",
              "      <td>0.003511</td>\n",
              "      <td>-0.003402</td>\n",
              "      <td>0.050</td>\n",
              "    </tr>\n",
              "    <tr>\n",
              "      <th>2017-01-09</th>\n",
              "      <td>0.009850</td>\n",
              "      <td>-0.003555</td>\n",
              "      <td>-0.007186</td>\n",
              "      <td>-0.042</td>\n",
              "    </tr>\n",
              "    <tr>\n",
              "      <th>2017-01-10</th>\n",
              "      <td>0.000591</td>\n",
              "      <td>0.000000</td>\n",
              "      <td>0.009830</td>\n",
              "      <td>0.003</td>\n",
              "    </tr>\n",
              "  </tbody>\n",
              "</table>\n",
              "</div>\n",
              "      <button class=\"colab-df-convert\" onclick=\"convertToInteractive('df-c95ceaae-9b36-4cb7-89b3-829d0050f7cb')\"\n",
              "              title=\"Convert this dataframe to an interactive table.\"\n",
              "              style=\"display:none;\">\n",
              "        \n",
              "  <svg xmlns=\"http://www.w3.org/2000/svg\" height=\"24px\"viewBox=\"0 0 24 24\"\n",
              "       width=\"24px\">\n",
              "    <path d=\"M0 0h24v24H0V0z\" fill=\"none\"/>\n",
              "    <path d=\"M18.56 5.44l.94 2.06.94-2.06 2.06-.94-2.06-.94-.94-2.06-.94 2.06-2.06.94zm-11 1L8.5 8.5l.94-2.06 2.06-.94-2.06-.94L8.5 2.5l-.94 2.06-2.06.94zm10 10l.94 2.06.94-2.06 2.06-.94-2.06-.94-.94-2.06-.94 2.06-2.06.94z\"/><path d=\"M17.41 7.96l-1.37-1.37c-.4-.4-.92-.59-1.43-.59-.52 0-1.04.2-1.43.59L10.3 9.45l-7.72 7.72c-.78.78-.78 2.05 0 2.83L4 21.41c.39.39.9.59 1.41.59.51 0 1.02-.2 1.41-.59l7.78-7.78 2.81-2.81c.8-.78.8-2.07 0-2.86zM5.41 20L4 18.59l7.72-7.72 1.47 1.35L5.41 20z\"/>\n",
              "  </svg>\n",
              "      </button>\n",
              "      \n",
              "  <style>\n",
              "    .colab-df-container {\n",
              "      display:flex;\n",
              "      flex-wrap:wrap;\n",
              "      gap: 12px;\n",
              "    }\n",
              "\n",
              "    .colab-df-convert {\n",
              "      background-color: #E8F0FE;\n",
              "      border: none;\n",
              "      border-radius: 50%;\n",
              "      cursor: pointer;\n",
              "      display: none;\n",
              "      fill: #1967D2;\n",
              "      height: 32px;\n",
              "      padding: 0 0 0 0;\n",
              "      width: 32px;\n",
              "    }\n",
              "\n",
              "    .colab-df-convert:hover {\n",
              "      background-color: #E2EBFA;\n",
              "      box-shadow: 0px 1px 2px rgba(60, 64, 67, 0.3), 0px 1px 3px 1px rgba(60, 64, 67, 0.15);\n",
              "      fill: #174EA6;\n",
              "    }\n",
              "\n",
              "    [theme=dark] .colab-df-convert {\n",
              "      background-color: #3B4455;\n",
              "      fill: #D2E3FC;\n",
              "    }\n",
              "\n",
              "    [theme=dark] .colab-df-convert:hover {\n",
              "      background-color: #434B5C;\n",
              "      box-shadow: 0px 1px 3px 1px rgba(0, 0, 0, 0.15);\n",
              "      filter: drop-shadow(0px 1px 2px rgba(0, 0, 0, 0.3));\n",
              "      fill: #FFFFFF;\n",
              "    }\n",
              "  </style>\n",
              "\n",
              "      <script>\n",
              "        const buttonEl =\n",
              "          document.querySelector('#df-c95ceaae-9b36-4cb7-89b3-829d0050f7cb button.colab-df-convert');\n",
              "        buttonEl.style.display =\n",
              "          google.colab.kernel.accessAllowed ? 'block' : 'none';\n",
              "\n",
              "        async function convertToInteractive(key) {\n",
              "          const element = document.querySelector('#df-c95ceaae-9b36-4cb7-89b3-829d0050f7cb');\n",
              "          const dataTable =\n",
              "            await google.colab.kernel.invokeFunction('convertToInteractive',\n",
              "                                                     [key], {});\n",
              "          if (!dataTable) return;\n",
              "\n",
              "          const docLinkHtml = 'Like what you see? Visit the ' +\n",
              "            '<a target=\"_blank\" href=https://colab.research.google.com/notebooks/data_table.ipynb>data table notebook</a>'\n",
              "            + ' to learn more about interactive tables.';\n",
              "          element.innerHTML = '';\n",
              "          dataTable['output_type'] = 'display_data';\n",
              "          await google.colab.output.renderOutput(dataTable, element);\n",
              "          const docLink = document.createElement('div');\n",
              "          docLink.innerHTML = docLinkHtml;\n",
              "          element.appendChild(docLink);\n",
              "        }\n",
              "      </script>\n",
              "    </div>\n",
              "  </div>\n",
              "  "
            ],
            "text/plain": [
              "                GC=F     ^GSPC      ^RUT    TNX\n",
              "Date                                           \n",
              "2017-01-04  0.002926  0.005706  0.016314  0.002\n",
              "2017-01-05  0.013570 -0.000771 -0.011602 -0.084\n",
              "2017-01-06 -0.006634  0.003511 -0.003402  0.050\n",
              "2017-01-09  0.009850 -0.003555 -0.007186 -0.042\n",
              "2017-01-10  0.000591  0.000000  0.009830  0.003"
            ]
          },
          "metadata": {},
          "execution_count": 4
        }
      ],
      "source": [
        "data1 = np.log(data.Close.iloc[:,0:3]).diff()\n",
        "\n",
        "data1[\"TNX\"] = data.Close.iloc[:,-1].diff()\n",
        "\n",
        "data1 = data1.dropna()\n",
        "\n",
        "data1.head()\n"
      ]
    },
    {
      "cell_type": "markdown",
      "id": "b8e72ca1",
      "metadata": {
        "id": "b8e72ca1"
      },
      "source": [
        "Before we start, let's do a pair plot."
      ]
    },
    {
      "cell_type": "code",
      "execution_count": null,
      "id": "acdf5abe",
      "metadata": {
        "id": "acdf5abe",
        "colab": {
          "base_uri": "https://localhost:8080/",
          "height": 623
        },
        "outputId": "75ad1ba5-a8c8-4c7b-f8cd-9ba7f37b3dba"
      },
      "outputs": [
        {
          "output_type": "display_data",
          "data": {
            "image/png": "[encoded data removed]",
            "text/plain": [
              "<Figure size 1080x720 with 16 Axes>"
            ]
          },
          "metadata": {
            "needs_background": "light"
          }
        }
      ],
      "source": [
        "pd.plotting.scatter_matrix(data1, figsize = (15,10),diagonal='kde' ,alpha=0.2)\n",
        "\n",
        "plt.show()"
      ]
    },
    {
      "cell_type": "markdown",
      "id": "b8528c91",
      "metadata": {
        "id": "b8528c91"
      },
      "source": [
        "This doesn't suggest a strong regression, but the plot only gives us a look at two variables at a time."
      ]
    },
    {
      "cell_type": "code",
      "execution_count": null,
      "id": "0cfc0c1b",
      "metadata": {
        "id": "0cfc0c1b",
        "colab": {
          "base_uri": "https://localhost:8080/",
          "height": 465
        },
        "outputId": "4c08f3b7-b02d-4a3a-8c49-056a76e7a9a6"
      },
      "outputs": [
        {
          "output_type": "execute_result",
          "data": {
            "text/html": [
              "<table class=\"simpletable\">\n",
              "<caption>OLS Regression Results</caption>\n",
              "<tr>\n",
              "  <th>Dep. Variable:</th>           <td>TNX</td>       <th>  R-squared (uncentered):</th>      <td>   0.235</td>\n",
              "</tr>\n",
              "<tr>\n",
              "  <th>Model:</th>                   <td>OLS</td>       <th>  Adj. R-squared (uncentered):</th> <td>   0.233</td>\n",
              "</tr>\n",
              "<tr>\n",
              "  <th>Method:</th>             <td>Least Squares</td>  <th>  F-statistic:       </th>          <td>   127.8</td>\n",
              "</tr>\n",
              "<tr>\n",
              "  <th>Date:</th>             <td>Tue, 01 Mar 2022</td> <th>  Prob (F-statistic):</th>          <td>3.06e-72</td>\n",
              "</tr>\n",
              "<tr>\n",
              "  <th>Time:</th>                 <td>23:01:13</td>     <th>  Log-Likelihood:    </th>          <td>  2322.7</td>\n",
              "</tr>\n",
              "<tr>\n",
              "  <th>No. Observations:</th>      <td>  1255</td>      <th>  AIC:               </th>          <td>  -4639.</td>\n",
              "</tr>\n",
              "<tr>\n",
              "  <th>Df Residuals:</th>          <td>  1252</td>      <th>  BIC:               </th>          <td>  -4624.</td>\n",
              "</tr>\n",
              "<tr>\n",
              "  <th>Df Model:</th>              <td>     3</td>      <th>                     </th>              <td> </td>   \n",
              "</tr>\n",
              "<tr>\n",
              "  <th>Covariance Type:</th>      <td>nonrobust</td>    <th>                     </th>              <td> </td>   \n",
              "</tr>\n",
              "</table>\n",
              "<table class=\"simpletable\">\n",
              "<tr>\n",
              "    <td></td>       <th>coef</th>     <th>std err</th>      <th>t</th>      <th>P>|t|</th>  <th>[0.025</th>    <th>0.975]</th>  \n",
              "</tr>\n",
              "<tr>\n",
              "  <th>GC=F</th>  <td>   -1.6140</td> <td>    0.119</td> <td>  -13.596</td> <td> 0.000</td> <td>   -1.847</td> <td>   -1.381</td>\n",
              "</tr>\n",
              "<tr>\n",
              "  <th>^GSPC</th> <td>    0.7655</td> <td>    0.182</td> <td>    4.197</td> <td> 0.000</td> <td>    0.408</td> <td>    1.123</td>\n",
              "</tr>\n",
              "<tr>\n",
              "  <th>^RUT</th>  <td>    0.4727</td> <td>    0.143</td> <td>    3.314</td> <td> 0.001</td> <td>    0.193</td> <td>    0.752</td>\n",
              "</tr>\n",
              "</table>\n",
              "<table class=\"simpletable\">\n",
              "<tr>\n",
              "  <th>Omnibus:</th>       <td>219.764</td> <th>  Durbin-Watson:     </th> <td>   2.041</td>\n",
              "</tr>\n",
              "<tr>\n",
              "  <th>Prob(Omnibus):</th> <td> 0.000</td>  <th>  Jarque-Bera (JB):  </th> <td>2914.472</td>\n",
              "</tr>\n",
              "<tr>\n",
              "  <th>Skew:</th>          <td> 0.371</td>  <th>  Prob(JB):          </th> <td>    0.00</td>\n",
              "</tr>\n",
              "<tr>\n",
              "  <th>Kurtosis:</th>      <td>10.429</td>  <th>  Cond. No.          </th> <td>    4.02</td>\n",
              "</tr>\n",
              "</table><br/><br/>Warnings:<br/>[1] Standard Errors assume that the covariance matrix of the errors is correctly specified."
            ],
            "text/plain": [
              "<class 'statsmodels.iolib.summary.Summary'>\n",
              "\"\"\"\n",
              "                                 OLS Regression Results                                \n",
              "=======================================================================================\n",
              "Dep. Variable:                    TNX   R-squared (uncentered):                   0.235\n",
              "Model:                            OLS   Adj. R-squared (uncentered):              0.233\n",
              "Method:                 Least Squares   F-statistic:                              127.8\n",
              "Date:                Tue, 01 Mar 2022   Prob (F-statistic):                    3.06e-72\n",
              "Time:                        23:01:13   Log-Likelihood:                          2322.7\n",
              "No. Observations:                1255   AIC:                                     -4639.\n",
              "Df Residuals:                    1252   BIC:                                     -4624.\n",
              "Df Model:                           3                                                  \n",
              "Covariance Type:            nonrobust                                                  \n",
              "==============================================================================\n",
              "                 coef    std err          t      P>|t|      [0.025      0.975]\n",
              "------------------------------------------------------------------------------\n",
              "GC=F          -1.6140      0.119    -13.596      0.000      -1.847      -1.381\n",
              "^GSPC          0.7655      0.182      4.197      0.000       0.408       1.123\n",
              "^RUT           0.4727      0.143      3.314      0.001       0.193       0.752\n",
              "==============================================================================\n",
              "Omnibus:                      219.764   Durbin-Watson:                   2.041\n",
              "Prob(Omnibus):                  0.000   Jarque-Bera (JB):             2914.472\n",
              "Skew:                           0.371   Prob(JB):                         0.00\n",
              "Kurtosis:                      10.429   Cond. No.                         4.02\n",
              "==============================================================================\n",
              "\n",
              "Warnings:\n",
              "[1] Standard Errors assume that the covariance matrix of the errors is correctly specified.\n",
              "\"\"\""
            ]
          },
          "metadata": {},
          "execution_count": 6
        }
      ],
      "source": [
        "model = sm.OLS(data1[\"TNX\"], data1.iloc[:,0:3])\n",
        "result = model.fit()\n",
        "\n",
        "result.summary()"
      ]
    },
    {
      "cell_type": "markdown",
      "id": "bff809fd",
      "metadata": {
        "id": "bff809fd"
      },
      "source": [
        "Oh wait, we forgot to make a constant column.  Easy enough."
      ]
    },
    {
      "cell_type": "code",
      "execution_count": null,
      "id": "0684fdef",
      "metadata": {
        "id": "0684fdef",
        "colab": {
          "base_uri": "https://localhost:8080/"
        },
        "outputId": "b1c1378c-9d76-443e-ba66-984406841eb7"
      },
      "outputs": [
        {
          "output_type": "stream",
          "name": "stderr",
          "text": [
            "/usr/local/lib/python3.7/dist-packages/statsmodels/tsa/tsatools.py:117: FutureWarning: In a future version of pandas all arguments of concat except for the argument 'objs' will be keyword-only\n",
            "  x = pd.concat(x[::order], 1)\n"
          ]
        }
      ],
      "source": [
        "data1C = sm.add_constant(data1)"
      ]
    },
    {
      "cell_type": "code",
      "execution_count": null,
      "id": "048c57fc",
      "metadata": {
        "id": "048c57fc",
        "colab": {
          "base_uri": "https://localhost:8080/",
          "height": 486
        },
        "outputId": "2eb22714-3fb9-4e4c-9bc3-bcdeedf9e3da"
      },
      "outputs": [
        {
          "output_type": "execute_result",
          "data": {
            "text/html": [
              "<table class=\"simpletable\">\n",
              "<caption>OLS Regression Results</caption>\n",
              "<tr>\n",
              "  <th>Dep. Variable:</th>           <td>TNX</td>       <th>  R-squared:         </th> <td>   0.235</td>\n",
              "</tr>\n",
              "<tr>\n",
              "  <th>Model:</th>                   <td>OLS</td>       <th>  Adj. R-squared:    </th> <td>   0.233</td>\n",
              "</tr>\n",
              "<tr>\n",
              "  <th>Method:</th>             <td>Least Squares</td>  <th>  F-statistic:       </th> <td>   127.8</td>\n",
              "</tr>\n",
              "<tr>\n",
              "  <th>Date:</th>             <td>Tue, 01 Mar 2022</td> <th>  Prob (F-statistic):</th> <td>3.15e-72</td>\n",
              "</tr>\n",
              "<tr>\n",
              "  <th>Time:</th>                 <td>23:01:24</td>     <th>  Log-Likelihood:    </th> <td>  2323.0</td>\n",
              "</tr>\n",
              "<tr>\n",
              "  <th>No. Observations:</th>      <td>  1255</td>      <th>  AIC:               </th> <td>  -4638.</td>\n",
              "</tr>\n",
              "<tr>\n",
              "  <th>Df Residuals:</th>          <td>  1251</td>      <th>  BIC:               </th> <td>  -4617.</td>\n",
              "</tr>\n",
              "<tr>\n",
              "  <th>Df Model:</th>              <td>     3</td>      <th>                     </th>     <td> </td>   \n",
              "</tr>\n",
              "<tr>\n",
              "  <th>Covariance Type:</th>      <td>nonrobust</td>    <th>                     </th>     <td> </td>   \n",
              "</tr>\n",
              "</table>\n",
              "<table class=\"simpletable\">\n",
              "<tr>\n",
              "    <td></td>       <th>coef</th>     <th>std err</th>      <th>t</th>      <th>P>|t|</th>  <th>[0.025</th>    <th>0.975]</th>  \n",
              "</tr>\n",
              "<tr>\n",
              "  <th>const</th> <td>   -0.0008</td> <td>    0.001</td> <td>   -0.707</td> <td> 0.480</td> <td>   -0.003</td> <td>    0.001</td>\n",
              "</tr>\n",
              "<tr>\n",
              "  <th>GC=F</th>  <td>   -1.6108</td> <td>    0.119</td> <td>  -13.555</td> <td> 0.000</td> <td>   -1.844</td> <td>   -1.378</td>\n",
              "</tr>\n",
              "<tr>\n",
              "  <th>^GSPC</th> <td>    0.7727</td> <td>    0.183</td> <td>    4.229</td> <td> 0.000</td> <td>    0.414</td> <td>    1.131</td>\n",
              "</tr>\n",
              "<tr>\n",
              "  <th>^RUT</th>  <td>    0.4690</td> <td>    0.143</td> <td>    3.285</td> <td> 0.001</td> <td>    0.189</td> <td>    0.749</td>\n",
              "</tr>\n",
              "</table>\n",
              "<table class=\"simpletable\">\n",
              "<tr>\n",
              "  <th>Omnibus:</th>       <td>219.744</td> <th>  Durbin-Watson:     </th> <td>   2.042</td>\n",
              "</tr>\n",
              "<tr>\n",
              "  <th>Prob(Omnibus):</th> <td> 0.000</td>  <th>  Jarque-Bera (JB):  </th> <td>2908.665</td>\n",
              "</tr>\n",
              "<tr>\n",
              "  <th>Skew:</th>          <td> 0.371</td>  <th>  Prob(JB):          </th> <td>    0.00</td>\n",
              "</tr>\n",
              "<tr>\n",
              "  <th>Kurtosis:</th>      <td>10.421</td>  <th>  Cond. No.          </th> <td>    209.</td>\n",
              "</tr>\n",
              "</table><br/><br/>Warnings:<br/>[1] Standard Errors assume that the covariance matrix of the errors is correctly specified."
            ],
            "text/plain": [
              "<class 'statsmodels.iolib.summary.Summary'>\n",
              "\"\"\"\n",
              "                            OLS Regression Results                            \n",
              "==============================================================================\n",
              "Dep. Variable:                    TNX   R-squared:                       0.235\n",
              "Model:                            OLS   Adj. R-squared:                  0.233\n",
              "Method:                 Least Squares   F-statistic:                     127.8\n",
              "Date:                Tue, 01 Mar 2022   Prob (F-statistic):           3.15e-72\n",
              "Time:                        23:01:24   Log-Likelihood:                 2323.0\n",
              "No. Observations:                1255   AIC:                            -4638.\n",
              "Df Residuals:                    1251   BIC:                            -4617.\n",
              "Df Model:                           3                                         \n",
              "Covariance Type:            nonrobust                                         \n",
              "==============================================================================\n",
              "                 coef    std err          t      P>|t|      [0.025      0.975]\n",
              "------------------------------------------------------------------------------\n",
              "const         -0.0008      0.001     -0.707      0.480      -0.003       0.001\n",
              "GC=F          -1.6108      0.119    -13.555      0.000      -1.844      -1.378\n",
              "^GSPC          0.7727      0.183      4.229      0.000       0.414       1.131\n",
              "^RUT           0.4690      0.143      3.285      0.001       0.189       0.749\n",
              "==============================================================================\n",
              "Omnibus:                      219.744   Durbin-Watson:                   2.042\n",
              "Prob(Omnibus):                  0.000   Jarque-Bera (JB):             2908.665\n",
              "Skew:                           0.371   Prob(JB):                         0.00\n",
              "Kurtosis:                      10.421   Cond. No.                         209.\n",
              "==============================================================================\n",
              "\n",
              "Warnings:\n",
              "[1] Standard Errors assume that the covariance matrix of the errors is correctly specified.\n",
              "\"\"\""
            ]
          },
          "metadata": {},
          "execution_count": 8
        }
      ],
      "source": [
        "modelC = sm.OLS(data1C[\"TNX\"], data1C.iloc[:,0:4])\n",
        "resultC = modelC.fit()\n",
        "\n",
        "resultC.summary()"
      ]
    },
    {
      "cell_type": "markdown",
      "id": "fa010e44",
      "metadata": {
        "id": "fa010e44"
      },
      "source": [
        "We see that the constant probably is irrelevant here.\n",
        "\n",
        "Interestingly, the coefficients have small p-values, suggesting that there is *some* kind of relationship. "
      ]
    },
    {
      "cell_type": "markdown",
      "id": "f9010f3f",
      "metadata": {
        "id": "f9010f3f"
      },
      "source": [
        "## Interpreting the output\n",
        "\n",
        "We will discuss some the common metrics that are aasociated with liner regression and we will see that many of them show up in the standard output of OLS above.\n",
        "\n",
        "\n",
        "\n",
        "\n",
        "### Standard Errors.\n",
        "\n",
        "\n",
        "Assuming the model is correct, but we just don't know coefficients, we can compute the standard deviation of our estimators for the coefficients (ignoring for the moment the constant term).  \n",
        "\n",
        "Recall from the single variable case that $\\hat{\\beta} = \\sum_i^N w_i y_i$  where\n",
        "\n",
        "$$w_i = \\frac{x_i - \\bar{x}}{N\\mathrm{Var}(x)}$$\n",
        "\n",
        "\n",
        "In the true model, $y_i = \\alpha + \\beta x_i + \\epsilon_i $, hence\n",
        "\n",
        "$$\\mathrm{Var}(y_i| \\mathbf{x}) = \\mathrm{Var}(\\epsilon_i) = \\sigma_{\\epsilon}^2$$\n",
        "\n",
        "since the errors are IID.\n",
        "\n",
        "Hence,\n",
        "\n",
        "$$\\mathrm{Var}(\\hat{\\beta}| \\mathbf{x})= \\sum_{i=1}^N w_i^2\\mathrm{Var}(y_i|\\mathbf{x})\\\\\n",
        "= \\sigma_{\\epsilon}^2\\sum_{i=1}^N w_i^2$$\n",
        "\n",
        "This means that if we knew in advance $\\sigma_{\\epsilon}^2$ we would know the variance of our estimator $\\hat{\\beta}$\n",
        "\n",
        "We don't know that.  But we **DO** have an estimate for $\\sigma_{\\epsilon}^2$.  Namely, we use the sample residual\n",
        "$\\hat{\\epsilon}_i = \\hat{y}_i - y_i$ and compute\n",
        "\n",
        "$$\\hat{\\sigma}_{\\epsilon}^2=\\frac{1}{N-1} \\sum_{i=1}^N (\\hat{\\epsilon_i} - \\bar{\\hat{\\epsilon_i}}   )^2 $$\n",
        "\n",
        "\n",
        "(Note that if we have an intercept,  $\\bar{\\hat{\\epsilon_i}} = 0$)\n",
        "\n",
        "\n",
        "Therefore, our standard estimate for the variance of $\\hat{\\beta}$ is\n",
        "\n",
        "$$SE_{\\hat{\\beta}} = \\sqrt{\\hat{\\sigma}_{\\epsilon}^2\\sum_{i=1}^N w_i^2}$$\n",
        "\n",
        "and we apply the t distribution with $N-p-1$ degrees freedom to this value (Actually, should be dfR - see below).\n",
        "\n",
        "\n",
        "There are formulas like this for each coefficient in a multi-variable regression including any constant.  \n",
        "\n",
        "These standard errors are then used to produce a t-stastic, a $p$ value, and confidence intervals. See the OLS output summry above.\n",
        "\n",
        "\n",
        "**Comment**\n",
        "\n",
        "The p-values for  given coefficient represent the p-value associted with null hypotheis that the model is true, but the particular coefficient is $0$.  If the p-value is very small, this contradicts the null hypothesis.  This can either mean that the model is true and coefficient is *not* zero, or the model is not true. But in the latter case, we would likely be correct to believe that there is *some* relationship between the given variable and $y$.\n",
        "\n",
        "\n",
        "\n",
        "\n",
        "\n",
        "\n",
        "\n"
      ]
    },
    {
      "cell_type": "markdown",
      "id": "c833aeb8",
      "metadata": {
        "id": "c833aeb8"
      },
      "source": [
        "### SSE, SSM, SST, $R^2$\n",
        "\n",
        "\n",
        "Before we even look at the $X_j$ variables (the predictors), the $Y$ vector will have its own variance.  It is\n",
        "\n",
        "$$\\mathrm{Var}(y) = \\frac{1}{N}\\sum_{i=1}^N (y_i - \\bar{y})^2$$\n",
        "\n",
        "\n",
        "But another way to describe this is to forget the $N$ (for the moment) and just calculate the total sum-squared deviation of $y$\n",
        "\n",
        "$$SST = \\sum_{i=1}^N (y_i - \\bar{y})^2$$\n",
        "\n",
        "Previously, we discussed minimizing the sum squared residuals of the model,let's call the SSE (for Sum Squared Error):\n",
        "\n",
        "$$SSE = \\sum_{i=1}^N (\\hat{y}_i - y_i)^2$$\n",
        "\n",
        "Analogous to $SST$, we can calculate $SSM$ (Sum squared model).  It just replaces $y$ with $\\hat{y}$ in $SST$\n",
        "\n",
        "$$SSM = \\sum_{i=1}^N (\\hat{y}_i - \\bar{y})^2$$\n",
        "\n",
        "This is also sometimes call the Regression Sum-Squared.  But RSS would be amiguous then.\n",
        "\n",
        "\n",
        "There two things you'll want to know.\n",
        "\n",
        "1. Under typical circumstances, $SST = SSE + SSM$\n",
        "\n",
        "What are those circumstances?  Either the model has a constant term, or the $Y$ data is centered so that $\\bar{y} =0$.\n",
        "\n",
        "To see this, we write\n",
        "\n",
        "$$ SSE + SSM = \\sum_{i=1}^N (\\hat{y}_i - y_i)^2 + \\sum_{i=1}^N (\\hat{y}_i - \\bar{y})^2\\\\\n",
        "=  \\sum_{i=1}^N \\left(\\hat{y}_i^2 - 2\\hat{y}_i y_i + y_i^2 +  \\hat{y}_i^2 -2\\hat{y}_i\\bar{y} + \\bar{y}^2                 \\right)\\\\\n",
        "=2\\sum_{i=1}^N (\\hat{y}_i^2  - \\hat{y}_i y_i - \\hat{y}_i\\bar{y}) + \\sum_{i=1}^N  y_i^2 + N \\bar{y}^2\\\\\n",
        "= 2\\sum_{i=1}^N \\hat{y}_i(\\hat{y}_i  -  y_i)  -2\\sum_{i=1}^N  \\hat{y}_i\\bar{y}+ \\sum_{i=1}^N  y_i^2 + N \\bar{y}^2  $$\n",
        "\n",
        "\n",
        "However, we first recall that the residual vector is in the orhtogonal complement of of column space of the data matrix (where $\\hat{\\mathbf{y}}$ lives.  So the firsts summation is zero as it is their innner product. We now have\n",
        "\n",
        "\n",
        "\n",
        "$$ SSE + SSM =-2\\bar{y}\\sum_{i=1}^N  \\hat{y}_i+ \\sum_{i=1}^N  y_i^2 + N \\bar{y}^2$$\n",
        "\n",
        "In the caes that $\\bar{y} = 0$ (centered data), the result immediately follows.  \n",
        "\n",
        "In the case that there is a constant, the column vecotor of ones is in the column space of $A$.  It follows that $\\sum_{i=1}^N  \\hat{y}_i = N\\bar{y}$ and the result follows anyway. \n",
        "\n",
        "\n",
        "\n",
        "\n",
        "2. The values $R^2$ associated with the regression, is the ratio $R^2 = \\frac{SSM}{SST}$\n",
        "\n",
        "It is commonly referred to as the percentage of the variance explained by the model (makes sense if wew divide numerator and denominator by $N$).\n",
        "\n",
        "\n",
        "Note that in the output above, the $R^2$ is reported as being \"uncentered\".  That means in calculated the ratio \n",
        "$R^2 = \\frac{SSM}{SST}$ but did not check that $SSM + SSE = SST$  This matters because sometimes people compute $R^2$ as \n",
        "\n",
        "$$R^2 = 1- \\frac{SSE}{SST}$$"
      ]
    },
    {
      "cell_type": "markdown",
      "id": "bc4a064c",
      "metadata": {
        "id": "bc4a064c"
      },
      "source": [
        "### Degrees Freedom\n",
        "\n",
        "The total degrees freedom is the number of observation of $y$. $\\text{dfT}= N$\n",
        "\n",
        "If the model uses $p$ variables, we would say that the model has $p$ degrees freedom.  $\\text{dfM} = p$\n",
        "\n",
        "If the data has $dfT$ degrees freedom and the model has $dfM$ degrees freedom, then the residuals have $dfR = dfT- dfM$ degrees freedom\n",
        "\n",
        "\n",
        "The concept here is that the $y$ vector lives in $\\mathbb{R}^N$ and the column space of the data matrix lives in a $p$ dimensional subspace of  $\\mathbb{R}^N$.  Hence, the error vectors will live in a $N-p$ dimensional subspace of $\\mathbb{R}^N$.\n",
        "\n",
        "However, we will some slight adjustments to this if we have either centered the $Y$ data, or are using an constant in the linear regression.\n",
        "\n",
        "\n",
        "If we center the $Y$ data, then the total degrees freedom becomes $N -1$.\n",
        "\n",
        "If there is an intercept (not the same thing as centering y), the residual df is reduced by 1 to $N-p -1$\n",
        "\n",
        "\n",
        "\n",
        "\n",
        "\n",
        "\n",
        "\n",
        "\n",
        "\n",
        "\n",
        "\n",
        "\n",
        "\n"
      ]
    },
    {
      "cell_type": "markdown",
      "id": "3b1010ff",
      "metadata": {
        "id": "3b1010ff"
      },
      "source": [
        "### F test\n",
        "\n",
        "The t-test for the individual coefficients test whether a certain coefficient is zero. But is not uncommon that the data do compel us that any one coefficient is not zero.  Nevertheless, the model might be quite useful.  \n",
        "\n",
        "We seek a test where the null hypotheis is that *all* of the coefficients are zero.\n",
        "\n",
        "\n",
        "There is such a test.  It is the F test.\n",
        "\n",
        "The F statistic is\n",
        "\n",
        "$$F = \\frac{\\frac{SSM}{dfM}}{\\frac{SSE}{dfE}}$$\n",
        "\n",
        "and the degrees freedom are the pair $(dfM, dfE)$ (the F distribution has two DFs associated with it).\n",
        "\n",
        "A small p-value here suggest that either\n",
        "\n",
        "1) That the model is true but at least one of the coefficients is *not* zero (good).\n",
        "\n",
        "2) The model is not true. But again, in this case, it strongly suggests that there is some relationship between the target $Y$ and the variables $X_j$.\n",
        "\n"
      ]
    },
    {
      "cell_type": "markdown",
      "id": "84f9cbb7",
      "metadata": {
        "id": "84f9cbb7"
      },
      "source": [
        "### Adjusted $R^2$\n",
        "\n",
        "When we add more predicters, the $R^2$ will always go up.  Recall that, in the case of an intercept, \n",
        "$$R^2 = \\frac{SSM}{SST} = 1- \\frac{SSE}{SST}$$ \n",
        "\n",
        "The fraction $\\frac{SSE}{SST}$ is often referred to as the unexplained variance.  But an adjustment would be to divivde each by their degrees freedom. \n",
        "\n",
        "$$R_{adj} = 1 - \\frac{\\frac{SSE}{N-p-1}}{\\frac{SST}{N-1}}$$ \n",
        "\n",
        "Note that we use $N-1$ for SST because it is calculated relative to $\\bar{y}$.  In other words, each is an ubiased estimate of the respective variances.\n",
        "\n"
      ]
    },
    {
      "cell_type": "markdown",
      "id": "7d677335",
      "metadata": {
        "id": "7d677335"
      },
      "source": [
        "### Log-Liklihood, AIC, BIC\n",
        "\n",
        "The model assumes that the residuals are distibuted normally with variance $\\sigma^2$. That means we can calculate the log-liklihood as\n",
        "\n",
        "$$\\ell(\\hat{\\sigma}_{\\epsilon}) = -N\\frac{1}{2}\\ln(2\\pi) - N\\ln(\\hat{\\sigma}_{\\epsilon}) - \\frac{1}{2}\\sum_{i=1}^N\\frac{\\epsilon_i^2}{\\hat{\\sigma}_{\\epsilon}^2}\\\\\n",
        "=-\\frac{N}{2}\\ln(2\\pi) - N\\ln(\\hat{\\sigma}_{\\epsilon}) -\\frac{1}{2}(N-p-1)$$\n",
        "\n",
        "\n",
        "\n",
        "From this, we can immediately calculate the AIC and BIC since\n",
        "\n",
        "$$AIC = -2\\ell + 2(p+1)$$ \n",
        "\n",
        "(or $-2\\ell + 2(p)$  if there is no intercept).\n",
        "\n",
        "and\n",
        "\n",
        "$$BIC = -2\\ell + p\\ln(N)$$\n",
        "\n",
        "\n",
        "We can use these to determine whether including more predictor variables has sufficiently improved the model.\n",
        "\n",
        "\n"
      ]
    },
    {
      "cell_type": "markdown",
      "id": "a6cd4547",
      "metadata": {
        "id": "a6cd4547"
      },
      "source": [
        "### Normality of the residuals\n",
        "\n",
        "The assumptions underlying linear regression include the assumption that the error term is normally distributed.  Consequently, the residuals should appear to be normally distributed.  We have previosly discussed various tests of normality and two are included in the OLS output. One is the Jarque-Bera test (looks at skew and kurtosis).  The other is the omnibus test (which we did not previously disscuss).  We will talk about this more next week along with some of the other reported values (Durban-Watson and condition number). \n",
        "\n",
        "\n",
        "\n"
      ]
    },
    {
      "cell_type": "markdown",
      "id": "aa8ca2f2",
      "metadata": {
        "id": "aa8ca2f2"
      },
      "source": [
        "### Example\n",
        "\n",
        "Let manually calculate the regression done above (with a constant) and see if we can replicte  the output we have discussed.  \n",
        "\n",
        "Just to recall:\n"
      ]
    },
    {
      "cell_type": "code",
      "execution_count": null,
      "id": "e47d5cd8",
      "metadata": {
        "id": "e47d5cd8",
        "colab": {
          "base_uri": "https://localhost:8080/",
          "height": 494
        },
        "outputId": "e0ae0929-43b9-47e2-8c3e-f423ad326ddf"
      },
      "outputs": [
        {
          "output_type": "execute_result",
          "data": {
            "text/html": [
              "<table class=\"simpletable\">\n",
              "<caption>OLS Regression Results</caption>\n",
              "<tr>\n",
              "  <th>Dep. Variable:</th>           <td>TNX</td>       <th>  R-squared:         </th> <td>   0.235</td>\n",
              "</tr>\n",
              "<tr>\n",
              "  <th>Model:</th>                   <td>OLS</td>       <th>  Adj. R-squared:    </th> <td>   0.233</td>\n",
              "</tr>\n",
              "<tr>\n",
              "  <th>Method:</th>             <td>Least Squares</td>  <th>  F-statistic:       </th> <td>   127.8</td>\n",
              "</tr>\n",
              "<tr>\n",
              "  <th>Date:</th>             <td>Fri, 25 Feb 2022</td> <th>  Prob (F-statistic):</th> <td>3.15e-72</td>\n",
              "</tr>\n",
              "<tr>\n",
              "  <th>Time:</th>                 <td>00:25:59</td>     <th>  Log-Likelihood:    </th> <td>  2323.0</td>\n",
              "</tr>\n",
              "<tr>\n",
              "  <th>No. Observations:</th>      <td>  1255</td>      <th>  AIC:               </th> <td>  -4638.</td>\n",
              "</tr>\n",
              "<tr>\n",
              "  <th>Df Residuals:</th>          <td>  1251</td>      <th>  BIC:               </th> <td>  -4617.</td>\n",
              "</tr>\n",
              "<tr>\n",
              "  <th>Df Model:</th>              <td>     3</td>      <th>                     </th>     <td> </td>   \n",
              "</tr>\n",
              "<tr>\n",
              "  <th>Covariance Type:</th>      <td>nonrobust</td>    <th>                     </th>     <td> </td>   \n",
              "</tr>\n",
              "</table>\n",
              "<table class=\"simpletable\">\n",
              "<tr>\n",
              "    <td></td>       <th>coef</th>     <th>std err</th>      <th>t</th>      <th>P>|t|</th>  <th>[0.025</th>    <th>0.975]</th>  \n",
              "</tr>\n",
              "<tr>\n",
              "  <th>const</th> <td>   -0.0008</td> <td>    0.001</td> <td>   -0.707</td> <td> 0.480</td> <td>   -0.003</td> <td>    0.001</td>\n",
              "</tr>\n",
              "<tr>\n",
              "  <th>GC=F</th>  <td>   -1.6108</td> <td>    0.119</td> <td>  -13.555</td> <td> 0.000</td> <td>   -1.844</td> <td>   -1.378</td>\n",
              "</tr>\n",
              "<tr>\n",
              "  <th>^GSPC</th> <td>    0.7727</td> <td>    0.183</td> <td>    4.229</td> <td> 0.000</td> <td>    0.414</td> <td>    1.131</td>\n",
              "</tr>\n",
              "<tr>\n",
              "  <th>^RUT</th>  <td>    0.4690</td> <td>    0.143</td> <td>    3.285</td> <td> 0.001</td> <td>    0.189</td> <td>    0.749</td>\n",
              "</tr>\n",
              "</table>\n",
              "<table class=\"simpletable\">\n",
              "<tr>\n",
              "  <th>Omnibus:</th>       <td>219.744</td> <th>  Durbin-Watson:     </th> <td>   2.042</td>\n",
              "</tr>\n",
              "<tr>\n",
              "  <th>Prob(Omnibus):</th> <td> 0.000</td>  <th>  Jarque-Bera (JB):  </th> <td>2908.665</td>\n",
              "</tr>\n",
              "<tr>\n",
              "  <th>Skew:</th>          <td> 0.371</td>  <th>  Prob(JB):          </th> <td>    0.00</td>\n",
              "</tr>\n",
              "<tr>\n",
              "  <th>Kurtosis:</th>      <td>10.421</td>  <th>  Cond. No.          </th> <td>    209.</td>\n",
              "</tr>\n",
              "</table><br/><br/>Warnings:<br/>[1] Standard Errors assume that the covariance matrix of the errors is correctly specified."
            ],
            "text/plain": [
              "<class 'statsmodels.iolib.summary.Summary'>\n",
              "\"\"\"\n",
              "                            OLS Regression Results                            \n",
              "==============================================================================\n",
              "Dep. Variable:                    TNX   R-squared:                       0.235\n",
              "Model:                            OLS   Adj. R-squared:                  0.233\n",
              "Method:                 Least Squares   F-statistic:                     127.8\n",
              "Date:                Fri, 25 Feb 2022   Prob (F-statistic):           3.15e-72\n",
              "Time:                        00:25:59   Log-Likelihood:                 2323.0\n",
              "No. Observations:                1255   AIC:                            -4638.\n",
              "Df Residuals:                    1251   BIC:                            -4617.\n",
              "Df Model:                           3                                         \n",
              "Covariance Type:            nonrobust                                         \n",
              "==============================================================================\n",
              "                 coef    std err          t      P>|t|      [0.025      0.975]\n",
              "------------------------------------------------------------------------------\n",
              "const         -0.0008      0.001     -0.707      0.480      -0.003       0.001\n",
              "GC=F          -1.6108      0.119    -13.555      0.000      -1.844      -1.378\n",
              "^GSPC          0.7727      0.183      4.229      0.000       0.414       1.131\n",
              "^RUT           0.4690      0.143      3.285      0.001       0.189       0.749\n",
              "==============================================================================\n",
              "Omnibus:                      219.744   Durbin-Watson:                   2.042\n",
              "Prob(Omnibus):                  0.000   Jarque-Bera (JB):             2908.665\n",
              "Skew:                           0.371   Prob(JB):                         0.00\n",
              "Kurtosis:                      10.421   Cond. No.                         209.\n",
              "==============================================================================\n",
              "\n",
              "Warnings:\n",
              "[1] Standard Errors assume that the covariance matrix of the errors is correctly specified.\n",
              "\"\"\""
            ]
          },
          "metadata": {},
          "execution_count": 10
        }
      ],
      "source": [
        "modelC = sm.OLS(data1C[\"TNX\"], data1C.iloc[:,0:4])\n",
        "resultC = modelC.fit()\n",
        "\n",
        "resultC.summary()"
      ]
    },
    {
      "cell_type": "markdown",
      "id": "aad1bf4c",
      "metadata": {
        "id": "aad1bf4c"
      },
      "source": [
        "We make our own data matrix from the data frame but turn it into a numpy array so we can calculate what we need easily."
      ]
    },
    {
      "cell_type": "code",
      "execution_count": null,
      "id": "41189ca3",
      "metadata": {
        "id": "41189ca3",
        "colab": {
          "base_uri": "https://localhost:8080/"
        },
        "outputId": "17c76443-0381-4c28-df5a-a1ecc17df805"
      },
      "outputs": [
        {
          "output_type": "stream",
          "name": "stdout",
          "text": [
            "Total df is (number of observations is N =  1255\n",
            "The model degrees freedom is  3\n",
            "The residuals degree freedom is  1251\n"
          ]
        }
      ],
      "source": [
        "y = np.array(data1C[\"TNX\"])\n",
        "A = np.array(data1C.iloc[:,0:4])\n",
        "N  = len(y)\n",
        "print(\"Total df is (number of observations is N = \",N)\n",
        "p = 3\n",
        "\n",
        "print(\"The model degrees freedom is \", p)\n",
        "\n",
        "print(\"The residuals degree freedom is \", N-(p+1))\n"
      ]
    },
    {
      "cell_type": "markdown",
      "id": "d4641ab6",
      "metadata": {
        "id": "d4641ab6"
      },
      "source": [
        "Get the estimates"
      ]
    },
    {
      "cell_type": "code",
      "execution_count": null,
      "id": "2c889887",
      "metadata": {
        "id": "2c889887",
        "colab": {
          "base_uri": "https://localhost:8080/"
        },
        "outputId": "449ec6ad-c5dd-483b-f254-483795eb8ac6"
      },
      "outputs": [
        {
          "output_type": "execute_result",
          "data": {
            "text/plain": [
              "array([-7.61789910e-04, -1.61076726e+00,  7.72733092e-01,  4.68973136e-01])"
            ]
          },
          "metadata": {},
          "execution_count": 12
        }
      ],
      "source": [
        "b = np.linalg.pinv(A)@y\n",
        "b"
      ]
    },
    {
      "cell_type": "markdown",
      "id": "9e4b5e23",
      "metadata": {
        "id": "9e4b5e23"
      },
      "source": [
        "Get $\\hat{y}_i$s and $\\hat{\\epsilon}_i$s"
      ]
    },
    {
      "cell_type": "code",
      "execution_count": null,
      "id": "d511661f",
      "metadata": {
        "id": "d511661f"
      },
      "outputs": [],
      "source": [
        "yhat = A@b\n",
        "\n",
        "ehat = yhat - y"
      ]
    },
    {
      "cell_type": "markdown",
      "id": "3904847b",
      "metadata": {
        "id": "3904847b"
      },
      "source": [
        "Check that the $\\hat{y}$ and $\\hat{\\epsilon}$ vectors are orthogonal."
      ]
    },
    {
      "cell_type": "code",
      "execution_count": null,
      "id": "02cf79a6",
      "metadata": {
        "id": "02cf79a6",
        "colab": {
          "base_uri": "https://localhost:8080/"
        },
        "outputId": "ae265add-9f8c-4178-e8a7-22637e23bdfd"
      },
      "outputs": [
        {
          "output_type": "execute_result",
          "data": {
            "text/plain": [
              "1.736078728692414e-16"
            ]
          },
          "metadata": {},
          "execution_count": 14
        }
      ],
      "source": [
        "yhat@ehat"
      ]
    },
    {
      "cell_type": "markdown",
      "id": "6a4d4479",
      "metadata": {
        "id": "6a4d4479"
      },
      "source": [
        "Since we have an intercept, check that the sum of the residuals is zero."
      ]
    },
    {
      "cell_type": "code",
      "execution_count": null,
      "id": "4abace91",
      "metadata": {
        "id": "4abace91",
        "colab": {
          "base_uri": "https://localhost:8080/"
        },
        "outputId": "4c451a2b-18ca-4ab8-b881-f7788156ac56"
      },
      "outputs": [
        {
          "output_type": "execute_result",
          "data": {
            "text/plain": [
              "9.325873406851315e-15"
            ]
          },
          "metadata": {},
          "execution_count": 15
        }
      ],
      "source": [
        "ehat.sum()"
      ]
    },
    {
      "cell_type": "markdown",
      "id": "6fcb27c0",
      "metadata": {
        "id": "6fcb27c0"
      },
      "source": [
        "Cacluate SST, SSE and SSM"
      ]
    },
    {
      "cell_type": "code",
      "execution_count": null,
      "id": "77fb965b",
      "metadata": {
        "id": "77fb965b",
        "colab": {
          "base_uri": "https://localhost:8080/"
        },
        "outputId": "59d16df3-820c-4dba-be1e-14266988e7e1"
      },
      "outputs": [
        {
          "output_type": "execute_result",
          "data": {
            "text/plain": [
              "2.3690101745082046"
            ]
          },
          "metadata": {},
          "execution_count": 16
        }
      ],
      "source": [
        "SST = np.sum((y - y.mean())**2)\n",
        "SST"
      ]
    },
    {
      "cell_type": "code",
      "execution_count": null,
      "id": "712dd831",
      "metadata": {
        "id": "712dd831",
        "colab": {
          "base_uri": "https://localhost:8080/"
        },
        "outputId": "54f0262f-5c4c-4266-8e34-23a735284046"
      },
      "outputs": [
        {
          "output_type": "execute_result",
          "data": {
            "text/plain": [
              "1.8131711150528869"
            ]
          },
          "metadata": {},
          "execution_count": 17
        }
      ],
      "source": [
        "SSE = ehat@ehat\n",
        "SSE"
      ]
    },
    {
      "cell_type": "code",
      "execution_count": null,
      "id": "4c2645c6",
      "metadata": {
        "id": "4c2645c6",
        "colab": {
          "base_uri": "https://localhost:8080/"
        },
        "outputId": "d365098c-0ff7-4c87-d373-1f6e1c3272c1"
      },
      "outputs": [
        {
          "output_type": "execute_result",
          "data": {
            "text/plain": [
              "0.5558390594553178"
            ]
          },
          "metadata": {},
          "execution_count": 18
        }
      ],
      "source": [
        "SSM = np.sum((yhat - y.mean())**2)\n",
        "SSM"
      ]
    },
    {
      "cell_type": "markdown",
      "id": "2f69d664",
      "metadata": {
        "id": "2f69d664"
      },
      "source": [
        "Verify that SST = SSE + SSM"
      ]
    },
    {
      "cell_type": "code",
      "execution_count": null,
      "id": "4934b2cc",
      "metadata": {
        "id": "4934b2cc",
        "colab": {
          "base_uri": "https://localhost:8080/"
        },
        "outputId": "7ab89ac2-3ee8-488f-c478-8e62e19a2bb9"
      },
      "outputs": [
        {
          "output_type": "execute_result",
          "data": {
            "text/plain": [
              "2.3690101745082046"
            ]
          },
          "metadata": {},
          "execution_count": 19
        }
      ],
      "source": [
        "SSE + SSM"
      ]
    },
    {
      "cell_type": "markdown",
      "id": "5c9f928b",
      "metadata": {
        "id": "5c9f928b"
      },
      "source": [
        "Calculate $R^2$ and $R_{adj}^2$"
      ]
    },
    {
      "cell_type": "code",
      "execution_count": null,
      "id": "d400d2d4",
      "metadata": {
        "id": "d400d2d4",
        "colab": {
          "base_uri": "https://localhost:8080/"
        },
        "outputId": "7326b675-cc06-438a-f7d7-1bd5992e4402"
      },
      "outputs": [
        {
          "output_type": "stream",
          "name": "stdout",
          "text": [
            "R squared is  0.23462924112206793\n",
            "Adjusted R squared is  0.2327938196379482\n"
          ]
        }
      ],
      "source": [
        "R2 = SSM/SST\n",
        "\n",
        "R2adj = 1- (SSE/(N - p-1))/ (SST/(N-1))\n",
        "\n",
        "print(\"R squared is \", R2)\n",
        "print(\"Adjusted R squared is \", R2adj)\n"
      ]
    },
    {
      "cell_type": "markdown",
      "id": "e33c16cc",
      "metadata": {
        "id": "e33c16cc"
      },
      "source": [
        "Calculate the F stastistic and get its pvalue"
      ]
    },
    {
      "cell_type": "code",
      "execution_count": null,
      "id": "c55dffe8",
      "metadata": {
        "id": "c55dffe8",
        "colab": {
          "base_uri": "https://localhost:8080/"
        },
        "outputId": "242750d7-db23-4d8b-f0a5-49d18624cbf1"
      },
      "outputs": [
        {
          "output_type": "stream",
          "name": "stdout",
          "text": [
            "127.83398426579656\n"
          ]
        }
      ],
      "source": [
        "F = (SSM/p)/(SSE/(N-p-1))\n",
        "print(F)"
      ]
    },
    {
      "cell_type": "code",
      "execution_count": null,
      "id": "19851044",
      "metadata": {
        "id": "19851044",
        "colab": {
          "base_uri": "https://localhost:8080/"
        },
        "outputId": "b294b0f6-eab8-4eff-83ea-8b93ddcb7fa5"
      },
      "outputs": [
        {
          "output_type": "execute_result",
          "data": {
            "text/plain": [
              "3.154992993685822e-72"
            ]
          },
          "metadata": {},
          "execution_count": 22
        }
      ],
      "source": [
        "ss.f.sf(F,dfn = p, dfd = N-p-1)  # the survival function is just 1- CDF "
      ]
    },
    {
      "cell_type": "markdown",
      "id": "8fad0270",
      "metadata": {
        "id": "8fad0270"
      },
      "source": [
        "Log-liklihood  $$\\ell =-\\frac{N}{2}\\ln(2\\pi) - N\\ln(\\hat{\\sigma}_{\\epsilon}) -\\frac{1}{2}(N-p-1)$$\n",
        "\n",
        "\n",
        "So we need $\\hat{\\sigma}_{\\epsilon}$"
      ]
    },
    {
      "cell_type": "code",
      "execution_count": null,
      "id": "03745519",
      "metadata": {
        "id": "03745519",
        "colab": {
          "base_uri": "https://localhost:8080/"
        },
        "outputId": "62455c4f-53a9-4700-ba1e-044dd0324d92"
      },
      "outputs": [
        {
          "output_type": "stream",
          "name": "stdout",
          "text": [
            "The log-liklihood is  2322.961944379941\n"
          ]
        }
      ],
      "source": [
        "sigma_est = np.sqrt(SSE/(N-p-1))\n",
        "\n",
        "LLH = -.5*N*np.log(2*np.pi) - N*np.log(sigma_est) - .5*(N-p-1)\n",
        "\n",
        "print(\"The log-liklihood is \", LLH)"
      ]
    },
    {
      "cell_type": "markdown",
      "id": "c24c4205",
      "metadata": {
        "id": "c24c4205"
      },
      "source": [
        "AIC and BIC"
      ]
    },
    {
      "cell_type": "code",
      "execution_count": null,
      "id": "6f6fec51",
      "metadata": {
        "id": "6f6fec51",
        "colab": {
          "base_uri": "https://localhost:8080/"
        },
        "outputId": "cbf5ce12-c7ee-475a-a4fb-e77f99f0058a"
      },
      "outputs": [
        {
          "output_type": "stream",
          "name": "stdout",
          "text": [
            "The AIC is  -4637.923888759882\n",
            "The BIC is  -4617.384325353619\n"
          ]
        }
      ],
      "source": [
        "AIC = -2*LLH + 2*(p+1)\n",
        "print(\"The AIC is \", AIC)\n",
        "\n",
        "BIC = -2*LLH + (p+1)*np.log(N)\n",
        "print(\"The BIC is \", BIC)"
      ]
    },
    {
      "cell_type": "markdown",
      "id": "f0b21154",
      "metadata": {
        "id": "f0b21154"
      },
      "source": [
        "Jarque-Berra, skew and kurtosis  "
      ]
    },
    {
      "cell_type": "code",
      "execution_count": null,
      "id": "f7f331e6",
      "metadata": {
        "id": "f7f331e6",
        "colab": {
          "base_uri": "https://localhost:8080/"
        },
        "outputId": "986df3db-0471-4c69-e1a1-956b1716170a"
      },
      "outputs": [
        {
          "output_type": "execute_result",
          "data": {
            "text/plain": [
              "(-0.37132813914013696, 10.421073304407306)"
            ]
          },
          "metadata": {},
          "execution_count": 25
        }
      ],
      "source": [
        "ss.skew(ehat), ss.kurtosis(ehat, fisher = False) "
      ]
    },
    {
      "cell_type": "markdown",
      "id": "e466536f",
      "metadata": {
        "id": "e466536f"
      },
      "source": [
        "**Comments**  They appear to have defined $\\hat{\\epsilon} = y  - \\hat{y}$ So the sign is reversed for skew.\n",
        "\n",
        "Also, the reported kurtois is not the excess kurtosis but the actual kurtosis.\n"
      ]
    },
    {
      "cell_type": "code",
      "execution_count": null,
      "id": "75b4f586",
      "metadata": {
        "id": "75b4f586",
        "colab": {
          "base_uri": "https://localhost:8080/"
        },
        "outputId": "378a46f5-0de3-497e-95fb-9e9221c7179b"
      },
      "outputs": [
        {
          "output_type": "execute_result",
          "data": {
            "text/plain": [
              "(2908.664729500214, 0.0)"
            ]
          },
          "metadata": {},
          "execution_count": 26
        }
      ],
      "source": [
        "ss.jarque_bera(ehat)"
      ]
    },
    {
      "cell_type": "markdown",
      "id": "51edc1d9",
      "metadata": {
        "id": "51edc1d9"
      },
      "source": [
        "In scipy stats, the omnibus test is called \"normaltest\"\n"
      ]
    },
    {
      "cell_type": "code",
      "execution_count": null,
      "id": "371598d7",
      "metadata": {
        "id": "371598d7",
        "colab": {
          "base_uri": "https://localhost:8080/"
        },
        "outputId": "0f834c40-0b32-451e-8008-2a6d5493941a"
      },
      "outputs": [
        {
          "output_type": "execute_result",
          "data": {
            "text/plain": [
              "NormaltestResult(statistic=219.74446432962498, pvalue=1.9190922713385813e-48)"
            ]
          },
          "metadata": {},
          "execution_count": 27
        }
      ],
      "source": [
        "ss.normaltest(ehat)"
      ]
    },
    {
      "cell_type": "markdown",
      "id": "fd87b1e0",
      "metadata": {
        "id": "fd87b1e0"
      },
      "source": [
        "We will discuss the remaining output later."
      ]
    },
    {
      "cell_type": "markdown",
      "id": "c3843bb3",
      "metadata": {
        "id": "c3843bb3"
      },
      "source": [
        "### Variance Inflation Factors\n",
        "\n",
        "\n",
        "We know from our pairs plot and (probably anyway) that the the Russell2000 and S&P500 are highly correlated. This may lead to some instability if the regressed coefficients depending on whether both are included in the model or not.    \n",
        "\n",
        "For example, lets do the regression with Russell taken out."
      ]
    },
    {
      "cell_type": "code",
      "execution_count": null,
      "id": "0473c413",
      "metadata": {
        "id": "0473c413",
        "colab": {
          "base_uri": "https://localhost:8080/",
          "height": 473
        },
        "outputId": "6689c08e-1f39-4895-ba7f-d0c2727267fa"
      },
      "outputs": [
        {
          "output_type": "execute_result",
          "data": {
            "text/html": [
              "<table class=\"simpletable\">\n",
              "<caption>OLS Regression Results</caption>\n",
              "<tr>\n",
              "  <th>Dep. Variable:</th>           <td>TNX</td>       <th>  R-squared:         </th> <td>   0.228</td>\n",
              "</tr>\n",
              "<tr>\n",
              "  <th>Model:</th>                   <td>OLS</td>       <th>  Adj. R-squared:    </th> <td>   0.227</td>\n",
              "</tr>\n",
              "<tr>\n",
              "  <th>Method:</th>             <td>Least Squares</td>  <th>  F-statistic:       </th> <td>   184.9</td>\n",
              "</tr>\n",
              "<tr>\n",
              "  <th>Date:</th>             <td>Fri, 25 Feb 2022</td> <th>  Prob (F-statistic):</th> <td>4.36e-71</td>\n",
              "</tr>\n",
              "<tr>\n",
              "  <th>Time:</th>                 <td>00:38:15</td>     <th>  Log-Likelihood:    </th> <td>  2317.6</td>\n",
              "</tr>\n",
              "<tr>\n",
              "  <th>No. Observations:</th>      <td>  1255</td>      <th>  AIC:               </th> <td>  -4629.</td>\n",
              "</tr>\n",
              "<tr>\n",
              "  <th>Df Residuals:</th>          <td>  1252</td>      <th>  BIC:               </th> <td>  -4614.</td>\n",
              "</tr>\n",
              "<tr>\n",
              "  <th>Df Model:</th>              <td>     2</td>      <th>                     </th>     <td> </td>   \n",
              "</tr>\n",
              "<tr>\n",
              "  <th>Covariance Type:</th>      <td>nonrobust</td>    <th>                     </th>     <td> </td>   \n",
              "</tr>\n",
              "</table>\n",
              "<table class=\"simpletable\">\n",
              "<tr>\n",
              "    <td></td>       <th>coef</th>     <th>std err</th>      <th>t</th>      <th>P>|t|</th>  <th>[0.025</th>    <th>0.975]</th>  \n",
              "</tr>\n",
              "<tr>\n",
              "  <th>const</th> <td>   -0.0009</td> <td>    0.001</td> <td>   -0.824</td> <td> 0.410</td> <td>   -0.003</td> <td>    0.001</td>\n",
              "</tr>\n",
              "<tr>\n",
              "  <th>GC=F</th>  <td>   -1.5968</td> <td>    0.119</td> <td>  -13.394</td> <td> 0.000</td> <td>   -1.831</td> <td>   -1.363</td>\n",
              "</tr>\n",
              "<tr>\n",
              "  <th>^GSPC</th> <td>    1.2980</td> <td>    0.089</td> <td>   14.612</td> <td> 0.000</td> <td>    1.124</td> <td>    1.472</td>\n",
              "</tr>\n",
              "</table>\n",
              "<table class=\"simpletable\">\n",
              "<tr>\n",
              "  <th>Omnibus:</th>       <td>181.849</td> <th>  Durbin-Watson:     </th> <td>   2.039</td>\n",
              "</tr>\n",
              "<tr>\n",
              "  <th>Prob(Omnibus):</th> <td> 0.000</td>  <th>  Jarque-Bera (JB):  </th> <td>1976.854</td>\n",
              "</tr>\n",
              "<tr>\n",
              "  <th>Skew:</th>          <td> 0.251</td>  <th>  Prob(JB):          </th> <td>    0.00</td>\n",
              "</tr>\n",
              "<tr>\n",
              "  <th>Kurtosis:</th>      <td> 9.128</td>  <th>  Cond. No.          </th> <td>    111.</td>\n",
              "</tr>\n",
              "</table><br/><br/>Warnings:<br/>[1] Standard Errors assume that the covariance matrix of the errors is correctly specified."
            ],
            "text/plain": [
              "<class 'statsmodels.iolib.summary.Summary'>\n",
              "\"\"\"\n",
              "                            OLS Regression Results                            \n",
              "==============================================================================\n",
              "Dep. Variable:                    TNX   R-squared:                       0.228\n",
              "Model:                            OLS   Adj. R-squared:                  0.227\n",
              "Method:                 Least Squares   F-statistic:                     184.9\n",
              "Date:                Fri, 25 Feb 2022   Prob (F-statistic):           4.36e-71\n",
              "Time:                        00:38:15   Log-Likelihood:                 2317.6\n",
              "No. Observations:                1255   AIC:                            -4629.\n",
              "Df Residuals:                    1252   BIC:                            -4614.\n",
              "Df Model:                           2                                         \n",
              "Covariance Type:            nonrobust                                         \n",
              "==============================================================================\n",
              "                 coef    std err          t      P>|t|      [0.025      0.975]\n",
              "------------------------------------------------------------------------------\n",
              "const         -0.0009      0.001     -0.824      0.410      -0.003       0.001\n",
              "GC=F          -1.5968      0.119    -13.394      0.000      -1.831      -1.363\n",
              "^GSPC          1.2980      0.089     14.612      0.000       1.124       1.472\n",
              "==============================================================================\n",
              "Omnibus:                      181.849   Durbin-Watson:                   2.039\n",
              "Prob(Omnibus):                  0.000   Jarque-Bera (JB):             1976.854\n",
              "Skew:                           0.251   Prob(JB):                         0.00\n",
              "Kurtosis:                       9.128   Cond. No.                         111.\n",
              "==============================================================================\n",
              "\n",
              "Warnings:\n",
              "[1] Standard Errors assume that the covariance matrix of the errors is correctly specified.\n",
              "\"\"\""
            ]
          },
          "metadata": {},
          "execution_count": 28
        }
      ],
      "source": [
        "modelCnoR = sm.OLS(data1C[\"TNX\"], data1C.iloc[:,0:3])\n",
        "resultCnoR = modelCnoR.fit()\n",
        "\n",
        "resultCnoR.summary()"
      ]
    },
    {
      "cell_type": "markdown",
      "id": "d30eae41",
      "metadata": {
        "id": "d30eae41"
      },
      "source": [
        "Notice how the S&P500 coefficient is now much larger.   It's almost as if we didn't need the Russell (not quite though, look at the AIC).  That is, the Russell might be redundant becaues we can proxy it with the S&P500. \n",
        "\n",
        "One way to diagnose whether a predictor variable is \"redundant\" is the Variance Inflation Factor or VIF.\n",
        "\n",
        "The VIF of a particular variable is obtained by creating a linear regression where the other predictor variables attempt to predict the particular variables.\n",
        "\n",
        "One then computes $$VIF = \\frac{1}{1-R^2}$$\n",
        "\n",
        "If the $R^2$ is close to 1, then VIF is large and this indicates that the variable might be redundant.  \n",
        "\n",
        "Let's calculate this for the Russell."
      ]
    },
    {
      "cell_type": "code",
      "execution_count": null,
      "id": "8e02e374",
      "metadata": {
        "id": "8e02e374",
        "colab": {
          "base_uri": "https://localhost:8080/",
          "height": 473
        },
        "outputId": "065271c6-defc-438c-a3ca-87361fe0f576"
      },
      "outputs": [
        {
          "output_type": "execute_result",
          "data": {
            "text/html": [
              "<table class=\"simpletable\">\n",
              "<caption>OLS Regression Results</caption>\n",
              "<tr>\n",
              "  <th>Dep. Variable:</th>          <td>^RUT</td>       <th>  R-squared:         </th> <td>   0.767</td>\n",
              "</tr>\n",
              "<tr>\n",
              "  <th>Model:</th>                   <td>OLS</td>       <th>  Adj. R-squared:    </th> <td>   0.766</td>\n",
              "</tr>\n",
              "<tr>\n",
              "  <th>Method:</th>             <td>Least Squares</td>  <th>  F-statistic:       </th> <td>   2058.</td>\n",
              "</tr>\n",
              "<tr>\n",
              "  <th>Date:</th>             <td>Fri, 25 Feb 2022</td> <th>  Prob (F-statistic):</th>  <td>  0.00</td> \n",
              "</tr>\n",
              "<tr>\n",
              "  <th>Time:</th>                 <td>00:41:59</td>     <th>  Log-Likelihood:    </th> <td>  4355.1</td>\n",
              "</tr>\n",
              "<tr>\n",
              "  <th>No. Observations:</th>      <td>  1255</td>      <th>  AIC:               </th> <td>  -8704.</td>\n",
              "</tr>\n",
              "<tr>\n",
              "  <th>Df Residuals:</th>          <td>  1252</td>      <th>  BIC:               </th> <td>  -8689.</td>\n",
              "</tr>\n",
              "<tr>\n",
              "  <th>Df Model:</th>              <td>     2</td>      <th>                     </th>     <td> </td>   \n",
              "</tr>\n",
              "<tr>\n",
              "  <th>Covariance Type:</th>      <td>nonrobust</td>    <th>                     </th>     <td> </td>   \n",
              "</tr>\n",
              "</table>\n",
              "<table class=\"simpletable\">\n",
              "<tr>\n",
              "    <td></td>       <th>coef</th>     <th>std err</th>      <th>t</th>      <th>P>|t|</th>  <th>[0.025</th>    <th>0.975]</th>  \n",
              "</tr>\n",
              "<tr>\n",
              "  <th>const</th> <td>   -0.0003</td> <td>    0.000</td> <td>   -1.292</td> <td> 0.197</td> <td>   -0.001</td> <td>    0.000</td>\n",
              "</tr>\n",
              "<tr>\n",
              "  <th>GC=F</th>  <td>    0.0299</td> <td>    0.024</td> <td>    1.271</td> <td> 0.204</td> <td>   -0.016</td> <td>    0.076</td>\n",
              "</tr>\n",
              "<tr>\n",
              "  <th>^GSPC</th> <td>    1.1200</td> <td>    0.018</td> <td>   63.933</td> <td> 0.000</td> <td>    1.086</td> <td>    1.154</td>\n",
              "</tr>\n",
              "</table>\n",
              "<table class=\"simpletable\">\n",
              "<tr>\n",
              "  <th>Omnibus:</th>       <td>176.220</td> <th>  Durbin-Watson:     </th> <td>   2.079</td>\n",
              "</tr>\n",
              "<tr>\n",
              "  <th>Prob(Omnibus):</th> <td> 0.000</td>  <th>  Jarque-Bera (JB):  </th> <td>1736.254</td>\n",
              "</tr>\n",
              "<tr>\n",
              "  <th>Skew:</th>          <td> 0.272</td>  <th>  Prob(JB):          </th> <td>    0.00</td>\n",
              "</tr>\n",
              "<tr>\n",
              "  <th>Kurtosis:</th>      <td> 8.737</td>  <th>  Cond. No.          </th> <td>    111.</td>\n",
              "</tr>\n",
              "</table><br/><br/>Warnings:<br/>[1] Standard Errors assume that the covariance matrix of the errors is correctly specified."
            ],
            "text/plain": [
              "<class 'statsmodels.iolib.summary.Summary'>\n",
              "\"\"\"\n",
              "                            OLS Regression Results                            \n",
              "==============================================================================\n",
              "Dep. Variable:                   ^RUT   R-squared:                       0.767\n",
              "Model:                            OLS   Adj. R-squared:                  0.766\n",
              "Method:                 Least Squares   F-statistic:                     2058.\n",
              "Date:                Fri, 25 Feb 2022   Prob (F-statistic):               0.00\n",
              "Time:                        00:41:59   Log-Likelihood:                 4355.1\n",
              "No. Observations:                1255   AIC:                            -8704.\n",
              "Df Residuals:                    1252   BIC:                            -8689.\n",
              "Df Model:                           2                                         \n",
              "Covariance Type:            nonrobust                                         \n",
              "==============================================================================\n",
              "                 coef    std err          t      P>|t|      [0.025      0.975]\n",
              "------------------------------------------------------------------------------\n",
              "const         -0.0003      0.000     -1.292      0.197      -0.001       0.000\n",
              "GC=F           0.0299      0.024      1.271      0.204      -0.016       0.076\n",
              "^GSPC          1.1200      0.018     63.933      0.000       1.086       1.154\n",
              "==============================================================================\n",
              "Omnibus:                      176.220   Durbin-Watson:                   2.079\n",
              "Prob(Omnibus):                  0.000   Jarque-Bera (JB):             1736.254\n",
              "Skew:                           0.272   Prob(JB):                         0.00\n",
              "Kurtosis:                       8.737   Cond. No.                         111.\n",
              "==============================================================================\n",
              "\n",
              "Warnings:\n",
              "[1] Standard Errors assume that the covariance matrix of the errors is correctly specified.\n",
              "\"\"\""
            ]
          },
          "metadata": {},
          "execution_count": 29
        }
      ],
      "source": [
        "model = sm.OLS(data1C[\"^RUT\"], data1C.iloc[:,0:3])\n",
        "result = model.fit()\n",
        "\n",
        "result.summary()"
      ]
    },
    {
      "cell_type": "code",
      "execution_count": null,
      "id": "d41a499e",
      "metadata": {
        "id": "d41a499e",
        "colab": {
          "base_uri": "https://localhost:8080/"
        },
        "outputId": "092f1578-3f56-4d4c-a1fd-2f81724befb6"
      },
      "outputs": [
        {
          "output_type": "execute_result",
          "data": {
            "text/plain": [
              "4.291845493562232"
            ]
          },
          "metadata": {},
          "execution_count": 30
        }
      ],
      "source": [
        "# Calculating the VIF for Rusell from the output\n",
        "1/(1-.767)"
      ]
    },
    {
      "cell_type": "markdown",
      "id": "f9b4f56a",
      "metadata": {
        "id": "f9b4f56a"
      },
      "source": [
        "Naturally, the statsmodels package will do this for us."
      ]
    },
    {
      "cell_type": "code",
      "execution_count": null,
      "id": "5c514e1c",
      "metadata": {
        "id": "5c514e1c",
        "colab": {
          "base_uri": "https://localhost:8080/"
        },
        "outputId": "7c17d1da-b56a-46c0-a42f-b0ab506a1976"
      },
      "outputs": [
        {
          "output_type": "stream",
          "name": "stderr",
          "text": [
            "/usr/local/lib/python3.7/dist-packages/statsmodels/tools/_testing.py:19: FutureWarning: pandas.util.testing is deprecated. Use the functions in the public API at pandas.testing instead.\n",
            "  import pandas.util.testing as tm\n"
          ]
        }
      ],
      "source": [
        "from statsmodels.stats.outliers_influence import variance_inflation_factor as VIF"
      ]
    },
    {
      "cell_type": "markdown",
      "source": [
        ""
      ],
      "metadata": {
        "id": "4Qr12SRf5SXj"
      },
      "id": "4Qr12SRf5SXj"
    },
    {
      "cell_type": "code",
      "source": [
        ""
      ],
      "metadata": {
        "colab": {
          "base_uri": "https://localhost:8080/",
          "height": 35
        },
        "id": "OUp5xdaw5TAw",
        "outputId": "22c2c4c5-ddbe-4f96-f9f5-142dec371d74"
      },
      "id": "OUp5xdaw5TAw",
      "execution_count": null,
      "outputs": [
        {
          "output_type": "execute_result",
          "data": {
            "application/vnd.google.colaboratory.intrinsic+json": {
              "type": "string"
            },
            "text/plain": [
              "'0.10.2'"
            ]
          },
          "metadata": {},
          "execution_count": 2
        }
      ]
    },
    {
      "cell_type": "code",
      "execution_count": null,
      "id": "f2f4583b",
      "metadata": {
        "id": "f2f4583b",
        "colab": {
          "base_uri": "https://localhost:8080/"
        },
        "outputId": "2fcc0750-e71f-4f0a-cfee-4e5e2779caff"
      },
      "outputs": [
        {
          "output_type": "execute_result",
          "data": {
            "text/plain": [
              "4.2870900749623875"
            ]
          },
          "metadata": {},
          "execution_count": 42
        }
      ],
      "source": [
        "VIF(data1C.iloc[:,0:4].values, 3)"
      ]
    },
    {
      "cell_type": "code",
      "source": [
        ""
      ],
      "metadata": {
        "id": "SeLRvdDuZDJf"
      },
      "id": "SeLRvdDuZDJf",
      "execution_count": null,
      "outputs": []
    },
    {
      "cell_type": "markdown",
      "id": "2efc0883",
      "metadata": {
        "id": "2efc0883"
      },
      "source": [
        "The first input is the data frame of predictors.  The second is the index you wish to compute the VIF for.  Russell 2000 has index 3.\n",
        "\n",
        "We can get them all of course."
      ]
    },
    {
      "cell_type": "code",
      "execution_count": null,
      "id": "7085514e",
      "metadata": {
        "id": "7085514e",
        "colab": {
          "base_uri": "https://localhost:8080/"
        },
        "outputId": "ea12d1d0-e68f-4962-93ff-e256c7ca64e8"
      },
      "outputs": [
        {
          "output_type": "stream",
          "name": "stdout",
          "text": [
            "1.0054252497694292\n",
            "1.0052453048165297\n",
            "4.281571055301959\n",
            "4.2870900749623875\n"
          ]
        }
      ],
      "source": [
        "for idx in range(4):\n",
        "    print(VIF(data1C.iloc[:,0:4].values,idx))"
      ]
    },
    {
      "cell_type": "markdown",
      "id": "07571b20",
      "metadata": {
        "id": "07571b20"
      },
      "source": [
        "One way to interpret this is that including the other predictors increses or inflates the variance of the estimated coefficient by the VIF.  Is $4.28$ a bad number?   CW is that $5$ is a red flag, but regardless, $4.28$ means that the standard error is more than doubled."
      ]
    },
    {
      "cell_type": "markdown",
      "id": "bef078b6",
      "metadata": {
        "id": "bef078b6"
      },
      "source": [
        "## Covariance Matrix of the $\\beta$ estimates\n",
        "\n",
        "We are interested in the Covariance Matrix for the $\\beta$ estimates.  Linear Algreba is helpful here.\n",
        "\n",
        "\n",
        "Recall that\n",
        "\n",
        "$$\\hat{\\mathbf{\\beta}} = (A^TA)^{-1}A^T\\mathbf{y}$$\n",
        "\n",
        "\n",
        "Hence, \n",
        "\n",
        "$$\\mathrm{Cov}(\\hat{\\mathbf{\\beta}},\\hat{\\mathbf{\\beta}}^T|\\mathbf{x} )\\\\\n",
        "=\\mathrm{Cov}\\left((A^TA)^{-1}A^T\\mathbf{y},((A^TA)^{-1}A^T\\mathbf{y})^T|\\mathbf{x} \\right)\\\\\n",
        "(A^TA)^{-1}A^T\\mathrm{Cov}\\left(\\mathbf{y},((A^TA)^{-1}A^T\\mathbf{y})^T|\\mathbf{x} \\right)\\\\\n",
        "(A^TA)^{-1}A^T\\mathrm{Cov}\\left(\\mathbf{y},\\mathbf{y})^T|\\mathbf{x} \\right)A(A^TA)^{-T}$$\n",
        "\n",
        "The last two due to the bilinearity of the Covariance operator.  Next, we observ that \n",
        "\n",
        "$$\\mathrm{Cov}\\left(\\mathbf{y},\\mathbf{y})^T|\\mathbf{x} \\right) = \\hat{\\sigma}_{\\epsilon}^2 I_N$$\n",
        "\n",
        "where  $I_N$ is the $N \\times N$ identity matrix.\n",
        "\n",
        "This is because the $y$'s are IID and the variance due to the $x$ variables is explained, leaving only the unexplained.\n",
        "\n",
        "\n",
        "Hence,\n",
        "\n",
        "\n",
        "$$\\mathrm{Cov}(\\hat{\\mathbf{\\beta}},\\hat{\\mathbf{\\beta}}^T|\\mathbf{x} ) = (A^TA)^{-1}A^T( \\hat{\\sigma}_{\\epsilon}^2 I_N)A(A^TA)^{-T}\\\\\n",
        "=\\hat{\\sigma}_{\\epsilon}^2(A^TA)^{-1}A^TA(A^TA)^{-T}\\\\\n",
        "=\\hat{\\sigma}_{\\epsilon}^2(A^TA)^{-T}\\\\\n",
        "=\\hat{\\sigma}_{\\epsilon}^2(A^TA)^{-1}$$\n",
        "\n",
        "The last one because $A^TA$ is symmetric (on so therefore is its inverse).\n",
        "\n",
        "\n",
        "The standard errors the coefficients are the square roots of the variance estimates which are along the diaganols.\n",
        "\n",
        "\n",
        "\n"
      ]
    },
    {
      "cell_type": "markdown",
      "id": "ba42e8b6",
      "metadata": {
        "id": "ba42e8b6"
      },
      "source": [
        "Let calculate the Covarance Matrix for our example now."
      ]
    },
    {
      "cell_type": "code",
      "execution_count": null,
      "id": "4e54512e",
      "metadata": {
        "id": "4e54512e",
        "colab": {
          "base_uri": "https://localhost:8080/"
        },
        "outputId": "f1f7f1f6-31e9-4f62-9b34-a1f7b56d0d40"
      },
      "outputs": [
        {
          "output_type": "execute_result",
          "data": {
            "text/plain": [
              "array([0.00107757, 0.11882786, 0.1827254 , 0.14275052])"
            ]
          },
          "metadata": {},
          "execution_count": 36
        }
      ],
      "source": [
        "covBeta = sigma_est**2 * np.linalg.inv(A.T@A)\n",
        "\n",
        "StandE = np.sqrt(np.diag(covBeta))\n",
        "StandE\n"
      ]
    },
    {
      "cell_type": "markdown",
      "id": "3acc30e5",
      "metadata": {
        "id": "3acc30e5"
      },
      "source": [
        "And the t stats"
      ]
    },
    {
      "cell_type": "code",
      "execution_count": null,
      "id": "e14b5e88",
      "metadata": {
        "id": "e14b5e88",
        "colab": {
          "base_uri": "https://localhost:8080/"
        },
        "outputId": "2f53815d-99a7-44e8-95f6-134a2bb4bde8"
      },
      "outputs": [
        {
          "output_type": "stream",
          "name": "stdout",
          "text": [
            "the t stats are  [ -0.70695447 -13.55546783   4.22893092   3.28526394]\n"
          ]
        }
      ],
      "source": [
        "tvals = b/StandE\n",
        "print(\"the t stats are \",tvals)"
      ]
    },
    {
      "cell_type": "code",
      "execution_count": null,
      "id": "406ce470",
      "metadata": {
        "id": "406ce470",
        "colab": {
          "base_uri": "https://localhost:8080/"
        },
        "outputId": "5bcc6f14-f6e3-468a-ed00-10685341a581"
      },
      "outputs": [
        {
          "output_type": "stream",
          "name": "stdout",
          "text": [
            "the p-values are  [4.79726432e-01 3.69784664e-39 2.51898422e-05 1.04709808e-03]\n"
          ]
        }
      ],
      "source": [
        "pvals = ss.t.sf(np.abs(tvals), df = N-p-1)*2\n",
        "\n",
        "print(\"the p-values are \", pvals)\n"
      ]
    },
    {
      "cell_type": "markdown",
      "id": "e5d23d5b",
      "metadata": {
        "id": "e5d23d5b"
      },
      "source": [
        "The CI's"
      ]
    },
    {
      "cell_type": "code",
      "execution_count": null,
      "id": "cb0a9336",
      "metadata": {
        "id": "cb0a9336"
      },
      "outputs": [],
      "source": [
        "CIlow = b + StandE*ss.t.ppf(.025,df = N-p-1 )\n",
        "CIhigh =b + StandE*ss.t.ppf(.975,df = N-p-1 )"
      ]
    },
    {
      "cell_type": "code",
      "execution_count": null,
      "id": "116aa44d",
      "metadata": {
        "id": "116aa44d",
        "colab": {
          "base_uri": "https://localhost:8080/"
        },
        "outputId": "b428d58c-df6c-4954-9692-679b560adbc6"
      },
      "outputs": [
        {
          "output_type": "stream",
          "name": "stdout",
          "text": [
            "The 95% CI low boundaries are  [-0.00287583 -1.84389114  0.41425106  0.1889163 ]\n",
            "The 95% CI high boundaries are  [ 1.35224545e-03 -1.37764339e+00  1.13121513e+00  7.49029969e-01]\n"
          ]
        }
      ],
      "source": [
        "print(\"The 95% CI low boundaries are \", CIlow)\n",
        "print(\"The 95% CI high boundaries are \", CIhigh)\n"
      ]
    },
    {
      "cell_type": "markdown",
      "id": "6b34315a",
      "metadata": {
        "id": "6b34315a"
      },
      "source": [
        "The condition number of the  matrix $A^TA$ is an indication of how much collinearity there is.\n",
        "\n",
        "For some reaon, statsmodels reports the square root of this."
      ]
    },
    {
      "cell_type": "code",
      "execution_count": null,
      "id": "dc691fee",
      "metadata": {
        "id": "dc691fee",
        "colab": {
          "base_uri": "https://localhost:8080/"
        },
        "outputId": "11898376-36b6-465a-a1bb-fb75c88950a1"
      },
      "outputs": [
        {
          "output_type": "execute_result",
          "data": {
            "text/plain": [
              "209.3558815942697"
            ]
          },
          "metadata": {},
          "execution_count": 41
        }
      ],
      "source": [
        "np.sqrt(np.linalg.cond(A.T@A))"
      ]
    },
    {
      "cell_type": "markdown",
      "id": "8bef4e75",
      "metadata": {
        "id": "8bef4e75"
      },
      "source": [
        "## In class Exercise\n",
        "\n"
      ]
    },
    {
      "cell_type": "markdown",
      "id": "5400a0da",
      "metadata": {
        "id": "5400a0da"
      },
      "source": [
        "Pull 7 years of data from yfinance for the indivudual stocks Ford, GM, Apple, and General Mills (GIS).  Also pull corn (ZC=F) and Oil (CL=F) \n",
        "Build a linear model to predict the log-return of General Mills based on the log-returns of Ford, GM and Apple as well as the absolute returns of the two commodities.\n",
        "\n",
        "\n",
        "1. Do some EDA before you begin.\n",
        "2. Calculate for yourselves the values in the statsmodels output.\n",
        "\n",
        "3. Calculate the VIFs for each predictor.\n",
        "\n",
        "4. Pull the 7 years prior to that, and refit the model.  How stable are the regressed coefficients?\n",
        " "
      ]
    },
    {
      "cell_type": "code",
      "source": [
        ""
      ],
      "metadata": {
        "id": "2dRBCQnBtLVd"
      },
      "id": "2dRBCQnBtLVd",
      "execution_count": null,
      "outputs": []
    }
  ],
  "metadata": {
    "kernelspec": {
      "display_name": "Python 3 (ipykernel)",
      "language": "python",
      "name": "python3"
    },
    "language_info": {
      "codemirror_mode": {
        "name": "ipython",
        "version": 3
      },
      "file_extension": ".py",
      "mimetype": "text/x-python",
      "name": "python",
      "nbconvert_exporter": "python",
      "pygments_lexer": "ipython3",
      "version": "3.9.7"
    },
    "colab": {
      "name": "Week6.ipynb",
      "provenance": [],
      "include_colab_link": true
    }
  },
  "nbformat": 4,
  "nbformat_minor": 5
}