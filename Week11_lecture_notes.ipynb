{
  "cells": [
    {
      "cell_type": "markdown",
      "metadata": {
        "id": "view-in-github",
        "colab_type": "text"
      },
      "source": [
        "<a href=\"https://colab.research.google.com/github/zhong338/MFM-FM5222/blob/main/Week11_lecture_notes.ipynb\" target=\"_parent\"><img src=\"https://colab.research.google.com/assets/colab-badge.svg\" alt=\"Open In Colab\"/></a>"
      ]
    },
    {
      "cell_type": "markdown",
      "id": "86d15043",
      "metadata": {
        "id": "86d15043"
      },
      "source": [
        "# FM 5222\n",
        "# Week 11\n",
        "\n",
        "## Factor Models \n",
        "\n",
        "We will continue our disussion of Factor Models, which will take the general form:\n",
        "\n",
        "\n",
        "$$R_{j,t} = \\beta_{0,j} + \\beta_{1,j}F_{1,t} + \\beta_{2,j}F_{2,t} + \\cdots + \\beta_{j,n}F_{p,t} + \\epsilon_{j,t}$$\n",
        "\n",
        "\n",
        "where there are $n$ assets indexed by $j$, $p$ factors and $n\\times (p+1)$ factor loadings $\\beta_{k,j}$\n",
        "\n",
        "We assume that the noises are uncorrelated (hopefully independent) both temporally \n",
        "\n",
        "$$\\mathrm{Cov}(\\epsilon_{j,t},\\epsilon_{j,s}) = 0, t \\neq s$$\n",
        "\n",
        "and cross-sectionally\n",
        "\n",
        "$$\\mathrm{Cov}(\\epsilon_{j,t},\\epsilon_{i,t}) = 0, j \\neq i$$\n",
        "\n",
        "\n",
        "Furthermore, it is assumed that the factors are uncorrelated to the noise terms:\n",
        "\n",
        "\n",
        "$$\\mathrm{Cov}(F_{k,t}, \\epsilon_{j,s}) = 0, \\forall (k,j,t,s)$$\n",
        "\n",
        "\n",
        "We can also use Matrix Notation to assist via\n",
        "\n",
        "We let $F$ be the $p\\times N$ matrix of observations of the factors.   We can then construct the data matrix\n",
        "\n",
        "$$X = \\begin{bmatrix}\\mathbf{1}_c & F^T \\\\ \\end{bmatrix}$$\n",
        "\n",
        "where $\\mathbf{1}_c$ is an $N$ dimenstional column vector of of ones.\n",
        "\n",
        "Note that $X$ is $N \\times (p+1)$\n",
        "\n",
        "We let\n",
        "\n",
        "$$B_0 = [\\beta_{0,1}, \\beta_{0,2}, ..., \\beta_{0,n}]$$\n",
        "\n",
        "be the row vector representing the constanst term of each of the $n$ assets.\n",
        "\n",
        "And \n",
        "\n",
        "\n",
        "\n",
        "\n",
        "$$B = \\begin{bmatrix} \\mathbf{\\beta}_1^T & \\mathbf{\\beta}_2^T & \\cdots & \\mathbf{\\beta}_n^T \\\\ \\end{bmatrix}   $$\n",
        "\n",
        "where $\\mathbf{\\beta}_j^T$ is the column vector with elements $\\beta_{k,j}, k>0$\n",
        "\n",
        "Note that $B$ is $p \\times n$\n",
        "\n",
        "\n",
        "$R^T$ is the $N \\times n$ matrix whose $j^{th}$ column correspond to the observed returns of asset $j$.\n",
        "\n",
        "\n",
        "$E$ is the matrix valuess White Noise Random Variable where the $j^{th}$ column  associated with asset $j$ and each column is IID and uncorrelated with the other columns.   $E$ will be $N \\times n$\n",
        "\n",
        "\n",
        "The model is then:\n",
        "\n",
        "\n",
        "$$ R^T = X \\begin{bmatrix}B_0 \\\\ B\\\\ \\end{bmatrix}+E $$\n",
        "\n",
        "\n",
        "\n",
        "Fitting this is no different than the case where $p = 1$, we use the pseudo-inverse:\n",
        "\n",
        "$$\\begin{bmatrix}\\hat{B}_0 \\\\ \\hat{B}\\\\ \\end{bmatrix} = (X^TX)^{-1}X^T R^T$$\n",
        "\n",
        "\n"
      ]
    },
    {
      "cell_type": "markdown",
      "id": "ac77e7a2",
      "metadata": {
        "id": "ac77e7a2"
      },
      "source": [
        "### Agenda\n",
        "\n",
        "\n",
        "\n",
        "* Fama- French 3 Factor model\n",
        "* PCA discussion\n",
        "* PCA with real data\n",
        "* Short Comment\n",
        "    * Cross-Sectional Factor Models\n",
        "    * Statistical Factor Models\n",
        "\n",
        "\n"
      ]
    },
    {
      "cell_type": "markdown",
      "id": "7507f5c1",
      "metadata": {
        "id": "7507f5c1"
      },
      "source": [
        "## Fama - French 3 factor model\n",
        "\n",
        "The FF3 model is an extension of CAPM.  Insted of the broad market as the only factor, it also posits two other factors:\n",
        "\n",
        "1. The excess returns of small cap stocks over large cap stocks\n",
        "2. The excess returns of high book to market (value) stocks over low book to market (growth) stocks.\n",
        "\n",
        "\n",
        "We will make our own \"version\" of this model by using quoted indices and 10 years of history to train over. \n",
        "\n",
        "\n",
        "#### Indices\n",
        "\n",
        "Risk-free rate: Federal Funds rate\n",
        "Broad Market:  Wilshire5000  (^W5000)\n",
        "Large Cap:  S&P500  (^GSPC)\n",
        "Small Cap:  Russell2000 (^RUT)\n",
        "Value:Vanguard Value Index Fund (VTV)\n",
        "Growth: Vanguard Growth Index Fund (VUG)\n",
        "\n",
        "\n",
        "\n",
        "\n",
        "The model will then be\n",
        "\n",
        "\n",
        "$$R_{j,t} - rf_t = \\beta_{j,1} (M_t - rf) + \\beta_{j,2} (SC_t - LC_t) + \\beta_{j,3} (V_t - G)t) + \\epsilon_{j,t}$$\n",
        "\n",
        "\n",
        "where in general the variables represent log-Returns.\n",
        "\n",
        "We will fit (as before) to U.S. Bank, Pepsi, and Otter Tail.  But will will also add in Alcoa (AA) and Intuit (INTU).\n",
        "\n",
        "\n",
        "\n",
        "\n",
        "\n"
      ]
    },
    {
      "cell_type": "code",
      "execution_count": null,
      "id": "16ea98a8",
      "metadata": {
        "id": "16ea98a8",
        "outputId": "c06a22bf-43a0-499a-fdd1-226d3ac0b75d",
        "colab": {
          "base_uri": "https://localhost:8080/"
        }
      },
      "outputs": [
        {
          "output_type": "stream",
          "name": "stdout",
          "text": [
            "Collecting yfinance\n",
            "  Downloading yfinance-0.1.70-py2.py3-none-any.whl (26 kB)\n",
            "Collecting lxml>=4.5.1\n",
            "  Downloading lxml-4.8.0-cp37-cp37m-manylinux_2_17_x86_64.manylinux2014_x86_64.manylinux_2_24_x86_64.whl (6.4 MB)\n",
            "\u001b[K     |████████████████████████████████| 6.4 MB 11.6 MB/s \n",
            "\u001b[?25hRequirement already satisfied: pandas>=0.24.0 in /usr/local/lib/python3.7/dist-packages (from yfinance) (1.3.5)\n",
            "Collecting requests>=2.26\n",
            "  Downloading requests-2.27.1-py2.py3-none-any.whl (63 kB)\n",
            "\u001b[K     |████████████████████████████████| 63 kB 470 kB/s \n",
            "\u001b[?25hRequirement already satisfied: multitasking>=0.0.7 in /usr/local/lib/python3.7/dist-packages (from yfinance) (0.0.10)\n",
            "Requirement already satisfied: numpy>=1.15 in /usr/local/lib/python3.7/dist-packages (from yfinance) (1.21.5)\n",
            "Requirement already satisfied: pytz>=2017.3 in /usr/local/lib/python3.7/dist-packages (from pandas>=0.24.0->yfinance) (2018.9)\n",
            "Requirement already satisfied: python-dateutil>=2.7.3 in /usr/local/lib/python3.7/dist-packages (from pandas>=0.24.0->yfinance) (2.8.2)\n",
            "Requirement already satisfied: six>=1.5 in /usr/local/lib/python3.7/dist-packages (from python-dateutil>=2.7.3->pandas>=0.24.0->yfinance) (1.15.0)\n",
            "Requirement already satisfied: certifi>=2017.4.17 in /usr/local/lib/python3.7/dist-packages (from requests>=2.26->yfinance) (2021.10.8)\n",
            "Requirement already satisfied: charset-normalizer~=2.0.0 in /usr/local/lib/python3.7/dist-packages (from requests>=2.26->yfinance) (2.0.12)\n",
            "Requirement already satisfied: urllib3<1.27,>=1.21.1 in /usr/local/lib/python3.7/dist-packages (from requests>=2.26->yfinance) (1.24.3)\n",
            "Requirement already satisfied: idna<4,>=2.5 in /usr/local/lib/python3.7/dist-packages (from requests>=2.26->yfinance) (2.10)\n",
            "Installing collected packages: requests, lxml, yfinance\n",
            "  Attempting uninstall: requests\n",
            "    Found existing installation: requests 2.23.0\n",
            "    Uninstalling requests-2.23.0:\n",
            "      Successfully uninstalled requests-2.23.0\n",
            "  Attempting uninstall: lxml\n",
            "    Found existing installation: lxml 4.2.6\n",
            "    Uninstalling lxml-4.2.6:\n",
            "      Successfully uninstalled lxml-4.2.6\n",
            "\u001b[31mERROR: pip's dependency resolver does not currently take into account all the packages that are installed. This behaviour is the source of the following dependency conflicts.\n",
            "google-colab 1.0.0 requires requests~=2.23.0, but you have requests 2.27.1 which is incompatible.\n",
            "datascience 0.10.6 requires folium==0.2.1, but you have folium 0.8.3 which is incompatible.\u001b[0m\n",
            "Successfully installed lxml-4.8.0 requests-2.27.1 yfinance-0.1.70\n"
          ]
        }
      ],
      "source": [
        "! pip install yfinance"
      ]
    },
    {
      "cell_type": "code",
      "execution_count": null,
      "id": "ef9388f5",
      "metadata": {
        "id": "ef9388f5",
        "outputId": "bd76c82e-8793-40a9-a63d-c09acf34f53a",
        "colab": {
          "base_uri": "https://localhost:8080/"
        }
      },
      "outputs": [
        {
          "output_type": "stream",
          "name": "stderr",
          "text": [
            "/usr/local/lib/python3.7/dist-packages/statsmodels/tools/_testing.py:19: FutureWarning: pandas.util.testing is deprecated. Use the functions in the public API at pandas.testing instead.\n",
            "  import pandas.util.testing as tm\n"
          ]
        }
      ],
      "source": [
        "import numpy as np\n",
        "import matplotlib.pyplot as plt\n",
        "import statsmodels.api as sm\n",
        "import yfinance as yf\n",
        "import pandas as pd\n",
        "import pandas_datareader.data as dr"
      ]
    },
    {
      "cell_type": "code",
      "execution_count": null,
      "id": "07a6045b",
      "metadata": {
        "id": "07a6045b",
        "outputId": "1d4f0766-093a-402c-e71f-6d70fb8d5ff6",
        "colab": {
          "base_uri": "https://localhost:8080/"
        }
      },
      "outputs": [
        {
          "output_type": "stream",
          "name": "stdout",
          "text": [
            "[*********************100%***********************]  5 of 5 completed\n",
            "[*********************100%***********************]  5 of 5 completed\n"
          ]
        }
      ],
      "source": [
        "start = '2012-01-01'\n",
        "end = '2022-01-01'\n",
        "\n",
        "\n",
        "stickers = ['USB', 'PEP','OTTR',\"AA\", \"INTU\"  ]\n",
        "\n",
        "itickers =['^W5000', '^GSPC', '^RUT', 'VTV',\"VUG\"] \n",
        "\n",
        "\n",
        "stocks = yf.download(stickers,start = start, end = end )\n",
        "\n",
        "indices = yf.download(itickers,start = start, end = end )\n",
        "\n",
        "\n",
        "rf = dr.DataReader(['DFF'], 'fred', start = start, end= end)"
      ]
    },
    {
      "cell_type": "markdown",
      "id": "79b613de",
      "metadata": {
        "id": "79b613de"
      },
      "source": [
        "Now we make log-returns"
      ]
    },
    {
      "cell_type": "code",
      "execution_count": null,
      "id": "4f6436f7",
      "metadata": {
        "id": "4f6436f7"
      },
      "outputs": [],
      "source": [
        "Srets = np.log(stocks.Close).diff()\n",
        "\n",
        "Irets = np.log(indices.Close).diff()\n",
        "\n",
        "\n",
        "Srets['rfd'] = rf/252\n",
        "\n",
        "Irets['rfd'] = rf/252\n",
        "\n",
        "data = pd.DataFrame()\n",
        "\n",
        "\n",
        "\n",
        "\n",
        "data['OTTR_er'] =Srets['OTTR'] - Srets.rfd\n",
        "\n",
        "data['PEP_er'] = Srets['PEP'] - Srets.rfd\n",
        "\n",
        "data['USB_er'] = Srets['USB'] - Srets.rfd\n",
        "\n",
        "data['AA_er'] = Srets['AA'] - Srets.rfd\n",
        "\n",
        "data['INTU_er'] = Srets['INTU'] - Srets.rfd\n",
        "\n",
        "\n",
        "\n",
        "\n",
        "\n",
        "data['M_er'] = Irets['^W5000'] - Irets.rfd\n",
        "\n",
        "data['SMB'] = Irets['^RUT'] - Irets['^GSPC']\n",
        "\n",
        "data['HML'] = Irets['VTV'] - Irets['VUG']\n",
        "\n",
        "data = data.dropna()\n",
        "\n",
        "\n",
        "\n"
      ]
    },
    {
      "cell_type": "markdown",
      "id": "5023754e",
      "metadata": {
        "id": "5023754e"
      },
      "source": [
        ""
      ]
    },
    {
      "cell_type": "code",
      "execution_count": null,
      "id": "63cf8851",
      "metadata": {
        "id": "63cf8851",
        "outputId": "384b5c30-01c7-45e7-a8e3-920670130f44",
        "colab": {
          "base_uri": "https://localhost:8080/",
          "height": 235
        }
      },
      "outputs": [
        {
          "output_type": "execute_result",
          "data": {
            "text/plain": [
              "             OTTR_er    PEP_er    USB_er     AA_er   INTU_er      M_er  \\\n",
              "Date                                                                     \n",
              "2012-01-04 -0.001628  0.004830 -0.000640  0.023278 -0.003332 -0.000961   \n",
              "2012-01-05  0.002420 -0.008100  0.014484 -0.009847  0.004301  0.003602   \n",
              "2012-01-06 -0.007488 -0.012891 -0.008532 -0.021877  0.010701 -0.002558   \n",
              "2012-01-09 -0.002128  0.004869  0.017186  0.028732  0.000811  0.002136   \n",
              "2012-01-10  0.000588 -0.001383  0.000391  0.000742  0.028778  0.009311   \n",
              "\n",
              "                 SMB       HML  \n",
              "Date                            \n",
              "2012-01-04 -0.006857 -0.001782  \n",
              "2012-01-05  0.003742  0.000060  \n",
              "2012-01-06 -0.000895 -0.002996  \n",
              "2012-01-09  0.002797  0.002866  \n",
              "2012-01-10  0.005960  0.000853  "
            ],
            "text/html": [
              "\n",
              "  <div id=\"df-cf442460-5f1a-4071-a13d-3ff6165cefb0\">\n",
              "    <div class=\"colab-df-container\">\n",
              "      <div>\n",
              "<style scoped>\n",
              "    .dataframe tbody tr th:only-of-type {\n",
              "        vertical-align: middle;\n",
              "    }\n",
              "\n",
              "    .dataframe tbody tr th {\n",
              "        vertical-align: top;\n",
              "    }\n",
              "\n",
              "    .dataframe thead th {\n",
              "        text-align: right;\n",
              "    }\n",
              "</style>\n",
              "<table border=\"1\" class=\"dataframe\">\n",
              "  <thead>\n",
              "    <tr style=\"text-align: right;\">\n",
              "      <th></th>\n",
              "      <th>OTTR_er</th>\n",
              "      <th>PEP_er</th>\n",
              "      <th>USB_er</th>\n",
              "      <th>AA_er</th>\n",
              "      <th>INTU_er</th>\n",
              "      <th>M_er</th>\n",
              "      <th>SMB</th>\n",
              "      <th>HML</th>\n",
              "    </tr>\n",
              "    <tr>\n",
              "      <th>Date</th>\n",
              "      <th></th>\n",
              "      <th></th>\n",
              "      <th></th>\n",
              "      <th></th>\n",
              "      <th></th>\n",
              "      <th></th>\n",
              "      <th></th>\n",
              "      <th></th>\n",
              "    </tr>\n",
              "  </thead>\n",
              "  <tbody>\n",
              "    <tr>\n",
              "      <th>2012-01-04</th>\n",
              "      <td>-0.001628</td>\n",
              "      <td>0.004830</td>\n",
              "      <td>-0.000640</td>\n",
              "      <td>0.023278</td>\n",
              "      <td>-0.003332</td>\n",
              "      <td>-0.000961</td>\n",
              "      <td>-0.006857</td>\n",
              "      <td>-0.001782</td>\n",
              "    </tr>\n",
              "    <tr>\n",
              "      <th>2012-01-05</th>\n",
              "      <td>0.002420</td>\n",
              "      <td>-0.008100</td>\n",
              "      <td>0.014484</td>\n",
              "      <td>-0.009847</td>\n",
              "      <td>0.004301</td>\n",
              "      <td>0.003602</td>\n",
              "      <td>0.003742</td>\n",
              "      <td>0.000060</td>\n",
              "    </tr>\n",
              "    <tr>\n",
              "      <th>2012-01-06</th>\n",
              "      <td>-0.007488</td>\n",
              "      <td>-0.012891</td>\n",
              "      <td>-0.008532</td>\n",
              "      <td>-0.021877</td>\n",
              "      <td>0.010701</td>\n",
              "      <td>-0.002558</td>\n",
              "      <td>-0.000895</td>\n",
              "      <td>-0.002996</td>\n",
              "    </tr>\n",
              "    <tr>\n",
              "      <th>2012-01-09</th>\n",
              "      <td>-0.002128</td>\n",
              "      <td>0.004869</td>\n",
              "      <td>0.017186</td>\n",
              "      <td>0.028732</td>\n",
              "      <td>0.000811</td>\n",
              "      <td>0.002136</td>\n",
              "      <td>0.002797</td>\n",
              "      <td>0.002866</td>\n",
              "    </tr>\n",
              "    <tr>\n",
              "      <th>2012-01-10</th>\n",
              "      <td>0.000588</td>\n",
              "      <td>-0.001383</td>\n",
              "      <td>0.000391</td>\n",
              "      <td>0.000742</td>\n",
              "      <td>0.028778</td>\n",
              "      <td>0.009311</td>\n",
              "      <td>0.005960</td>\n",
              "      <td>0.000853</td>\n",
              "    </tr>\n",
              "  </tbody>\n",
              "</table>\n",
              "</div>\n",
              "      <button class=\"colab-df-convert\" onclick=\"convertToInteractive('df-cf442460-5f1a-4071-a13d-3ff6165cefb0')\"\n",
              "              title=\"Convert this dataframe to an interactive table.\"\n",
              "              style=\"display:none;\">\n",
              "        \n",
              "  <svg xmlns=\"http://www.w3.org/2000/svg\" height=\"24px\"viewBox=\"0 0 24 24\"\n",
              "       width=\"24px\">\n",
              "    <path d=\"M0 0h24v24H0V0z\" fill=\"none\"/>\n",
              "    <path d=\"M18.56 5.44l.94 2.06.94-2.06 2.06-.94-2.06-.94-.94-2.06-.94 2.06-2.06.94zm-11 1L8.5 8.5l.94-2.06 2.06-.94-2.06-.94L8.5 2.5l-.94 2.06-2.06.94zm10 10l.94 2.06.94-2.06 2.06-.94-2.06-.94-.94-2.06-.94 2.06-2.06.94z\"/><path d=\"M17.41 7.96l-1.37-1.37c-.4-.4-.92-.59-1.43-.59-.52 0-1.04.2-1.43.59L10.3 9.45l-7.72 7.72c-.78.78-.78 2.05 0 2.83L4 21.41c.39.39.9.59 1.41.59.51 0 1.02-.2 1.41-.59l7.78-7.78 2.81-2.81c.8-.78.8-2.07 0-2.86zM5.41 20L4 18.59l7.72-7.72 1.47 1.35L5.41 20z\"/>\n",
              "  </svg>\n",
              "      </button>\n",
              "      \n",
              "  <style>\n",
              "    .colab-df-container {\n",
              "      display:flex;\n",
              "      flex-wrap:wrap;\n",
              "      gap: 12px;\n",
              "    }\n",
              "\n",
              "    .colab-df-convert {\n",
              "      background-color: #E8F0FE;\n",
              "      border: none;\n",
              "      border-radius: 50%;\n",
              "      cursor: pointer;\n",
              "      display: none;\n",
              "      fill: #1967D2;\n",
              "      height: 32px;\n",
              "      padding: 0 0 0 0;\n",
              "      width: 32px;\n",
              "    }\n",
              "\n",
              "    .colab-df-convert:hover {\n",
              "      background-color: #E2EBFA;\n",
              "      box-shadow: 0px 1px 2px rgba(60, 64, 67, 0.3), 0px 1px 3px 1px rgba(60, 64, 67, 0.15);\n",
              "      fill: #174EA6;\n",
              "    }\n",
              "\n",
              "    [theme=dark] .colab-df-convert {\n",
              "      background-color: #3B4455;\n",
              "      fill: #D2E3FC;\n",
              "    }\n",
              "\n",
              "    [theme=dark] .colab-df-convert:hover {\n",
              "      background-color: #434B5C;\n",
              "      box-shadow: 0px 1px 3px 1px rgba(0, 0, 0, 0.15);\n",
              "      filter: drop-shadow(0px 1px 2px rgba(0, 0, 0, 0.3));\n",
              "      fill: #FFFFFF;\n",
              "    }\n",
              "  </style>\n",
              "\n",
              "      <script>\n",
              "        const buttonEl =\n",
              "          document.querySelector('#df-cf442460-5f1a-4071-a13d-3ff6165cefb0 button.colab-df-convert');\n",
              "        buttonEl.style.display =\n",
              "          google.colab.kernel.accessAllowed ? 'block' : 'none';\n",
              "\n",
              "        async function convertToInteractive(key) {\n",
              "          const element = document.querySelector('#df-cf442460-5f1a-4071-a13d-3ff6165cefb0');\n",
              "          const dataTable =\n",
              "            await google.colab.kernel.invokeFunction('convertToInteractive',\n",
              "                                                     [key], {});\n",
              "          if (!dataTable) return;\n",
              "\n",
              "          const docLinkHtml = 'Like what you see? Visit the ' +\n",
              "            '<a target=\"_blank\" href=https://colab.research.google.com/notebooks/data_table.ipynb>data table notebook</a>'\n",
              "            + ' to learn more about interactive tables.';\n",
              "          element.innerHTML = '';\n",
              "          dataTable['output_type'] = 'display_data';\n",
              "          await google.colab.output.renderOutput(dataTable, element);\n",
              "          const docLink = document.createElement('div');\n",
              "          docLink.innerHTML = docLinkHtml;\n",
              "          element.appendChild(docLink);\n",
              "        }\n",
              "      </script>\n",
              "    </div>\n",
              "  </div>\n",
              "  "
            ]
          },
          "metadata": {},
          "execution_count": 5
        }
      ],
      "source": [
        "data.head()"
      ]
    },
    {
      "cell_type": "code",
      "execution_count": null,
      "id": "f84ab4b0",
      "metadata": {
        "id": "f84ab4b0"
      },
      "outputs": [],
      "source": [
        "\n"
      ]
    },
    {
      "cell_type": "markdown",
      "id": "3cf41901",
      "metadata": {
        "id": "3cf41901"
      },
      "source": [
        "Now we can do our regressions and see what we get."
      ]
    },
    {
      "cell_type": "code",
      "execution_count": null,
      "id": "f18a1354",
      "metadata": {
        "id": "f18a1354",
        "outputId": "c1669f28-beb3-4baf-dfe5-1d7b0b1ae9ec",
        "colab": {
          "base_uri": "https://localhost:8080/",
          "height": 465
        }
      },
      "outputs": [
        {
          "output_type": "execute_result",
          "data": {
            "text/plain": [
              "<class 'statsmodels.iolib.summary.Summary'>\n",
              "\"\"\"\n",
              "                                 OLS Regression Results                                \n",
              "=======================================================================================\n",
              "Dep. Variable:                OTTR_er   R-squared (uncentered):                   0.445\n",
              "Model:                            OLS   Adj. R-squared (uncentered):              0.444\n",
              "Method:                 Least Squares   F-statistic:                              667.4\n",
              "Date:                Thu, 07 Apr 2022   Prob (F-statistic):                   1.12e-318\n",
              "Time:                        22:40:22   Log-Likelihood:                          7348.6\n",
              "No. Observations:                2504   AIC:                                 -1.469e+04\n",
              "Df Residuals:                    2501   BIC:                                 -1.467e+04\n",
              "Df Model:                           3                                                  \n",
              "Covariance Type:            nonrobust                                                  \n",
              "==============================================================================\n",
              "                 coef    std err          t      P>|t|      [0.025      0.975]\n",
              "------------------------------------------------------------------------------\n",
              "M_er           0.9569      0.024     39.271      0.000       0.909       1.005\n",
              "SMB            0.3060      0.042      7.350      0.000       0.224       0.388\n",
              "HML            0.5601      0.044     12.682      0.000       0.473       0.647\n",
              "==============================================================================\n",
              "Omnibus:                      631.765   Durbin-Watson:                   2.195\n",
              "Prob(Omnibus):                  0.000   Jarque-Bera (JB):            43641.900\n",
              "Skew:                          -0.031   Prob(JB):                         0.00\n",
              "Kurtosis:                      23.452   Cond. No.                         2.12\n",
              "==============================================================================\n",
              "\n",
              "Warnings:\n",
              "[1] Standard Errors assume that the covariance matrix of the errors is correctly specified.\n",
              "\"\"\""
            ],
            "text/html": [
              "<table class=\"simpletable\">\n",
              "<caption>OLS Regression Results</caption>\n",
              "<tr>\n",
              "  <th>Dep. Variable:</th>         <td>OTTR_er</td>     <th>  R-squared (uncentered):</th>       <td>   0.445</td> \n",
              "</tr>\n",
              "<tr>\n",
              "  <th>Model:</th>                   <td>OLS</td>       <th>  Adj. R-squared (uncentered):</th>  <td>   0.444</td> \n",
              "</tr>\n",
              "<tr>\n",
              "  <th>Method:</th>             <td>Least Squares</td>  <th>  F-statistic:       </th>           <td>   667.4</td> \n",
              "</tr>\n",
              "<tr>\n",
              "  <th>Date:</th>             <td>Thu, 07 Apr 2022</td> <th>  Prob (F-statistic):</th>           <td>1.12e-318</td>\n",
              "</tr>\n",
              "<tr>\n",
              "  <th>Time:</th>                 <td>22:40:22</td>     <th>  Log-Likelihood:    </th>           <td>  7348.6</td> \n",
              "</tr>\n",
              "<tr>\n",
              "  <th>No. Observations:</th>      <td>  2504</td>      <th>  AIC:               </th>          <td>-1.469e+04</td>\n",
              "</tr>\n",
              "<tr>\n",
              "  <th>Df Residuals:</th>          <td>  2501</td>      <th>  BIC:               </th>          <td>-1.467e+04</td>\n",
              "</tr>\n",
              "<tr>\n",
              "  <th>Df Model:</th>              <td>     3</td>      <th>                     </th>               <td> </td>    \n",
              "</tr>\n",
              "<tr>\n",
              "  <th>Covariance Type:</th>      <td>nonrobust</td>    <th>                     </th>               <td> </td>    \n",
              "</tr>\n",
              "</table>\n",
              "<table class=\"simpletable\">\n",
              "<tr>\n",
              "    <td></td>      <th>coef</th>     <th>std err</th>      <th>t</th>      <th>P>|t|</th>  <th>[0.025</th>    <th>0.975]</th>  \n",
              "</tr>\n",
              "<tr>\n",
              "  <th>M_er</th> <td>    0.9569</td> <td>    0.024</td> <td>   39.271</td> <td> 0.000</td> <td>    0.909</td> <td>    1.005</td>\n",
              "</tr>\n",
              "<tr>\n",
              "  <th>SMB</th>  <td>    0.3060</td> <td>    0.042</td> <td>    7.350</td> <td> 0.000</td> <td>    0.224</td> <td>    0.388</td>\n",
              "</tr>\n",
              "<tr>\n",
              "  <th>HML</th>  <td>    0.5601</td> <td>    0.044</td> <td>   12.682</td> <td> 0.000</td> <td>    0.473</td> <td>    0.647</td>\n",
              "</tr>\n",
              "</table>\n",
              "<table class=\"simpletable\">\n",
              "<tr>\n",
              "  <th>Omnibus:</th>       <td>631.765</td> <th>  Durbin-Watson:     </th> <td>   2.195</td> \n",
              "</tr>\n",
              "<tr>\n",
              "  <th>Prob(Omnibus):</th> <td> 0.000</td>  <th>  Jarque-Bera (JB):  </th> <td>43641.900</td>\n",
              "</tr>\n",
              "<tr>\n",
              "  <th>Skew:</th>          <td>-0.031</td>  <th>  Prob(JB):          </th> <td>    0.00</td> \n",
              "</tr>\n",
              "<tr>\n",
              "  <th>Kurtosis:</th>      <td>23.452</td>  <th>  Cond. No.          </th> <td>    2.12</td> \n",
              "</tr>\n",
              "</table><br/><br/>Warnings:<br/>[1] Standard Errors assume that the covariance matrix of the errors is correctly specified."
            ]
          },
          "metadata": {},
          "execution_count": 6
        }
      ],
      "source": [
        "OTTRfit =  sm.OLS(data.OTTR_er,data.loc[:,['M_er',\"SMB\", 'HML'] ] ).fit()\n",
        "\n",
        "OTTRfit.summary()"
      ]
    },
    {
      "cell_type": "markdown",
      "id": "2835c755",
      "metadata": {
        "id": "2835c755"
      },
      "source": [
        "Let's compare with CAPM version (over the same time-period)"
      ]
    },
    {
      "cell_type": "code",
      "execution_count": null,
      "id": "4a1b6ee7",
      "metadata": {
        "id": "4a1b6ee7",
        "outputId": "aca563f7-13f5-4b71-b967-9be3364d4e0d",
        "colab": {
          "base_uri": "https://localhost:8080/",
          "height": 423
        }
      },
      "outputs": [
        {
          "output_type": "execute_result",
          "data": {
            "text/plain": [
              "<class 'statsmodels.iolib.summary.Summary'>\n",
              "\"\"\"\n",
              "                                 OLS Regression Results                                \n",
              "=======================================================================================\n",
              "Dep. Variable:                OTTR_er   R-squared (uncentered):                   0.387\n",
              "Model:                            OLS   Adj. R-squared (uncentered):              0.387\n",
              "Method:                 Least Squares   F-statistic:                              1581.\n",
              "Date:                Thu, 07 Apr 2022   Prob (F-statistic):                   2.19e-268\n",
              "Time:                        22:40:22   Log-Likelihood:                          7225.2\n",
              "No. Observations:                2504   AIC:                                 -1.445e+04\n",
              "Df Residuals:                    2503   BIC:                                 -1.444e+04\n",
              "Df Model:                           1                                                  \n",
              "Covariance Type:            nonrobust                                                  \n",
              "==============================================================================\n",
              "                 coef    std err          t      P>|t|      [0.025      0.975]\n",
              "------------------------------------------------------------------------------\n",
              "M_er           0.9604      0.024     39.759      0.000       0.913       1.008\n",
              "==============================================================================\n",
              "Omnibus:                      611.589   Durbin-Watson:                   2.198\n",
              "Prob(Omnibus):                  0.000   Jarque-Bera (JB):            37326.823\n",
              "Skew:                          -0.030   Prob(JB):                         0.00\n",
              "Kurtosis:                      21.915   Cond. No.                         1.00\n",
              "==============================================================================\n",
              "\n",
              "Warnings:\n",
              "[1] Standard Errors assume that the covariance matrix of the errors is correctly specified.\n",
              "\"\"\""
            ],
            "text/html": [
              "<table class=\"simpletable\">\n",
              "<caption>OLS Regression Results</caption>\n",
              "<tr>\n",
              "  <th>Dep. Variable:</th>         <td>OTTR_er</td>     <th>  R-squared (uncentered):</th>       <td>   0.387</td> \n",
              "</tr>\n",
              "<tr>\n",
              "  <th>Model:</th>                   <td>OLS</td>       <th>  Adj. R-squared (uncentered):</th>  <td>   0.387</td> \n",
              "</tr>\n",
              "<tr>\n",
              "  <th>Method:</th>             <td>Least Squares</td>  <th>  F-statistic:       </th>           <td>   1581.</td> \n",
              "</tr>\n",
              "<tr>\n",
              "  <th>Date:</th>             <td>Thu, 07 Apr 2022</td> <th>  Prob (F-statistic):</th>           <td>2.19e-268</td>\n",
              "</tr>\n",
              "<tr>\n",
              "  <th>Time:</th>                 <td>22:40:22</td>     <th>  Log-Likelihood:    </th>           <td>  7225.2</td> \n",
              "</tr>\n",
              "<tr>\n",
              "  <th>No. Observations:</th>      <td>  2504</td>      <th>  AIC:               </th>          <td>-1.445e+04</td>\n",
              "</tr>\n",
              "<tr>\n",
              "  <th>Df Residuals:</th>          <td>  2503</td>      <th>  BIC:               </th>          <td>-1.444e+04</td>\n",
              "</tr>\n",
              "<tr>\n",
              "  <th>Df Model:</th>              <td>     1</td>      <th>                     </th>               <td> </td>    \n",
              "</tr>\n",
              "<tr>\n",
              "  <th>Covariance Type:</th>      <td>nonrobust</td>    <th>                     </th>               <td> </td>    \n",
              "</tr>\n",
              "</table>\n",
              "<table class=\"simpletable\">\n",
              "<tr>\n",
              "    <td></td>      <th>coef</th>     <th>std err</th>      <th>t</th>      <th>P>|t|</th>  <th>[0.025</th>    <th>0.975]</th>  \n",
              "</tr>\n",
              "<tr>\n",
              "  <th>M_er</th> <td>    0.9604</td> <td>    0.024</td> <td>   39.759</td> <td> 0.000</td> <td>    0.913</td> <td>    1.008</td>\n",
              "</tr>\n",
              "</table>\n",
              "<table class=\"simpletable\">\n",
              "<tr>\n",
              "  <th>Omnibus:</th>       <td>611.589</td> <th>  Durbin-Watson:     </th> <td>   2.198</td> \n",
              "</tr>\n",
              "<tr>\n",
              "  <th>Prob(Omnibus):</th> <td> 0.000</td>  <th>  Jarque-Bera (JB):  </th> <td>37326.823</td>\n",
              "</tr>\n",
              "<tr>\n",
              "  <th>Skew:</th>          <td>-0.030</td>  <th>  Prob(JB):          </th> <td>    0.00</td> \n",
              "</tr>\n",
              "<tr>\n",
              "  <th>Kurtosis:</th>      <td>21.915</td>  <th>  Cond. No.          </th> <td>    1.00</td> \n",
              "</tr>\n",
              "</table><br/><br/>Warnings:<br/>[1] Standard Errors assume that the covariance matrix of the errors is correctly specified."
            ]
          },
          "metadata": {},
          "execution_count": 7
        }
      ],
      "source": [
        "OTTRfitCAPM =  sm.OLS(data.OTTR_er,data.loc[:,['M_er'] ] ).fit()\n",
        "\n",
        "OTTRfitCAPM.summary()"
      ]
    },
    {
      "cell_type": "markdown",
      "id": "4e4b222c",
      "metadata": {
        "id": "4e4b222c"
      },
      "source": [
        "#### Pepsi"
      ]
    },
    {
      "cell_type": "code",
      "execution_count": null,
      "id": "9c3d311b",
      "metadata": {
        "id": "9c3d311b",
        "outputId": "71305024-5460-48c1-d096-b09b873358be",
        "colab": {
          "base_uri": "https://localhost:8080/"
        }
      },
      "outputs": [
        {
          "output_type": "stream",
          "name": "stdout",
          "text": [
            "                                 OLS Regression Results                                \n",
            "=======================================================================================\n",
            "Dep. Variable:                 PEP_er   R-squared (uncentered):                   0.534\n",
            "Model:                            OLS   Adj. R-squared (uncentered):              0.533\n",
            "Method:                 Least Squares   F-statistic:                              954.4\n",
            "Date:                Thu, 07 Apr 2022   Prob (F-statistic):                        0.00\n",
            "Time:                        22:40:22   Log-Likelihood:                          8534.5\n",
            "No. Observations:                2504   AIC:                                 -1.706e+04\n",
            "Df Residuals:                    2501   BIC:                                 -1.705e+04\n",
            "Df Model:                           3                                                  \n",
            "Covariance Type:            nonrobust                                                  \n",
            "==============================================================================\n",
            "                 coef    std err          t      P>|t|      [0.025      0.975]\n",
            "------------------------------------------------------------------------------\n",
            "M_er           0.8090      0.015     53.313      0.000       0.779       0.839\n",
            "SMB           -0.5227      0.026    -20.160      0.000      -0.574      -0.472\n",
            "HML            0.3228      0.028     11.739      0.000       0.269       0.377\n",
            "==============================================================================\n",
            "Omnibus:                      483.130   Durbin-Watson:                   2.179\n",
            "Prob(Omnibus):                  0.000   Jarque-Bera (JB):            13111.932\n",
            "Skew:                          -0.130   Prob(JB):                         0.00\n",
            "Kurtosis:                      14.207   Cond. No.                         2.12\n",
            "==============================================================================\n",
            "\n",
            "Warnings:\n",
            "[1] Standard Errors assume that the covariance matrix of the errors is correctly specified.\n",
            "                                 OLS Regression Results                                \n",
            "=======================================================================================\n",
            "Dep. Variable:                 PEP_er   R-squared (uncentered):                   0.446\n",
            "Model:                            OLS   Adj. R-squared (uncentered):              0.446\n",
            "Method:                 Least Squares   F-statistic:                              2013.\n",
            "Date:                Thu, 07 Apr 2022   Prob (F-statistic):                   3.95e-323\n",
            "Time:                        22:40:22   Log-Likelihood:                          8318.1\n",
            "No. Observations:                2504   AIC:                                 -1.663e+04\n",
            "Df Residuals:                    2503   BIC:                                 -1.663e+04\n",
            "Df Model:                           1                                                  \n",
            "Covariance Type:            nonrobust                                                  \n",
            "==============================================================================\n",
            "                 coef    std err          t      P>|t|      [0.025      0.975]\n",
            "------------------------------------------------------------------------------\n",
            "M_er           0.7005      0.016     44.869      0.000       0.670       0.731\n",
            "==============================================================================\n",
            "Omnibus:                      473.814   Durbin-Watson:                   2.078\n",
            "Prob(Omnibus):                  0.000   Jarque-Bera (JB):            11589.547\n",
            "Skew:                          -0.181   Prob(JB):                         0.00\n",
            "Kurtosis:                      13.533   Cond. No.                         1.00\n",
            "==============================================================================\n",
            "\n",
            "Warnings:\n",
            "[1] Standard Errors assume that the covariance matrix of the errors is correctly specified.\n"
          ]
        }
      ],
      "source": [
        "Pepsifit =  sm.OLS(data.PEP_er,data.loc[:,['M_er',\"SMB\", 'HML'] ] ).fit()\n",
        "\n",
        "PepsifitCAPM =  sm.OLS(data.PEP_er,data.loc[:,['M_er'] ] ).fit()\n",
        "\n",
        "print(Pepsifit.summary())\n",
        "\n",
        "print(PepsifitCAPM.summary())\n"
      ]
    },
    {
      "cell_type": "markdown",
      "id": "7babf595",
      "metadata": {
        "id": "7babf595"
      },
      "source": [
        "#### US Bank"
      ]
    },
    {
      "cell_type": "code",
      "execution_count": null,
      "id": "2a081cc8",
      "metadata": {
        "id": "2a081cc8",
        "outputId": "28e70a8c-6f11-446c-82e6-3e61ac3518c5",
        "colab": {
          "base_uri": "https://localhost:8080/"
        }
      },
      "outputs": [
        {
          "output_type": "stream",
          "name": "stdout",
          "text": [
            "                                 OLS Regression Results                                \n",
            "=======================================================================================\n",
            "Dep. Variable:                 USB_er   R-squared (uncentered):                   0.717\n",
            "Model:                            OLS   Adj. R-squared (uncentered):              0.717\n",
            "Method:                 Least Squares   F-statistic:                              2117.\n",
            "Date:                Thu, 07 Apr 2022   Prob (F-statistic):                        0.00\n",
            "Time:                        22:40:22   Log-Likelihood:                          8297.8\n",
            "No. Observations:                2504   AIC:                                 -1.659e+04\n",
            "Df Residuals:                    2501   BIC:                                 -1.657e+04\n",
            "Df Model:                           3                                                  \n",
            "Covariance Type:            nonrobust                                                  \n",
            "==============================================================================\n",
            "                 coef    std err          t      P>|t|      [0.025      0.975]\n",
            "------------------------------------------------------------------------------\n",
            "M_er           1.1617      0.017     69.652      0.000       1.129       1.194\n",
            "SMB            0.1216      0.029      4.267      0.000       0.066       0.178\n",
            "HML            1.1429      0.030     37.807      0.000       1.084       1.202\n",
            "==============================================================================\n",
            "Omnibus:                      367.649   Durbin-Watson:                   2.087\n",
            "Prob(Omnibus):                  0.000   Jarque-Bera (JB):             5487.277\n",
            "Skew:                           0.011   Prob(JB):                         0.00\n",
            "Kurtosis:                      10.252   Cond. No.                         2.12\n",
            "==============================================================================\n",
            "\n",
            "Warnings:\n",
            "[1] Standard Errors assume that the covariance matrix of the errors is correctly specified.\n",
            "                                 OLS Regression Results                                \n",
            "=======================================================================================\n",
            "Dep. Variable:                 USB_er   R-squared (uncentered):                   0.541\n",
            "Model:                            OLS   Adj. R-squared (uncentered):              0.541\n",
            "Method:                 Least Squares   F-statistic:                              2948.\n",
            "Date:                Thu, 07 Apr 2022   Prob (F-statistic):                        0.00\n",
            "Time:                        22:40:22   Log-Likelihood:                          7689.9\n",
            "No. Observations:                2504   AIC:                                 -1.538e+04\n",
            "Df Residuals:                    2503   BIC:                                 -1.537e+04\n",
            "Df Model:                           1                                                  \n",
            "Covariance Type:            nonrobust                                                  \n",
            "==============================================================================\n",
            "                 coef    std err          t      P>|t|      [0.025      0.975]\n",
            "------------------------------------------------------------------------------\n",
            "M_er           1.0894      0.020     54.296      0.000       1.050       1.129\n",
            "==============================================================================\n",
            "Omnibus:                      473.837   Durbin-Watson:                   2.002\n",
            "Prob(Omnibus):                  0.000   Jarque-Bera (JB):            12286.363\n",
            "Skew:                           0.120   Prob(JB):                         0.00\n",
            "Kurtosis:                      13.849   Cond. No.                         1.00\n",
            "==============================================================================\n",
            "\n",
            "Warnings:\n",
            "[1] Standard Errors assume that the covariance matrix of the errors is correctly specified.\n"
          ]
        }
      ],
      "source": [
        "USBfit =  sm.OLS(data.USB_er,data.loc[:,['M_er',\"SMB\", 'HML'] ] ).fit()\n",
        "\n",
        "USBfitCAPM =  sm.OLS(data.USB_er,data.loc[:,['M_er'] ] ).fit()\n",
        "\n",
        "print(USBfit.summary())\n",
        "\n",
        "print(USBfitCAPM.summary())"
      ]
    },
    {
      "cell_type": "markdown",
      "id": "ff842737",
      "metadata": {
        "id": "ff842737"
      },
      "source": [
        "Alcoa"
      ]
    },
    {
      "cell_type": "code",
      "execution_count": null,
      "id": "2d3b06cb",
      "metadata": {
        "id": "2d3b06cb",
        "outputId": "decd99d9-6f8a-40b3-9398-fad59bb39e5b",
        "colab": {
          "base_uri": "https://localhost:8080/"
        }
      },
      "outputs": [
        {
          "output_type": "stream",
          "name": "stdout",
          "text": [
            "                                 OLS Regression Results                                \n",
            "=======================================================================================\n",
            "Dep. Variable:                  AA_er   R-squared (uncentered):                   0.393\n",
            "Model:                            OLS   Adj. R-squared (uncentered):              0.392\n",
            "Method:                 Least Squares   F-statistic:                              538.9\n",
            "Date:                Thu, 07 Apr 2022   Prob (F-statistic):                   3.94e-270\n",
            "Time:                        22:40:22   Log-Likelihood:                          5881.0\n",
            "No. Observations:                2504   AIC:                                 -1.176e+04\n",
            "Df Residuals:                    2501   BIC:                                 -1.174e+04\n",
            "Df Model:                           3                                                  \n",
            "Covariance Type:            nonrobust                                                  \n",
            "==============================================================================\n",
            "                 coef    std err          t      P>|t|      [0.025      0.975]\n",
            "------------------------------------------------------------------------------\n",
            "M_er           1.4322      0.044     32.710      0.000       1.346       1.518\n",
            "SMB            0.8423      0.075     11.257      0.000       0.696       0.989\n",
            "HML            0.8882      0.079     11.192      0.000       0.733       1.044\n",
            "==============================================================================\n",
            "Omnibus:                      271.820   Durbin-Watson:                   1.995\n",
            "Prob(Omnibus):                  0.000   Jarque-Bera (JB):             2353.000\n",
            "Skew:                          -0.048   Prob(JB):                         0.00\n",
            "Kurtosis:                       7.748   Cond. No.                         2.12\n",
            "==============================================================================\n",
            "\n",
            "Warnings:\n",
            "[1] Standard Errors assume that the covariance matrix of the errors is correctly specified.\n",
            "                                 OLS Regression Results                                \n",
            "=======================================================================================\n",
            "Dep. Variable:                  AA_er   R-squared (uncentered):                   0.317\n",
            "Model:                            OLS   Adj. R-squared (uncentered):              0.317\n",
            "Method:                 Least Squares   F-statistic:                              1163.\n",
            "Date:                Thu, 07 Apr 2022   Prob (F-statistic):                   9.74e-210\n",
            "Time:                        22:40:22   Log-Likelihood:                          5734.6\n",
            "No. Observations:                2504   AIC:                                 -1.147e+04\n",
            "Df Residuals:                    2503   BIC:                                 -1.146e+04\n",
            "Df Model:                           1                                                  \n",
            "Covariance Type:            nonrobust                                                  \n",
            "==============================================================================\n",
            "                 coef    std err          t      P>|t|      [0.025      0.975]\n",
            "------------------------------------------------------------------------------\n",
            "M_er           1.4942      0.044     34.108      0.000       1.408       1.580\n",
            "==============================================================================\n",
            "Omnibus:                      266.482   Durbin-Watson:                   1.969\n",
            "Prob(Omnibus):                  0.000   Jarque-Bera (JB):             2257.313\n",
            "Skew:                           0.004   Prob(JB):                         0.00\n",
            "Kurtosis:                       7.651   Cond. No.                         1.00\n",
            "==============================================================================\n",
            "\n",
            "Warnings:\n",
            "[1] Standard Errors assume that the covariance matrix of the errors is correctly specified.\n"
          ]
        }
      ],
      "source": [
        "AAfit =  sm.OLS(data.AA_er,data.loc[:,['M_er',\"SMB\", 'HML'] ] ).fit()\n",
        "\n",
        "AAfitCAPM =  sm.OLS(data.AA_er,data.loc[:,['M_er'] ] ).fit()\n",
        "\n",
        "print(AAfit.summary())\n",
        "\n",
        "print(AAfitCAPM.summary())"
      ]
    },
    {
      "cell_type": "markdown",
      "id": "ffb33f12",
      "metadata": {
        "id": "ffb33f12"
      },
      "source": [
        "#### Intuit"
      ]
    },
    {
      "cell_type": "code",
      "execution_count": null,
      "id": "f00d903e",
      "metadata": {
        "id": "f00d903e",
        "outputId": "8a080802-b5e7-48ae-e042-464bd5f724ce",
        "colab": {
          "base_uri": "https://localhost:8080/"
        }
      },
      "outputs": [
        {
          "output_type": "stream",
          "name": "stdout",
          "text": [
            "                                 OLS Regression Results                                \n",
            "=======================================================================================\n",
            "Dep. Variable:                INTU_er   R-squared (uncentered):                   0.592\n",
            "Model:                            OLS   Adj. R-squared (uncentered):              0.592\n",
            "Method:                 Least Squares   F-statistic:                              1211.\n",
            "Date:                Thu, 07 Apr 2022   Prob (F-statistic):                        0.00\n",
            "Time:                        22:40:22   Log-Likelihood:                          7762.2\n",
            "No. Observations:                2504   AIC:                                 -1.552e+04\n",
            "Df Residuals:                    2501   BIC:                                 -1.550e+04\n",
            "Df Model:                           3                                                  \n",
            "Covariance Type:            nonrobust                                                  \n",
            "==============================================================================\n",
            "                 coef    std err          t      P>|t|      [0.025      0.975]\n",
            "------------------------------------------------------------------------------\n",
            "M_er           1.1195      0.021     54.195      0.000       1.079       1.160\n",
            "SMB           -0.2645      0.035     -7.492      0.000      -0.334      -0.195\n",
            "HML           -0.5508      0.037    -14.713      0.000      -0.624      -0.477\n",
            "==============================================================================\n",
            "Omnibus:                      616.965   Durbin-Watson:                   2.166\n",
            "Prob(Omnibus):                  0.000   Jarque-Bera (JB):            31676.201\n",
            "Skew:                          -0.258   Prob(JB):                         0.00\n",
            "Kurtosis:                      20.417   Cond. No.                         2.12\n",
            "==============================================================================\n",
            "\n",
            "Warnings:\n",
            "[1] Standard Errors assume that the covariance matrix of the errors is correctly specified.\n",
            "                                 OLS Regression Results                                \n",
            "=======================================================================================\n",
            "Dep. Variable:                INTU_er   R-squared (uncentered):                   0.539\n",
            "Model:                            OLS   Adj. R-squared (uncentered):              0.539\n",
            "Method:                 Least Squares   F-statistic:                              2930.\n",
            "Date:                Thu, 07 Apr 2022   Prob (F-statistic):                        0.00\n",
            "Time:                        22:40:22   Log-Likelihood:                          7609.0\n",
            "No. Observations:                2504   AIC:                                 -1.522e+04\n",
            "Df Residuals:                    2503   BIC:                                 -1.521e+04\n",
            "Df Model:                           1                                                  \n",
            "Covariance Type:            nonrobust                                                  \n",
            "==============================================================================\n",
            "                 coef    std err          t      P>|t|      [0.025      0.975]\n",
            "------------------------------------------------------------------------------\n",
            "M_er           1.1217      0.021     54.129      0.000       1.081       1.162\n",
            "==============================================================================\n",
            "Omnibus:                      610.175   Durbin-Watson:                   2.124\n",
            "Prob(Omnibus):                  0.000   Jarque-Bera (JB):            25167.648\n",
            "Skew:                          -0.356   Prob(JB):                         0.00\n",
            "Kurtosis:                      18.515   Cond. No.                         1.00\n",
            "==============================================================================\n",
            "\n",
            "Warnings:\n",
            "[1] Standard Errors assume that the covariance matrix of the errors is correctly specified.\n"
          ]
        }
      ],
      "source": [
        "INTUfit =  sm.OLS(data.INTU_er,data.loc[:,['M_er',\"SMB\", 'HML'] ] ).fit()\n",
        "\n",
        "INTUfitCAPM =  sm.OLS(data.INTU_er,data.loc[:,['M_er'] ] ).fit()\n",
        "\n",
        "print(INTUfit.summary())\n",
        "\n",
        "print(INTUfitCAPM.summary())"
      ]
    },
    {
      "cell_type": "markdown",
      "id": "80e43912",
      "metadata": {
        "id": "80e43912"
      },
      "source": [
        "## PCA discussion\n",
        "\n",
        "\n",
        "Previously, when discussing PCA, I indicated that you should standardize data before performing PCA.   That is a safe thing to do.  But it isn't always necessary, it really depend on whether the scales are disproportional.  If they are not, then standardizing (potentially) can make interpretion more difficult.\n",
        "\n",
        "But let's construct an (fake data) example to illustrate when standardizing might make sense.\n",
        "\n",
        "\n",
        "### Height, Weight, and Salary\n",
        "\n",
        "\n",
        "We imagine a data set where we have tracked the heights, weights and salaries of $1000$ recent college graduates.  We can imagine that the following marginal distrinutions for each:\n",
        "\n",
        "Height (measured in inches):  $\\mu_H = 67, \\sigma_H = 3$\n",
        "\n",
        "Weight (measured in LBS):  $\\mu_W = 170, \\sigma_W = 30$\n",
        "\n",
        "Salary (measured in Dollars):  $\\mu_S = 60000, \\sigma_S = 10000$\n",
        "\n",
        "\n",
        "But, such data will be correlated.  So we imagine the folling correlation matrix:\n",
        "\n",
        "\n",
        "$$Corr = \\begin{pmatrix}1& 0.7 & 0.4\\\\ 0.7& 1 & -0.3 \\\\ 0.4& -0.3& 1 \\\\ \\end{pmatrix}$$ \n",
        "\n",
        "\n",
        "Now, let generate this data."
      ]
    },
    {
      "cell_type": "code",
      "execution_count": null,
      "id": "1b2fa230",
      "metadata": {
        "id": "1b2fa230",
        "outputId": "de984411-0c2b-4150-8a25-a9fcd1028dba",
        "colab": {
          "base_uri": "https://localhost:8080/"
        }
      },
      "outputs": [
        {
          "output_type": "execute_result",
          "data": {
            "text/plain": [
              "(1000, 3)"
            ]
          },
          "metadata": {},
          "execution_count": 12
        }
      ],
      "source": [
        "mean = np.array([67,170, 60000])\n",
        "\n",
        "vols = np.array([3,30,10000])\n",
        "\n",
        "corr = np.array([[1,.7,.4],[.7,1,-.3], [.4,-.3,1]])\n",
        "\n",
        "cov = np.diag(vols)@corr@np.diag(vols)\n",
        "\n",
        "X = np.random.multivariate_normal(mean = mean, cov =cov, size = 1000)\n",
        "\n",
        "X.shape"
      ]
    },
    {
      "cell_type": "markdown",
      "id": "b45fe31c",
      "metadata": {
        "id": "b45fe31c"
      },
      "source": [
        "PCA is performed on the Covariance matrix of the data, let's call it $C$"
      ]
    },
    {
      "cell_type": "code",
      "execution_count": null,
      "id": "8521ecf6",
      "metadata": {
        "id": "8521ecf6",
        "outputId": "065d6a60-dc42-4db7-bc12-1f48f21e8616",
        "colab": {
          "base_uri": "https://localhost:8080/"
        }
      },
      "outputs": [
        {
          "output_type": "execute_result",
          "data": {
            "text/plain": [
              "array([[ 9.20560269e+00,  6.56796896e+01,  1.19385898e+04],\n",
              "       [ 6.56796896e+01,  9.14648910e+02, -8.35582470e+04],\n",
              "       [ 1.19385898e+04, -8.35582470e+04,  9.67443050e+07]])"
            ]
          },
          "metadata": {},
          "execution_count": 13
        }
      ],
      "source": [
        "C = np.cov(X.T)\n",
        "\n",
        "C"
      ]
    },
    {
      "cell_type": "code",
      "execution_count": null,
      "id": "95e18adb",
      "metadata": {
        "id": "95e18adb"
      },
      "outputs": [],
      "source": [
        "# Get eigenvalue and vectors\n",
        "\n",
        "evals, evects = np.linalg.eig(C)\n",
        "\n"
      ]
    },
    {
      "cell_type": "markdown",
      "id": "93245345",
      "metadata": {
        "id": "93245345"
      },
      "source": [
        "We sort the eigenvalues by size to see where the \"variance\" comes from"
      ]
    },
    {
      "cell_type": "code",
      "execution_count": null,
      "id": "8620c3a4",
      "metadata": {
        "id": "8620c3a4",
        "outputId": "5af8b134-1240-4bb2-c776-f490aaab47c8",
        "colab": {
          "base_uri": "https://localhost:8080/"
        }
      },
      "outputs": [
        {
          "output_type": "execute_result",
          "data": {
            "text/plain": [
              "array([0.99999121, 0.99999999, 1.        ])"
            ]
          },
          "metadata": {},
          "execution_count": 15
        }
      ],
      "source": [
        "evals_sorted = evals[np.argsort(-evals)]\n",
        "\n",
        "evect_sorted = evects[:,np.argsort(-evals)]\n",
        "\n",
        "\n",
        "evals_sorted.cumsum()/evals_sorted.sum()"
      ]
    },
    {
      "cell_type": "markdown",
      "id": "ca25722f",
      "metadata": {
        "id": "ca25722f"
      },
      "source": [
        "Now take a look at the first eigenvector.   The conclusion is that only salary matters.  "
      ]
    },
    {
      "cell_type": "code",
      "execution_count": null,
      "id": "d6ad4778",
      "metadata": {
        "id": "d6ad4778",
        "outputId": "1e8596a3-c9ca-4830-9e22-c3654a9e0cfb",
        "colab": {
          "base_uri": "https://localhost:8080/"
        }
      },
      "outputs": [
        {
          "output_type": "execute_result",
          "data": {
            "text/plain": [
              "array([ 1.23402826e-04, -8.63709068e-04,  9.99999619e-01])"
            ]
          },
          "metadata": {},
          "execution_count": 16
        }
      ],
      "source": [
        "evect_sorted[:,0]\n"
      ]
    },
    {
      "cell_type": "code",
      "execution_count": null,
      "id": "fc979461",
      "metadata": {
        "id": "fc979461"
      },
      "outputs": [],
      "source": [
        ""
      ]
    },
    {
      "cell_type": "markdown",
      "id": "6025c637",
      "metadata": {
        "id": "6025c637"
      },
      "source": [
        "But suppose we have first standardized the data"
      ]
    },
    {
      "cell_type": "code",
      "execution_count": null,
      "id": "99de9c31",
      "metadata": {
        "id": "99de9c31",
        "outputId": "351da0cb-a55b-44c7-8c2b-31adbcdc227f",
        "colab": {
          "base_uri": "https://localhost:8080/"
        }
      },
      "outputs": [
        {
          "output_type": "execute_result",
          "data": {
            "text/plain": [
              "array([0.57609348, 0.98622915, 1.        ])"
            ]
          },
          "metadata": {},
          "execution_count": 17
        }
      ],
      "source": [
        "Xstand = (X - X.mean( axis = 0))/X.std(axis=0)\n",
        "\n",
        "Cstand = np.cov(Xstand.T)\n",
        "evals, evects = np.linalg.eig(Cstand)\n",
        "\n",
        "\n",
        "evals_sorted = evals[np.argsort(-evals)]\n",
        "\n",
        "evect_sorted = evects[:,np.argsort(-evals)]\n",
        "\n",
        "\n",
        "evals_sorted.cumsum()/evals_sorted.sum()\n",
        "\n"
      ]
    },
    {
      "cell_type": "markdown",
      "id": "fcb0fbaa",
      "metadata": {
        "id": "fcb0fbaa"
      },
      "source": [
        "Now we see perhaps 2 important vectors.  What do they look like?"
      ]
    },
    {
      "cell_type": "code",
      "execution_count": null,
      "id": "7f0cade8",
      "metadata": {
        "id": "7f0cade8",
        "outputId": "347aad38-ae47-4ce7-b1fd-0257d6a65e02",
        "colab": {
          "base_uri": "https://localhost:8080/"
        }
      },
      "outputs": [
        {
          "output_type": "execute_result",
          "data": {
            "text/plain": [
              "array([-0.73317971, -0.66404074, -0.14661998])"
            ]
          },
          "metadata": {},
          "execution_count": 18
        }
      ],
      "source": [
        "evect_sorted[:,0]"
      ]
    },
    {
      "cell_type": "markdown",
      "id": "ce446345",
      "metadata": {
        "id": "ce446345"
      },
      "source": [
        "This is very different, and all three seem to matter.\n",
        "\n",
        "Let's look at the second vector."
      ]
    },
    {
      "cell_type": "code",
      "execution_count": null,
      "id": "8cc82cd8",
      "metadata": {
        "id": "8cc82cd8",
        "outputId": "438a7063-b936-40f3-d42e-8c3864fd337c",
        "colab": {
          "base_uri": "https://localhost:8080/"
        }
      },
      "outputs": [
        {
          "output_type": "execute_result",
          "data": {
            "text/plain": [
              "array([ 0.20882458, -0.42503819,  0.8807581 ])"
            ]
          },
          "metadata": {},
          "execution_count": 19
        }
      ],
      "source": [
        "evect_sorted[:,1]"
      ]
    },
    {
      "cell_type": "markdown",
      "id": "b9374bdd",
      "metadata": {
        "id": "b9374bdd"
      },
      "source": [
        "comments?"
      ]
    },
    {
      "cell_type": "markdown",
      "id": "52f81a5a",
      "metadata": {
        "id": "52f81a5a"
      },
      "source": [
        "#### Similar orders of magnitude\n",
        "\n",
        "Standardizing forces things to measured in similar orders of magnitude.  But sometimes, you don't have to exactly standardize if the orders of magnitude are comparable.  Let's take our example but change measurements:\n",
        "\n",
        "inches to inches\n",
        "lbs to kilograms\n",
        "dollars to kilodollars\n"
      ]
    },
    {
      "cell_type": "code",
      "execution_count": null,
      "id": "8cffd103",
      "metadata": {
        "id": "8cffd103",
        "outputId": "db9b4055-cccb-4d5c-eef2-1acb3b08d758",
        "colab": {
          "base_uri": "https://localhost:8080/"
        }
      },
      "outputs": [
        {
          "output_type": "execute_result",
          "data": {
            "text/plain": [
              "array([0.69715718, 0.99724508, 1.        ])"
            ]
          },
          "metadata": {},
          "execution_count": 20
        }
      ],
      "source": [
        "Y = X* np.array([1,1/2.2,1/1000])\n",
        "\n",
        "Cy = np.cov(Y.T)\n",
        "\n",
        "evals, evects = np.linalg.eig(Cy)\n",
        "\n",
        "\n",
        "evals_sorted = evals[np.argsort(-evals)]\n",
        "\n",
        "evect_sorted = evects[:,np.argsort(-evals)]\n",
        "\n",
        "\n",
        "evals_sorted.cumsum()/evals_sorted.sum()\n",
        "\n"
      ]
    },
    {
      "cell_type": "code",
      "execution_count": null,
      "id": "dcf358dc",
      "metadata": {
        "id": "dcf358dc",
        "outputId": "f5e6f1a1-8302-446c-c2e3-c217ee5b40d5",
        "colab": {
          "base_uri": "https://localhost:8080/"
        }
      },
      "outputs": [
        {
          "output_type": "execute_result",
          "data": {
            "text/plain": [
              "array([[-0.12391435,  0.24464588,  0.96166191],\n",
              "       [-0.94105931,  0.27840677, -0.19208603],\n",
              "       [ 0.31472624,  0.92878311, -0.19572769]])"
            ]
          },
          "metadata": {},
          "execution_count": 21
        }
      ],
      "source": [
        "evect_sorted"
      ]
    },
    {
      "cell_type": "markdown",
      "id": "c7bc11a0",
      "metadata": {
        "id": "c7bc11a0"
      },
      "source": [
        "This is a different result. Neither is right or wrong.  In particular, we do know in advance wethere the response variable is tied to any or all of them.\n",
        "\n",
        "\n"
      ]
    },
    {
      "cell_type": "markdown",
      "id": "b0b5876a",
      "metadata": {
        "id": "b0b5876a"
      },
      "source": [
        "### Fama French  PCA angle\n",
        "\n",
        "Suppose that instead of choosing in advance the differences we were going to look at, we just want to evaluate which of the market indices we wanted to use togther and in what way.    We would intuitively wish to do so because we know in advance the martker index returns will be highly correlated."
      ]
    },
    {
      "cell_type": "code",
      "execution_count": null,
      "id": "f10d9471",
      "metadata": {
        "id": "f10d9471",
        "outputId": "360bfb52-7a09-4434-f88a-ac0f85045ade",
        "colab": {
          "base_uri": "https://localhost:8080/",
          "height": 235
        }
      },
      "outputs": [
        {
          "output_type": "execute_result",
          "data": {
            "text/plain": [
              "                 VTV       VUG     ^GSPC      ^RUT    ^W5000       rfd\n",
              "Date                                                                  \n",
              "2012-01-03       NaN       NaN       NaN       NaN       NaN  0.000278\n",
              "2012-01-04 -0.000188  0.001595  0.000188 -0.006669 -0.000683  0.000278\n",
              "2012-01-05  0.003559  0.003499  0.002939  0.006682  0.003880  0.000278\n",
              "2012-01-06 -0.002996  0.000000 -0.002540 -0.003435 -0.002280  0.000278\n",
              "2012-01-09  0.003183  0.000318  0.002259  0.005056  0.002453  0.000317"
            ],
            "text/html": [
              "\n",
              "  <div id=\"df-9f50e951-169d-4386-9e96-9cb67420d1de\">\n",
              "    <div class=\"colab-df-container\">\n",
              "      <div>\n",
              "<style scoped>\n",
              "    .dataframe tbody tr th:only-of-type {\n",
              "        vertical-align: middle;\n",
              "    }\n",
              "\n",
              "    .dataframe tbody tr th {\n",
              "        vertical-align: top;\n",
              "    }\n",
              "\n",
              "    .dataframe thead th {\n",
              "        text-align: right;\n",
              "    }\n",
              "</style>\n",
              "<table border=\"1\" class=\"dataframe\">\n",
              "  <thead>\n",
              "    <tr style=\"text-align: right;\">\n",
              "      <th></th>\n",
              "      <th>VTV</th>\n",
              "      <th>VUG</th>\n",
              "      <th>^GSPC</th>\n",
              "      <th>^RUT</th>\n",
              "      <th>^W5000</th>\n",
              "      <th>rfd</th>\n",
              "    </tr>\n",
              "    <tr>\n",
              "      <th>Date</th>\n",
              "      <th></th>\n",
              "      <th></th>\n",
              "      <th></th>\n",
              "      <th></th>\n",
              "      <th></th>\n",
              "      <th></th>\n",
              "    </tr>\n",
              "  </thead>\n",
              "  <tbody>\n",
              "    <tr>\n",
              "      <th>2012-01-03</th>\n",
              "      <td>NaN</td>\n",
              "      <td>NaN</td>\n",
              "      <td>NaN</td>\n",
              "      <td>NaN</td>\n",
              "      <td>NaN</td>\n",
              "      <td>0.000278</td>\n",
              "    </tr>\n",
              "    <tr>\n",
              "      <th>2012-01-04</th>\n",
              "      <td>-0.000188</td>\n",
              "      <td>0.001595</td>\n",
              "      <td>0.000188</td>\n",
              "      <td>-0.006669</td>\n",
              "      <td>-0.000683</td>\n",
              "      <td>0.000278</td>\n",
              "    </tr>\n",
              "    <tr>\n",
              "      <th>2012-01-05</th>\n",
              "      <td>0.003559</td>\n",
              "      <td>0.003499</td>\n",
              "      <td>0.002939</td>\n",
              "      <td>0.006682</td>\n",
              "      <td>0.003880</td>\n",
              "      <td>0.000278</td>\n",
              "    </tr>\n",
              "    <tr>\n",
              "      <th>2012-01-06</th>\n",
              "      <td>-0.002996</td>\n",
              "      <td>0.000000</td>\n",
              "      <td>-0.002540</td>\n",
              "      <td>-0.003435</td>\n",
              "      <td>-0.002280</td>\n",
              "      <td>0.000278</td>\n",
              "    </tr>\n",
              "    <tr>\n",
              "      <th>2012-01-09</th>\n",
              "      <td>0.003183</td>\n",
              "      <td>0.000318</td>\n",
              "      <td>0.002259</td>\n",
              "      <td>0.005056</td>\n",
              "      <td>0.002453</td>\n",
              "      <td>0.000317</td>\n",
              "    </tr>\n",
              "  </tbody>\n",
              "</table>\n",
              "</div>\n",
              "      <button class=\"colab-df-convert\" onclick=\"convertToInteractive('df-9f50e951-169d-4386-9e96-9cb67420d1de')\"\n",
              "              title=\"Convert this dataframe to an interactive table.\"\n",
              "              style=\"display:none;\">\n",
              "        \n",
              "  <svg xmlns=\"http://www.w3.org/2000/svg\" height=\"24px\"viewBox=\"0 0 24 24\"\n",
              "       width=\"24px\">\n",
              "    <path d=\"M0 0h24v24H0V0z\" fill=\"none\"/>\n",
              "    <path d=\"M18.56 5.44l.94 2.06.94-2.06 2.06-.94-2.06-.94-.94-2.06-.94 2.06-2.06.94zm-11 1L8.5 8.5l.94-2.06 2.06-.94-2.06-.94L8.5 2.5l-.94 2.06-2.06.94zm10 10l.94 2.06.94-2.06 2.06-.94-2.06-.94-.94-2.06-.94 2.06-2.06.94z\"/><path d=\"M17.41 7.96l-1.37-1.37c-.4-.4-.92-.59-1.43-.59-.52 0-1.04.2-1.43.59L10.3 9.45l-7.72 7.72c-.78.78-.78 2.05 0 2.83L4 21.41c.39.39.9.59 1.41.59.51 0 1.02-.2 1.41-.59l7.78-7.78 2.81-2.81c.8-.78.8-2.07 0-2.86zM5.41 20L4 18.59l7.72-7.72 1.47 1.35L5.41 20z\"/>\n",
              "  </svg>\n",
              "      </button>\n",
              "      \n",
              "  <style>\n",
              "    .colab-df-container {\n",
              "      display:flex;\n",
              "      flex-wrap:wrap;\n",
              "      gap: 12px;\n",
              "    }\n",
              "\n",
              "    .colab-df-convert {\n",
              "      background-color: #E8F0FE;\n",
              "      border: none;\n",
              "      border-radius: 50%;\n",
              "      cursor: pointer;\n",
              "      display: none;\n",
              "      fill: #1967D2;\n",
              "      height: 32px;\n",
              "      padding: 0 0 0 0;\n",
              "      width: 32px;\n",
              "    }\n",
              "\n",
              "    .colab-df-convert:hover {\n",
              "      background-color: #E2EBFA;\n",
              "      box-shadow: 0px 1px 2px rgba(60, 64, 67, 0.3), 0px 1px 3px 1px rgba(60, 64, 67, 0.15);\n",
              "      fill: #174EA6;\n",
              "    }\n",
              "\n",
              "    [theme=dark] .colab-df-convert {\n",
              "      background-color: #3B4455;\n",
              "      fill: #D2E3FC;\n",
              "    }\n",
              "\n",
              "    [theme=dark] .colab-df-convert:hover {\n",
              "      background-color: #434B5C;\n",
              "      box-shadow: 0px 1px 3px 1px rgba(0, 0, 0, 0.15);\n",
              "      filter: drop-shadow(0px 1px 2px rgba(0, 0, 0, 0.3));\n",
              "      fill: #FFFFFF;\n",
              "    }\n",
              "  </style>\n",
              "\n",
              "      <script>\n",
              "        const buttonEl =\n",
              "          document.querySelector('#df-9f50e951-169d-4386-9e96-9cb67420d1de button.colab-df-convert');\n",
              "        buttonEl.style.display =\n",
              "          google.colab.kernel.accessAllowed ? 'block' : 'none';\n",
              "\n",
              "        async function convertToInteractive(key) {\n",
              "          const element = document.querySelector('#df-9f50e951-169d-4386-9e96-9cb67420d1de');\n",
              "          const dataTable =\n",
              "            await google.colab.kernel.invokeFunction('convertToInteractive',\n",
              "                                                     [key], {});\n",
              "          if (!dataTable) return;\n",
              "\n",
              "          const docLinkHtml = 'Like what you see? Visit the ' +\n",
              "            '<a target=\"_blank\" href=https://colab.research.google.com/notebooks/data_table.ipynb>data table notebook</a>'\n",
              "            + ' to learn more about interactive tables.';\n",
              "          element.innerHTML = '';\n",
              "          dataTable['output_type'] = 'display_data';\n",
              "          await google.colab.output.renderOutput(dataTable, element);\n",
              "          const docLink = document.createElement('div');\n",
              "          docLink.innerHTML = docLinkHtml;\n",
              "          element.appendChild(docLink);\n",
              "        }\n",
              "      </script>\n",
              "    </div>\n",
              "  </div>\n",
              "  "
            ]
          },
          "metadata": {},
          "execution_count": 22
        }
      ],
      "source": [
        "# recall\n",
        "\n",
        "Irets.head()"
      ]
    },
    {
      "cell_type": "markdown",
      "id": "6dbfd223",
      "metadata": {
        "id": "6dbfd223"
      },
      "source": [
        "So we drop the first row and perform PCA"
      ]
    },
    {
      "cell_type": "code",
      "execution_count": null,
      "id": "7a415e9d",
      "metadata": {
        "id": "7a415e9d",
        "outputId": "8649cf2a-8a9e-4ab6-abf8-0656f1ef2a7f",
        "colab": {
          "base_uri": "https://localhost:8080/"
        }
      },
      "outputs": [
        {
          "output_type": "execute_result",
          "data": {
            "text/plain": [
              "(6, 6)"
            ]
          },
          "metadata": {},
          "execution_count": 23
        }
      ],
      "source": [
        "X = np.array(Irets.dropna())\n",
        "\n",
        "C = np.cov(X.T)\n",
        "\n",
        "C.shape"
      ]
    },
    {
      "cell_type": "code",
      "execution_count": null,
      "id": "d21e61ac",
      "metadata": {
        "id": "d21e61ac",
        "outputId": "b08b7725-f6ed-4b22-ff11-2bc366062c79",
        "colab": {
          "base_uri": "https://localhost:8080/"
        }
      },
      "outputs": [
        {
          "output_type": "execute_result",
          "data": {
            "text/plain": [
              "array([0.91153659, 0.95860811, 0.98363612, 0.99846613, 0.99966202,\n",
              "       1.        ])"
            ]
          },
          "metadata": {},
          "execution_count": 24
        }
      ],
      "source": [
        "evals, evects = np.linalg.eig(C)\n",
        "\n",
        "evals_sorted = evals[np.argsort(-evals)]\n",
        "\n",
        "evect_sorted = evects[:,np.argsort(-evals)]\n",
        "\n",
        "\n",
        "evals_sorted.cumsum()/evals_sorted.sum()\n"
      ]
    },
    {
      "cell_type": "markdown",
      "id": "abda6922",
      "metadata": {
        "id": "abda6922"
      },
      "source": [
        "Consistent with Fama-French, the PCA suggest we only need three eigenvectors.  Let's see what they look like."
      ]
    },
    {
      "cell_type": "code",
      "execution_count": null,
      "id": "c2a8695a",
      "metadata": {
        "id": "c2a8695a",
        "outputId": "528ff0e7-0a87-4f15-e1b5-2ba9bb1a8e6d",
        "colab": {
          "base_uri": "https://localhost:8080/"
        }
      },
      "outputs": [
        {
          "output_type": "execute_result",
          "data": {
            "text/plain": [
              "array([ 0.40688018,  0.44090729,  0.42469571,  0.52102523,  0.43382727,\n",
              "       -0.00307417])"
            ]
          },
          "metadata": {},
          "execution_count": 25
        }
      ],
      "source": [
        "# First one and apparently most important\n",
        "evect_sorted[:,0]"
      ]
    },
    {
      "cell_type": "markdown",
      "id": "f5df560a",
      "metadata": {
        "id": "f5df560a"
      },
      "source": [
        "Roughly an equal weighting of all of the indices."
      ]
    },
    {
      "cell_type": "code",
      "execution_count": null,
      "id": "4727a901",
      "metadata": {
        "id": "4727a901",
        "outputId": "2bc0f1f1-3d72-47fa-cafe-2b05628f7905",
        "colab": {
          "base_uri": "https://localhost:8080/"
        }
      },
      "outputs": [
        {
          "output_type": "execute_result",
          "data": {
            "text/plain": [
              "array([-0.01302425, -0.51643598, -0.27167669,  0.7970397 , -0.15431243,\n",
              "       -0.01521245])"
            ]
          },
          "metadata": {},
          "execution_count": 26
        }
      ],
      "source": [
        "# Second one\n",
        "\n",
        "evect_sorted[:,1]"
      ]
    },
    {
      "cell_type": "markdown",
      "id": "c32933a9",
      "metadata": {
        "id": "c32933a9"
      },
      "source": [
        "This is roughly the difference between Russell2000 and (mostly) a combination of growth and large cap."
      ]
    },
    {
      "cell_type": "code",
      "execution_count": null,
      "id": "ba88ca87",
      "metadata": {
        "id": "ba88ca87",
        "outputId": "4ea6381c-9a06-48ac-bf46-f6805a7e463b",
        "colab": {
          "base_uri": "https://localhost:8080/"
        }
      },
      "outputs": [
        {
          "output_type": "execute_result",
          "data": {
            "text/plain": [
              "array([ 0.78715901, -0.53051387,  0.13611315, -0.2832153 ,  0.00771621,\n",
              "       -0.0117681 ])"
            ]
          },
          "metadata": {},
          "execution_count": 27
        }
      ],
      "source": [
        "# Third one\n",
        "\n",
        "evect_sorted[:,2]\n"
      ]
    },
    {
      "cell_type": "markdown",
      "id": "8976b1f8",
      "metadata": {
        "id": "8976b1f8"
      },
      "source": [
        "Roughly the difference between Value and (mostly) a combination of Growth and Russell2000"
      ]
    },
    {
      "cell_type": "markdown",
      "id": "09ac491b",
      "metadata": {
        "id": "09ac491b"
      },
      "source": [
        "## Cross-Sectional Factor Models\n",
        "\n",
        "So far, we have focused on so-called *time-series* factor models.\n",
        "\n",
        "\n",
        "$$R_{j,t} = \\beta_{0,t} + \\beta_{1,j}F_{1,j} + \\beta_{2,t}F_{2,j} + \\cdots + \\beta_{p,t}F_{p,t} + \\epsilon_{j,t}$$\n",
        "\n",
        "\n",
        "We are assuming that \n",
        "\n",
        "* The loadings are unique to each stock and time-invariant\n",
        "* The factors are observable and not linked to particular stocks\n",
        "\n",
        "\n",
        "\n",
        "**We regress for each stock. To get more data for fitting, you need more history.**\n",
        "\n",
        "\n",
        "There is another class of factor models that, instead of looking at time-series, look at an slice of time, accross many stocks.   These models can be written:\n",
        "\n",
        "\n",
        "\n",
        "$$R_{j,t} = \\beta_{0,t} + \\beta_{1,t}F_{1,j,t} + \\beta_{2,t}F_{2,j,t} + \\cdots + \\beta_{p,t}F_{p,j,t} + \\epsilon_{j,t}$$\n",
        "\n",
        "\n",
        "What we see here is that\n",
        "\n",
        "* The loadings are unique to the time slice, not any particular stock\n",
        "* The factors are observable and linked to a particular stock\n",
        "\n",
        "\n",
        "**We regress for each time-slice.  To get more data for fitting, you need more stocks.**\n",
        "\n",
        "\n",
        "As an example, one might model the returns of a stock in a given time-period as a linear combination of the stocks\n",
        "\n",
        "Price to earnings ratio (P/E), Book to market cap (B/M), size (Large, mid, small), and sector (financial, consumer, untilities, etc).\n",
        "\n",
        "So for 2019, the fitted model might be:\n",
        "\n",
        "$R_{j} = .01 + .02 PE - .01 BM + .001L -.002M - .004small + .02 finance + .011 consumer + \\cdots$t \n",
        "\n",
        "\n",
        "The fitting process is still typically least sqaures.  And of course, one might use PCA to reduce the number of features (explantory variables).\n",
        "\n"
      ]
    },
    {
      "cell_type": "markdown",
      "id": "f434f56c",
      "metadata": {
        "id": "f434f56c"
      },
      "source": [
        "## Statistical Factor Models\n",
        "\n",
        "\n",
        "We observed earlier that, for a factor model, we have.\n",
        "\n",
        "$$\\mathrm{Cov}(R) = B^T \\Sigma_{F} B + \\Sigma_{\\epsilon}$$\n",
        "\n",
        "\n",
        "We also noted that a factor model can be useful for estimating $\\mathrm{Cov}(R)$ since otherwise we are left attempting to estimate a large number of parameters.\n",
        "\n",
        "This is great if\n",
        "\n",
        "1) We can oberve the variables $F$\n",
        "\n",
        "and\n",
        "\n",
        "2) The model corresponds relatively well with reality.\n",
        "\n",
        "\n",
        "But getting both of those things to be true at once can be tricky.  Oftern, it is easy enough to specify a model, but we might find via diagnostics that the residuals are correleted with the factors - a sign that we have missed soomething.\n",
        "\n",
        "\n",
        "But what if the model is true in some sense, but we just don't know how to specidy the factors?  For example, maybe we only have the return series for $n$ stocks.  We might perform PCA and conclude that there are really only 3-5 meaningful drivers (factors) of stock returns, but we might become frustrated in indendifying them with some easily oberved.\n",
        "\n",
        "Of course, we could *define* the factors to be the eigenvector combinations we learned from the PCA.  But the process for doing so required first identifying the correlation matrix from the data.  And we alredy noted that this might be problematic.\n",
        "\n",
        "\n",
        "What can we do?\n",
        "\n",
        "### Assume there is a factor model with $p$ factors .\n",
        "\n",
        "We can't observe the factors, so we can treat them as latent variables.  This is similar to mixture models when we cannot observe the mixing variable (e.g. the coin flip for a mixture of two Gaussians). \n",
        "\n",
        "Starting with the model, \n",
        "\n",
        "$$ R^T = \\begin{bmatrix}\\mathbf{1}_c & F^T \\\\ \\end{bmatrix} \\begin{bmatrix}B_0 \\\\ B\\\\ \\end{bmatrix}+E $$\n",
        "\n",
        "we have \n",
        "\n",
        "$$\\mathrm{Cov}(R) = B^T \\Sigma_{F} B + \\Sigma_{\\epsilon}$$\n",
        "\n",
        "Let's make some important observations that can simply things.\n",
        "\n",
        "\n",
        "#### (invertable) Linear Transformation of $F$ don't change the model\n",
        "\n",
        "Replace $F$ with $AF$ and $B$ with $A^{-T}B$ and we have the exact same model.\n",
        "\n",
        "This means in particular that $\\Sigma_{F}$ only needs to be specified up to a congruence transformation ($\\Sigma_{F} \\to A^T\\Sigma_{F}A$)\n",
        "\n",
        "\n",
        "But covariance matrices (assuming they are full-rank) can always be transformed to the Identy matrix via a congurence transformation.  Hence we can equally well specify that\n",
        "\n",
        "\n",
        "$$\\mathrm{Cov}(R) = B^T B + \\Sigma_{\\epsilon}$$\n",
        "\n",
        "We are still assuming our model, but the transformed factors have a covariance matrix equal to the identidy matrix.\n",
        "\n",
        "And we still cannot observe the values of $F$ and we still don't have estimated for $B$.\n",
        "\n",
        "Having said that, $B$ is $p\\times n$ and we are assuming that $p << n$, so if we *assume* the covariance matrix satisfies the form above, it should be easier to fit than to directly estimate $\\mathrm{Cov}(R)$.\n",
        "\n",
        "How can we do this?\n",
        "\n",
        "\n",
        "There are a few ways in the literature, but I will mention one that we have seen before:  The EM algorithm.\n",
        "\n",
        "The EM algorithm starts with as estimate of the parameters $B$ ($np$ of them) and $\\Sigma_{\\epsilon}$($p$ of them).\n",
        "\n",
        "It then calculates the distribution of *unobserved* values $F$ given the return data and the asssumed parameter values.\n",
        "\n",
        "Using this distribution, it then calculates the expected log-liklihood of the observed data and a set of parameterss $(B, \\Sigma_{\\epsilon})$\n",
        "\n",
        "That is the $E$ step.\n",
        "\n",
        "The $M$ step is to find the parameters $(B, \\Sigma_{\\epsilon})$  maximize this value.  These are the next estimate for the paramaters.\n",
        "\n",
        "Iterate until convergence.\n",
        "\n",
        "\n",
        "**Comment**:  Of course, one could attempt to directly estimate via MLE.  But in practice, this is much harder.\n",
        "\n",
        "\n",
        "\n",
        "\n",
        "\n",
        "\n",
        "\n",
        "\n",
        "\n",
        "\n"
      ]
    },
    {
      "cell_type": "code",
      "execution_count": null,
      "id": "6b045397",
      "metadata": {
        "id": "6b045397"
      },
      "outputs": [],
      "source": [
        ""
      ]
    }
  ],
  "metadata": {
    "kernelspec": {
      "display_name": "Python 3 (ipykernel)",
      "language": "python",
      "name": "python3"
    },
    "language_info": {
      "codemirror_mode": {
        "name": "ipython",
        "version": 3
      },
      "file_extension": ".py",
      "mimetype": "text/x-python",
      "name": "python",
      "nbconvert_exporter": "python",
      "pygments_lexer": "ipython3",
      "version": "3.9.7"
    },
    "colab": {
      "name": " Week11_lecture notes.ipynb",
      "provenance": [],
      "include_colab_link": true
    }
  },
  "nbformat": 4,
  "nbformat_minor": 5
}